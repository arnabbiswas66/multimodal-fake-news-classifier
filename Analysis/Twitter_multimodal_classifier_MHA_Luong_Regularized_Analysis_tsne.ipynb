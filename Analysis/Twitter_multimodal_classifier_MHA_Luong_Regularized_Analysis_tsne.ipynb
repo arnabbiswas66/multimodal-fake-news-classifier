{
  "cells": [
    {
      "cell_type": "markdown",
      "metadata": {
        "id": "view-in-github",
        "colab_type": "text"
      },
      "source": [
        "<a href=\"https://colab.research.google.com/github/arnabbiswas66/multimodal-fake-news-classifier/blob/main/Analysis/Twitter_multimodal_classifier_MHA_Luong_Regularized_Analysis_tsne.ipynb\" target=\"_parent\"><img src=\"https://colab.research.google.com/assets/colab-badge.svg\" alt=\"Open In Colab\"/></a>"
      ]
    },
    {
      "cell_type": "code",
      "execution_count": 1,
      "metadata": {
        "id": "AECm9YZxm322",
        "colab": {
          "base_uri": "https://localhost:8080/"
        },
        "outputId": "1e98c8a1-4e0a-44a9-99db-8f3acb4afd9f"
      },
      "outputs": [
        {
          "output_type": "stream",
          "name": "stdout",
          "text": [
            "\u001b[?25l     \u001b[90m━━━━━━━━━━━━━━━━━━━━━━━━━━━━━━━━━━━━━━━━\u001b[0m \u001b[32m0.0/6.0 MB\u001b[0m \u001b[31m?\u001b[0m eta \u001b[36m-:--:--\u001b[0m\r\u001b[2K     \u001b[91m━\u001b[0m\u001b[91m╸\u001b[0m\u001b[90m━━━━━━━━━━━━━━━━━━━━━━━━━━━━━━━━━━━━━━\u001b[0m \u001b[32m0.2/6.0 MB\u001b[0m \u001b[31m7.7 MB/s\u001b[0m eta \u001b[36m0:00:01\u001b[0m\r\u001b[2K     \u001b[91m━━━━━━━━━━━━━\u001b[0m\u001b[91m╸\u001b[0m\u001b[90m━━━━━━━━━━━━━━━━━━━━━━━━━━\u001b[0m \u001b[32m2.1/6.0 MB\u001b[0m \u001b[31m31.3 MB/s\u001b[0m eta \u001b[36m0:00:01\u001b[0m\r\u001b[2K     \u001b[91m━━━━━━━━━━━━━━━━━━━━━━━━━━━━━━━━━━━━━━━\u001b[0m\u001b[91m╸\u001b[0m \u001b[32m6.0/6.0 MB\u001b[0m \u001b[31m65.9 MB/s\u001b[0m eta \u001b[36m0:00:01\u001b[0m\r\u001b[2K     \u001b[90m━━━━━━━━━━━━━━━━━━━━━━━━━━━━━━━━━━━━━━━━\u001b[0m \u001b[32m6.0/6.0 MB\u001b[0m \u001b[31m49.2 MB/s\u001b[0m eta \u001b[36m0:00:00\u001b[0m\n",
            "\u001b[?25h"
          ]
        }
      ],
      "source": [
        "!pip install -q tensorflow_text"
      ]
    },
    {
      "cell_type": "code",
      "execution_count": 2,
      "metadata": {
        "id": "S0_Dwt-ondpi"
      },
      "outputs": [],
      "source": [
        "from tensorflow.python.platform.tf_logging import warn\n",
        "import pandas as pd\n",
        "import numpy as np\n",
        "import tensorflow as tf\n",
        "from tensorflow import keras\n",
        "import os\n",
        "import re\n",
        "from os import listdir\n",
        "import shutil\n",
        "import glob\n",
        "import random\n",
        "import matplotlib.pyplot as plt\n",
        "import tensorflow_hub as hub\n",
        "import tensorflow_text as text\n",
        "tf.get_logger().setLevel('ERROR')\n",
        "import warnings\n",
        "\n",
        "warnings.filterwarnings('ignore')\n",
        "\n",
        "import random\n",
        "random.seed(42)\n",
        "np.random.seed(42)\n",
        "tf.random.set_seed(42)"
      ]
    },
    {
      "cell_type": "code",
      "execution_count": 3,
      "metadata": {
        "colab": {
          "base_uri": "https://localhost:8080/"
        },
        "id": "x20211H_nnLR",
        "outputId": "b862934d-7e2d-4577-e6f6-962c469a7ef1"
      },
      "outputs": [
        {
          "output_type": "stream",
          "name": "stdout",
          "text": [
            "Mounted at /content/drive\n"
          ]
        }
      ],
      "source": [
        "from google.colab import drive\n",
        "drive.mount('/content/drive')"
      ]
    },
    {
      "cell_type": "code",
      "execution_count": 4,
      "metadata": {
        "id": "BbHqdujoUn87"
      },
      "outputs": [],
      "source": [
        "BASE_SAVE_LOCATION = \"/content/drive/MyDrive/multimodal-news\"\n",
        "CHECKPOINT_FILEPATH = '/content/drive/MyDrive/multimodal-news/twitter-models/'"
      ]
    },
    {
      "cell_type": "markdown",
      "metadata": {
        "id": "TKusTHhYWBlz"
      },
      "source": [
        "## Load the dataframes"
      ]
    },
    {
      "cell_type": "code",
      "execution_count": 5,
      "metadata": {
        "colab": {
          "base_uri": "https://localhost:8080/"
        },
        "id": "JftdaRkIWAAo",
        "outputId": "8514d2d9-9e25-4a1a-ec9f-5f961b713bc7"
      },
      "outputs": [
        {
          "output_type": "stream",
          "name": "stdout",
          "text": [
            "(14258, 3) (1923, 3)\n"
          ]
        }
      ],
      "source": [
        "#Load training df\n",
        "train_df_model = pd.read_pickle(BASE_SAVE_LOCATION+\"/twitter-train.pickle\")\n",
        "test_df_model = pd.read_pickle(BASE_SAVE_LOCATION+\"/twitter-test.pickle\")\n",
        "print(train_df_model.shape, test_df_model.shape)"
      ]
    },
    {
      "cell_type": "markdown",
      "metadata": {
        "id": "cCuEsRz4CIdR"
      },
      "source": [
        "# Data input pipeline"
      ]
    },
    {
      "cell_type": "code",
      "execution_count": 6,
      "metadata": {
        "id": "sjc2FLKhBfbj"
      },
      "outputs": [],
      "source": [
        "# Define TF Hub paths to the BERT encoder and its preprocessor\n",
        "bert_model_path = (\n",
        "    \"https://tfhub.dev/tensorflow/small_bert/bert_en_uncased_L-2_H-256_A-4/1\"\n",
        ")\n",
        "bert_preprocess_path = \"https://tfhub.dev/tensorflow/bert_en_uncased_preprocess/3\""
      ]
    },
    {
      "cell_type": "code",
      "execution_count": 7,
      "metadata": {
        "id": "uZzOdgKYInBJ"
      },
      "outputs": [],
      "source": [
        "def make_bert_preprocessing_model(sentence_features, seq_length=128):\n",
        "    \"\"\"Returns Model mapping string features to BERT inputs.\n",
        "\n",
        "  Args:\n",
        "    sentence_features: A list with the names of string-valued features.\n",
        "    seq_length: An integer that defines the sequence length of BERT inputs.\n",
        "\n",
        "  Returns:\n",
        "    A Keras Model that can be called on a list or dict of string Tensors\n",
        "    (with the order or names, resp., given by sentence_features) and\n",
        "    returns a dict of tensors for input to BERT.\n",
        "  \"\"\"\n",
        "\n",
        "    input_segments = [\n",
        "        tf.keras.layers.Input(shape=(), dtype=tf.string, name=ft)\n",
        "        for ft in sentence_features\n",
        "    ]\n",
        "\n",
        "    # Tokenize the text to word pieces.\n",
        "    bert_preprocess = hub.load(bert_preprocess_path)\n",
        "    tokenizer = hub.KerasLayer(bert_preprocess.tokenize, name=\"tokenizer\")\n",
        "    segments = [tokenizer(s) for s in input_segments]\n",
        "\n",
        "    # Optional: Trim segments in a smart way to fit seq_length.\n",
        "    # Simple cases (like this example) can skip this step and let\n",
        "    # the next step apply a default truncation to approximately equal lengths.\n",
        "    truncated_segments = segments\n",
        "\n",
        "    # Pack inputs. The details (start/end token ids, dict of output tensors)\n",
        "    # are model-dependent, so this gets loaded from the SavedModel.\n",
        "    packer = hub.KerasLayer(\n",
        "        bert_preprocess.bert_pack_inputs,\n",
        "        arguments=dict(seq_length=seq_length),\n",
        "        name=\"packer\",\n",
        "    )\n",
        "    model_inputs = packer(truncated_segments)\n",
        "    return keras.Model(input_segments, model_inputs)\n"
      ]
    },
    {
      "cell_type": "code",
      "execution_count": 8,
      "metadata": {
        "colab": {
          "base_uri": "https://localhost:8080/"
        },
        "id": "vqW4X6onJQKQ",
        "outputId": "1242d50f-5b92-4755-e377-f307e1ed4749"
      },
      "outputs": [
        {
          "output_type": "stream",
          "name": "stdout",
          "text": [
            "Model: \"model\"\n",
            "_________________________________________________________________\n",
            " Layer (type)                Output Shape              Param #   \n",
            "=================================================================\n",
            " text_1 (InputLayer)         [(None,)]                 0         \n",
            "                                                                 \n",
            " tokenizer (KerasLayer)      (None, None, None)        0         \n",
            "                                                                 \n",
            " packer (KerasLayer)         {'input_word_ids': (None  0         \n",
            "                             , 128),                             \n",
            "                              'input_type_ids': (None            \n",
            "                             , 128),                             \n",
            "                              'input_mask': (None, 12            \n",
            "                             8)}                                 \n",
            "                                                                 \n",
            "=================================================================\n",
            "Total params: 0\n",
            "Trainable params: 0\n",
            "Non-trainable params: 0\n",
            "_________________________________________________________________\n"
          ]
        }
      ],
      "source": [
        "bert_preprocess_model = make_bert_preprocessing_model([\"text_1\"])\n",
        "bert_preprocess_model.summary()"
      ]
    },
    {
      "cell_type": "code",
      "execution_count": 9,
      "metadata": {
        "colab": {
          "base_uri": "https://localhost:8080/"
        },
        "id": "DCOmGQXtJn9a",
        "outputId": "e8885395-1eaa-41b5-dc9c-da5dc331e07a"
      },
      "outputs": [
        {
          "output_type": "stream",
          "name": "stdout",
          "text": [
            "Text 1: just a crazy thought... #hurricanesandy http://t.co/uGoa7itw\n",
            "Text 2: just a crazy thought... #hurricanesandy http://t.co/uGoa7itw\n",
            "Keys           :  ['input_word_ids', 'input_type_ids', 'input_mask']\n",
            "Shape Word Ids :  (1, 128)\n",
            "Word Ids       :  tf.Tensor(\n",
            "[  101  2074  1037  4689  2245  1012  1012  1012  1001 17035  5685  2100\n",
            "  8299  1024  1013  1013], shape=(16,), dtype=int32)\n",
            "Shape Mask     :  (1, 128)\n",
            "Input Mask     :  tf.Tensor([1 1 1 1 1 1 1 1 1 1 1 1 1 1 1 1], shape=(16,), dtype=int32)\n",
            "Shape Type Ids :  (1, 128)\n",
            "Type Ids       :  tf.Tensor([0 0 0 0 0 0 0 0 0 0 0 0 0 0 0 0], shape=(16,), dtype=int32)\n"
          ]
        }
      ],
      "source": [
        "idx = np.random.choice(len(train_df_model))\n",
        "row = train_df_model.iloc[idx]\n",
        "sample_text_1, sample_text_2 = row[\"tweetText\"], row[\"tweetText\"]\n",
        "print(f\"Text 1: {sample_text_1}\")\n",
        "print(f\"Text 2: {sample_text_2}\")\n",
        "\n",
        "test_text = [np.array([sample_text_1])]\n",
        "text_preprocessed = bert_preprocess_model(test_text)\n",
        "\n",
        "print(\"Keys           : \", list(text_preprocessed.keys()))\n",
        "print(\"Shape Word Ids : \", text_preprocessed[\"input_word_ids\"].shape)\n",
        "print(\"Word Ids       : \", text_preprocessed[\"input_word_ids\"][0, :16])\n",
        "print(\"Shape Mask     : \", text_preprocessed[\"input_mask\"].shape)\n",
        "print(\"Input Mask     : \", text_preprocessed[\"input_mask\"][0, :16])\n",
        "print(\"Shape Type Ids : \", text_preprocessed[\"input_type_ids\"].shape)\n",
        "print(\"Type Ids       : \", text_preprocessed[\"input_type_ids\"][0, :16])\n"
      ]
    },
    {
      "cell_type": "code",
      "execution_count": 10,
      "metadata": {
        "id": "dhn-DPb7Lsb1"
      },
      "outputs": [],
      "source": [
        "def dataframe_to_dataset(dataframe):\n",
        "    columns = ['tweetText', 'image_1', 'label']\n",
        "    dataframe = dataframe[columns].copy()\n",
        "    labels = dataframe.pop(\"label\")\n",
        "    ds = tf.data.Dataset.from_tensor_slices((dict(dataframe), labels))\n",
        "    ds = ds.shuffle(buffer_size=len(dataframe))\n",
        "    return ds"
      ]
    },
    {
      "cell_type": "markdown",
      "metadata": {
        "id": "QO6IRl9rkfT4"
      },
      "source": [
        "## Preprocessing utilities"
      ]
    },
    {
      "cell_type": "code",
      "execution_count": 11,
      "metadata": {
        "id": "slef7sY9ke1l"
      },
      "outputs": [],
      "source": [
        "resize = (224, 224)\n",
        "bert_input_features = [\"input_word_ids\", \"input_type_ids\", \"input_mask\"]"
      ]
    },
    {
      "cell_type": "code",
      "execution_count": 12,
      "metadata": {
        "id": "FrTCJPUzkP3Q"
      },
      "outputs": [],
      "source": [
        "def preprocess_image(image_path):\n",
        "  extension = tf.strings.split(image_path,'.')[-1]\n",
        "  image = tf.io.read_file(image_path)\n",
        "  if extension == b\"gif\":\n",
        "    image = tf.io.decode_image(image, 3, expand_animations=False)\n",
        "  elif extension == b\"png\":\n",
        "    image = tf.image.decode_png(image, 3)\n",
        "  else:\n",
        "    image = tf.image.decode_jpeg(image, 3)\n",
        "  image = tf.image.resize(image, resize)\n",
        "  return image"
      ]
    },
    {
      "cell_type": "code",
      "execution_count": 13,
      "metadata": {
        "id": "IvgkLXK5k5ZX"
      },
      "outputs": [],
      "source": [
        "def preprocess_text(text_1):\n",
        "  text_1 = tf.convert_to_tensor([text_1])\n",
        "  output = bert_preprocess_model([text_1])\n",
        "  output = {feature: tf.squeeze(output[feature]) for feature in bert_input_features}\n",
        "  return output"
      ]
    },
    {
      "cell_type": "code",
      "execution_count": 14,
      "metadata": {
        "id": "uXQHweTHpCQM"
      },
      "outputs": [],
      "source": [
        "def preprocess_text_and_image(sample):\n",
        "  image_1 = preprocess_image(sample[\"image_1\"])\n",
        "  text = preprocess_text(sample[\"tweetText\"])\n",
        "  return {\"image_1\": image_1, \"text\": text}"
      ]
    },
    {
      "cell_type": "code",
      "execution_count": 15,
      "metadata": {
        "id": "C-0aLqtupoL5"
      },
      "outputs": [],
      "source": [
        "batch_size = 32\n",
        "auto = tf.data.AUTOTUNE"
      ]
    },
    {
      "cell_type": "code",
      "execution_count": 16,
      "metadata": {
        "id": "DwL2IjrIp-Tn"
      },
      "outputs": [],
      "source": [
        "def prepare_dataset(dataframe, training=True):\n",
        "  ds = dataframe_to_dataset(dataframe)\n",
        "  if training:\n",
        "      ds = ds.shuffle(len(train_df_model))\n",
        "  ds = ds.map(lambda x, y: (preprocess_text_and_image(x), y)).cache()\n",
        "  ds = ds.batch(batch_size).prefetch(auto)\n",
        "  return ds"
      ]
    },
    {
      "cell_type": "code",
      "execution_count": 17,
      "metadata": {
        "id": "5rSseL-fqSCE"
      },
      "outputs": [],
      "source": [
        "train_ds = prepare_dataset(train_df_model)\n",
        "test_ds = prepare_dataset(test_df_model, False)"
      ]
    },
    {
      "cell_type": "markdown",
      "metadata": {
        "id": "UUA1fjql-NCs"
      },
      "source": [
        "## Model Building"
      ]
    },
    {
      "cell_type": "markdown",
      "metadata": {
        "id": "dsnHD-at_70f"
      },
      "source": [
        "### Projection"
      ]
    },
    {
      "cell_type": "code",
      "execution_count": 18,
      "metadata": {
        "id": "JUmnESU36Q-N"
      },
      "outputs": [],
      "source": [
        "def project_embeddings(\n",
        "    embeddings, num_projection_layers, projection_dims, dropout_rate\n",
        "):\n",
        "    projected_embeddings = keras.layers.Dense(units=projection_dims)(embeddings)\n",
        "    for _ in range(num_projection_layers):\n",
        "        x = tf.nn.gelu(projected_embeddings)\n",
        "        x = keras.layers.Dense(projection_dims)(x)\n",
        "        x = keras.layers.Dropout(dropout_rate)(x)\n",
        "        x = keras.layers.Add()([projected_embeddings, x])\n",
        "        projected_embeddings = keras.layers.LayerNormalization()(x)\n",
        "    return projected_embeddings\n"
      ]
    },
    {
      "cell_type": "markdown",
      "metadata": {
        "id": "uEelNTYZAB0h"
      },
      "source": [
        "### Vision encoder"
      ]
    },
    {
      "cell_type": "code",
      "execution_count": 19,
      "metadata": {
        "id": "y2ypqRWE_Oyq"
      },
      "outputs": [],
      "source": [
        "def create_vision_encoder(\n",
        "    num_projection_layers, projection_dims, dropout_rate, trainable=False\n",
        "):\n",
        "    # Load the pre-trained ResNet50V2 model to be used as the base encoder.\n",
        "    resnet_v2 = keras.applications.EfficientNetV2B3(\n",
        "        include_top=False, weights=\"imagenet\", pooling=\"avg\"\n",
        "    )\n",
        "    # Set the trainability of the base encoder.\n",
        "    for layer in resnet_v2.layers:\n",
        "        layer.trainable = trainable\n",
        "\n",
        "    # Receive the images as inputs.\n",
        "    image_1 = keras.Input(shape=(224, 224, 3), name=\"image_1\")\n",
        "    \n",
        "    # Preprocess the input image.\n",
        "    preprocessed_1 = keras.applications.resnet_v2.preprocess_input(image_1)\n",
        "    \n",
        "    # Generate the embeddings for the images using the resnet_v2 model\n",
        "    # concatenate them.\n",
        "    embeddings = resnet_v2(preprocessed_1)\n",
        "    #embeddings = keras.layers.Concatenate()([embeddings_1, embeddings_2])\n",
        "\n",
        "    # Project the embeddings produced by the model.\n",
        "    outputs = project_embeddings(\n",
        "        embeddings, num_projection_layers, projection_dims, dropout_rate\n",
        "    )\n",
        "    # Create the vision encoder model.\n",
        "    return keras.Model([image_1], outputs, name=\"vision_encoder\")"
      ]
    },
    {
      "cell_type": "markdown",
      "metadata": {
        "id": "jtChuDndAGLm"
      },
      "source": [
        "### Text Encoder"
      ]
    },
    {
      "cell_type": "code",
      "execution_count": 20,
      "metadata": {
        "id": "UoVTKoTt_1Pv"
      },
      "outputs": [],
      "source": [
        "def create_text_encoder(\n",
        "    num_projection_layers, projection_dims, dropout_rate, trainable=False\n",
        "):\n",
        "    # Load the pre-trained BERT model to be used as the base encoder.\n",
        "    bert = hub.KerasLayer(bert_model_path, name=\"bert\",)\n",
        "    # Set the trainability of the base encoder.\n",
        "    bert.trainable = trainable\n",
        "\n",
        "    # Receive the text as inputs.\n",
        "    bert_input_features = [\"input_type_ids\", \"input_mask\", \"input_word_ids\"]\n",
        "    inputs = {\n",
        "        feature: keras.Input(shape=(128,), dtype=tf.int32, name=feature)\n",
        "        for feature in bert_input_features\n",
        "    }\n",
        "\n",
        "    # Generate embeddings for the preprocessed text using the BERT model.\n",
        "    embeddings = bert(inputs)[\"pooled_output\"]\n",
        "\n",
        "    # Project the embeddings produced by the model.\n",
        "    outputs = project_embeddings(\n",
        "        embeddings, num_projection_layers, projection_dims, dropout_rate\n",
        "    )\n",
        "    # Create the text encoder model.\n",
        "    return keras.Model(inputs, outputs, name=\"text_encoder\")"
      ]
    },
    {
      "cell_type": "markdown",
      "metadata": {
        "id": "WF0jLUzqjwFv"
      },
      "source": [
        "### Multi Head Attention Layer"
      ]
    },
    {
      "cell_type": "code",
      "execution_count": 21,
      "metadata": {
        "id": "UX52i1Pj4piV"
      },
      "outputs": [],
      "source": [
        "class TransformerBlock(keras.layers.Layer):\n",
        "    def __init__(self, embed_dim, num_heads, ff_dim, rate=0.1):\n",
        "        super().__init__()\n",
        "        self.att = keras.layers.MultiHeadAttention(num_heads=num_heads, key_dim=embed_dim)\n",
        "        self.ffn = keras.Sequential(\n",
        "            [keras.layers.Dense(ff_dim, activation=\"relu\"), keras.layers.Dense(embed_dim),]\n",
        "        )\n",
        "        self.layernorm1 = keras.layers.LayerNormalization(epsilon=1e-6)\n",
        "        self.layernorm2 = keras.layers.LayerNormalization(epsilon=1e-6)\n",
        "        self.dropout1 = keras.layers.Dropout(rate)\n",
        "        self.dropout2 = keras.layers.Dropout(rate)\n",
        "\n",
        "    def call(self, x, y, training):\n",
        "        attn_output = self.att(x, y)\n",
        "        attn_output = self.dropout1(attn_output, training=training)\n",
        "        out1 = self.layernorm1(x + attn_output)\n",
        "        ffn_output = self.ffn(out1)\n",
        "        ffn_output = self.dropout2(ffn_output, training=training)\n",
        "        return self.layernorm2(out1 + ffn_output)"
      ]
    },
    {
      "cell_type": "markdown",
      "metadata": {
        "id": "Ugj-e4g8AWOp"
      },
      "source": [
        "## MultiModal model"
      ]
    },
    {
      "cell_type": "code",
      "execution_count": 22,
      "metadata": {
        "id": "1RjaNwDnANoc"
      },
      "outputs": [],
      "source": [
        "def create_multimodal_model(\n",
        "    num_projection_layers=0,\n",
        "    projection_dims=224,\n",
        "    dropout_rate=0.1,\n",
        "    vision_trainable=False,\n",
        "    text_trainable=False,\n",
        "    attention=False\n",
        "):\n",
        "    # Receive the images as inputs.\n",
        "    image_1 = keras.Input(shape=(224, 224, 3), name=\"image_1\")\n",
        "    \n",
        "    # Receive the text as inputs.\n",
        "    bert_input_features = [\"input_type_ids\", \"input_mask\", \"input_word_ids\"]\n",
        "    text_inputs = {\n",
        "        feature: keras.Input(shape=(128,), dtype=tf.int32, name=feature)\n",
        "        for feature in bert_input_features\n",
        "    }\n",
        "\n",
        "    # Create the encoders.\n",
        "    vision_encoder = create_vision_encoder(\n",
        "        num_projection_layers, projection_dims, dropout_rate, vision_trainable\n",
        "    )\n",
        "    text_encoder = create_text_encoder(\n",
        "        num_projection_layers, projection_dims, dropout_rate, text_trainable\n",
        "    )\n",
        "\n",
        "    # Fetch the embedding projections.\n",
        "    vision_projections = vision_encoder([image_1])\n",
        "    vision_projections = keras.layers.Dropout(dropout_rate)(vision_projections)\n",
        "    text_projections = text_encoder(text_inputs)\n",
        "    text_projections = keras.layers.Dropout(dropout_rate)(text_projections)\n",
        "    \n",
        "    # Cross-attention.\n",
        "    if attention:\n",
        "      transformer_block = TransformerBlock(projection_dims, 4, projection_dims)\n",
        "      x = transformer_block(tf.expand_dims(vision_projections, -1), tf.expand_dims(text_projections, -1))\n",
        "      x = tf.keras.layers.Flatten()(x)\n",
        "      x = project_embeddings(\n",
        "        x, 1, projection_dims, dropout_rate) \n",
        "      query_value_attention_seq = keras.layers.Attention(use_scale=True, dropout=0.2)(\n",
        "            [vision_projections, text_projections]\n",
        "        )\n",
        "      \n",
        "    # Concatenate the projections and pass through the classification layer.\n",
        "    concatenated = keras.layers.Concatenate()([vision_projections, text_projections])\n",
        "    if attention:\n",
        "        concatenated = keras.layers.Concatenate()([concatenated, x, query_value_attention_seq])\n",
        "        #x = tf.keras.layers.Flatten(x)\n",
        "    outputs = keras.layers.Dense(1, activation=\"sigmoid\")(concatenated)\n",
        "    return keras.Model([image_1, text_inputs], outputs)"
      ]
    },
    {
      "cell_type": "code",
      "execution_count": 23,
      "metadata": {
        "id": "HYAqM03bYqpj"
      },
      "outputs": [],
      "source": [
        "loss = tf.keras.losses.BinaryCrossentropy(from_logits=True)\n",
        "metrics= [\n",
        "      tf.keras.metrics.BinaryAccuracy(name='accuracy'),\n",
        "      tf.keras.metrics.Precision(name='precision'),\n",
        "      tf.keras.metrics.Recall(name='recall')\n",
        "]"
      ]
    },
    {
      "cell_type": "code",
      "execution_count": 23,
      "metadata": {
        "id": "lzh_oeuuZVrA"
      },
      "outputs": [],
      "source": []
    },
    {
      "cell_type": "code",
      "source": [
        "checkpoint_filepath = '/content/drive/MyDrive/multimodal-news/twitter-models-1/model-comb1-weights.{val_accuracy:.4f}-{val_loss:.2f}.hdf5'\n",
        "save_model1 = tf.keras.callbacks.ModelCheckpoint(\n",
        "    filepath=checkpoint_filepath,\n",
        "    save_weights_only=True,\n",
        "    monitor='val_accuracy',\n",
        "    mode='max',\n",
        "    save_best_only=True)"
      ],
      "metadata": {
        "id": "332pTb6ianDA"
      },
      "execution_count": 24,
      "outputs": []
    },
    {
      "cell_type": "code",
      "source": [
        "multimodal_model = create_multimodal_model(attention=True, num_projection_layers=0, projection_dims=128, dropout_rate=0.2)"
      ],
      "metadata": {
        "id": "DG9HS8aNAuGn",
        "colab": {
          "base_uri": "https://localhost:8080/"
        },
        "outputId": "c58ce449-f0df-4743-829f-07fd26f39661"
      },
      "execution_count": 25,
      "outputs": [
        {
          "output_type": "stream",
          "name": "stdout",
          "text": [
            "Downloading data from https://storage.googleapis.com/tensorflow/keras-applications/efficientnet_v2/efficientnetv2-b3_notop.h5\n",
            "52606240/52606240 [==============================] - 2s 0us/step\n"
          ]
        }
      ]
    },
    {
      "cell_type": "markdown",
      "source": [
        "### Model Training"
      ],
      "metadata": {
        "id": "DDAXg6GZF7tP"
      }
    },
    {
      "cell_type": "code",
      "source": [
        "epochs = 10\n",
        "batch_size = 32"
      ],
      "metadata": {
        "id": "-EvQQlevMUbP"
      },
      "execution_count": 26,
      "outputs": []
    },
    {
      "cell_type": "code",
      "source": [
        "multimodal_model.compile(\n",
        "    optimizer=tf.keras.optimizers.Adam(), loss=loss, metrics=metrics\n",
        ")\n",
        "history = multimodal_model.fit(train_ds, validation_data=test_ds, epochs=epochs, batch_size=batch_size)"
      ],
      "metadata": {
        "id": "nHJ6ptX7NzOb",
        "colab": {
          "base_uri": "https://localhost:8080/"
        },
        "outputId": "17f77602-4cc5-47da-9905-98b1499a0c2d"
      },
      "execution_count": null,
      "outputs": [
        {
          "output_type": "stream",
          "name": "stdout",
          "text": [
            "Epoch 1/10\n",
            "446/446 [==============================] - 73s 128ms/step - loss: 0.2429 - accuracy: 0.8957 - precision: 0.8697 - recall: 0.8514 - val_loss: 0.4157 - val_accuracy: 0.8159 - val_precision: 0.7993 - val_recall: 0.9437\n",
            "Epoch 2/10\n",
            "446/446 [==============================] - 54s 122ms/step - loss: 0.2352 - accuracy: 0.9055 - precision: 0.8822 - recall: 0.8369 - val_loss: 0.3766 - val_accuracy: 0.8471 - val_precision: 0.8536 - val_recall: 0.9130\n",
            "Epoch 3/10\n",
            "446/446 [==============================] - 55s 124ms/step - loss: 0.2226 - accuracy: 0.9111 - precision: 0.8927 - recall: 0.8430 - val_loss: 0.3764 - val_accuracy: 0.8721 - val_precision: 0.9256 - val_recall: 0.8658\n",
            "Epoch 4/10\n",
            "446/446 [==============================] - 55s 123ms/step - loss: 0.2168 - accuracy: 0.9144 - precision: 0.8961 - recall: 0.8495 - val_loss: 0.4027 - val_accuracy: 0.8315 - val_precision: 0.8278 - val_recall: 0.9238\n",
            "Epoch 5/10\n",
            "446/446 [==============================] - 55s 123ms/step - loss: 0.2185 - accuracy: 0.9125 - precision: 0.8915 - recall: 0.8491 - val_loss: 0.4862 - val_accuracy: 0.8216 - val_precision: 0.9444 - val_recall: 0.7606\n",
            "Epoch 6/10\n",
            "446/446 [==============================] - 55s 123ms/step - loss: 0.2103 - accuracy: 0.9180 - precision: 0.8998 - recall: 0.8571 - val_loss: 0.3873 - val_accuracy: 0.8471 - val_precision: 0.9177 - val_recall: 0.8310\n",
            "Epoch 7/10\n",
            "446/446 [==============================] - 55s 123ms/step - loss: 0.2114 - accuracy: 0.9166 - precision: 0.8979 - recall: 0.8548 - val_loss: 0.3856 - val_accuracy: 0.8476 - val_precision: 0.9002 - val_recall: 0.8517\n",
            "Epoch 8/10\n",
            "446/446 [==============================] - 55s 123ms/step - loss: 0.2099 - accuracy: 0.9165 - precision: 0.8939 - recall: 0.8591 - val_loss: 0.4195 - val_accuracy: 0.8253 - val_precision: 0.8219 - val_recall: 0.9213\n",
            "Epoch 9/10\n",
            "446/446 [==============================] - 55s 123ms/step - loss: 0.2096 - accuracy: 0.9178 - precision: 0.8989 - recall: 0.8575 - val_loss: 0.4129 - val_accuracy: 0.8445 - val_precision: 0.9068 - val_recall: 0.8384\n",
            "Epoch 10/10\n",
            "446/446 [==============================] - 54s 121ms/step - loss: 0.2041 - accuracy: 0.9185 - precision: 0.8998 - recall: 0.8587 - val_loss: 0.4063 - val_accuracy: 0.8341 - val_precision: 0.8546 - val_recall: 0.8865\n"
          ]
        }
      ]
    },
    {
      "cell_type": "code",
      "source": [
        "from sklearn.metrics import accuracy_score,f1_score,precision_score,recall_score"
      ],
      "metadata": {
        "id": "JvqG8xphbPgD"
      },
      "execution_count": 30,
      "outputs": []
    },
    {
      "cell_type": "code",
      "source": [
        "y_test = np.concatenate([y for x, y in test_ds], axis=0)"
      ],
      "metadata": {
        "id": "YLi_UnaxKmpt"
      },
      "execution_count": 31,
      "outputs": []
    },
    {
      "cell_type": "code",
      "source": [
        "y_pred = multimodal_model.predict(test_ds)\n",
        "y_pred = [1 if i>=0.5 else 0 for i in y_pred]\n",
        "print(f'Accuracy == {accuracy_score(y_test,y_pred)}')\n",
        "print(f'F1 == {f1_score(y_test,y_pred,average=None)}')\n",
        "print(f'Precision == {precision_score(y_test,y_pred,average=None)}')\n",
        "print(f'Recall == {recall_score(y_test,y_pred,average=None)}')"
      ],
      "metadata": {
        "colab": {
          "base_uri": "https://localhost:8080/"
        },
        "id": "GCZsFJUaM4ze",
        "outputId": "7578de51-fa86-431a-a12b-7789c2d2e181"
      },
      "execution_count": null,
      "outputs": [
        {
          "output_type": "stream",
          "name": "stdout",
          "text": [
            "61/61 [==============================] - 9s 93ms/step\n",
            "Accuracy == 0.8341133645345814\n",
            "F1 == [0.77000721 0.87027247]\n",
            "Precision == [0.79582712 0.85463259]\n",
            "Recall == [0.74581006 0.88649544]\n"
          ]
        }
      ]
    },
    {
      "cell_type": "code",
      "source": [
        "plt.plot(history.history['loss'], label='loss')\n",
        "plt.plot(history.history['val_loss'], label='val_loss')\n",
        "plt.ylim([0, max(plt.ylim())])\n",
        "plt.xlabel('Epoch #')\n",
        "plt.ylabel('Loss')\n",
        "plt.legend()"
      ],
      "metadata": {
        "colab": {
          "base_uri": "https://localhost:8080/",
          "height": 472
        },
        "outputId": "8f07cb5f-67f7-40fa-aba9-59fab6fde8c9",
        "id": "CVqg72YfHAmv"
      },
      "execution_count": null,
      "outputs": [
        {
          "output_type": "execute_result",
          "data": {
            "text/plain": [
              "<matplotlib.legend.Legend at 0x7fca08377d30>"
            ]
          },
          "metadata": {},
          "execution_count": 33
        },
        {
          "output_type": "display_data",
          "data": {
            "text/plain": [
              "<Figure size 640x480 with 1 Axes>"
            ],
            "image/png": "[encoded data removed]"
          },
          "metadata": {}
        }
      ]
    },
    {
      "cell_type": "markdown",
      "source": [
        "Plot training accuracy vs tersting accuracy"
      ],
      "metadata": {
        "id": "d_Z6meJsHAmw"
      }
    },
    {
      "cell_type": "code",
      "source": [
        "plt.plot(history.history['accuracy'], label='accuracy')\n",
        "plt.plot(history.history['val_accuracy'], label='val_accuracy')\n",
        "plt.ylim([0, max(plt.ylim())])\n",
        "plt.xlabel('Epoch #')\n",
        "plt.ylabel('Loss')\n",
        "plt.legend()"
      ],
      "metadata": {
        "colab": {
          "base_uri": "https://localhost:8080/",
          "height": 466
        },
        "outputId": "c9614c85-5deb-4ece-8cb5-1db902779d43",
        "id": "1wl-nDZEHAmw"
      },
      "execution_count": null,
      "outputs": [
        {
          "output_type": "execute_result",
          "data": {
            "text/plain": [
              "<matplotlib.legend.Legend at 0x7fcb34eeeda0>"
            ]
          },
          "metadata": {},
          "execution_count": 34
        },
        {
          "output_type": "display_data",
          "data": {
            "text/plain": [
              "<Figure size 640x480 with 1 Axes>"
            ],
            "image/png": "[encoded data removed]"
          },
          "metadata": {}
        }
      ]
    },
    {
      "cell_type": "code",
      "source": [
        "from sklearn.metrics import roc_curve, auc"
      ],
      "metadata": {
        "id": "beQ71RN0QRXj"
      },
      "execution_count": 32,
      "outputs": []
    },
    {
      "cell_type": "code",
      "source": [
        "fpr, tpr, thresholds = roc_curve(y_test, y_pred)\n",
        "auc_score = auc(fpr, tpr)"
      ],
      "metadata": {
        "id": "Y6wGUUp6QXp_"
      },
      "execution_count": null,
      "outputs": []
    },
    {
      "cell_type": "code",
      "source": [
        "plt.figure(1)\n",
        "plt.plot([0, 1], [0, 1], 'k--')\n",
        "plt.plot(fpr, tpr, label='Model (area = {:.3f})'.format(auc_score))\n",
        "plt.xlabel('False positive rate')\n",
        "plt.ylabel('True positive rate')\n",
        "plt.title('ROC curve')\n",
        "plt.legend(loc='best')\n",
        "plt.show()"
      ],
      "metadata": {
        "colab": {
          "base_uri": "https://localhost:8080/",
          "height": 472
        },
        "id": "MtT0hj0CQ_uO",
        "outputId": "6e7378a6-4116-4a4f-a3b4-a2d74864d3c2"
      },
      "execution_count": null,
      "outputs": [
        {
          "output_type": "display_data",
          "data": {
            "text/plain": [
              "<Figure size 640x480 with 1 Axes>"
            ],
            "image/png": "[encoded data removed]"
          },
          "metadata": {}
        }
      ]
    },
    {
      "cell_type": "code",
      "source": [
        "multimodal_model = create_multimodal_model(attention=True, num_projection_layers=1, projection_dims=128, dropout_rate=0.2)"
      ],
      "metadata": {
        "id": "Yf9t9ktuDroT"
      },
      "execution_count": null,
      "outputs": []
    },
    {
      "cell_type": "markdown",
      "source": [
        "### Model Training"
      ],
      "metadata": {
        "id": "I_Rx8_g_DroT"
      }
    },
    {
      "cell_type": "code",
      "source": [
        "multimodal_model.compile(\n",
        "    optimizer=tf.keras.optimizers.Adam(), loss=loss, metrics=metrics\n",
        ")\n",
        "history = multimodal_model.fit(train_ds, validation_data=test_ds, epochs=epochs, batch_size=batch_size)"
      ],
      "metadata": {
        "colab": {
          "base_uri": "https://localhost:8080/"
        },
        "outputId": "725a4998-cf5a-44b9-df68-59ca4cb79c78",
        "id": "IJEJt8WrDroT"
      },
      "execution_count": null,
      "outputs": [
        {
          "output_type": "stream",
          "name": "stdout",
          "text": [
            "Epoch 1/10\n",
            "446/446 [==============================] - 75s 127ms/step - loss: 0.5390 - accuracy: 0.7540 - precision: 0.7113 - recall: 0.5870 - val_loss: 0.4092 - val_accuracy: 0.8092 - val_precision: 0.8102 - val_recall: 0.9089\n",
            "Epoch 2/10\n",
            "446/446 [==============================] - 55s 123ms/step - loss: 0.3696 - accuracy: 0.8413 - precision: 0.7934 - recall: 0.7282 - val_loss: 0.3635 - val_accuracy: 0.8757 - val_precision: 0.9040 - val_recall: 0.8973\n",
            "Epoch 3/10\n",
            "446/446 [==============================] - 55s 122ms/step - loss: 0.3156 - accuracy: 0.8673 - precision: 0.8289 - recall: 0.7741 - val_loss: 0.3884 - val_accuracy: 0.8700 - val_precision: 0.9045 - val_recall: 0.8865\n",
            "Epoch 4/10\n",
            "446/446 [==============================] - 55s 123ms/step - loss: 0.2871 - accuracy: 0.8778 - precision: 0.8393 - recall: 0.7973 - val_loss: 0.4348 - val_accuracy: 0.8638 - val_precision: 0.9428 - val_recall: 0.8335\n",
            "Epoch 5/10\n",
            "446/446 [==============================] - 55s 123ms/step - loss: 0.2544 - accuracy: 0.8947 - precision: 0.8655 - recall: 0.8216 - val_loss: 0.4020 - val_accuracy: 0.8669 - val_precision: 0.9507 - val_recall: 0.8310\n",
            "Epoch 6/10\n",
            "446/446 [==============================] - 55s 124ms/step - loss: 0.2372 - accuracy: 0.9053 - precision: 0.8817 - recall: 0.8371 - val_loss: 0.3873 - val_accuracy: 0.8856 - val_precision: 0.9418 - val_recall: 0.8716\n",
            "Epoch 7/10\n",
            "446/446 [==============================] - 55s 124ms/step - loss: 0.2133 - accuracy: 0.9134 - precision: 0.8909 - recall: 0.8526 - val_loss: 0.4428 - val_accuracy: 0.8430 - val_precision: 0.9314 - val_recall: 0.8094\n",
            "Epoch 8/10\n",
            "446/446 [==============================] - 55s 124ms/step - loss: 0.2030 - accuracy: 0.9185 - precision: 0.8979 - recall: 0.8610 - val_loss: 0.5613 - val_accuracy: 0.7457 - val_precision: 0.9052 - val_recall: 0.6645\n",
            "Epoch 9/10\n",
            "446/446 [==============================] - 55s 124ms/step - loss: 0.1898 - accuracy: 0.9238 - precision: 0.9048 - recall: 0.8701 - val_loss: 0.4587 - val_accuracy: 0.8331 - val_precision: 0.9117 - val_recall: 0.8128\n",
            "Epoch 10/10\n",
            "446/446 [==============================] - 55s 124ms/step - loss: 0.1804 - accuracy: 0.9277 - precision: 0.9088 - recall: 0.8779 - val_loss: 0.7460 - val_accuracy: 0.5996 - val_precision: 0.7949 - val_recall: 0.4880\n"
          ]
        }
      ]
    },
    {
      "cell_type": "code",
      "source": [],
      "metadata": {
        "id": "-6FK7tiMD77v"
      },
      "execution_count": null,
      "outputs": []
    },
    {
      "cell_type": "code",
      "source": [
        "multimodal_model = create_multimodal_model(attention=True, num_projection_layers=1, projection_dims=128, dropout_rate=0.1)"
      ],
      "metadata": {
        "id": "ALVLTXl-Iucc"
      },
      "execution_count": 96,
      "outputs": []
    },
    {
      "cell_type": "markdown",
      "source": [
        "### Model Training"
      ],
      "metadata": {
        "id": "kMSAHcPkIucc"
      }
    },
    {
      "cell_type": "code",
      "source": [
        "multimodal_model.compile(\n",
        "    optimizer=tf.keras.optimizers.Adam(), loss=loss, metrics=metrics\n",
        ")\n",
        "history = multimodal_model.fit(train_ds, validation_data=test_ds, epochs=6, batch_size=batch_size)"
      ],
      "metadata": {
        "colab": {
          "base_uri": "https://localhost:8080/"
        },
        "outputId": "2037d7de-1763-4bed-a593-dd020aca2cab",
        "id": "qbrBwVXXIucd"
      },
      "execution_count": 97,
      "outputs": [
        {
          "output_type": "stream",
          "name": "stdout",
          "text": [
            "Epoch 1/6\n",
            "446/446 [==============================] - 76s 129ms/step - loss: 0.4750 - accuracy: 0.7754 - precision: 0.7393 - recall: 0.6260 - val_loss: 0.4235 - val_accuracy: 0.7988 - val_precision: 0.7847 - val_recall: 0.9362\n",
            "Epoch 2/6\n",
            "446/446 [==============================] - 54s 121ms/step - loss: 0.3492 - accuracy: 0.8551 - precision: 0.8129 - recall: 0.7519 - val_loss: 0.3701 - val_accuracy: 0.8778 - val_precision: 0.9050 - val_recall: 0.8998\n",
            "Epoch 3/6\n",
            "446/446 [==============================] - 54s 121ms/step - loss: 0.3048 - accuracy: 0.8739 - precision: 0.8369 - recall: 0.7867 - val_loss: 0.3359 - val_accuracy: 0.8778 - val_precision: 0.8977 - val_recall: 0.9089\n",
            "Epoch 4/6\n",
            "446/446 [==============================] - 54s 122ms/step - loss: 0.2816 - accuracy: 0.8836 - precision: 0.8508 - recall: 0.8022 - val_loss: 0.3426 - val_accuracy: 0.8830 - val_precision: 0.9119 - val_recall: 0.9006\n",
            "Epoch 5/6\n",
            "446/446 [==============================] - 54s 121ms/step - loss: 0.2473 - accuracy: 0.9005 - precision: 0.8758 - recall: 0.8281 - val_loss: 0.3293 - val_accuracy: 0.8887 - val_precision: 0.9445 - val_recall: 0.8741\n",
            "Epoch 6/6\n",
            "446/446 [==============================] - 54s 121ms/step - loss: 0.2260 - accuracy: 0.9111 - precision: 0.8882 - recall: 0.8483 - val_loss: 0.3799 - val_accuracy: 0.8664 - val_precision: 0.9390 - val_recall: 0.8418\n"
          ]
        }
      ]
    },
    {
      "cell_type": "code",
      "source": [
        "y_pred = multimodal_model.predict(test_ds)\n",
        "y_pred = [1 if i>=0.5 else 0 for i in y_pred]\n",
        "print(f'Accuracy == {accuracy_score(y_test,y_pred)}')\n",
        "print(f'F1 == {f1_score(y_test,y_pred,average=None)}')\n",
        "print(f'Precision == {precision_score(y_test,y_pred,average=None)}')\n",
        "print(f'Recall == {recall_score(y_test,y_pred,average=None)}')"
      ],
      "metadata": {
        "colab": {
          "base_uri": "https://localhost:8080/"
        },
        "outputId": "1853e853-f320-405f-b48f-28b63c3c748f",
        "id": "95MmNUoZLuaY"
      },
      "execution_count": 98,
      "outputs": [
        {
          "output_type": "stream",
          "name": "stdout",
          "text": [
            "61/61 [==============================] - 9s 96ms/step\n",
            "Accuracy == 0.8663546541861674\n",
            "F1 == [0.83493899 0.8877239 ]\n",
            "Precision == [0.77288942 0.93900185]\n",
            "Recall == [0.90782123 0.84175642]\n"
          ]
        }
      ]
    },
    {
      "cell_type": "code",
      "source": [],
      "metadata": {
        "id": "uBtqeu3uVDi4"
      },
      "execution_count": 98,
      "outputs": []
    },
    {
      "cell_type": "code",
      "source": [
        "plt.plot(history.history['loss'], label='loss')\n",
        "plt.plot(history.history['val_loss'], label='val_loss')\n",
        "plt.ylim([0, max(plt.ylim())])\n",
        "plt.xlabel('Epoch #')\n",
        "plt.ylabel('Loss')\n",
        "plt.legend()"
      ],
      "metadata": {
        "colab": {
          "base_uri": "https://localhost:8080/",
          "height": 466
        },
        "outputId": "7a9b8555-8de3-47cb-ffe8-279565ee9cca",
        "id": "AwPm7Y7fVEBI"
      },
      "execution_count": 99,
      "outputs": [
        {
          "output_type": "execute_result",
          "data": {
            "text/plain": [
              "<matplotlib.legend.Legend at 0x7f03ba4815d0>"
            ]
          },
          "metadata": {},
          "execution_count": 99
        },
        {
          "output_type": "display_data",
          "data": {
            "text/plain": [
              "<Figure size 640x480 with 1 Axes>"
            ],
            "image/png": "[encoded data removed]"
          },
          "metadata": {}
        }
      ]
    },
    {
      "cell_type": "markdown",
      "source": [
        "Plot training accuracy vs tersting accuracy"
      ],
      "metadata": {
        "id": "VvWwBaWQVEBJ"
      }
    },
    {
      "cell_type": "code",
      "source": [
        "plt.plot(history.history['accuracy'], label='accuracy')\n",
        "plt.plot(history.history['val_accuracy'], label='val_accuracy')\n",
        "plt.ylim([0, max(plt.ylim())])\n",
        "plt.xlabel('Epoch #')\n",
        "plt.ylabel('Loss')\n",
        "plt.legend()"
      ],
      "metadata": {
        "colab": {
          "base_uri": "https://localhost:8080/",
          "height": 466
        },
        "outputId": "312a01bd-7c27-4587-b362-873608e713be",
        "id": "XD9X1wPtVEBJ"
      },
      "execution_count": 100,
      "outputs": [
        {
          "output_type": "execute_result",
          "data": {
            "text/plain": [
              "<matplotlib.legend.Legend at 0x7f03ba480160>"
            ]
          },
          "metadata": {},
          "execution_count": 100
        },
        {
          "output_type": "display_data",
          "data": {
            "text/plain": [
              "<Figure size 640x480 with 1 Axes>"
            ],
            "image/png": "[encoded data removed]"
          },
          "metadata": {}
        }
      ]
    },
    {
      "cell_type": "code",
      "source": [
        "from sklearn.metrics import roc_curve, auc\n",
        "fpr, tpr, thresholds = roc_curve(y_test, y_pred)\n",
        "auc_score = auc(fpr, tpr)"
      ],
      "metadata": {
        "id": "gbmBgsVuR3_6"
      },
      "execution_count": 101,
      "outputs": []
    },
    {
      "cell_type": "code",
      "source": [
        "plt.figure(1)\n",
        "plt.plot([0, 1], [0, 1], 'k--')\n",
        "plt.plot(fpr, tpr, label='Model (area = {:.3f})'.format(auc_score))\n",
        "plt.xlabel('False positive rate')\n",
        "plt.ylabel('True positive rate')\n",
        "plt.title('ROC curve')\n",
        "plt.legend(loc='best')\n",
        "plt.show()"
      ],
      "metadata": {
        "colab": {
          "base_uri": "https://localhost:8080/",
          "height": 472
        },
        "outputId": "5980d74c-7771-47bd-b17e-ef52977641e3",
        "id": "6rXDlrrWR4AC"
      },
      "execution_count": 102,
      "outputs": [
        {
          "output_type": "display_data",
          "data": {
            "text/plain": [
              "<Figure size 640x480 with 1 Axes>"
            ],
            "image/png": "[encoded data removed]"
          },
          "metadata": {}
        }
      ]
    },
    {
      "cell_type": "markdown",
      "source": [
        "# t-SNE visulaization"
      ],
      "metadata": {
        "id": "ja4Y7MgpsONE"
      }
    },
    {
      "cell_type": "code",
      "source": [
        "model2 = tf.keras.Model(inputs=multimodal_model.input, outputs=multimodal_model.layers[-2].output)\n",
        "features = model2.predict(test_ds)"
      ],
      "metadata": {
        "id": "_r9M7nKjUXFe",
        "colab": {
          "base_uri": "https://localhost:8080/"
        },
        "outputId": "229f5d12-7ea9-4283-9bb5-a3662fd0e075"
      },
      "execution_count": 103,
      "outputs": [
        {
          "output_type": "stream",
          "name": "stdout",
          "text": [
            "61/61 [==============================] - 9s 96ms/step\n"
          ]
        }
      ]
    },
    {
      "cell_type": "code",
      "source": [
        "from sklearn.manifold import TSNE"
      ],
      "metadata": {
        "id": "Ky08CxC1mHkR"
      },
      "execution_count": 104,
      "outputs": []
    },
    {
      "cell_type": "code",
      "source": [
        "labels = y_pred\n",
        "tsne = TSNE(n_components=2, random_state=42).fit_transform(features)"
      ],
      "metadata": {
        "id": "s09fRkCgpcd9"
      },
      "execution_count": 105,
      "outputs": []
    },
    {
      "cell_type": "code",
      "source": [
        "def scale_to_01_range(x):\n",
        "  value_range = (np.max(x) - np.min(x))\n",
        "  starts_from_zero = x - np.min(x)\n",
        "  return starts_from_zero / value_range"
      ],
      "metadata": {
        "id": "P0eAoGkkmOEg"
      },
      "execution_count": 106,
      "outputs": []
    },
    {
      "cell_type": "code",
      "source": [
        "tx = tsne[:, 0]\n",
        "ty = tsne[:, 1]\n",
        "tx = scale_to_01_range(tx)\n",
        "ty = scale_to_01_range(ty)"
      ],
      "metadata": {
        "id": "yYGdwjymmQnC"
      },
      "execution_count": 107,
      "outputs": []
    },
    {
      "cell_type": "code",
      "source": [
        "colors = ['red', 'blue']\n",
        "classes = ['fake', 'real']\n",
        "print(classes)"
      ],
      "metadata": {
        "colab": {
          "base_uri": "https://localhost:8080/"
        },
        "id": "hT_NdA62mYlS",
        "outputId": "82cc4507-2671-4f28-f49d-4f2ecb7dbc89"
      },
      "execution_count": 108,
      "outputs": [
        {
          "output_type": "stream",
          "name": "stdout",
          "text": [
            "['fake', 'real']\n"
          ]
        }
      ]
    },
    {
      "cell_type": "code",
      "source": [
        "fig = plt.figure()\n",
        "ax = fig.add_subplot(111)\n",
        "for idx, c in enumerate(colors):\n",
        "    indices = [i for i, l in enumerate(labels) if idx == l]\n",
        "    current_tx = np.take(tx, indices)\n",
        "    current_ty = np.take(ty, indices)\n",
        "    ax.scatter(current_tx, current_ty, c=c, label=classes[idx])\n",
        "\n",
        "ax.legend(loc='best')\n",
        "plt.show()"
      ],
      "metadata": {
        "colab": {
          "base_uri": "https://localhost:8080/",
          "height": 430
        },
        "id": "vPIwT44emcbN",
        "outputId": "84ec570d-6707-48b6-abd5-4a18366bfe00"
      },
      "execution_count": 109,
      "outputs": [
        {
          "output_type": "display_data",
          "data": {
            "text/plain": [
              "<Figure size 640x480 with 1 Axes>"
            ],
            "image/png": "[encoded data removed]"
          },
          "metadata": {}
        }
      ]
    },
    {
      "cell_type": "code",
      "source": [],
      "metadata": {
        "id": "loQkKyz1r5u_"
      },
      "execution_count": null,
      "outputs": []
    }
  ],
  "metadata": {
    "accelerator": "GPU",
    "colab": {
      "machine_shape": "hm",
      "provenance": [],
      "gpuType": "T4",
      "include_colab_link": true
    },
    "gpuClass": "standard",
    "kernelspec": {
      "display_name": "Python 3",
      "name": "python3"
    },
    "language_info": {
      "name": "python"
    }
  },
  "nbformat": 4,
  "nbformat_minor": 0
}