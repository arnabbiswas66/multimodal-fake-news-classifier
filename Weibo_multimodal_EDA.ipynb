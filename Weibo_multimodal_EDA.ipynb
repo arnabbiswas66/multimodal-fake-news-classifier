{
  "nbformat": 4,
  "nbformat_minor": 0,
  "metadata": {
    "colab": {
      "provenance": [],
      "authorship_tag": "ABX9TyOhK220+mMa7/auTVz+1jCI",
      "include_colab_link": true
    },
    "kernelspec": {
      "name": "python3",
      "display_name": "Python 3"
    },
    "language_info": {
      "name": "python"
    }
  },
  "cells": [
    {
      "cell_type": "markdown",
      "metadata": {
        "id": "view-in-github",
        "colab_type": "text"
      },
      "source": [
        "<a href=\"https://colab.research.google.com/github/arnabbiswas66/multimodal-fake-news-classifier/blob/main/Weibo_multimodal_EDA.ipynb\" target=\"_parent\"><img src=\"https://colab.research.google.com/assets/colab-badge.svg\" alt=\"Open In Colab\"/></a>"
      ]
    },
    {
      "cell_type": "code",
      "source": [
        "import pandas as pd\n",
        "import numpy as np\n",
        "import os\n",
        "import re\n",
        "from os import listdir\n",
        "import shutil\n",
        "import glob\n",
        "import copy\n",
        "import random\n",
        "import matplotlib.pyplot as plt\n",
        "import warnings\n",
        "\n",
        "warnings.filterwarnings('ignore')"
      ],
      "metadata": {
        "id": "MqsMpdN3ffxH"
      },
      "execution_count": 1,
      "outputs": []
    },
    {
      "cell_type": "markdown",
      "source": [
        "## Initial Google Drive and Colab setup"
      ],
      "metadata": {
        "id": "TonKUYIfmoli"
      }
    },
    {
      "cell_type": "code",
      "source": [
        "from google.colab import drive\n",
        "drive.mount('/content/drive')"
      ],
      "metadata": {
        "colab": {
          "base_uri": "https://localhost:8080/"
        },
        "id": "x20211H_nnLR",
        "outputId": "b69c8446-45b0-4274-b722-a30c21627da5"
      },
      "execution_count": 2,
      "outputs": [
        {
          "output_type": "stream",
          "name": "stdout",
          "text": [
            "Mounted at /content/drive\n"
          ]
        }
      ]
    },
    {
      "cell_type": "code",
      "source": [
        "BASE_SAVE_LOCATION = \"/content/drive/MyDrive/multimodal-news\"\n",
        "CHECKPOINT_FILEPATH = '/content/drive/MyDrive/multimodal-news/weibo/'"
      ],
      "metadata": {
        "id": "BbHqdujoUn87"
      },
      "execution_count": 3,
      "outputs": []
    },
    {
      "cell_type": "code",
      "source": [
        "# image copy pipeline from Gdrive to Colab\n",
        "! mkdir \"/content/images\"\n",
        "! cp \"/content/drive/MyDrive/multimodal-news/weibo-data/images.zip\" \"/content/images\"\n",
        "! unzip -q -d \"/content/images\" \"/content/images/images.zip\""
      ],
      "metadata": {
        "id": "MAZ0PBbHNSuS"
      },
      "execution_count": 4,
      "outputs": []
    },
    {
      "cell_type": "markdown",
      "source": [
        "## EDA"
      ],
      "metadata": {
        "id": "TB5ySb9InDfe"
      }
    },
    {
      "cell_type": "code",
      "source": [
        "def get_df(file):\n",
        "    return pd.read_csv(file, sep='|',header = None)"
      ],
      "metadata": {
        "id": "PVJ1JazrntSa"
      },
      "execution_count": 76,
      "outputs": []
    },
    {
      "cell_type": "code",
      "source": [
        "train_df_fake = get_df('/content/drive/MyDrive/multimodal-news/weibo-data/tweets/train_rumor.txt')\n",
        "train_df_real = get_df('/content/drive/MyDrive/multimodal-news/weibo-data/tweets/train_nonrumor.txt')\n",
        "test_df_fake = get_df('/content/drive/MyDrive/multimodal-news/weibo-data/tweets/test_rumor.txt')\n",
        "test_df_real = get_df('/content/drive/MyDrive/multimodal-news/weibo-data/tweets/test_nonrumor.txt')"
      ],
      "metadata": {
        "id": "7R6joGghn1-B"
      },
      "execution_count": 77,
      "outputs": []
    },
    {
      "cell_type": "code",
      "source": [
        "train_df_fake.shape, train_df_real.shape, test_df_fake.shape, test_df_real.shape"
      ],
      "metadata": {
        "colab": {
          "base_uri": "https://localhost:8080/"
        },
        "id": "XVwCya21owlt",
        "outputId": "eeefd534-0ebd-4aea-d003-92b2a7a5d24b"
      },
      "execution_count": 78,
      "outputs": [
        {
          "output_type": "execute_result",
          "data": {
            "text/plain": [
              "((11194, 15), (11349, 15), (2934, 15), (2988, 15))"
            ]
          },
          "metadata": {},
          "execution_count": 78
        }
      ]
    },
    {
      "cell_type": "code",
      "source": [
        "train_fake = train_df_fake[0].tolist()\n",
        "train_real = train_df_real[0].tolist()\n",
        "test_fake = test_df_fake[0].tolist()\n",
        "test_real = test_df_real[0].tolist()"
      ],
      "metadata": {
        "id": "RCZ7qFx6pHbk"
      },
      "execution_count": 79,
      "outputs": []
    },
    {
      "cell_type": "code",
      "source": [
        "def fix_offset(list_):\n",
        "    fixed_flag = False\n",
        "\n",
        "    while not fixed_flag:\n",
        "        exit_flag=False\n",
        "        temp = copy.deepcopy(list_)\n",
        "        for i,v in enumerate(temp):\n",
        "            if v!=None:\n",
        "                if 'sinaimg.cn' in v:\n",
        "                    if list_[i+1] !=None:\n",
        "                        if list_[i+1].isdigit():\n",
        "                            list_.insert(i+1,None)\n",
        "                            exit_flag=True\n",
        "                            break\n",
        "        if not exit_flag:\n",
        "            fixed_flag=True\n",
        "            \n",
        "    return list_"
      ],
      "metadata": {
        "id": "y6WulBlxrtkv"
      },
      "execution_count": 81,
      "outputs": []
    },
    {
      "cell_type": "code",
      "source": [
        "train_fake = fix_offset(train_fake) \n",
        "train_real = fix_offset(train_real)\n",
        "test_fake = fix_offset(test_fake)\n",
        "test_real = fix_offset(test_real)"
      ],
      "metadata": {
        "id": "fI6MxydurwoM"
      },
      "execution_count": 82,
      "outputs": []
    },
    {
      "cell_type": "code",
      "source": [
        "def break_in_block(list_):\n",
        "    temp = []\n",
        "    for i in range(0,len(list_),3):\n",
        "        temp.append(list_[i:i+3])\n",
        "    return temp"
      ],
      "metadata": {
        "id": "uanF28Tnry2y"
      },
      "execution_count": 84,
      "outputs": []
    },
    {
      "cell_type": "code",
      "source": [
        "train_fake = break_in_block(train_fake)\n",
        "train_real = break_in_block(train_real)\n",
        "test_fake = break_in_block(test_fake)\n",
        "test_real = break_in_block(test_real)"
      ],
      "metadata": {
        "id": "pe5oEHObr9vz"
      },
      "execution_count": 85,
      "outputs": []
    },
    {
      "cell_type": "code",
      "source": [
        "len(train_fake),len(train_real),len(test_fake),len(test_real)"
      ],
      "metadata": {
        "colab": {
          "base_uri": "https://localhost:8080/"
        },
        "id": "3YoARvRAr_0a",
        "outputId": "392d56af-9e6a-423c-8ecb-02548a2d5b14"
      },
      "execution_count": 86,
      "outputs": [
        {
          "output_type": "execute_result",
          "data": {
            "text/plain": [
              "(3748, 3783, 1000, 996)"
            ]
          },
          "metadata": {},
          "execution_count": 86
        }
      ]
    },
    {
      "cell_type": "code",
      "source": [
        "def get_image_and_text_list(blocks_list):\n",
        "    image_list = []\n",
        "    text_list = []\n",
        "    for i in blocks_list:\n",
        "        if i[-1] !=None:\n",
        "            image_list.append(i[1])\n",
        "            text_list.append(i[-1])\n",
        "    image_list = [i.split('/')[-1] for i in image_list]\n",
        "    return image_list, text_list"
      ],
      "metadata": {
        "id": "hHfRwdjYsCKD"
      },
      "execution_count": 87,
      "outputs": []
    },
    {
      "cell_type": "code",
      "source": [
        "train_fake_image,train_fake_text = get_image_and_text_list(train_fake)\n",
        "train_real_image,train_real_text = get_image_and_text_list(train_real)\n",
        "test_fake_image,test_fake_text = get_image_and_text_list(test_fake)\n",
        "test_real_image,test_real_text = get_image_and_text_list(test_real)"
      ],
      "metadata": {
        "id": "pbzKza3wsFqy"
      },
      "execution_count": 88,
      "outputs": []
    },
    {
      "cell_type": "code",
      "source": [
        "train_fake_Y = [0]*len(train_fake_image)\n",
        "train_real_Y = [1]*len(train_real_image)\n",
        "test_fake_Y = [0]*len(test_fake_image)\n",
        "test_real_Y = [1]*len(test_real_image)"
      ],
      "metadata": {
        "id": "TNZYvmdqsHpb"
      },
      "execution_count": 89,
      "outputs": []
    },
    {
      "cell_type": "code",
      "source": [
        "train_images = train_fake_image+train_real_image\n",
        "train_text = train_fake_text + train_real_text\n",
        "trainY = train_fake_Y+train_real_Y\n",
        "\n",
        "test_images = test_fake_image+test_real_image\n",
        "test_text = test_fake_text+test_real_text\n",
        "testY = test_fake_Y+test_real_Y"
      ],
      "metadata": {
        "id": "PgrCxv5hsLak"
      },
      "execution_count": 90,
      "outputs": []
    },
    {
      "cell_type": "code",
      "source": [
        "len(train_images),len(train_text),len(trainY),len(test_images),len(test_text),len(testY)"
      ],
      "metadata": {
        "colab": {
          "base_uri": "https://localhost:8080/"
        },
        "id": "VtYjvDX7sNRk",
        "outputId": "8ab6eb1e-4b65-4aa0-bf32-e3c14549ed31"
      },
      "execution_count": 91,
      "outputs": [
        {
          "output_type": "execute_result",
          "data": {
            "text/plain": [
              "(7481, 7481, 7481, 1930, 1930, 1930)"
            ]
          },
          "metadata": {},
          "execution_count": 91
        }
      ]
    },
    {
      "cell_type": "code",
      "source": [
        "train_images = np.array(train_images)\n",
        "train_text = np.array(train_text)\n",
        "trainY = np.array(trainY)\n",
        "test_images = np.array(test_images)\n",
        "test_text = np.array(test_text)\n",
        "testY = np.array(testY)"
      ],
      "metadata": {
        "id": "fAkoGGyXsPET"
      },
      "execution_count": 94,
      "outputs": []
    },
    {
      "cell_type": "code",
      "source": [
        "#!mv \"/content/drive/MyDrive/multimodal-news/weibo-data/nonrumor_images/\"* \"/content/drive/MyDrive/multimodal-news/weibo-data/rumor_images\""
      ],
      "metadata": {
        "id": "OdWdy3ep9q03"
      },
      "execution_count": null,
      "outputs": []
    },
    {
      "cell_type": "code",
      "source": [
        "#!mv \"/content/drive/MyDrive/multimodal-news/weibo-data/rumor_images\" \"/content/drive/MyDrive/multimodal-news/weibo-data/images\""
      ],
      "metadata": {
        "id": "Xw3-e6Mv-Fyg"
      },
      "execution_count": null,
      "outputs": []
    },
    {
      "cell_type": "code",
      "source": [
        "def index_to_delete(list_):\n",
        "    list_images_dir = listdir('/content/images/images')\n",
        "    gif_list = ['957e1cf2tw1e5foxts295g206o03p4qp.gif','a716fd45jw1ev0cgf8j46g209505zh4i.gif','005vnhZYgw1evupo8ttddg308w06o4qp.gif','7da75521gw1ele2jvi85rg2096056u0x.gif']\n",
        "    index = []\n",
        "    for i,v in enumerate(list_):\n",
        "        if v not in list_images_dir:\n",
        "            index.append(i)\n",
        "        if v in gif_list:\n",
        "            index.append(i)\n",
        "    return index"
      ],
      "metadata": {
        "id": "Wf7NnZxZsynh"
      },
      "execution_count": 95,
      "outputs": []
    },
    {
      "cell_type": "code",
      "source": [
        "train_delete_index =index_to_delete(train_images)\n",
        "test_delete_index = index_to_delete(test_images)\n",
        "len(train_delete_index)+len(test_delete_index)"
      ],
      "metadata": {
        "colab": {
          "base_uri": "https://localhost:8080/"
        },
        "id": "EGa9MyGDvncv",
        "outputId": "1bed97aa-3a47-4eb8-80e9-15a4347d47ad"
      },
      "execution_count": 96,
      "outputs": [
        {
          "output_type": "execute_result",
          "data": {
            "text/plain": [
              "4147"
            ]
          },
          "metadata": {},
          "execution_count": 96
        }
      ]
    },
    {
      "cell_type": "code",
      "source": [
        "train_images = np.delete(train_images,train_delete_index)\n",
        "train_text = np.delete(train_text,train_delete_index)\n",
        "trainY = np.delete(trainY,train_delete_index)\n",
        "test_images = np.delete(test_images,test_delete_index)\n",
        "test_text = np.delete(test_text,test_delete_index)\n",
        "testY = np.delete(testY,test_delete_index)"
      ],
      "metadata": {
        "id": "n6C3Q5N3vqi6"
      },
      "execution_count": 97,
      "outputs": []
    },
    {
      "cell_type": "code",
      "source": [
        "shuffle_index= np.arange(len(train_images))\n",
        "np.random.shuffle(shuffle_index)\n",
        "train_images = train_images[shuffle_index]\n",
        "train_text = train_text[shuffle_index]\n",
        "trainY = trainY[shuffle_index]"
      ],
      "metadata": {
        "id": "Nt74DNwUvv8p"
      },
      "execution_count": 98,
      "outputs": []
    },
    {
      "cell_type": "code",
      "source": [
        "shuffle_index"
      ],
      "metadata": {
        "colab": {
          "base_uri": "https://localhost:8080/"
        },
        "id": "sJO3sGa8v2Z8",
        "outputId": "932878f7-3201-41cd-b803-67071c006a94"
      },
      "execution_count": 99,
      "outputs": [
        {
          "output_type": "execute_result",
          "data": {
            "text/plain": [
              "array([1047, 3672, 2865, ...,  768, 1253, 1645])"
            ]
          },
          "metadata": {},
          "execution_count": 99
        }
      ]
    },
    {
      "cell_type": "code",
      "source": [
        "len(train_images),len(train_text),len(trainY),len(test_images),len(test_text),len(testY)"
      ],
      "metadata": {
        "colab": {
          "base_uri": "https://localhost:8080/"
        },
        "id": "Eg5Bgoe6v4kM",
        "outputId": "3591913a-e8e6-4d4e-f1aa-ac00eafb9558"
      },
      "execution_count": 100,
      "outputs": [
        {
          "output_type": "execute_result",
          "data": {
            "text/plain": [
              "(4140, 4140, 4140, 1124, 1124, 1124)"
            ]
          },
          "metadata": {},
          "execution_count": 100
        }
      ]
    },
    {
      "cell_type": "code",
      "source": [
        "# calculate the maximum document length\n",
        "def max_length(lines):\n",
        "    return max([len(s) for s in lines])"
      ],
      "metadata": {
        "id": "qF32ZgTzv690"
      },
      "execution_count": 101,
      "outputs": []
    },
    {
      "cell_type": "code",
      "source": [
        "print(f'max len {max_length(train_text)}')\n",
        "plt.hist([len(s) for s in train_text],bins=[0,50,100,150,200,250,300,350,400,450,498])"
      ],
      "metadata": {
        "colab": {
          "base_uri": "https://localhost:8080/",
          "height": 519
        },
        "id": "OPYy6zEBv9NT",
        "outputId": "11fae255-9297-4c7d-e401-c6a674869eb6"
      },
      "execution_count": 102,
      "outputs": [
        {
          "output_type": "stream",
          "name": "stdout",
          "text": [
            "max len 498\n"
          ]
        },
        {
          "output_type": "execute_result",
          "data": {
            "text/plain": [
              "(array([5.800e+02, 5.580e+02, 2.404e+03, 5.530e+02, 3.100e+01, 8.000e+00,\n",
              "        4.000e+00, 1.000e+00, 0.000e+00, 1.000e+00]),\n",
              " array([  0.,  50., 100., 150., 200., 250., 300., 350., 400., 450., 498.]),\n",
              " <BarContainer object of 10 artists>)"
            ]
          },
          "metadata": {},
          "execution_count": 102
        },
        {
          "output_type": "display_data",
          "data": {
            "text/plain": [
              "<Figure size 640x480 with 1 Axes>"
            ],
            "image/png": "[encoded data removed]"
          },
          "metadata": {}
        }
      ]
    },
    {
      "cell_type": "code",
      "source": [
        "max_seq_length=200"
      ],
      "metadata": {
        "id": "QwhB4sKmv_cd"
      },
      "execution_count": 103,
      "outputs": []
    },
    {
      "cell_type": "code",
      "source": [
        "train_df = pd.DataFrame()\n",
        "train_df['tweetText'] = pd.Series(train_text)\n",
        "train_df['images_1'] = pd.Series(train_images)\n",
        "train_df['label'] = pd.Series(trainY)\n",
        "train_df.head()"
      ],
      "metadata": {
        "colab": {
          "base_uri": "https://localhost:8080/",
          "height": 206
        },
        "id": "xmAatohGxzHG",
        "outputId": "43fc5131-bde6-4825-99d5-2fc4c9ebc999"
      },
      "execution_count": 104,
      "outputs": [
        {
          "output_type": "execute_result",
          "data": {
            "text/plain": [
              "                                           tweetText  \\\n",
              "0                                         开车挖鼻的注意了哈！   \n",
              "1  #新刊#【你支持Uber吗？】6月25日凌晨，有媒体刊出神州专车的“Beat U”系列主题广...   \n",
              "2  二院一位老人和一个女孩已确定死亡！特警不断得用电警棍往死里打百姓，用石头砸百姓！朋友们你们还...   \n",
              "3  想想222】主权在民，才有人权。98年，有三名福建工人在以色列被炸死！以政府找到中国使馆商议...   \n",
              "4  特大好消息！卖狗肉违法了， 国家食品药品监督局11月1日开始集中受理狗肉馆举报，举报电话：1...   \n",
              "\n",
              "                               images_1  label  \n",
              "0  005MN8vJgw1exghduzk97j30m805wmxz.jpg      0  \n",
              "1  470bf257jw1eths7dgo5pj20hm0d8n00.jpg      1  \n",
              "2  9c715f53jw1eg9gjjs9ewj20hs0vkq4d.jpg      0  \n",
              "3            aaaa8deejw1e15kub3bl6j.jpg      0  \n",
              "4  6f0f93dejw1ebdoa3jpl7j20hs0d9wgv.jpg      0  "
            ],
            "text/html": [
              "\n",
              "  <div id=\"df-4d701e7c-4f3a-43ec-b867-37df6cb917f0\">\n",
              "    <div class=\"colab-df-container\">\n",
              "      <div>\n",
              "<style scoped>\n",
              "    .dataframe tbody tr th:only-of-type {\n",
              "        vertical-align: middle;\n",
              "    }\n",
              "\n",
              "    .dataframe tbody tr th {\n",
              "        vertical-align: top;\n",
              "    }\n",
              "\n",
              "    .dataframe thead th {\n",
              "        text-align: right;\n",
              "    }\n",
              "</style>\n",
              "<table border=\"1\" class=\"dataframe\">\n",
              "  <thead>\n",
              "    <tr style=\"text-align: right;\">\n",
              "      <th></th>\n",
              "      <th>tweetText</th>\n",
              "      <th>images_1</th>\n",
              "      <th>label</th>\n",
              "    </tr>\n",
              "  </thead>\n",
              "  <tbody>\n",
              "    <tr>\n",
              "      <th>0</th>\n",
              "      <td>开车挖鼻的注意了哈！</td>\n",
              "      <td>005MN8vJgw1exghduzk97j30m805wmxz.jpg</td>\n",
              "      <td>0</td>\n",
              "    </tr>\n",
              "    <tr>\n",
              "      <th>1</th>\n",
              "      <td>#新刊#【你支持Uber吗？】6月25日凌晨，有媒体刊出神州专车的“Beat U”系列主题广...</td>\n",
              "      <td>470bf257jw1eths7dgo5pj20hm0d8n00.jpg</td>\n",
              "      <td>1</td>\n",
              "    </tr>\n",
              "    <tr>\n",
              "      <th>2</th>\n",
              "      <td>二院一位老人和一个女孩已确定死亡！特警不断得用电警棍往死里打百姓，用石头砸百姓！朋友们你们还...</td>\n",
              "      <td>9c715f53jw1eg9gjjs9ewj20hs0vkq4d.jpg</td>\n",
              "      <td>0</td>\n",
              "    </tr>\n",
              "    <tr>\n",
              "      <th>3</th>\n",
              "      <td>想想222】主权在民，才有人权。98年，有三名福建工人在以色列被炸死！以政府找到中国使馆商议...</td>\n",
              "      <td>aaaa8deejw1e15kub3bl6j.jpg</td>\n",
              "      <td>0</td>\n",
              "    </tr>\n",
              "    <tr>\n",
              "      <th>4</th>\n",
              "      <td>特大好消息！卖狗肉违法了， 国家食品药品监督局11月1日开始集中受理狗肉馆举报，举报电话：1...</td>\n",
              "      <td>6f0f93dejw1ebdoa3jpl7j20hs0d9wgv.jpg</td>\n",
              "      <td>0</td>\n",
              "    </tr>\n",
              "  </tbody>\n",
              "</table>\n",
              "</div>\n",
              "      <button class=\"colab-df-convert\" onclick=\"convertToInteractive('df-4d701e7c-4f3a-43ec-b867-37df6cb917f0')\"\n",
              "              title=\"Convert this dataframe to an interactive table.\"\n",
              "              style=\"display:none;\">\n",
              "        \n",
              "  <svg xmlns=\"http://www.w3.org/2000/svg\" height=\"24px\"viewBox=\"0 0 24 24\"\n",
              "       width=\"24px\">\n",
              "    <path d=\"M0 0h24v24H0V0z\" fill=\"none\"/>\n",
              "    <path d=\"M18.56 5.44l.94 2.06.94-2.06 2.06-.94-2.06-.94-.94-2.06-.94 2.06-2.06.94zm-11 1L8.5 8.5l.94-2.06 2.06-.94-2.06-.94L8.5 2.5l-.94 2.06-2.06.94zm10 10l.94 2.06.94-2.06 2.06-.94-2.06-.94-.94-2.06-.94 2.06-2.06.94z\"/><path d=\"M17.41 7.96l-1.37-1.37c-.4-.4-.92-.59-1.43-.59-.52 0-1.04.2-1.43.59L10.3 9.45l-7.72 7.72c-.78.78-.78 2.05 0 2.83L4 21.41c.39.39.9.59 1.41.59.51 0 1.02-.2 1.41-.59l7.78-7.78 2.81-2.81c.8-.78.8-2.07 0-2.86zM5.41 20L4 18.59l7.72-7.72 1.47 1.35L5.41 20z\"/>\n",
              "  </svg>\n",
              "      </button>\n",
              "      \n",
              "  <style>\n",
              "    .colab-df-container {\n",
              "      display:flex;\n",
              "      flex-wrap:wrap;\n",
              "      gap: 12px;\n",
              "    }\n",
              "\n",
              "    .colab-df-convert {\n",
              "      background-color: #E8F0FE;\n",
              "      border: none;\n",
              "      border-radius: 50%;\n",
              "      cursor: pointer;\n",
              "      display: none;\n",
              "      fill: #1967D2;\n",
              "      height: 32px;\n",
              "      padding: 0 0 0 0;\n",
              "      width: 32px;\n",
              "    }\n",
              "\n",
              "    .colab-df-convert:hover {\n",
              "      background-color: #E2EBFA;\n",
              "      box-shadow: 0px 1px 2px rgba(60, 64, 67, 0.3), 0px 1px 3px 1px rgba(60, 64, 67, 0.15);\n",
              "      fill: #174EA6;\n",
              "    }\n",
              "\n",
              "    [theme=dark] .colab-df-convert {\n",
              "      background-color: #3B4455;\n",
              "      fill: #D2E3FC;\n",
              "    }\n",
              "\n",
              "    [theme=dark] .colab-df-convert:hover {\n",
              "      background-color: #434B5C;\n",
              "      box-shadow: 0px 1px 3px 1px rgba(0, 0, 0, 0.15);\n",
              "      filter: drop-shadow(0px 1px 2px rgba(0, 0, 0, 0.3));\n",
              "      fill: #FFFFFF;\n",
              "    }\n",
              "  </style>\n",
              "\n",
              "      <script>\n",
              "        const buttonEl =\n",
              "          document.querySelector('#df-4d701e7c-4f3a-43ec-b867-37df6cb917f0 button.colab-df-convert');\n",
              "        buttonEl.style.display =\n",
              "          google.colab.kernel.accessAllowed ? 'block' : 'none';\n",
              "\n",
              "        async function convertToInteractive(key) {\n",
              "          const element = document.querySelector('#df-4d701e7c-4f3a-43ec-b867-37df6cb917f0');\n",
              "          const dataTable =\n",
              "            await google.colab.kernel.invokeFunction('convertToInteractive',\n",
              "                                                     [key], {});\n",
              "          if (!dataTable) return;\n",
              "\n",
              "          const docLinkHtml = 'Like what you see? Visit the ' +\n",
              "            '<a target=\"_blank\" href=https://colab.research.google.com/notebooks/data_table.ipynb>data table notebook</a>'\n",
              "            + ' to learn more about interactive tables.';\n",
              "          element.innerHTML = '';\n",
              "          dataTable['output_type'] = 'display_data';\n",
              "          await google.colab.output.renderOutput(dataTable, element);\n",
              "          const docLink = document.createElement('div');\n",
              "          docLink.innerHTML = docLinkHtml;\n",
              "          element.appendChild(docLink);\n",
              "        }\n",
              "      </script>\n",
              "    </div>\n",
              "  </div>\n",
              "  "
            ]
          },
          "metadata": {},
          "execution_count": 104
        }
      ]
    },
    {
      "cell_type": "code",
      "source": [
        "test_df = pd.DataFrame()\n",
        "test_df['tweetText'] = pd.Series(test_text)\n",
        "test_df['images_1'] = pd.Series(test_images)\n",
        "test_df['label'] = pd.Series(testY)\n",
        "test_df.head()"
      ],
      "metadata": {
        "colab": {
          "base_uri": "https://localhost:8080/",
          "height": 206
        },
        "id": "I2fJWyrg_NTi",
        "outputId": "1f6a93aa-3424-43ca-b511-db2079335cd3"
      },
      "execution_count": 105,
      "outputs": [
        {
          "output_type": "execute_result",
          "data": {
            "text/plain": [
              "                                           tweetText  \\\n",
              "0  【郭美美申请低保，居然获准通过！】郭美美对记者说，她其实就是一个失业人员，并不是大家想象的那...   \n",
              "1  【看病要付钱只有二十几个国家】中国工程院院士戴勀戎：“看病就得付钱。在我们这里好像天经地义。...   \n",
              "2                          东北证券吉林公主岭营业部今天上午被愤怒的股民点燃.   \n",
              "3  【交通新规】归纳汇总为以下八条，开车的朋友请留意。2013年1月1日开始执行。@于建嵘 @海...   \n",
              "4                                                隐翅虫   \n",
              "\n",
              "                               images_1  label  \n",
              "0  7fcc7edetw1e6btq03senj20c80gawgs.jpg      0  \n",
              "1  8d5c03a7jw1e6r4cc7x02j20by0c40tt.jpg      0  \n",
              "2            3dc2ac30jw1dx457fr1owj.jpg      0  \n",
              "3            96449d00jw1dyupdyukbkj.jpg      0  \n",
              "4            5103ab97gw1dwmttofzfoj.jpg      0  "
            ],
            "text/html": [
              "\n",
              "  <div id=\"df-5ad133a6-d710-4126-b6aa-f7a758eb3a15\">\n",
              "    <div class=\"colab-df-container\">\n",
              "      <div>\n",
              "<style scoped>\n",
              "    .dataframe tbody tr th:only-of-type {\n",
              "        vertical-align: middle;\n",
              "    }\n",
              "\n",
              "    .dataframe tbody tr th {\n",
              "        vertical-align: top;\n",
              "    }\n",
              "\n",
              "    .dataframe thead th {\n",
              "        text-align: right;\n",
              "    }\n",
              "</style>\n",
              "<table border=\"1\" class=\"dataframe\">\n",
              "  <thead>\n",
              "    <tr style=\"text-align: right;\">\n",
              "      <th></th>\n",
              "      <th>tweetText</th>\n",
              "      <th>images_1</th>\n",
              "      <th>label</th>\n",
              "    </tr>\n",
              "  </thead>\n",
              "  <tbody>\n",
              "    <tr>\n",
              "      <th>0</th>\n",
              "      <td>【郭美美申请低保，居然获准通过！】郭美美对记者说，她其实就是一个失业人员，并不是大家想象的那...</td>\n",
              "      <td>7fcc7edetw1e6btq03senj20c80gawgs.jpg</td>\n",
              "      <td>0</td>\n",
              "    </tr>\n",
              "    <tr>\n",
              "      <th>1</th>\n",
              "      <td>【看病要付钱只有二十几个国家】中国工程院院士戴勀戎：“看病就得付钱。在我们这里好像天经地义。...</td>\n",
              "      <td>8d5c03a7jw1e6r4cc7x02j20by0c40tt.jpg</td>\n",
              "      <td>0</td>\n",
              "    </tr>\n",
              "    <tr>\n",
              "      <th>2</th>\n",
              "      <td>东北证券吉林公主岭营业部今天上午被愤怒的股民点燃.</td>\n",
              "      <td>3dc2ac30jw1dx457fr1owj.jpg</td>\n",
              "      <td>0</td>\n",
              "    </tr>\n",
              "    <tr>\n",
              "      <th>3</th>\n",
              "      <td>【交通新规】归纳汇总为以下八条，开车的朋友请留意。2013年1月1日开始执行。@于建嵘 @海...</td>\n",
              "      <td>96449d00jw1dyupdyukbkj.jpg</td>\n",
              "      <td>0</td>\n",
              "    </tr>\n",
              "    <tr>\n",
              "      <th>4</th>\n",
              "      <td>隐翅虫</td>\n",
              "      <td>5103ab97gw1dwmttofzfoj.jpg</td>\n",
              "      <td>0</td>\n",
              "    </tr>\n",
              "  </tbody>\n",
              "</table>\n",
              "</div>\n",
              "      <button class=\"colab-df-convert\" onclick=\"convertToInteractive('df-5ad133a6-d710-4126-b6aa-f7a758eb3a15')\"\n",
              "              title=\"Convert this dataframe to an interactive table.\"\n",
              "              style=\"display:none;\">\n",
              "        \n",
              "  <svg xmlns=\"http://www.w3.org/2000/svg\" height=\"24px\"viewBox=\"0 0 24 24\"\n",
              "       width=\"24px\">\n",
              "    <path d=\"M0 0h24v24H0V0z\" fill=\"none\"/>\n",
              "    <path d=\"M18.56 5.44l.94 2.06.94-2.06 2.06-.94-2.06-.94-.94-2.06-.94 2.06-2.06.94zm-11 1L8.5 8.5l.94-2.06 2.06-.94-2.06-.94L8.5 2.5l-.94 2.06-2.06.94zm10 10l.94 2.06.94-2.06 2.06-.94-2.06-.94-.94-2.06-.94 2.06-2.06.94z\"/><path d=\"M17.41 7.96l-1.37-1.37c-.4-.4-.92-.59-1.43-.59-.52 0-1.04.2-1.43.59L10.3 9.45l-7.72 7.72c-.78.78-.78 2.05 0 2.83L4 21.41c.39.39.9.59 1.41.59.51 0 1.02-.2 1.41-.59l7.78-7.78 2.81-2.81c.8-.78.8-2.07 0-2.86zM5.41 20L4 18.59l7.72-7.72 1.47 1.35L5.41 20z\"/>\n",
              "  </svg>\n",
              "      </button>\n",
              "      \n",
              "  <style>\n",
              "    .colab-df-container {\n",
              "      display:flex;\n",
              "      flex-wrap:wrap;\n",
              "      gap: 12px;\n",
              "    }\n",
              "\n",
              "    .colab-df-convert {\n",
              "      background-color: #E8F0FE;\n",
              "      border: none;\n",
              "      border-radius: 50%;\n",
              "      cursor: pointer;\n",
              "      display: none;\n",
              "      fill: #1967D2;\n",
              "      height: 32px;\n",
              "      padding: 0 0 0 0;\n",
              "      width: 32px;\n",
              "    }\n",
              "\n",
              "    .colab-df-convert:hover {\n",
              "      background-color: #E2EBFA;\n",
              "      box-shadow: 0px 1px 2px rgba(60, 64, 67, 0.3), 0px 1px 3px 1px rgba(60, 64, 67, 0.15);\n",
              "      fill: #174EA6;\n",
              "    }\n",
              "\n",
              "    [theme=dark] .colab-df-convert {\n",
              "      background-color: #3B4455;\n",
              "      fill: #D2E3FC;\n",
              "    }\n",
              "\n",
              "    [theme=dark] .colab-df-convert:hover {\n",
              "      background-color: #434B5C;\n",
              "      box-shadow: 0px 1px 3px 1px rgba(0, 0, 0, 0.15);\n",
              "      filter: drop-shadow(0px 1px 2px rgba(0, 0, 0, 0.3));\n",
              "      fill: #FFFFFF;\n",
              "    }\n",
              "  </style>\n",
              "\n",
              "      <script>\n",
              "        const buttonEl =\n",
              "          document.querySelector('#df-5ad133a6-d710-4126-b6aa-f7a758eb3a15 button.colab-df-convert');\n",
              "        buttonEl.style.display =\n",
              "          google.colab.kernel.accessAllowed ? 'block' : 'none';\n",
              "\n",
              "        async function convertToInteractive(key) {\n",
              "          const element = document.querySelector('#df-5ad133a6-d710-4126-b6aa-f7a758eb3a15');\n",
              "          const dataTable =\n",
              "            await google.colab.kernel.invokeFunction('convertToInteractive',\n",
              "                                                     [key], {});\n",
              "          if (!dataTable) return;\n",
              "\n",
              "          const docLinkHtml = 'Like what you see? Visit the ' +\n",
              "            '<a target=\"_blank\" href=https://colab.research.google.com/notebooks/data_table.ipynb>data table notebook</a>'\n",
              "            + ' to learn more about interactive tables.';\n",
              "          element.innerHTML = '';\n",
              "          dataTable['output_type'] = 'display_data';\n",
              "          await google.colab.output.renderOutput(dataTable, element);\n",
              "          const docLink = document.createElement('div');\n",
              "          docLink.innerHTML = docLinkHtml;\n",
              "          element.appendChild(docLink);\n",
              "        }\n",
              "      </script>\n",
              "    </div>\n",
              "  </div>\n",
              "  "
            ]
          },
          "metadata": {},
          "execution_count": 105
        }
      ]
    },
    {
      "cell_type": "code",
      "source": [
        "train_df['tweetText'].nunique(), train_df['images_1'].nunique()"
      ],
      "metadata": {
        "colab": {
          "base_uri": "https://localhost:8080/"
        },
        "id": "z1ZtfnosOECr",
        "outputId": "c7ccf24a-cbfc-4a6e-ffc9-8f75da8a50fe"
      },
      "execution_count": 108,
      "outputs": [
        {
          "output_type": "execute_result",
          "data": {
            "text/plain": [
              "(4029, 4140)"
            ]
          },
          "metadata": {},
          "execution_count": 108
        }
      ]
    },
    {
      "cell_type": "code",
      "source": [
        "test_df['tweetText'].nunique(), test_df['images_1'].nunique()"
      ],
      "metadata": {
        "colab": {
          "base_uri": "https://localhost:8080/"
        },
        "id": "kS3DVj7QOTxP",
        "outputId": "7a087d05-82a0-4002-8d7c-d26a4840d52d"
      },
      "execution_count": 109,
      "outputs": [
        {
          "output_type": "execute_result",
          "data": {
            "text/plain": [
              "(1124, 1124)"
            ]
          },
          "metadata": {},
          "execution_count": 109
        }
      ]
    },
    {
      "cell_type": "code",
      "source": [
        "IMAGE_DIR = '/content/images/images'"
      ],
      "metadata": {
        "id": "ahD6v47IARJg"
      },
      "execution_count": 47,
      "outputs": []
    },
    {
      "cell_type": "code",
      "source": [
        "def find_image_from_name_in_dir(image_name, dir):\n",
        "  for name in glob.glob(dir+'/'+image_name):\n",
        "    return name"
      ],
      "metadata": {
        "id": "SdeKQu0n_idE"
      },
      "execution_count": 48,
      "outputs": []
    },
    {
      "cell_type": "code",
      "source": [
        "def visualise(index, df):\n",
        "  path = IMAGE_DIR\n",
        "  text = df.loc[index]['tweetText']\n",
        "  image_path = find_image_from_name_in_dir(df.loc[index]['images_1'],path)\n",
        "  image = plt.imread(image_path)\n",
        "  plt.subplot(1, 1, 1)\n",
        "  #plt.title('债券收益率')\n",
        "  plt.title(text)\n",
        "  plt.imshow(image)"
      ],
      "metadata": {
        "id": "PNxH1eC7ABs3"
      },
      "execution_count": 49,
      "outputs": []
    },
    {
      "cell_type": "markdown",
      "source": [
        "# Visualize random tweets"
      ],
      "metadata": {
        "id": "1J5in1av8imI"
      }
    },
    {
      "cell_type": "code",
      "source": [
        "indx = random.randint(0, len(train_df))\n",
        "print(indx)\n",
        "visualise(1, train_df)"
      ],
      "metadata": {
        "colab": {
          "base_uri": "https://localhost:8080/",
          "height": 469
        },
        "id": "66OH8hrWAYwT",
        "outputId": "7719ccd8-bba0-4c6e-b371-9759eca697f9"
      },
      "execution_count": 50,
      "outputs": [
        {
          "output_type": "stream",
          "name": "stdout",
          "text": [
            "2332\n"
          ]
        },
        {
          "output_type": "display_data",
          "data": {
            "text/plain": [
              "<Figure size 640x480 with 1 Axes>"
            ],
            "image/png": "[encoded data removed]"
          },
          "metadata": {}
        }
      ]
    },
    {
      "cell_type": "code",
      "source": [
        "# Alternate dataframes for modeling\n",
        "train_df_model = train_df[['tweetText', 'images_1', 'label']]\n",
        "train_df_model['image_1'] = train_df_model['images_1'].apply(lambda x: find_image_from_name_in_dir(x, IMAGE_DIR))\n",
        "train_df_model = train_df_model.drop(['images_1'], axis=1)\n",
        "train_df_model.head(5)"
      ],
      "metadata": {
        "colab": {
          "base_uri": "https://localhost:8080/",
          "height": 206
        },
        "id": "3PGqgUbYAwe_",
        "outputId": "43c0d7b0-7b80-44cb-f1cd-0aba7385ac6b"
      },
      "execution_count": 51,
      "outputs": [
        {
          "output_type": "execute_result",
          "data": {
            "text/plain": [
              "                                           tweetText  label  \\\n",
              "0                    【实用贴】九张图告诉你，冬装应该怎么洗。冬季必备技能，get~      1   \n",
              "1  【坚强的生命】@名字改啦3: 我最佩服的是一个叫张海迪的人，上小学的时候就听说她得了癌症，活...      0   \n",
              "2  现在得白血病的小孩越来越多，妇幼保健院提示您，请不要给宝宝喝爽歪歪和有添加剂的牛奶饮料，告诉...      0   \n",
              "3  求扩散，今天上午一个三岁多小女孩在龙华大润发超市附近被人拐走了，小女孩能准确说出她爸爸的手机...      0   \n",
              "4  【治地沟油 看“踢皮球”】号称“史上最严治理地沟油”的措施颁布了两年，而就在此期间，宝山区一...      1   \n",
              "\n",
              "                                             image_1  \n",
              "0  /content/images/images/620beb06gw1eywpft9ly3j2...  \n",
              "1  /content/images/images/54756473jw1ekr737i819j2...  \n",
              "2  /content/images/images/005XGfHgjw1es5vb37gqgj3...  \n",
              "3  /content/images/images/aa4cb2f8jw1e769b35se9j2...  \n",
              "4  /content/images/images/6e05a6dajw1etr1amzvpnj2...  "
            ],
            "text/html": [
              "\n",
              "  <div id=\"df-bac788ed-c0c8-4d1c-b9a6-50a183c32a27\">\n",
              "    <div class=\"colab-df-container\">\n",
              "      <div>\n",
              "<style scoped>\n",
              "    .dataframe tbody tr th:only-of-type {\n",
              "        vertical-align: middle;\n",
              "    }\n",
              "\n",
              "    .dataframe tbody tr th {\n",
              "        vertical-align: top;\n",
              "    }\n",
              "\n",
              "    .dataframe thead th {\n",
              "        text-align: right;\n",
              "    }\n",
              "</style>\n",
              "<table border=\"1\" class=\"dataframe\">\n",
              "  <thead>\n",
              "    <tr style=\"text-align: right;\">\n",
              "      <th></th>\n",
              "      <th>tweetText</th>\n",
              "      <th>label</th>\n",
              "      <th>image_1</th>\n",
              "    </tr>\n",
              "  </thead>\n",
              "  <tbody>\n",
              "    <tr>\n",
              "      <th>0</th>\n",
              "      <td>【实用贴】九张图告诉你，冬装应该怎么洗。冬季必备技能，get~</td>\n",
              "      <td>1</td>\n",
              "      <td>/content/images/images/620beb06gw1eywpft9ly3j2...</td>\n",
              "    </tr>\n",
              "    <tr>\n",
              "      <th>1</th>\n",
              "      <td>【坚强的生命】@名字改啦3: 我最佩服的是一个叫张海迪的人，上小学的时候就听说她得了癌症，活...</td>\n",
              "      <td>0</td>\n",
              "      <td>/content/images/images/54756473jw1ekr737i819j2...</td>\n",
              "    </tr>\n",
              "    <tr>\n",
              "      <th>2</th>\n",
              "      <td>现在得白血病的小孩越来越多，妇幼保健院提示您，请不要给宝宝喝爽歪歪和有添加剂的牛奶饮料，告诉...</td>\n",
              "      <td>0</td>\n",
              "      <td>/content/images/images/005XGfHgjw1es5vb37gqgj3...</td>\n",
              "    </tr>\n",
              "    <tr>\n",
              "      <th>3</th>\n",
              "      <td>求扩散，今天上午一个三岁多小女孩在龙华大润发超市附近被人拐走了，小女孩能准确说出她爸爸的手机...</td>\n",
              "      <td>0</td>\n",
              "      <td>/content/images/images/aa4cb2f8jw1e769b35se9j2...</td>\n",
              "    </tr>\n",
              "    <tr>\n",
              "      <th>4</th>\n",
              "      <td>【治地沟油 看“踢皮球”】号称“史上最严治理地沟油”的措施颁布了两年，而就在此期间，宝山区一...</td>\n",
              "      <td>1</td>\n",
              "      <td>/content/images/images/6e05a6dajw1etr1amzvpnj2...</td>\n",
              "    </tr>\n",
              "  </tbody>\n",
              "</table>\n",
              "</div>\n",
              "      <button class=\"colab-df-convert\" onclick=\"convertToInteractive('df-bac788ed-c0c8-4d1c-b9a6-50a183c32a27')\"\n",
              "              title=\"Convert this dataframe to an interactive table.\"\n",
              "              style=\"display:none;\">\n",
              "        \n",
              "  <svg xmlns=\"http://www.w3.org/2000/svg\" height=\"24px\"viewBox=\"0 0 24 24\"\n",
              "       width=\"24px\">\n",
              "    <path d=\"M0 0h24v24H0V0z\" fill=\"none\"/>\n",
              "    <path d=\"M18.56 5.44l.94 2.06.94-2.06 2.06-.94-2.06-.94-.94-2.06-.94 2.06-2.06.94zm-11 1L8.5 8.5l.94-2.06 2.06-.94-2.06-.94L8.5 2.5l-.94 2.06-2.06.94zm10 10l.94 2.06.94-2.06 2.06-.94-2.06-.94-.94-2.06-.94 2.06-2.06.94z\"/><path d=\"M17.41 7.96l-1.37-1.37c-.4-.4-.92-.59-1.43-.59-.52 0-1.04.2-1.43.59L10.3 9.45l-7.72 7.72c-.78.78-.78 2.05 0 2.83L4 21.41c.39.39.9.59 1.41.59.51 0 1.02-.2 1.41-.59l7.78-7.78 2.81-2.81c.8-.78.8-2.07 0-2.86zM5.41 20L4 18.59l7.72-7.72 1.47 1.35L5.41 20z\"/>\n",
              "  </svg>\n",
              "      </button>\n",
              "      \n",
              "  <style>\n",
              "    .colab-df-container {\n",
              "      display:flex;\n",
              "      flex-wrap:wrap;\n",
              "      gap: 12px;\n",
              "    }\n",
              "\n",
              "    .colab-df-convert {\n",
              "      background-color: #E8F0FE;\n",
              "      border: none;\n",
              "      border-radius: 50%;\n",
              "      cursor: pointer;\n",
              "      display: none;\n",
              "      fill: #1967D2;\n",
              "      height: 32px;\n",
              "      padding: 0 0 0 0;\n",
              "      width: 32px;\n",
              "    }\n",
              "\n",
              "    .colab-df-convert:hover {\n",
              "      background-color: #E2EBFA;\n",
              "      box-shadow: 0px 1px 2px rgba(60, 64, 67, 0.3), 0px 1px 3px 1px rgba(60, 64, 67, 0.15);\n",
              "      fill: #174EA6;\n",
              "    }\n",
              "\n",
              "    [theme=dark] .colab-df-convert {\n",
              "      background-color: #3B4455;\n",
              "      fill: #D2E3FC;\n",
              "    }\n",
              "\n",
              "    [theme=dark] .colab-df-convert:hover {\n",
              "      background-color: #434B5C;\n",
              "      box-shadow: 0px 1px 3px 1px rgba(0, 0, 0, 0.15);\n",
              "      filter: drop-shadow(0px 1px 2px rgba(0, 0, 0, 0.3));\n",
              "      fill: #FFFFFF;\n",
              "    }\n",
              "  </style>\n",
              "\n",
              "      <script>\n",
              "        const buttonEl =\n",
              "          document.querySelector('#df-bac788ed-c0c8-4d1c-b9a6-50a183c32a27 button.colab-df-convert');\n",
              "        buttonEl.style.display =\n",
              "          google.colab.kernel.accessAllowed ? 'block' : 'none';\n",
              "\n",
              "        async function convertToInteractive(key) {\n",
              "          const element = document.querySelector('#df-bac788ed-c0c8-4d1c-b9a6-50a183c32a27');\n",
              "          const dataTable =\n",
              "            await google.colab.kernel.invokeFunction('convertToInteractive',\n",
              "                                                     [key], {});\n",
              "          if (!dataTable) return;\n",
              "\n",
              "          const docLinkHtml = 'Like what you see? Visit the ' +\n",
              "            '<a target=\"_blank\" href=https://colab.research.google.com/notebooks/data_table.ipynb>data table notebook</a>'\n",
              "            + ' to learn more about interactive tables.';\n",
              "          element.innerHTML = '';\n",
              "          dataTable['output_type'] = 'display_data';\n",
              "          await google.colab.output.renderOutput(dataTable, element);\n",
              "          const docLink = document.createElement('div');\n",
              "          docLink.innerHTML = docLinkHtml;\n",
              "          element.appendChild(docLink);\n",
              "        }\n",
              "      </script>\n",
              "    </div>\n",
              "  </div>\n",
              "  "
            ]
          },
          "metadata": {},
          "execution_count": 51
        }
      ]
    },
    {
      "cell_type": "code",
      "source": [
        "# Check to make sure all the first_image_id are tied with a path\n",
        "train_df_model[train_df_model['image_1'].isnull()]"
      ],
      "metadata": {
        "colab": {
          "base_uri": "https://localhost:8080/",
          "height": 49
        },
        "id": "yGVTr6f4Dprr",
        "outputId": "fc6a2743-482b-4148-9928-80fcc3478419"
      },
      "execution_count": 52,
      "outputs": [
        {
          "output_type": "execute_result",
          "data": {
            "text/plain": [
              "Empty DataFrame\n",
              "Columns: [tweetText, label, image_1]\n",
              "Index: []"
            ],
            "text/html": [
              "\n",
              "  <div id=\"df-e1f7f479-518b-4cd6-a6a5-9fb88507939a\">\n",
              "    <div class=\"colab-df-container\">\n",
              "      <div>\n",
              "<style scoped>\n",
              "    .dataframe tbody tr th:only-of-type {\n",
              "        vertical-align: middle;\n",
              "    }\n",
              "\n",
              "    .dataframe tbody tr th {\n",
              "        vertical-align: top;\n",
              "    }\n",
              "\n",
              "    .dataframe thead th {\n",
              "        text-align: right;\n",
              "    }\n",
              "</style>\n",
              "<table border=\"1\" class=\"dataframe\">\n",
              "  <thead>\n",
              "    <tr style=\"text-align: right;\">\n",
              "      <th></th>\n",
              "      <th>tweetText</th>\n",
              "      <th>label</th>\n",
              "      <th>image_1</th>\n",
              "    </tr>\n",
              "  </thead>\n",
              "  <tbody>\n",
              "  </tbody>\n",
              "</table>\n",
              "</div>\n",
              "      <button class=\"colab-df-convert\" onclick=\"convertToInteractive('df-e1f7f479-518b-4cd6-a6a5-9fb88507939a')\"\n",
              "              title=\"Convert this dataframe to an interactive table.\"\n",
              "              style=\"display:none;\">\n",
              "        \n",
              "  <svg xmlns=\"http://www.w3.org/2000/svg\" height=\"24px\"viewBox=\"0 0 24 24\"\n",
              "       width=\"24px\">\n",
              "    <path d=\"M0 0h24v24H0V0z\" fill=\"none\"/>\n",
              "    <path d=\"M18.56 5.44l.94 2.06.94-2.06 2.06-.94-2.06-.94-.94-2.06-.94 2.06-2.06.94zm-11 1L8.5 8.5l.94-2.06 2.06-.94-2.06-.94L8.5 2.5l-.94 2.06-2.06.94zm10 10l.94 2.06.94-2.06 2.06-.94-2.06-.94-.94-2.06-.94 2.06-2.06.94z\"/><path d=\"M17.41 7.96l-1.37-1.37c-.4-.4-.92-.59-1.43-.59-.52 0-1.04.2-1.43.59L10.3 9.45l-7.72 7.72c-.78.78-.78 2.05 0 2.83L4 21.41c.39.39.9.59 1.41.59.51 0 1.02-.2 1.41-.59l7.78-7.78 2.81-2.81c.8-.78.8-2.07 0-2.86zM5.41 20L4 18.59l7.72-7.72 1.47 1.35L5.41 20z\"/>\n",
              "  </svg>\n",
              "      </button>\n",
              "      \n",
              "  <style>\n",
              "    .colab-df-container {\n",
              "      display:flex;\n",
              "      flex-wrap:wrap;\n",
              "      gap: 12px;\n",
              "    }\n",
              "\n",
              "    .colab-df-convert {\n",
              "      background-color: #E8F0FE;\n",
              "      border: none;\n",
              "      border-radius: 50%;\n",
              "      cursor: pointer;\n",
              "      display: none;\n",
              "      fill: #1967D2;\n",
              "      height: 32px;\n",
              "      padding: 0 0 0 0;\n",
              "      width: 32px;\n",
              "    }\n",
              "\n",
              "    .colab-df-convert:hover {\n",
              "      background-color: #E2EBFA;\n",
              "      box-shadow: 0px 1px 2px rgba(60, 64, 67, 0.3), 0px 1px 3px 1px rgba(60, 64, 67, 0.15);\n",
              "      fill: #174EA6;\n",
              "    }\n",
              "\n",
              "    [theme=dark] .colab-df-convert {\n",
              "      background-color: #3B4455;\n",
              "      fill: #D2E3FC;\n",
              "    }\n",
              "\n",
              "    [theme=dark] .colab-df-convert:hover {\n",
              "      background-color: #434B5C;\n",
              "      box-shadow: 0px 1px 3px 1px rgba(0, 0, 0, 0.15);\n",
              "      filter: drop-shadow(0px 1px 2px rgba(0, 0, 0, 0.3));\n",
              "      fill: #FFFFFF;\n",
              "    }\n",
              "  </style>\n",
              "\n",
              "      <script>\n",
              "        const buttonEl =\n",
              "          document.querySelector('#df-e1f7f479-518b-4cd6-a6a5-9fb88507939a button.colab-df-convert');\n",
              "        buttonEl.style.display =\n",
              "          google.colab.kernel.accessAllowed ? 'block' : 'none';\n",
              "\n",
              "        async function convertToInteractive(key) {\n",
              "          const element = document.querySelector('#df-e1f7f479-518b-4cd6-a6a5-9fb88507939a');\n",
              "          const dataTable =\n",
              "            await google.colab.kernel.invokeFunction('convertToInteractive',\n",
              "                                                     [key], {});\n",
              "          if (!dataTable) return;\n",
              "\n",
              "          const docLinkHtml = 'Like what you see? Visit the ' +\n",
              "            '<a target=\"_blank\" href=https://colab.research.google.com/notebooks/data_table.ipynb>data table notebook</a>'\n",
              "            + ' to learn more about interactive tables.';\n",
              "          element.innerHTML = '';\n",
              "          dataTable['output_type'] = 'display_data';\n",
              "          await google.colab.output.renderOutput(dataTable, element);\n",
              "          const docLink = document.createElement('div');\n",
              "          docLink.innerHTML = docLinkHtml;\n",
              "          element.appendChild(docLink);\n",
              "        }\n",
              "      </script>\n",
              "    </div>\n",
              "  </div>\n",
              "  "
            ]
          },
          "metadata": {},
          "execution_count": 52
        }
      ]
    },
    {
      "cell_type": "code",
      "source": [
        "test_df_model = test_df[['tweetText', 'images_1', 'label']]\n",
        "test_df_model['image_1'] = test_df_model['images_1'].apply(lambda x: find_image_from_name_in_dir(x, IMAGE_DIR))\n",
        "test_df_model = test_df_model.drop(['images_1'], axis=1)\n",
        "test_df_model.head(5)"
      ],
      "metadata": {
        "colab": {
          "base_uri": "https://localhost:8080/",
          "height": 206
        },
        "id": "qnCLauJWFwIZ",
        "outputId": "cd20892a-c7db-4fd0-d51a-0ba7520db3ff"
      },
      "execution_count": 53,
      "outputs": [
        {
          "output_type": "execute_result",
          "data": {
            "text/plain": [
              "                                           tweetText  label  \\\n",
              "0  【郭美美申请低保，居然获准通过！】郭美美对记者说，她其实就是一个失业人员，并不是大家想象的那...      0   \n",
              "1  【看病要付钱只有二十几个国家】中国工程院院士戴勀戎：“看病就得付钱。在我们这里好像天经地义。...      0   \n",
              "2                          东北证券吉林公主岭营业部今天上午被愤怒的股民点燃.      0   \n",
              "3  【交通新规】归纳汇总为以下八条，开车的朋友请留意。2013年1月1日开始执行。@于建嵘 @海...      0   \n",
              "4                                                隐翅虫      0   \n",
              "\n",
              "                                             image_1  \n",
              "0  /content/images/images/7fcc7edetw1e6btq03senj2...  \n",
              "1  /content/images/images/8d5c03a7jw1e6r4cc7x02j2...  \n",
              "2  /content/images/images/3dc2ac30jw1dx457fr1owj.jpg  \n",
              "3  /content/images/images/96449d00jw1dyupdyukbkj.jpg  \n",
              "4  /content/images/images/5103ab97gw1dwmttofzfoj.jpg  "
            ],
            "text/html": [
              "\n",
              "  <div id=\"df-339904b0-dd3f-44fd-9794-deb397c8338c\">\n",
              "    <div class=\"colab-df-container\">\n",
              "      <div>\n",
              "<style scoped>\n",
              "    .dataframe tbody tr th:only-of-type {\n",
              "        vertical-align: middle;\n",
              "    }\n",
              "\n",
              "    .dataframe tbody tr th {\n",
              "        vertical-align: top;\n",
              "    }\n",
              "\n",
              "    .dataframe thead th {\n",
              "        text-align: right;\n",
              "    }\n",
              "</style>\n",
              "<table border=\"1\" class=\"dataframe\">\n",
              "  <thead>\n",
              "    <tr style=\"text-align: right;\">\n",
              "      <th></th>\n",
              "      <th>tweetText</th>\n",
              "      <th>label</th>\n",
              "      <th>image_1</th>\n",
              "    </tr>\n",
              "  </thead>\n",
              "  <tbody>\n",
              "    <tr>\n",
              "      <th>0</th>\n",
              "      <td>【郭美美申请低保，居然获准通过！】郭美美对记者说，她其实就是一个失业人员，并不是大家想象的那...</td>\n",
              "      <td>0</td>\n",
              "      <td>/content/images/images/7fcc7edetw1e6btq03senj2...</td>\n",
              "    </tr>\n",
              "    <tr>\n",
              "      <th>1</th>\n",
              "      <td>【看病要付钱只有二十几个国家】中国工程院院士戴勀戎：“看病就得付钱。在我们这里好像天经地义。...</td>\n",
              "      <td>0</td>\n",
              "      <td>/content/images/images/8d5c03a7jw1e6r4cc7x02j2...</td>\n",
              "    </tr>\n",
              "    <tr>\n",
              "      <th>2</th>\n",
              "      <td>东北证券吉林公主岭营业部今天上午被愤怒的股民点燃.</td>\n",
              "      <td>0</td>\n",
              "      <td>/content/images/images/3dc2ac30jw1dx457fr1owj.jpg</td>\n",
              "    </tr>\n",
              "    <tr>\n",
              "      <th>3</th>\n",
              "      <td>【交通新规】归纳汇总为以下八条，开车的朋友请留意。2013年1月1日开始执行。@于建嵘 @海...</td>\n",
              "      <td>0</td>\n",
              "      <td>/content/images/images/96449d00jw1dyupdyukbkj.jpg</td>\n",
              "    </tr>\n",
              "    <tr>\n",
              "      <th>4</th>\n",
              "      <td>隐翅虫</td>\n",
              "      <td>0</td>\n",
              "      <td>/content/images/images/5103ab97gw1dwmttofzfoj.jpg</td>\n",
              "    </tr>\n",
              "  </tbody>\n",
              "</table>\n",
              "</div>\n",
              "      <button class=\"colab-df-convert\" onclick=\"convertToInteractive('df-339904b0-dd3f-44fd-9794-deb397c8338c')\"\n",
              "              title=\"Convert this dataframe to an interactive table.\"\n",
              "              style=\"display:none;\">\n",
              "        \n",
              "  <svg xmlns=\"http://www.w3.org/2000/svg\" height=\"24px\"viewBox=\"0 0 24 24\"\n",
              "       width=\"24px\">\n",
              "    <path d=\"M0 0h24v24H0V0z\" fill=\"none\"/>\n",
              "    <path d=\"M18.56 5.44l.94 2.06.94-2.06 2.06-.94-2.06-.94-.94-2.06-.94 2.06-2.06.94zm-11 1L8.5 8.5l.94-2.06 2.06-.94-2.06-.94L8.5 2.5l-.94 2.06-2.06.94zm10 10l.94 2.06.94-2.06 2.06-.94-2.06-.94-.94-2.06-.94 2.06-2.06.94z\"/><path d=\"M17.41 7.96l-1.37-1.37c-.4-.4-.92-.59-1.43-.59-.52 0-1.04.2-1.43.59L10.3 9.45l-7.72 7.72c-.78.78-.78 2.05 0 2.83L4 21.41c.39.39.9.59 1.41.59.51 0 1.02-.2 1.41-.59l7.78-7.78 2.81-2.81c.8-.78.8-2.07 0-2.86zM5.41 20L4 18.59l7.72-7.72 1.47 1.35L5.41 20z\"/>\n",
              "  </svg>\n",
              "      </button>\n",
              "      \n",
              "  <style>\n",
              "    .colab-df-container {\n",
              "      display:flex;\n",
              "      flex-wrap:wrap;\n",
              "      gap: 12px;\n",
              "    }\n",
              "\n",
              "    .colab-df-convert {\n",
              "      background-color: #E8F0FE;\n",
              "      border: none;\n",
              "      border-radius: 50%;\n",
              "      cursor: pointer;\n",
              "      display: none;\n",
              "      fill: #1967D2;\n",
              "      height: 32px;\n",
              "      padding: 0 0 0 0;\n",
              "      width: 32px;\n",
              "    }\n",
              "\n",
              "    .colab-df-convert:hover {\n",
              "      background-color: #E2EBFA;\n",
              "      box-shadow: 0px 1px 2px rgba(60, 64, 67, 0.3), 0px 1px 3px 1px rgba(60, 64, 67, 0.15);\n",
              "      fill: #174EA6;\n",
              "    }\n",
              "\n",
              "    [theme=dark] .colab-df-convert {\n",
              "      background-color: #3B4455;\n",
              "      fill: #D2E3FC;\n",
              "    }\n",
              "\n",
              "    [theme=dark] .colab-df-convert:hover {\n",
              "      background-color: #434B5C;\n",
              "      box-shadow: 0px 1px 3px 1px rgba(0, 0, 0, 0.15);\n",
              "      filter: drop-shadow(0px 1px 2px rgba(0, 0, 0, 0.3));\n",
              "      fill: #FFFFFF;\n",
              "    }\n",
              "  </style>\n",
              "\n",
              "      <script>\n",
              "        const buttonEl =\n",
              "          document.querySelector('#df-339904b0-dd3f-44fd-9794-deb397c8338c button.colab-df-convert');\n",
              "        buttonEl.style.display =\n",
              "          google.colab.kernel.accessAllowed ? 'block' : 'none';\n",
              "\n",
              "        async function convertToInteractive(key) {\n",
              "          const element = document.querySelector('#df-339904b0-dd3f-44fd-9794-deb397c8338c');\n",
              "          const dataTable =\n",
              "            await google.colab.kernel.invokeFunction('convertToInteractive',\n",
              "                                                     [key], {});\n",
              "          if (!dataTable) return;\n",
              "\n",
              "          const docLinkHtml = 'Like what you see? Visit the ' +\n",
              "            '<a target=\"_blank\" href=https://colab.research.google.com/notebooks/data_table.ipynb>data table notebook</a>'\n",
              "            + ' to learn more about interactive tables.';\n",
              "          element.innerHTML = '';\n",
              "          dataTable['output_type'] = 'display_data';\n",
              "          await google.colab.output.renderOutput(dataTable, element);\n",
              "          const docLink = document.createElement('div');\n",
              "          docLink.innerHTML = docLinkHtml;\n",
              "          element.appendChild(docLink);\n",
              "        }\n",
              "      </script>\n",
              "    </div>\n",
              "  </div>\n",
              "  "
            ]
          },
          "metadata": {},
          "execution_count": 53
        }
      ]
    },
    {
      "cell_type": "code",
      "source": [
        "# Check to make sure all the first_image_id are tied with a path\n",
        "test_df_model[test_df_model['image_1'].isnull()]"
      ],
      "metadata": {
        "colab": {
          "base_uri": "https://localhost:8080/",
          "height": 49
        },
        "id": "0Y7mXIqtF_bE",
        "outputId": "b25bf245-3db2-473f-d5b9-1a6a85ee9ed5"
      },
      "execution_count": 54,
      "outputs": [
        {
          "output_type": "execute_result",
          "data": {
            "text/plain": [
              "Empty DataFrame\n",
              "Columns: [tweetText, label, image_1]\n",
              "Index: []"
            ],
            "text/html": [
              "\n",
              "  <div id=\"df-bc8d6d56-a9bc-4f47-8bbc-43df250ada35\">\n",
              "    <div class=\"colab-df-container\">\n",
              "      <div>\n",
              "<style scoped>\n",
              "    .dataframe tbody tr th:only-of-type {\n",
              "        vertical-align: middle;\n",
              "    }\n",
              "\n",
              "    .dataframe tbody tr th {\n",
              "        vertical-align: top;\n",
              "    }\n",
              "\n",
              "    .dataframe thead th {\n",
              "        text-align: right;\n",
              "    }\n",
              "</style>\n",
              "<table border=\"1\" class=\"dataframe\">\n",
              "  <thead>\n",
              "    <tr style=\"text-align: right;\">\n",
              "      <th></th>\n",
              "      <th>tweetText</th>\n",
              "      <th>label</th>\n",
              "      <th>image_1</th>\n",
              "    </tr>\n",
              "  </thead>\n",
              "  <tbody>\n",
              "  </tbody>\n",
              "</table>\n",
              "</div>\n",
              "      <button class=\"colab-df-convert\" onclick=\"convertToInteractive('df-bc8d6d56-a9bc-4f47-8bbc-43df250ada35')\"\n",
              "              title=\"Convert this dataframe to an interactive table.\"\n",
              "              style=\"display:none;\">\n",
              "        \n",
              "  <svg xmlns=\"http://www.w3.org/2000/svg\" height=\"24px\"viewBox=\"0 0 24 24\"\n",
              "       width=\"24px\">\n",
              "    <path d=\"M0 0h24v24H0V0z\" fill=\"none\"/>\n",
              "    <path d=\"M18.56 5.44l.94 2.06.94-2.06 2.06-.94-2.06-.94-.94-2.06-.94 2.06-2.06.94zm-11 1L8.5 8.5l.94-2.06 2.06-.94-2.06-.94L8.5 2.5l-.94 2.06-2.06.94zm10 10l.94 2.06.94-2.06 2.06-.94-2.06-.94-.94-2.06-.94 2.06-2.06.94z\"/><path d=\"M17.41 7.96l-1.37-1.37c-.4-.4-.92-.59-1.43-.59-.52 0-1.04.2-1.43.59L10.3 9.45l-7.72 7.72c-.78.78-.78 2.05 0 2.83L4 21.41c.39.39.9.59 1.41.59.51 0 1.02-.2 1.41-.59l7.78-7.78 2.81-2.81c.8-.78.8-2.07 0-2.86zM5.41 20L4 18.59l7.72-7.72 1.47 1.35L5.41 20z\"/>\n",
              "  </svg>\n",
              "      </button>\n",
              "      \n",
              "  <style>\n",
              "    .colab-df-container {\n",
              "      display:flex;\n",
              "      flex-wrap:wrap;\n",
              "      gap: 12px;\n",
              "    }\n",
              "\n",
              "    .colab-df-convert {\n",
              "      background-color: #E8F0FE;\n",
              "      border: none;\n",
              "      border-radius: 50%;\n",
              "      cursor: pointer;\n",
              "      display: none;\n",
              "      fill: #1967D2;\n",
              "      height: 32px;\n",
              "      padding: 0 0 0 0;\n",
              "      width: 32px;\n",
              "    }\n",
              "\n",
              "    .colab-df-convert:hover {\n",
              "      background-color: #E2EBFA;\n",
              "      box-shadow: 0px 1px 2px rgba(60, 64, 67, 0.3), 0px 1px 3px 1px rgba(60, 64, 67, 0.15);\n",
              "      fill: #174EA6;\n",
              "    }\n",
              "\n",
              "    [theme=dark] .colab-df-convert {\n",
              "      background-color: #3B4455;\n",
              "      fill: #D2E3FC;\n",
              "    }\n",
              "\n",
              "    [theme=dark] .colab-df-convert:hover {\n",
              "      background-color: #434B5C;\n",
              "      box-shadow: 0px 1px 3px 1px rgba(0, 0, 0, 0.15);\n",
              "      filter: drop-shadow(0px 1px 2px rgba(0, 0, 0, 0.3));\n",
              "      fill: #FFFFFF;\n",
              "    }\n",
              "  </style>\n",
              "\n",
              "      <script>\n",
              "        const buttonEl =\n",
              "          document.querySelector('#df-bc8d6d56-a9bc-4f47-8bbc-43df250ada35 button.colab-df-convert');\n",
              "        buttonEl.style.display =\n",
              "          google.colab.kernel.accessAllowed ? 'block' : 'none';\n",
              "\n",
              "        async function convertToInteractive(key) {\n",
              "          const element = document.querySelector('#df-bc8d6d56-a9bc-4f47-8bbc-43df250ada35');\n",
              "          const dataTable =\n",
              "            await google.colab.kernel.invokeFunction('convertToInteractive',\n",
              "                                                     [key], {});\n",
              "          if (!dataTable) return;\n",
              "\n",
              "          const docLinkHtml = 'Like what you see? Visit the ' +\n",
              "            '<a target=\"_blank\" href=https://colab.research.google.com/notebooks/data_table.ipynb>data table notebook</a>'\n",
              "            + ' to learn more about interactive tables.';\n",
              "          element.innerHTML = '';\n",
              "          dataTable['output_type'] = 'display_data';\n",
              "          await google.colab.output.renderOutput(dataTable, element);\n",
              "          const docLink = document.createElement('div');\n",
              "          docLink.innerHTML = docLinkHtml;\n",
              "          element.appendChild(docLink);\n",
              "        }\n",
              "      </script>\n",
              "    </div>\n",
              "  </div>\n",
              "  "
            ]
          },
          "metadata": {},
          "execution_count": 54
        }
      ]
    },
    {
      "cell_type": "code",
      "source": [
        "train_df_model['label'].value_counts()"
      ],
      "metadata": {
        "colab": {
          "base_uri": "https://localhost:8080/"
        },
        "id": "j8uIBZViGD2G",
        "outputId": "62489fb3-c802-4e6b-df66-dca720ad2c8a"
      },
      "execution_count": 55,
      "outputs": [
        {
          "output_type": "execute_result",
          "data": {
            "text/plain": [
              "0    3345\n",
              "1     795\n",
              "Name: label, dtype: int64"
            ]
          },
          "metadata": {},
          "execution_count": 55
        }
      ]
    },
    {
      "cell_type": "code",
      "source": [
        "test_df_model['label'].value_counts()"
      ],
      "metadata": {
        "colab": {
          "base_uri": "https://localhost:8080/"
        },
        "id": "77_yuTFyGIJO",
        "outputId": "3c242fb7-4fe7-41fd-f609-3e04a227c558"
      },
      "execution_count": 56,
      "outputs": [
        {
          "output_type": "execute_result",
          "data": {
            "text/plain": [
              "0    862\n",
              "1    262\n",
              "Name: label, dtype: int64"
            ]
          },
          "metadata": {},
          "execution_count": 56
        }
      ]
    },
    {
      "cell_type": "code",
      "source": [],
      "metadata": {
        "id": "oU7x8k_FGZLx"
      },
      "execution_count": null,
      "outputs": []
    },
    {
      "cell_type": "markdown",
      "source": [
        "### Save the dataframes for faster access"
      ],
      "metadata": {
        "id": "w0QG3RYMUAwU"
      }
    },
    {
      "cell_type": "code",
      "source": [
        "#Save training df\n",
        "train_df_model.to_pickle(BASE_SAVE_LOCATION+\"/weibo-train.pickle\")\n",
        "#Save testing df\n",
        "test_df_model.to_pickle(BASE_SAVE_LOCATION+\"/weibo-test.pickle\")"
      ],
      "metadata": {
        "id": "s5sZDtqZGK1E"
      },
      "execution_count": 57,
      "outputs": []
    }
  ]
}