{
  "nbformat": 4,
  "nbformat_minor": 0,
  "metadata": {
    "colab": {
      "provenance": [],
      "machine_shape": "hm",
      "authorship_tag": "ABX9TyPplgcsQjToa+zkawYHnXGn",
      "include_colab_link": true
    },
    "kernelspec": {
      "name": "python3",
      "display_name": "Python 3"
    },
    "language_info": {
      "name": "python"
    },
    "gpuClass": "standard",
    "accelerator": "GPU"
  },
  "cells": [
    {
      "cell_type": "markdown",
      "metadata": {
        "id": "view-in-github",
        "colab_type": "text"
      },
      "source": [
        "<a href=\"https://colab.research.google.com/github/arnabbiswas66/multimodal-fake-news-classifier/blob/main/Weibo_multimodal_classifier_MHA_Luong_Regularized.ipynb\" target=\"_parent\"><img src=\"https://colab.research.google.com/assets/colab-badge.svg\" alt=\"Open In Colab\"/></a>"
      ]
    },
    {
      "cell_type": "code",
      "execution_count": 5,
      "metadata": {
        "id": "g67lEmTffTdd"
      },
      "outputs": [],
      "source": [
        "!pip install -q tensorflow_text"
      ]
    },
    {
      "cell_type": "code",
      "source": [
        "#!pip install -q talos"
      ],
      "metadata": {
        "id": "_P3W9TkhT9rl"
      },
      "execution_count": 4,
      "outputs": []
    },
    {
      "cell_type": "code",
      "source": [
        "from tensorflow.python.platform.tf_logging import warn\n",
        "import pandas as pd\n",
        "import numpy as np\n",
        "import tensorflow as tf\n",
        "from tensorflow import keras\n",
        "import os\n",
        "import re\n",
        "from os import listdir\n",
        "import shutil\n",
        "import glob\n",
        "import copy\n",
        "import random\n",
        "import matplotlib.pyplot as plt\n",
        "#import talos as ta\n",
        "import tensorflow_hub as hub\n",
        "import tensorflow_text as text\n",
        "#from official.nlp import optimization  # to create AdamW optimizer\n",
        "tf.get_logger().setLevel('ERROR')\n",
        "import warnings\n",
        "\n",
        "warnings.filterwarnings('ignore')"
      ],
      "metadata": {
        "id": "MqsMpdN3ffxH"
      },
      "execution_count": 7,
      "outputs": []
    },
    {
      "cell_type": "markdown",
      "source": [
        "## Initial Google Drive and Colab setup"
      ],
      "metadata": {
        "id": "TonKUYIfmoli"
      }
    },
    {
      "cell_type": "code",
      "source": [
        "from google.colab import drive\n",
        "drive.mount('/content/drive')"
      ],
      "metadata": {
        "colab": {
          "base_uri": "https://localhost:8080/"
        },
        "id": "x20211H_nnLR",
        "outputId": "0fbb5a16-106d-4cb9-c4bf-4a806bb41ad9"
      },
      "execution_count": 8,
      "outputs": [
        {
          "output_type": "stream",
          "name": "stdout",
          "text": [
            "Mounted at /content/drive\n"
          ]
        }
      ]
    },
    {
      "cell_type": "code",
      "source": [
        "BASE_SAVE_LOCATION = \"/content/drive/MyDrive/multimodal-news\"\n",
        "CHECKPOINT_FILEPATH = '/content/drive/MyDrive/multimodal-news/weibo/'"
      ],
      "metadata": {
        "id": "BbHqdujoUn87"
      },
      "execution_count": 9,
      "outputs": []
    },
    {
      "cell_type": "code",
      "source": [
        "# image copy pipeline from Gdrive to Colab\n",
        "! mkdir \"/content/images\"\n",
        "! cp \"/content/drive/MyDrive/multimodal-news/weibo-data/images.zip\" \"/content/images\"\n",
        "! unzip -q -d \"/content/images\" \"/content/images/images.zip\""
      ],
      "metadata": {
        "id": "MAZ0PBbHNSuS"
      },
      "execution_count": 10,
      "outputs": []
    },
    {
      "cell_type": "markdown",
      "source": [
        "## EDA"
      ],
      "metadata": {
        "id": "TB5ySb9InDfe"
      }
    },
    {
      "cell_type": "code",
      "source": [
        "def get_df(file):\n",
        "    return pd.read_csv(file, sep='|',header = None)"
      ],
      "metadata": {
        "id": "PVJ1JazrntSa"
      },
      "execution_count": null,
      "outputs": []
    },
    {
      "cell_type": "code",
      "source": [
        "train_df_fake = get_df('/content/drive/MyDrive/multimodal-news/weibo-data/tweets/train_rumor.txt')\n",
        "train_df_real = get_df('/content/drive/MyDrive/multimodal-news/weibo-data/tweets/train_nonrumor.txt')\n",
        "test_df_fake = get_df('/content/drive/MyDrive/multimodal-news/weibo-data/tweets/test_rumor.txt')\n",
        "test_df_real = get_df('/content/drive/MyDrive/multimodal-news/weibo-data/tweets/test_nonrumor.txt')"
      ],
      "metadata": {
        "id": "7R6joGghn1-B"
      },
      "execution_count": null,
      "outputs": []
    },
    {
      "cell_type": "code",
      "source": [
        "train_df_fake.shape, train_df_real.shape, test_df_fake.shape, test_df_real.shape"
      ],
      "metadata": {
        "colab": {
          "base_uri": "https://localhost:8080/"
        },
        "id": "XVwCya21owlt",
        "outputId": "3ef9c612-94e0-49f3-b83f-9b3c24a14b38"
      },
      "execution_count": null,
      "outputs": [
        {
          "output_type": "execute_result",
          "data": {
            "text/plain": [
              "((11194, 15), (11349, 15), (2934, 15), (2988, 15))"
            ]
          },
          "metadata": {},
          "execution_count": 10
        }
      ]
    },
    {
      "cell_type": "code",
      "source": [
        "train_fake = train_df_fake[0].tolist()\n",
        "train_real = train_df_real[0].tolist()\n",
        "test_fake = test_df_fake[0].tolist()\n",
        "test_real = test_df_real[0].tolist()"
      ],
      "metadata": {
        "id": "RCZ7qFx6pHbk"
      },
      "execution_count": null,
      "outputs": []
    },
    {
      "cell_type": "code",
      "source": [],
      "metadata": {
        "id": "CFLsSybCr4Ve"
      },
      "execution_count": null,
      "outputs": []
    },
    {
      "cell_type": "code",
      "source": [
        "def fix_offset(list_):\n",
        "    fixed_flag = False\n",
        "\n",
        "    while not fixed_flag:\n",
        "        exit_flag=False\n",
        "        temp = copy.deepcopy(list_)\n",
        "        for i,v in enumerate(temp):\n",
        "            if v!=None:\n",
        "                if 'sinaimg.cn' in v:\n",
        "                    if list_[i+1] !=None:\n",
        "                        if list_[i+1].isdigit():\n",
        "                            list_.insert(i+1,None)\n",
        "                            exit_flag=True\n",
        "                            break\n",
        "        if not exit_flag:\n",
        "            fixed_flag=True\n",
        "            \n",
        "    return list_"
      ],
      "metadata": {
        "id": "y6WulBlxrtkv"
      },
      "execution_count": null,
      "outputs": []
    },
    {
      "cell_type": "code",
      "source": [
        "train_fake = fix_offset(train_fake) \n",
        "train_real = fix_offset(train_real)\n",
        "test_fake = fix_offset(test_fake)\n",
        "test_real = fix_offset(test_real)"
      ],
      "metadata": {
        "id": "fI6MxydurwoM"
      },
      "execution_count": null,
      "outputs": []
    },
    {
      "cell_type": "code",
      "source": [
        "def break_in_block(list_):\n",
        "    temp = []\n",
        "    for i in range(0,len(list_),3):\n",
        "        temp.append(list_[i:i+3])\n",
        "    return temp"
      ],
      "metadata": {
        "id": "uanF28Tnry2y"
      },
      "execution_count": null,
      "outputs": []
    },
    {
      "cell_type": "code",
      "source": [
        "train_fake = break_in_block(train_fake)\n",
        "train_real = break_in_block(train_real)\n",
        "test_fake = break_in_block(test_fake)\n",
        "test_real = break_in_block(test_real)"
      ],
      "metadata": {
        "id": "pe5oEHObr9vz"
      },
      "execution_count": null,
      "outputs": []
    },
    {
      "cell_type": "code",
      "source": [
        "len(train_fake),len(train_real),len(test_fake),len(test_real)"
      ],
      "metadata": {
        "colab": {
          "base_uri": "https://localhost:8080/"
        },
        "id": "3YoARvRAr_0a",
        "outputId": "3888526e-343e-4f0d-8f0c-3d88bbce769a"
      },
      "execution_count": null,
      "outputs": [
        {
          "output_type": "execute_result",
          "data": {
            "text/plain": [
              "(3748, 3783, 1000, 996)"
            ]
          },
          "metadata": {},
          "execution_count": 17
        }
      ]
    },
    {
      "cell_type": "code",
      "source": [
        "def get_image_and_text_list(blocks_list):\n",
        "    image_list = []\n",
        "    text_list = []\n",
        "    for i in blocks_list:\n",
        "        if i[-1] !=None:\n",
        "            image_list.append(i[1])\n",
        "            text_list.append(i[-1])\n",
        "    image_list = [i.split('/')[-1] for i in image_list]\n",
        "    return image_list, text_list"
      ],
      "metadata": {
        "id": "hHfRwdjYsCKD"
      },
      "execution_count": null,
      "outputs": []
    },
    {
      "cell_type": "code",
      "source": [
        "train_fake_image,train_fake_text = get_image_and_text_list(train_fake)\n",
        "train_real_image,train_real_text = get_image_and_text_list(train_real)\n",
        "test_fake_image,test_fake_text = get_image_and_text_list(test_fake)\n",
        "test_real_image,test_real_text = get_image_and_text_list(test_real)"
      ],
      "metadata": {
        "id": "pbzKza3wsFqy"
      },
      "execution_count": null,
      "outputs": []
    },
    {
      "cell_type": "code",
      "source": [
        "train_fake_Y = [0]*len(train_fake_image)\n",
        "train_real_Y = [1]*len(train_real_image)\n",
        "test_fake_Y = [0]*len(test_fake_image)\n",
        "test_real_Y = [1]*len(test_real_image)"
      ],
      "metadata": {
        "id": "TNZYvmdqsHpb"
      },
      "execution_count": null,
      "outputs": []
    },
    {
      "cell_type": "code",
      "source": [
        "train_images = train_fake_image+train_real_image\n",
        "train_text = train_fake_text + train_real_text\n",
        "trainY = train_fake_Y+train_real_Y\n",
        "\n",
        "test_images = test_fake_image+test_real_image\n",
        "test_text = test_fake_text+test_real_text\n",
        "testY = test_fake_Y+test_real_Y"
      ],
      "metadata": {
        "id": "PgrCxv5hsLak"
      },
      "execution_count": null,
      "outputs": []
    },
    {
      "cell_type": "code",
      "source": [
        "len(train_images),len(train_text),len(trainY),len(test_images),len(test_text),len(testY)"
      ],
      "metadata": {
        "colab": {
          "base_uri": "https://localhost:8080/"
        },
        "id": "VtYjvDX7sNRk",
        "outputId": "5974e802-f223-4407-ff9c-d5a0afad20cd"
      },
      "execution_count": null,
      "outputs": [
        {
          "output_type": "execute_result",
          "data": {
            "text/plain": [
              "(7481, 7481, 7481, 1930, 1930, 1930)"
            ]
          },
          "metadata": {},
          "execution_count": 22
        }
      ]
    },
    {
      "cell_type": "code",
      "source": [
        "train_images = np.array(train_images)\n",
        "train_text = np.array(train_text)\n",
        "trainY = np.array(trainY)\n",
        "test_images = np.array(test_images)\n",
        "test_text = np.array(test_text)\n",
        "testY = np.array(testY)"
      ],
      "metadata": {
        "id": "fAkoGGyXsPET"
      },
      "execution_count": null,
      "outputs": []
    },
    {
      "cell_type": "code",
      "source": [
        "#!mv \"/content/drive/MyDrive/multimodal-news/weibo-data/nonrumor_images/\"* \"/content/drive/MyDrive/multimodal-news/weibo-data/rumor_images\""
      ],
      "metadata": {
        "id": "OdWdy3ep9q03"
      },
      "execution_count": null,
      "outputs": []
    },
    {
      "cell_type": "code",
      "source": [
        "#!mv \"/content/drive/MyDrive/multimodal-news/weibo-data/rumor_images\" \"/content/drive/MyDrive/multimodal-news/weibo-data/images\""
      ],
      "metadata": {
        "id": "Xw3-e6Mv-Fyg"
      },
      "execution_count": null,
      "outputs": []
    },
    {
      "cell_type": "code",
      "source": [
        "def index_to_delete(list_):\n",
        "    list_images_dir = listdir('/content/images/images')\n",
        "    gif_list = ['957e1cf2tw1e5foxts295g206o03p4qp.gif','a716fd45jw1ev0cgf8j46g209505zh4i.gif','005vnhZYgw1evupo8ttddg308w06o4qp.gif','7da75521gw1ele2jvi85rg2096056u0x.gif']\n",
        "    index = []\n",
        "    for i,v in enumerate(list_):\n",
        "        if v not in list_images_dir:\n",
        "            index.append(i)\n",
        "        if v in gif_list:\n",
        "            index.append(i)\n",
        "    return index"
      ],
      "metadata": {
        "id": "Wf7NnZxZsynh"
      },
      "execution_count": null,
      "outputs": []
    },
    {
      "cell_type": "code",
      "source": [
        "train_delete_index =index_to_delete(train_images)\n",
        "test_delete_index = index_to_delete(test_images)\n",
        "len(train_delete_index)+len(test_delete_index)"
      ],
      "metadata": {
        "colab": {
          "base_uri": "https://localhost:8080/"
        },
        "id": "EGa9MyGDvncv",
        "outputId": "e18f0bae-192f-416f-e34f-fb7eaf4f91d1"
      },
      "execution_count": null,
      "outputs": [
        {
          "output_type": "execute_result",
          "data": {
            "text/plain": [
              "4147"
            ]
          },
          "metadata": {},
          "execution_count": 25
        }
      ]
    },
    {
      "cell_type": "code",
      "source": [
        "train_images = np.delete(train_images,train_delete_index)\n",
        "train_text = np.delete(train_text,train_delete_index)\n",
        "trainY = np.delete(trainY,train_delete_index)\n",
        "test_images = np.delete(test_images,test_delete_index)\n",
        "test_text = np.delete(test_text,test_delete_index)\n",
        "testY = np.delete(testY,test_delete_index)"
      ],
      "metadata": {
        "id": "n6C3Q5N3vqi6"
      },
      "execution_count": null,
      "outputs": []
    },
    {
      "cell_type": "code",
      "source": [
        "shuffle_index= np.arange(len(train_images))\n",
        "np.random.shuffle(shuffle_index)\n",
        "train_images = train_images[shuffle_index]\n",
        "train_text = train_text[shuffle_index]\n",
        "trainY = trainY[shuffle_index]"
      ],
      "metadata": {
        "id": "Nt74DNwUvv8p"
      },
      "execution_count": null,
      "outputs": []
    },
    {
      "cell_type": "code",
      "source": [
        "shuffle_index"
      ],
      "metadata": {
        "colab": {
          "base_uri": "https://localhost:8080/"
        },
        "id": "sJO3sGa8v2Z8",
        "outputId": "62efe604-b2c2-431e-af62-2f5211c3f8b2"
      },
      "execution_count": null,
      "outputs": [
        {
          "output_type": "execute_result",
          "data": {
            "text/plain": [
              "array([3950, 2821,  749, ..., 1029, 2927,  527])"
            ]
          },
          "metadata": {},
          "execution_count": 28
        }
      ]
    },
    {
      "cell_type": "code",
      "source": [
        "len(train_images),len(train_text),len(trainY),len(test_images),len(test_text),len(testY)"
      ],
      "metadata": {
        "colab": {
          "base_uri": "https://localhost:8080/"
        },
        "id": "Eg5Bgoe6v4kM",
        "outputId": "ed5aeb6a-37d4-4827-bd9e-25f11758d60a"
      },
      "execution_count": null,
      "outputs": [
        {
          "output_type": "execute_result",
          "data": {
            "text/plain": [
              "(4140, 4140, 4140, 1124, 1124, 1124)"
            ]
          },
          "metadata": {},
          "execution_count": 29
        }
      ]
    },
    {
      "cell_type": "code",
      "source": [
        "# calculate the maximum document length\n",
        "def max_length(lines):\n",
        "    return max([len(s) for s in lines])"
      ],
      "metadata": {
        "id": "qF32ZgTzv690"
      },
      "execution_count": null,
      "outputs": []
    },
    {
      "cell_type": "code",
      "source": [
        "print(f'max len {max_length(train_text)}')\n",
        "plt.hist([len(s) for s in train_text],bins=[0,50,100,150,200,250,300,350,400,450,498])"
      ],
      "metadata": {
        "colab": {
          "base_uri": "https://localhost:8080/",
          "height": 519
        },
        "id": "OPYy6zEBv9NT",
        "outputId": "b72f523a-49b8-4456-ce1f-29a4a38c1cda"
      },
      "execution_count": null,
      "outputs": [
        {
          "output_type": "stream",
          "name": "stdout",
          "text": [
            "max len 498\n"
          ]
        },
        {
          "output_type": "execute_result",
          "data": {
            "text/plain": [
              "(array([5.800e+02, 5.580e+02, 2.404e+03, 5.530e+02, 3.100e+01, 8.000e+00,\n",
              "        4.000e+00, 1.000e+00, 0.000e+00, 1.000e+00]),\n",
              " array([  0.,  50., 100., 150., 200., 250., 300., 350., 400., 450., 498.]),\n",
              " <BarContainer object of 10 artists>)"
            ]
          },
          "metadata": {},
          "execution_count": 31
        },
        {
          "output_type": "display_data",
          "data": {
            "text/plain": [
              "<Figure size 640x480 with 1 Axes>"
            ],
            "image/png": "[encoded data removed]"
          },
          "metadata": {}
        }
      ]
    },
    {
      "cell_type": "code",
      "source": [
        "max_seq_length=200"
      ],
      "metadata": {
        "id": "QwhB4sKmv_cd"
      },
      "execution_count": null,
      "outputs": []
    },
    {
      "cell_type": "code",
      "source": [
        "train_df = pd.DataFrame()\n",
        "train_df['tweetText'] = pd.Series(train_text)\n",
        "train_df['images_1'] = pd.Series(train_images)\n",
        "train_df['label'] = pd.Series(trainY)\n",
        "train_df.head()"
      ],
      "metadata": {
        "colab": {
          "base_uri": "https://localhost:8080/",
          "height": 206
        },
        "id": "xmAatohGxzHG",
        "outputId": "b1e6f048-69f3-4c31-f75d-3252932efbff"
      },
      "execution_count": null,
      "outputs": [
        {
          "output_type": "execute_result",
          "data": {
            "text/plain": [
              "                                           tweetText  \\\n",
              "0  #娱眼碌碌#【王思聪街头激吻广州模特】王思聪的我的网红女友系列又更新了一集，跟以往不同，终于...   \n",
              "1  【外媒：农行副总裁杨琨欠澳门赌债30亿人民币 】据路透社报道，中国农业银行副总裁杨琨欠澳门赌...   \n",
              "2  我在看【寻人启示13759695559帮忙扩散!】，分享给你，快来看！ O寻人启示13759...   \n",
              "3       #求证# 据说第六套人民币增加1000，500，200面值，材质为塑料材质，类似于澳元。   \n",
              "4  #抗日战争胜利70周年9.3大阅兵#作为天津人！中国人！真要哭死了！真的已经无法当作新闻看了...   \n",
              "\n",
              "                               images_1  label  \n",
              "0  593bbc68gw1ezf3efr9yrj20g3086gmt.jpg      1  \n",
              "1  476b66c1jw1eoxdu4ypi8j20ci08c74n.jpg      0  \n",
              "2  005N4ZWdjw1enz4806r0lj308c08ct9l.jpg      0  \n",
              "3  715a7f5atw1e67kow32lyj20i80pctdf.jpg      0  \n",
              "4  4e253b85jw1ev1geqx5gaj20ch0m8tah.jpg      0  "
            ],
            "text/html": [
              "\n",
              "  <div id=\"df-86c675d2-e3e8-44c1-9725-730666eb9870\">\n",
              "    <div class=\"colab-df-container\">\n",
              "      <div>\n",
              "<style scoped>\n",
              "    .dataframe tbody tr th:only-of-type {\n",
              "        vertical-align: middle;\n",
              "    }\n",
              "\n",
              "    .dataframe tbody tr th {\n",
              "        vertical-align: top;\n",
              "    }\n",
              "\n",
              "    .dataframe thead th {\n",
              "        text-align: right;\n",
              "    }\n",
              "</style>\n",
              "<table border=\"1\" class=\"dataframe\">\n",
              "  <thead>\n",
              "    <tr style=\"text-align: right;\">\n",
              "      <th></th>\n",
              "      <th>tweetText</th>\n",
              "      <th>images_1</th>\n",
              "      <th>label</th>\n",
              "    </tr>\n",
              "  </thead>\n",
              "  <tbody>\n",
              "    <tr>\n",
              "      <th>0</th>\n",
              "      <td>#娱眼碌碌#【王思聪街头激吻广州模特】王思聪的我的网红女友系列又更新了一集，跟以往不同，终于...</td>\n",
              "      <td>593bbc68gw1ezf3efr9yrj20g3086gmt.jpg</td>\n",
              "      <td>1</td>\n",
              "    </tr>\n",
              "    <tr>\n",
              "      <th>1</th>\n",
              "      <td>【外媒：农行副总裁杨琨欠澳门赌债30亿人民币 】据路透社报道，中国农业银行副总裁杨琨欠澳门赌...</td>\n",
              "      <td>476b66c1jw1eoxdu4ypi8j20ci08c74n.jpg</td>\n",
              "      <td>0</td>\n",
              "    </tr>\n",
              "    <tr>\n",
              "      <th>2</th>\n",
              "      <td>我在看【寻人启示13759695559帮忙扩散!】，分享给你，快来看！ O寻人启示13759...</td>\n",
              "      <td>005N4ZWdjw1enz4806r0lj308c08ct9l.jpg</td>\n",
              "      <td>0</td>\n",
              "    </tr>\n",
              "    <tr>\n",
              "      <th>3</th>\n",
              "      <td>#求证# 据说第六套人民币增加1000，500，200面值，材质为塑料材质，类似于澳元。</td>\n",
              "      <td>715a7f5atw1e67kow32lyj20i80pctdf.jpg</td>\n",
              "      <td>0</td>\n",
              "    </tr>\n",
              "    <tr>\n",
              "      <th>4</th>\n",
              "      <td>#抗日战争胜利70周年9.3大阅兵#作为天津人！中国人！真要哭死了！真的已经无法当作新闻看了...</td>\n",
              "      <td>4e253b85jw1ev1geqx5gaj20ch0m8tah.jpg</td>\n",
              "      <td>0</td>\n",
              "    </tr>\n",
              "  </tbody>\n",
              "</table>\n",
              "</div>\n",
              "      <button class=\"colab-df-convert\" onclick=\"convertToInteractive('df-86c675d2-e3e8-44c1-9725-730666eb9870')\"\n",
              "              title=\"Convert this dataframe to an interactive table.\"\n",
              "              style=\"display:none;\">\n",
              "        \n",
              "  <svg xmlns=\"http://www.w3.org/2000/svg\" height=\"24px\"viewBox=\"0 0 24 24\"\n",
              "       width=\"24px\">\n",
              "    <path d=\"M0 0h24v24H0V0z\" fill=\"none\"/>\n",
              "    <path d=\"M18.56 5.44l.94 2.06.94-2.06 2.06-.94-2.06-.94-.94-2.06-.94 2.06-2.06.94zm-11 1L8.5 8.5l.94-2.06 2.06-.94-2.06-.94L8.5 2.5l-.94 2.06-2.06.94zm10 10l.94 2.06.94-2.06 2.06-.94-2.06-.94-.94-2.06-.94 2.06-2.06.94z\"/><path d=\"M17.41 7.96l-1.37-1.37c-.4-.4-.92-.59-1.43-.59-.52 0-1.04.2-1.43.59L10.3 9.45l-7.72 7.72c-.78.78-.78 2.05 0 2.83L4 21.41c.39.39.9.59 1.41.59.51 0 1.02-.2 1.41-.59l7.78-7.78 2.81-2.81c.8-.78.8-2.07 0-2.86zM5.41 20L4 18.59l7.72-7.72 1.47 1.35L5.41 20z\"/>\n",
              "  </svg>\n",
              "      </button>\n",
              "      \n",
              "  <style>\n",
              "    .colab-df-container {\n",
              "      display:flex;\n",
              "      flex-wrap:wrap;\n",
              "      gap: 12px;\n",
              "    }\n",
              "\n",
              "    .colab-df-convert {\n",
              "      background-color: #E8F0FE;\n",
              "      border: none;\n",
              "      border-radius: 50%;\n",
              "      cursor: pointer;\n",
              "      display: none;\n",
              "      fill: #1967D2;\n",
              "      height: 32px;\n",
              "      padding: 0 0 0 0;\n",
              "      width: 32px;\n",
              "    }\n",
              "\n",
              "    .colab-df-convert:hover {\n",
              "      background-color: #E2EBFA;\n",
              "      box-shadow: 0px 1px 2px rgba(60, 64, 67, 0.3), 0px 1px 3px 1px rgba(60, 64, 67, 0.15);\n",
              "      fill: #174EA6;\n",
              "    }\n",
              "\n",
              "    [theme=dark] .colab-df-convert {\n",
              "      background-color: #3B4455;\n",
              "      fill: #D2E3FC;\n",
              "    }\n",
              "\n",
              "    [theme=dark] .colab-df-convert:hover {\n",
              "      background-color: #434B5C;\n",
              "      box-shadow: 0px 1px 3px 1px rgba(0, 0, 0, 0.15);\n",
              "      filter: drop-shadow(0px 1px 2px rgba(0, 0, 0, 0.3));\n",
              "      fill: #FFFFFF;\n",
              "    }\n",
              "  </style>\n",
              "\n",
              "      <script>\n",
              "        const buttonEl =\n",
              "          document.querySelector('#df-86c675d2-e3e8-44c1-9725-730666eb9870 button.colab-df-convert');\n",
              "        buttonEl.style.display =\n",
              "          google.colab.kernel.accessAllowed ? 'block' : 'none';\n",
              "\n",
              "        async function convertToInteractive(key) {\n",
              "          const element = document.querySelector('#df-86c675d2-e3e8-44c1-9725-730666eb9870');\n",
              "          const dataTable =\n",
              "            await google.colab.kernel.invokeFunction('convertToInteractive',\n",
              "                                                     [key], {});\n",
              "          if (!dataTable) return;\n",
              "\n",
              "          const docLinkHtml = 'Like what you see? Visit the ' +\n",
              "            '<a target=\"_blank\" href=https://colab.research.google.com/notebooks/data_table.ipynb>data table notebook</a>'\n",
              "            + ' to learn more about interactive tables.';\n",
              "          element.innerHTML = '';\n",
              "          dataTable['output_type'] = 'display_data';\n",
              "          await google.colab.output.renderOutput(dataTable, element);\n",
              "          const docLink = document.createElement('div');\n",
              "          docLink.innerHTML = docLinkHtml;\n",
              "          element.appendChild(docLink);\n",
              "        }\n",
              "      </script>\n",
              "    </div>\n",
              "  </div>\n",
              "  "
            ]
          },
          "metadata": {},
          "execution_count": 34
        }
      ]
    },
    {
      "cell_type": "code",
      "source": [
        "test_df = pd.DataFrame()\n",
        "test_df['tweetText'] = pd.Series(test_text)\n",
        "test_df['images_1'] = pd.Series(test_images)\n",
        "test_df['label'] = pd.Series(testY)\n",
        "test_df.head()"
      ],
      "metadata": {
        "colab": {
          "base_uri": "https://localhost:8080/",
          "height": 206
        },
        "id": "I2fJWyrg_NTi",
        "outputId": "7364bd40-74cf-4447-cdfd-aab9faf2f92a"
      },
      "execution_count": null,
      "outputs": [
        {
          "output_type": "execute_result",
          "data": {
            "text/plain": [
              "                                           tweetText  \\\n",
              "0  【郭美美申请低保，居然获准通过！】郭美美对记者说，她其实就是一个失业人员，并不是大家想象的那...   \n",
              "1  【看病要付钱只有二十几个国家】中国工程院院士戴勀戎：“看病就得付钱。在我们这里好像天经地义。...   \n",
              "2                          东北证券吉林公主岭营业部今天上午被愤怒的股民点燃.   \n",
              "3  【交通新规】归纳汇总为以下八条，开车的朋友请留意。2013年1月1日开始执行。@于建嵘 @海...   \n",
              "4                                                隐翅虫   \n",
              "\n",
              "                               images_1  label  \n",
              "0  7fcc7edetw1e6btq03senj20c80gawgs.jpg      0  \n",
              "1  8d5c03a7jw1e6r4cc7x02j20by0c40tt.jpg      0  \n",
              "2            3dc2ac30jw1dx457fr1owj.jpg      0  \n",
              "3            96449d00jw1dyupdyukbkj.jpg      0  \n",
              "4            5103ab97gw1dwmttofzfoj.jpg      0  "
            ],
            "text/html": [
              "\n",
              "  <div id=\"df-b848a05d-6384-47b9-bda5-7b848ac0532b\">\n",
              "    <div class=\"colab-df-container\">\n",
              "      <div>\n",
              "<style scoped>\n",
              "    .dataframe tbody tr th:only-of-type {\n",
              "        vertical-align: middle;\n",
              "    }\n",
              "\n",
              "    .dataframe tbody tr th {\n",
              "        vertical-align: top;\n",
              "    }\n",
              "\n",
              "    .dataframe thead th {\n",
              "        text-align: right;\n",
              "    }\n",
              "</style>\n",
              "<table border=\"1\" class=\"dataframe\">\n",
              "  <thead>\n",
              "    <tr style=\"text-align: right;\">\n",
              "      <th></th>\n",
              "      <th>tweetText</th>\n",
              "      <th>images_1</th>\n",
              "      <th>label</th>\n",
              "    </tr>\n",
              "  </thead>\n",
              "  <tbody>\n",
              "    <tr>\n",
              "      <th>0</th>\n",
              "      <td>【郭美美申请低保，居然获准通过！】郭美美对记者说，她其实就是一个失业人员，并不是大家想象的那...</td>\n",
              "      <td>7fcc7edetw1e6btq03senj20c80gawgs.jpg</td>\n",
              "      <td>0</td>\n",
              "    </tr>\n",
              "    <tr>\n",
              "      <th>1</th>\n",
              "      <td>【看病要付钱只有二十几个国家】中国工程院院士戴勀戎：“看病就得付钱。在我们这里好像天经地义。...</td>\n",
              "      <td>8d5c03a7jw1e6r4cc7x02j20by0c40tt.jpg</td>\n",
              "      <td>0</td>\n",
              "    </tr>\n",
              "    <tr>\n",
              "      <th>2</th>\n",
              "      <td>东北证券吉林公主岭营业部今天上午被愤怒的股民点燃.</td>\n",
              "      <td>3dc2ac30jw1dx457fr1owj.jpg</td>\n",
              "      <td>0</td>\n",
              "    </tr>\n",
              "    <tr>\n",
              "      <th>3</th>\n",
              "      <td>【交通新规】归纳汇总为以下八条，开车的朋友请留意。2013年1月1日开始执行。@于建嵘 @海...</td>\n",
              "      <td>96449d00jw1dyupdyukbkj.jpg</td>\n",
              "      <td>0</td>\n",
              "    </tr>\n",
              "    <tr>\n",
              "      <th>4</th>\n",
              "      <td>隐翅虫</td>\n",
              "      <td>5103ab97gw1dwmttofzfoj.jpg</td>\n",
              "      <td>0</td>\n",
              "    </tr>\n",
              "  </tbody>\n",
              "</table>\n",
              "</div>\n",
              "      <button class=\"colab-df-convert\" onclick=\"convertToInteractive('df-b848a05d-6384-47b9-bda5-7b848ac0532b')\"\n",
              "              title=\"Convert this dataframe to an interactive table.\"\n",
              "              style=\"display:none;\">\n",
              "        \n",
              "  <svg xmlns=\"http://www.w3.org/2000/svg\" height=\"24px\"viewBox=\"0 0 24 24\"\n",
              "       width=\"24px\">\n",
              "    <path d=\"M0 0h24v24H0V0z\" fill=\"none\"/>\n",
              "    <path d=\"M18.56 5.44l.94 2.06.94-2.06 2.06-.94-2.06-.94-.94-2.06-.94 2.06-2.06.94zm-11 1L8.5 8.5l.94-2.06 2.06-.94-2.06-.94L8.5 2.5l-.94 2.06-2.06.94zm10 10l.94 2.06.94-2.06 2.06-.94-2.06-.94-.94-2.06-.94 2.06-2.06.94z\"/><path d=\"M17.41 7.96l-1.37-1.37c-.4-.4-.92-.59-1.43-.59-.52 0-1.04.2-1.43.59L10.3 9.45l-7.72 7.72c-.78.78-.78 2.05 0 2.83L4 21.41c.39.39.9.59 1.41.59.51 0 1.02-.2 1.41-.59l7.78-7.78 2.81-2.81c.8-.78.8-2.07 0-2.86zM5.41 20L4 18.59l7.72-7.72 1.47 1.35L5.41 20z\"/>\n",
              "  </svg>\n",
              "      </button>\n",
              "      \n",
              "  <style>\n",
              "    .colab-df-container {\n",
              "      display:flex;\n",
              "      flex-wrap:wrap;\n",
              "      gap: 12px;\n",
              "    }\n",
              "\n",
              "    .colab-df-convert {\n",
              "      background-color: #E8F0FE;\n",
              "      border: none;\n",
              "      border-radius: 50%;\n",
              "      cursor: pointer;\n",
              "      display: none;\n",
              "      fill: #1967D2;\n",
              "      height: 32px;\n",
              "      padding: 0 0 0 0;\n",
              "      width: 32px;\n",
              "    }\n",
              "\n",
              "    .colab-df-convert:hover {\n",
              "      background-color: #E2EBFA;\n",
              "      box-shadow: 0px 1px 2px rgba(60, 64, 67, 0.3), 0px 1px 3px 1px rgba(60, 64, 67, 0.15);\n",
              "      fill: #174EA6;\n",
              "    }\n",
              "\n",
              "    [theme=dark] .colab-df-convert {\n",
              "      background-color: #3B4455;\n",
              "      fill: #D2E3FC;\n",
              "    }\n",
              "\n",
              "    [theme=dark] .colab-df-convert:hover {\n",
              "      background-color: #434B5C;\n",
              "      box-shadow: 0px 1px 3px 1px rgba(0, 0, 0, 0.15);\n",
              "      filter: drop-shadow(0px 1px 2px rgba(0, 0, 0, 0.3));\n",
              "      fill: #FFFFFF;\n",
              "    }\n",
              "  </style>\n",
              "\n",
              "      <script>\n",
              "        const buttonEl =\n",
              "          document.querySelector('#df-b848a05d-6384-47b9-bda5-7b848ac0532b button.colab-df-convert');\n",
              "        buttonEl.style.display =\n",
              "          google.colab.kernel.accessAllowed ? 'block' : 'none';\n",
              "\n",
              "        async function convertToInteractive(key) {\n",
              "          const element = document.querySelector('#df-b848a05d-6384-47b9-bda5-7b848ac0532b');\n",
              "          const dataTable =\n",
              "            await google.colab.kernel.invokeFunction('convertToInteractive',\n",
              "                                                     [key], {});\n",
              "          if (!dataTable) return;\n",
              "\n",
              "          const docLinkHtml = 'Like what you see? Visit the ' +\n",
              "            '<a target=\"_blank\" href=https://colab.research.google.com/notebooks/data_table.ipynb>data table notebook</a>'\n",
              "            + ' to learn more about interactive tables.';\n",
              "          element.innerHTML = '';\n",
              "          dataTable['output_type'] = 'display_data';\n",
              "          await google.colab.output.renderOutput(dataTable, element);\n",
              "          const docLink = document.createElement('div');\n",
              "          docLink.innerHTML = docLinkHtml;\n",
              "          element.appendChild(docLink);\n",
              "        }\n",
              "      </script>\n",
              "    </div>\n",
              "  </div>\n",
              "  "
            ]
          },
          "metadata": {},
          "execution_count": 35
        }
      ]
    },
    {
      "cell_type": "code",
      "source": [
        "IMAGE_DIR = '/content/images/images'"
      ],
      "metadata": {
        "id": "ahD6v47IARJg"
      },
      "execution_count": null,
      "outputs": []
    },
    {
      "cell_type": "code",
      "source": [
        "def find_image_from_name_in_dir(image_name, dir):\n",
        "  for name in glob.glob(dir+'/'+image_name):\n",
        "    return name"
      ],
      "metadata": {
        "id": "SdeKQu0n_idE"
      },
      "execution_count": null,
      "outputs": []
    },
    {
      "cell_type": "code",
      "source": [
        "def visualise(index, df):\n",
        "  path = IMAGE_DIR\n",
        "  text = df.loc[index]['tweetText']\n",
        "  image_path = find_image_from_name_in_dir(df.loc[index]['images_1'],path)\n",
        "  image = plt.imread(image_path)\n",
        "  plt.subplot(1, 1, 1)\n",
        "  #plt.title('债券收益率')\n",
        "  plt.title(text)\n",
        "  plt.imshow(image)"
      ],
      "metadata": {
        "id": "PNxH1eC7ABs3"
      },
      "execution_count": null,
      "outputs": []
    },
    {
      "cell_type": "markdown",
      "source": [
        "# Visualize random tweets"
      ],
      "metadata": {
        "id": "1J5in1av8imI"
      }
    },
    {
      "cell_type": "code",
      "source": [
        "indx = random.randint(0, len(train_df))\n",
        "print(indx)\n",
        "visualise(1, train_df)"
      ],
      "metadata": {
        "colab": {
          "base_uri": "https://localhost:8080/",
          "height": 430
        },
        "id": "66OH8hrWAYwT",
        "outputId": "75256f2f-3494-4d72-8964-4d8f8ff0276c"
      },
      "execution_count": null,
      "outputs": [
        {
          "output_type": "stream",
          "name": "stdout",
          "text": [
            "3433\n"
          ]
        },
        {
          "output_type": "display_data",
          "data": {
            "text/plain": [
              "<Figure size 640x480 with 1 Axes>"
            ],
            "image/png": "[encoded data removed]"
          },
          "metadata": {}
        }
      ]
    },
    {
      "cell_type": "code",
      "source": [
        "# Alternate dataframes for modeling\n",
        "train_df_model = train_df[['tweetText', 'images_1', 'label']]\n",
        "train_df_model['image_1'] = train_df_model['images_1'].apply(lambda x: find_image_from_name_in_dir(x, IMAGE_DIR))\n",
        "train_df_model = train_df_model.drop(['images_1'], axis=1)\n",
        "train_df_model.head(5)"
      ],
      "metadata": {
        "colab": {
          "base_uri": "https://localhost:8080/",
          "height": 206
        },
        "id": "3PGqgUbYAwe_",
        "outputId": "d1da161b-769c-49f2-a932-4cf1989f5d7c"
      },
      "execution_count": null,
      "outputs": [
        {
          "output_type": "execute_result",
          "data": {
            "text/plain": [
              "                                           tweetText  label  \\\n",
              "0  #娱眼碌碌#【王思聪街头激吻广州模特】王思聪的我的网红女友系列又更新了一集，跟以往不同，终于...      1   \n",
              "1  【外媒：农行副总裁杨琨欠澳门赌债30亿人民币 】据路透社报道，中国农业银行副总裁杨琨欠澳门赌...      0   \n",
              "2  我在看【寻人启示13759695559帮忙扩散!】，分享给你，快来看！ O寻人启示13759...      0   \n",
              "3       #求证# 据说第六套人民币增加1000，500，200面值，材质为塑料材质，类似于澳元。      0   \n",
              "4  #抗日战争胜利70周年9.3大阅兵#作为天津人！中国人！真要哭死了！真的已经无法当作新闻看了...      0   \n",
              "\n",
              "                                             image_1  \n",
              "0  /content/images/images/593bbc68gw1ezf3efr9yrj2...  \n",
              "1  /content/images/images/476b66c1jw1eoxdu4ypi8j2...  \n",
              "2  /content/images/images/005N4ZWdjw1enz4806r0lj3...  \n",
              "3  /content/images/images/715a7f5atw1e67kow32lyj2...  \n",
              "4  /content/images/images/4e253b85jw1ev1geqx5gaj2...  "
            ],
            "text/html": [
              "\n",
              "  <div id=\"df-49c8aacb-06af-4385-b353-b53862522ca8\">\n",
              "    <div class=\"colab-df-container\">\n",
              "      <div>\n",
              "<style scoped>\n",
              "    .dataframe tbody tr th:only-of-type {\n",
              "        vertical-align: middle;\n",
              "    }\n",
              "\n",
              "    .dataframe tbody tr th {\n",
              "        vertical-align: top;\n",
              "    }\n",
              "\n",
              "    .dataframe thead th {\n",
              "        text-align: right;\n",
              "    }\n",
              "</style>\n",
              "<table border=\"1\" class=\"dataframe\">\n",
              "  <thead>\n",
              "    <tr style=\"text-align: right;\">\n",
              "      <th></th>\n",
              "      <th>tweetText</th>\n",
              "      <th>label</th>\n",
              "      <th>image_1</th>\n",
              "    </tr>\n",
              "  </thead>\n",
              "  <tbody>\n",
              "    <tr>\n",
              "      <th>0</th>\n",
              "      <td>#娱眼碌碌#【王思聪街头激吻广州模特】王思聪的我的网红女友系列又更新了一集，跟以往不同，终于...</td>\n",
              "      <td>1</td>\n",
              "      <td>/content/images/images/593bbc68gw1ezf3efr9yrj2...</td>\n",
              "    </tr>\n",
              "    <tr>\n",
              "      <th>1</th>\n",
              "      <td>【外媒：农行副总裁杨琨欠澳门赌债30亿人民币 】据路透社报道，中国农业银行副总裁杨琨欠澳门赌...</td>\n",
              "      <td>0</td>\n",
              "      <td>/content/images/images/476b66c1jw1eoxdu4ypi8j2...</td>\n",
              "    </tr>\n",
              "    <tr>\n",
              "      <th>2</th>\n",
              "      <td>我在看【寻人启示13759695559帮忙扩散!】，分享给你，快来看！ O寻人启示13759...</td>\n",
              "      <td>0</td>\n",
              "      <td>/content/images/images/005N4ZWdjw1enz4806r0lj3...</td>\n",
              "    </tr>\n",
              "    <tr>\n",
              "      <th>3</th>\n",
              "      <td>#求证# 据说第六套人民币增加1000，500，200面值，材质为塑料材质，类似于澳元。</td>\n",
              "      <td>0</td>\n",
              "      <td>/content/images/images/715a7f5atw1e67kow32lyj2...</td>\n",
              "    </tr>\n",
              "    <tr>\n",
              "      <th>4</th>\n",
              "      <td>#抗日战争胜利70周年9.3大阅兵#作为天津人！中国人！真要哭死了！真的已经无法当作新闻看了...</td>\n",
              "      <td>0</td>\n",
              "      <td>/content/images/images/4e253b85jw1ev1geqx5gaj2...</td>\n",
              "    </tr>\n",
              "  </tbody>\n",
              "</table>\n",
              "</div>\n",
              "      <button class=\"colab-df-convert\" onclick=\"convertToInteractive('df-49c8aacb-06af-4385-b353-b53862522ca8')\"\n",
              "              title=\"Convert this dataframe to an interactive table.\"\n",
              "              style=\"display:none;\">\n",
              "        \n",
              "  <svg xmlns=\"http://www.w3.org/2000/svg\" height=\"24px\"viewBox=\"0 0 24 24\"\n",
              "       width=\"24px\">\n",
              "    <path d=\"M0 0h24v24H0V0z\" fill=\"none\"/>\n",
              "    <path d=\"M18.56 5.44l.94 2.06.94-2.06 2.06-.94-2.06-.94-.94-2.06-.94 2.06-2.06.94zm-11 1L8.5 8.5l.94-2.06 2.06-.94-2.06-.94L8.5 2.5l-.94 2.06-2.06.94zm10 10l.94 2.06.94-2.06 2.06-.94-2.06-.94-.94-2.06-.94 2.06-2.06.94z\"/><path d=\"M17.41 7.96l-1.37-1.37c-.4-.4-.92-.59-1.43-.59-.52 0-1.04.2-1.43.59L10.3 9.45l-7.72 7.72c-.78.78-.78 2.05 0 2.83L4 21.41c.39.39.9.59 1.41.59.51 0 1.02-.2 1.41-.59l7.78-7.78 2.81-2.81c.8-.78.8-2.07 0-2.86zM5.41 20L4 18.59l7.72-7.72 1.47 1.35L5.41 20z\"/>\n",
              "  </svg>\n",
              "      </button>\n",
              "      \n",
              "  <style>\n",
              "    .colab-df-container {\n",
              "      display:flex;\n",
              "      flex-wrap:wrap;\n",
              "      gap: 12px;\n",
              "    }\n",
              "\n",
              "    .colab-df-convert {\n",
              "      background-color: #E8F0FE;\n",
              "      border: none;\n",
              "      border-radius: 50%;\n",
              "      cursor: pointer;\n",
              "      display: none;\n",
              "      fill: #1967D2;\n",
              "      height: 32px;\n",
              "      padding: 0 0 0 0;\n",
              "      width: 32px;\n",
              "    }\n",
              "\n",
              "    .colab-df-convert:hover {\n",
              "      background-color: #E2EBFA;\n",
              "      box-shadow: 0px 1px 2px rgba(60, 64, 67, 0.3), 0px 1px 3px 1px rgba(60, 64, 67, 0.15);\n",
              "      fill: #174EA6;\n",
              "    }\n",
              "\n",
              "    [theme=dark] .colab-df-convert {\n",
              "      background-color: #3B4455;\n",
              "      fill: #D2E3FC;\n",
              "    }\n",
              "\n",
              "    [theme=dark] .colab-df-convert:hover {\n",
              "      background-color: #434B5C;\n",
              "      box-shadow: 0px 1px 3px 1px rgba(0, 0, 0, 0.15);\n",
              "      filter: drop-shadow(0px 1px 2px rgba(0, 0, 0, 0.3));\n",
              "      fill: #FFFFFF;\n",
              "    }\n",
              "  </style>\n",
              "\n",
              "      <script>\n",
              "        const buttonEl =\n",
              "          document.querySelector('#df-49c8aacb-06af-4385-b353-b53862522ca8 button.colab-df-convert');\n",
              "        buttonEl.style.display =\n",
              "          google.colab.kernel.accessAllowed ? 'block' : 'none';\n",
              "\n",
              "        async function convertToInteractive(key) {\n",
              "          const element = document.querySelector('#df-49c8aacb-06af-4385-b353-b53862522ca8');\n",
              "          const dataTable =\n",
              "            await google.colab.kernel.invokeFunction('convertToInteractive',\n",
              "                                                     [key], {});\n",
              "          if (!dataTable) return;\n",
              "\n",
              "          const docLinkHtml = 'Like what you see? Visit the ' +\n",
              "            '<a target=\"_blank\" href=https://colab.research.google.com/notebooks/data_table.ipynb>data table notebook</a>'\n",
              "            + ' to learn more about interactive tables.';\n",
              "          element.innerHTML = '';\n",
              "          dataTable['output_type'] = 'display_data';\n",
              "          await google.colab.output.renderOutput(dataTable, element);\n",
              "          const docLink = document.createElement('div');\n",
              "          docLink.innerHTML = docLinkHtml;\n",
              "          element.appendChild(docLink);\n",
              "        }\n",
              "      </script>\n",
              "    </div>\n",
              "  </div>\n",
              "  "
            ]
          },
          "metadata": {},
          "execution_count": 41
        }
      ]
    },
    {
      "cell_type": "code",
      "source": [
        "# Check to make sure all the first_image_id are tied with a path\n",
        "train_df_model[train_df_model['image_1'].isnull()]"
      ],
      "metadata": {
        "colab": {
          "base_uri": "https://localhost:8080/",
          "height": 49
        },
        "id": "yGVTr6f4Dprr",
        "outputId": "309074ea-a6a6-4bfd-c90a-a945072f056f"
      },
      "execution_count": null,
      "outputs": [
        {
          "output_type": "execute_result",
          "data": {
            "text/plain": [
              "Empty DataFrame\n",
              "Columns: [tweetText, label, image_1]\n",
              "Index: []"
            ],
            "text/html": [
              "\n",
              "  <div id=\"df-2f40733f-a36a-47f6-80d2-07251804fc35\">\n",
              "    <div class=\"colab-df-container\">\n",
              "      <div>\n",
              "<style scoped>\n",
              "    .dataframe tbody tr th:only-of-type {\n",
              "        vertical-align: middle;\n",
              "    }\n",
              "\n",
              "    .dataframe tbody tr th {\n",
              "        vertical-align: top;\n",
              "    }\n",
              "\n",
              "    .dataframe thead th {\n",
              "        text-align: right;\n",
              "    }\n",
              "</style>\n",
              "<table border=\"1\" class=\"dataframe\">\n",
              "  <thead>\n",
              "    <tr style=\"text-align: right;\">\n",
              "      <th></th>\n",
              "      <th>tweetText</th>\n",
              "      <th>label</th>\n",
              "      <th>image_1</th>\n",
              "    </tr>\n",
              "  </thead>\n",
              "  <tbody>\n",
              "  </tbody>\n",
              "</table>\n",
              "</div>\n",
              "      <button class=\"colab-df-convert\" onclick=\"convertToInteractive('df-2f40733f-a36a-47f6-80d2-07251804fc35')\"\n",
              "              title=\"Convert this dataframe to an interactive table.\"\n",
              "              style=\"display:none;\">\n",
              "        \n",
              "  <svg xmlns=\"http://www.w3.org/2000/svg\" height=\"24px\"viewBox=\"0 0 24 24\"\n",
              "       width=\"24px\">\n",
              "    <path d=\"M0 0h24v24H0V0z\" fill=\"none\"/>\n",
              "    <path d=\"M18.56 5.44l.94 2.06.94-2.06 2.06-.94-2.06-.94-.94-2.06-.94 2.06-2.06.94zm-11 1L8.5 8.5l.94-2.06 2.06-.94-2.06-.94L8.5 2.5l-.94 2.06-2.06.94zm10 10l.94 2.06.94-2.06 2.06-.94-2.06-.94-.94-2.06-.94 2.06-2.06.94z\"/><path d=\"M17.41 7.96l-1.37-1.37c-.4-.4-.92-.59-1.43-.59-.52 0-1.04.2-1.43.59L10.3 9.45l-7.72 7.72c-.78.78-.78 2.05 0 2.83L4 21.41c.39.39.9.59 1.41.59.51 0 1.02-.2 1.41-.59l7.78-7.78 2.81-2.81c.8-.78.8-2.07 0-2.86zM5.41 20L4 18.59l7.72-7.72 1.47 1.35L5.41 20z\"/>\n",
              "  </svg>\n",
              "      </button>\n",
              "      \n",
              "  <style>\n",
              "    .colab-df-container {\n",
              "      display:flex;\n",
              "      flex-wrap:wrap;\n",
              "      gap: 12px;\n",
              "    }\n",
              "\n",
              "    .colab-df-convert {\n",
              "      background-color: #E8F0FE;\n",
              "      border: none;\n",
              "      border-radius: 50%;\n",
              "      cursor: pointer;\n",
              "      display: none;\n",
              "      fill: #1967D2;\n",
              "      height: 32px;\n",
              "      padding: 0 0 0 0;\n",
              "      width: 32px;\n",
              "    }\n",
              "\n",
              "    .colab-df-convert:hover {\n",
              "      background-color: #E2EBFA;\n",
              "      box-shadow: 0px 1px 2px rgba(60, 64, 67, 0.3), 0px 1px 3px 1px rgba(60, 64, 67, 0.15);\n",
              "      fill: #174EA6;\n",
              "    }\n",
              "\n",
              "    [theme=dark] .colab-df-convert {\n",
              "      background-color: #3B4455;\n",
              "      fill: #D2E3FC;\n",
              "    }\n",
              "\n",
              "    [theme=dark] .colab-df-convert:hover {\n",
              "      background-color: #434B5C;\n",
              "      box-shadow: 0px 1px 3px 1px rgba(0, 0, 0, 0.15);\n",
              "      filter: drop-shadow(0px 1px 2px rgba(0, 0, 0, 0.3));\n",
              "      fill: #FFFFFF;\n",
              "    }\n",
              "  </style>\n",
              "\n",
              "      <script>\n",
              "        const buttonEl =\n",
              "          document.querySelector('#df-2f40733f-a36a-47f6-80d2-07251804fc35 button.colab-df-convert');\n",
              "        buttonEl.style.display =\n",
              "          google.colab.kernel.accessAllowed ? 'block' : 'none';\n",
              "\n",
              "        async function convertToInteractive(key) {\n",
              "          const element = document.querySelector('#df-2f40733f-a36a-47f6-80d2-07251804fc35');\n",
              "          const dataTable =\n",
              "            await google.colab.kernel.invokeFunction('convertToInteractive',\n",
              "                                                     [key], {});\n",
              "          if (!dataTable) return;\n",
              "\n",
              "          const docLinkHtml = 'Like what you see? Visit the ' +\n",
              "            '<a target=\"_blank\" href=https://colab.research.google.com/notebooks/data_table.ipynb>data table notebook</a>'\n",
              "            + ' to learn more about interactive tables.';\n",
              "          element.innerHTML = '';\n",
              "          dataTable['output_type'] = 'display_data';\n",
              "          await google.colab.output.renderOutput(dataTable, element);\n",
              "          const docLink = document.createElement('div');\n",
              "          docLink.innerHTML = docLinkHtml;\n",
              "          element.appendChild(docLink);\n",
              "        }\n",
              "      </script>\n",
              "    </div>\n",
              "  </div>\n",
              "  "
            ]
          },
          "metadata": {},
          "execution_count": 42
        }
      ]
    },
    {
      "cell_type": "code",
      "source": [
        "test_df_model = test_df[['tweetText', 'images_1', 'label']]\n",
        "test_df_model['image_1'] = test_df_model['images_1'].apply(lambda x: find_image_from_name_in_dir(x, IMAGE_DIR))\n",
        "test_df_model = test_df_model.drop(['images_1'], axis=1)\n",
        "test_df_model.head(5)"
      ],
      "metadata": {
        "colab": {
          "base_uri": "https://localhost:8080/",
          "height": 206
        },
        "id": "qnCLauJWFwIZ",
        "outputId": "4635bdc7-544f-4e54-ff55-698b5871e0a5"
      },
      "execution_count": null,
      "outputs": [
        {
          "output_type": "execute_result",
          "data": {
            "text/plain": [
              "                                           tweetText  label  \\\n",
              "0  【郭美美申请低保，居然获准通过！】郭美美对记者说，她其实就是一个失业人员，并不是大家想象的那...      0   \n",
              "1  【看病要付钱只有二十几个国家】中国工程院院士戴勀戎：“看病就得付钱。在我们这里好像天经地义。...      0   \n",
              "2                          东北证券吉林公主岭营业部今天上午被愤怒的股民点燃.      0   \n",
              "3  【交通新规】归纳汇总为以下八条，开车的朋友请留意。2013年1月1日开始执行。@于建嵘 @海...      0   \n",
              "4                                                隐翅虫      0   \n",
              "\n",
              "                                             image_1  \n",
              "0  /content/images/images/7fcc7edetw1e6btq03senj2...  \n",
              "1  /content/images/images/8d5c03a7jw1e6r4cc7x02j2...  \n",
              "2  /content/images/images/3dc2ac30jw1dx457fr1owj.jpg  \n",
              "3  /content/images/images/96449d00jw1dyupdyukbkj.jpg  \n",
              "4  /content/images/images/5103ab97gw1dwmttofzfoj.jpg  "
            ],
            "text/html": [
              "\n",
              "  <div id=\"df-7f5f901e-2cc9-4a20-9ce5-928b8c1c2d38\">\n",
              "    <div class=\"colab-df-container\">\n",
              "      <div>\n",
              "<style scoped>\n",
              "    .dataframe tbody tr th:only-of-type {\n",
              "        vertical-align: middle;\n",
              "    }\n",
              "\n",
              "    .dataframe tbody tr th {\n",
              "        vertical-align: top;\n",
              "    }\n",
              "\n",
              "    .dataframe thead th {\n",
              "        text-align: right;\n",
              "    }\n",
              "</style>\n",
              "<table border=\"1\" class=\"dataframe\">\n",
              "  <thead>\n",
              "    <tr style=\"text-align: right;\">\n",
              "      <th></th>\n",
              "      <th>tweetText</th>\n",
              "      <th>label</th>\n",
              "      <th>image_1</th>\n",
              "    </tr>\n",
              "  </thead>\n",
              "  <tbody>\n",
              "    <tr>\n",
              "      <th>0</th>\n",
              "      <td>【郭美美申请低保，居然获准通过！】郭美美对记者说，她其实就是一个失业人员，并不是大家想象的那...</td>\n",
              "      <td>0</td>\n",
              "      <td>/content/images/images/7fcc7edetw1e6btq03senj2...</td>\n",
              "    </tr>\n",
              "    <tr>\n",
              "      <th>1</th>\n",
              "      <td>【看病要付钱只有二十几个国家】中国工程院院士戴勀戎：“看病就得付钱。在我们这里好像天经地义。...</td>\n",
              "      <td>0</td>\n",
              "      <td>/content/images/images/8d5c03a7jw1e6r4cc7x02j2...</td>\n",
              "    </tr>\n",
              "    <tr>\n",
              "      <th>2</th>\n",
              "      <td>东北证券吉林公主岭营业部今天上午被愤怒的股民点燃.</td>\n",
              "      <td>0</td>\n",
              "      <td>/content/images/images/3dc2ac30jw1dx457fr1owj.jpg</td>\n",
              "    </tr>\n",
              "    <tr>\n",
              "      <th>3</th>\n",
              "      <td>【交通新规】归纳汇总为以下八条，开车的朋友请留意。2013年1月1日开始执行。@于建嵘 @海...</td>\n",
              "      <td>0</td>\n",
              "      <td>/content/images/images/96449d00jw1dyupdyukbkj.jpg</td>\n",
              "    </tr>\n",
              "    <tr>\n",
              "      <th>4</th>\n",
              "      <td>隐翅虫</td>\n",
              "      <td>0</td>\n",
              "      <td>/content/images/images/5103ab97gw1dwmttofzfoj.jpg</td>\n",
              "    </tr>\n",
              "  </tbody>\n",
              "</table>\n",
              "</div>\n",
              "      <button class=\"colab-df-convert\" onclick=\"convertToInteractive('df-7f5f901e-2cc9-4a20-9ce5-928b8c1c2d38')\"\n",
              "              title=\"Convert this dataframe to an interactive table.\"\n",
              "              style=\"display:none;\">\n",
              "        \n",
              "  <svg xmlns=\"http://www.w3.org/2000/svg\" height=\"24px\"viewBox=\"0 0 24 24\"\n",
              "       width=\"24px\">\n",
              "    <path d=\"M0 0h24v24H0V0z\" fill=\"none\"/>\n",
              "    <path d=\"M18.56 5.44l.94 2.06.94-2.06 2.06-.94-2.06-.94-.94-2.06-.94 2.06-2.06.94zm-11 1L8.5 8.5l.94-2.06 2.06-.94-2.06-.94L8.5 2.5l-.94 2.06-2.06.94zm10 10l.94 2.06.94-2.06 2.06-.94-2.06-.94-.94-2.06-.94 2.06-2.06.94z\"/><path d=\"M17.41 7.96l-1.37-1.37c-.4-.4-.92-.59-1.43-.59-.52 0-1.04.2-1.43.59L10.3 9.45l-7.72 7.72c-.78.78-.78 2.05 0 2.83L4 21.41c.39.39.9.59 1.41.59.51 0 1.02-.2 1.41-.59l7.78-7.78 2.81-2.81c.8-.78.8-2.07 0-2.86zM5.41 20L4 18.59l7.72-7.72 1.47 1.35L5.41 20z\"/>\n",
              "  </svg>\n",
              "      </button>\n",
              "      \n",
              "  <style>\n",
              "    .colab-df-container {\n",
              "      display:flex;\n",
              "      flex-wrap:wrap;\n",
              "      gap: 12px;\n",
              "    }\n",
              "\n",
              "    .colab-df-convert {\n",
              "      background-color: #E8F0FE;\n",
              "      border: none;\n",
              "      border-radius: 50%;\n",
              "      cursor: pointer;\n",
              "      display: none;\n",
              "      fill: #1967D2;\n",
              "      height: 32px;\n",
              "      padding: 0 0 0 0;\n",
              "      width: 32px;\n",
              "    }\n",
              "\n",
              "    .colab-df-convert:hover {\n",
              "      background-color: #E2EBFA;\n",
              "      box-shadow: 0px 1px 2px rgba(60, 64, 67, 0.3), 0px 1px 3px 1px rgba(60, 64, 67, 0.15);\n",
              "      fill: #174EA6;\n",
              "    }\n",
              "\n",
              "    [theme=dark] .colab-df-convert {\n",
              "      background-color: #3B4455;\n",
              "      fill: #D2E3FC;\n",
              "    }\n",
              "\n",
              "    [theme=dark] .colab-df-convert:hover {\n",
              "      background-color: #434B5C;\n",
              "      box-shadow: 0px 1px 3px 1px rgba(0, 0, 0, 0.15);\n",
              "      filter: drop-shadow(0px 1px 2px rgba(0, 0, 0, 0.3));\n",
              "      fill: #FFFFFF;\n",
              "    }\n",
              "  </style>\n",
              "\n",
              "      <script>\n",
              "        const buttonEl =\n",
              "          document.querySelector('#df-7f5f901e-2cc9-4a20-9ce5-928b8c1c2d38 button.colab-df-convert');\n",
              "        buttonEl.style.display =\n",
              "          google.colab.kernel.accessAllowed ? 'block' : 'none';\n",
              "\n",
              "        async function convertToInteractive(key) {\n",
              "          const element = document.querySelector('#df-7f5f901e-2cc9-4a20-9ce5-928b8c1c2d38');\n",
              "          const dataTable =\n",
              "            await google.colab.kernel.invokeFunction('convertToInteractive',\n",
              "                                                     [key], {});\n",
              "          if (!dataTable) return;\n",
              "\n",
              "          const docLinkHtml = 'Like what you see? Visit the ' +\n",
              "            '<a target=\"_blank\" href=https://colab.research.google.com/notebooks/data_table.ipynb>data table notebook</a>'\n",
              "            + ' to learn more about interactive tables.';\n",
              "          element.innerHTML = '';\n",
              "          dataTable['output_type'] = 'display_data';\n",
              "          await google.colab.output.renderOutput(dataTable, element);\n",
              "          const docLink = document.createElement('div');\n",
              "          docLink.innerHTML = docLinkHtml;\n",
              "          element.appendChild(docLink);\n",
              "        }\n",
              "      </script>\n",
              "    </div>\n",
              "  </div>\n",
              "  "
            ]
          },
          "metadata": {},
          "execution_count": 43
        }
      ]
    },
    {
      "cell_type": "code",
      "source": [
        "# Check to make sure all the first_image_id are tied with a path\n",
        "test_df_model[test_df_model['image_1'].isnull()]"
      ],
      "metadata": {
        "colab": {
          "base_uri": "https://localhost:8080/",
          "height": 49
        },
        "id": "0Y7mXIqtF_bE",
        "outputId": "b332f22d-9fba-4935-9f55-a3bcf4d10b39"
      },
      "execution_count": null,
      "outputs": [
        {
          "output_type": "execute_result",
          "data": {
            "text/plain": [
              "Empty DataFrame\n",
              "Columns: [tweetText, label, image_1]\n",
              "Index: []"
            ],
            "text/html": [
              "\n",
              "  <div id=\"df-487d4f8a-c2c3-4ca2-a31f-e6d11699023c\">\n",
              "    <div class=\"colab-df-container\">\n",
              "      <div>\n",
              "<style scoped>\n",
              "    .dataframe tbody tr th:only-of-type {\n",
              "        vertical-align: middle;\n",
              "    }\n",
              "\n",
              "    .dataframe tbody tr th {\n",
              "        vertical-align: top;\n",
              "    }\n",
              "\n",
              "    .dataframe thead th {\n",
              "        text-align: right;\n",
              "    }\n",
              "</style>\n",
              "<table border=\"1\" class=\"dataframe\">\n",
              "  <thead>\n",
              "    <tr style=\"text-align: right;\">\n",
              "      <th></th>\n",
              "      <th>tweetText</th>\n",
              "      <th>label</th>\n",
              "      <th>image_1</th>\n",
              "    </tr>\n",
              "  </thead>\n",
              "  <tbody>\n",
              "  </tbody>\n",
              "</table>\n",
              "</div>\n",
              "      <button class=\"colab-df-convert\" onclick=\"convertToInteractive('df-487d4f8a-c2c3-4ca2-a31f-e6d11699023c')\"\n",
              "              title=\"Convert this dataframe to an interactive table.\"\n",
              "              style=\"display:none;\">\n",
              "        \n",
              "  <svg xmlns=\"http://www.w3.org/2000/svg\" height=\"24px\"viewBox=\"0 0 24 24\"\n",
              "       width=\"24px\">\n",
              "    <path d=\"M0 0h24v24H0V0z\" fill=\"none\"/>\n",
              "    <path d=\"M18.56 5.44l.94 2.06.94-2.06 2.06-.94-2.06-.94-.94-2.06-.94 2.06-2.06.94zm-11 1L8.5 8.5l.94-2.06 2.06-.94-2.06-.94L8.5 2.5l-.94 2.06-2.06.94zm10 10l.94 2.06.94-2.06 2.06-.94-2.06-.94-.94-2.06-.94 2.06-2.06.94z\"/><path d=\"M17.41 7.96l-1.37-1.37c-.4-.4-.92-.59-1.43-.59-.52 0-1.04.2-1.43.59L10.3 9.45l-7.72 7.72c-.78.78-.78 2.05 0 2.83L4 21.41c.39.39.9.59 1.41.59.51 0 1.02-.2 1.41-.59l7.78-7.78 2.81-2.81c.8-.78.8-2.07 0-2.86zM5.41 20L4 18.59l7.72-7.72 1.47 1.35L5.41 20z\"/>\n",
              "  </svg>\n",
              "      </button>\n",
              "      \n",
              "  <style>\n",
              "    .colab-df-container {\n",
              "      display:flex;\n",
              "      flex-wrap:wrap;\n",
              "      gap: 12px;\n",
              "    }\n",
              "\n",
              "    .colab-df-convert {\n",
              "      background-color: #E8F0FE;\n",
              "      border: none;\n",
              "      border-radius: 50%;\n",
              "      cursor: pointer;\n",
              "      display: none;\n",
              "      fill: #1967D2;\n",
              "      height: 32px;\n",
              "      padding: 0 0 0 0;\n",
              "      width: 32px;\n",
              "    }\n",
              "\n",
              "    .colab-df-convert:hover {\n",
              "      background-color: #E2EBFA;\n",
              "      box-shadow: 0px 1px 2px rgba(60, 64, 67, 0.3), 0px 1px 3px 1px rgba(60, 64, 67, 0.15);\n",
              "      fill: #174EA6;\n",
              "    }\n",
              "\n",
              "    [theme=dark] .colab-df-convert {\n",
              "      background-color: #3B4455;\n",
              "      fill: #D2E3FC;\n",
              "    }\n",
              "\n",
              "    [theme=dark] .colab-df-convert:hover {\n",
              "      background-color: #434B5C;\n",
              "      box-shadow: 0px 1px 3px 1px rgba(0, 0, 0, 0.15);\n",
              "      filter: drop-shadow(0px 1px 2px rgba(0, 0, 0, 0.3));\n",
              "      fill: #FFFFFF;\n",
              "    }\n",
              "  </style>\n",
              "\n",
              "      <script>\n",
              "        const buttonEl =\n",
              "          document.querySelector('#df-487d4f8a-c2c3-4ca2-a31f-e6d11699023c button.colab-df-convert');\n",
              "        buttonEl.style.display =\n",
              "          google.colab.kernel.accessAllowed ? 'block' : 'none';\n",
              "\n",
              "        async function convertToInteractive(key) {\n",
              "          const element = document.querySelector('#df-487d4f8a-c2c3-4ca2-a31f-e6d11699023c');\n",
              "          const dataTable =\n",
              "            await google.colab.kernel.invokeFunction('convertToInteractive',\n",
              "                                                     [key], {});\n",
              "          if (!dataTable) return;\n",
              "\n",
              "          const docLinkHtml = 'Like what you see? Visit the ' +\n",
              "            '<a target=\"_blank\" href=https://colab.research.google.com/notebooks/data_table.ipynb>data table notebook</a>'\n",
              "            + ' to learn more about interactive tables.';\n",
              "          element.innerHTML = '';\n",
              "          dataTable['output_type'] = 'display_data';\n",
              "          await google.colab.output.renderOutput(dataTable, element);\n",
              "          const docLink = document.createElement('div');\n",
              "          docLink.innerHTML = docLinkHtml;\n",
              "          element.appendChild(docLink);\n",
              "        }\n",
              "      </script>\n",
              "    </div>\n",
              "  </div>\n",
              "  "
            ]
          },
          "metadata": {},
          "execution_count": 44
        }
      ]
    },
    {
      "cell_type": "code",
      "source": [
        "train_df_model['label'].value_counts()"
      ],
      "metadata": {
        "colab": {
          "base_uri": "https://localhost:8080/"
        },
        "id": "j8uIBZViGD2G",
        "outputId": "5890afc6-c8ef-4a2f-f371-a62ba5a4d5f2"
      },
      "execution_count": null,
      "outputs": [
        {
          "output_type": "execute_result",
          "data": {
            "text/plain": [
              "0    3345\n",
              "1     795\n",
              "Name: label, dtype: int64"
            ]
          },
          "metadata": {},
          "execution_count": 45
        }
      ]
    },
    {
      "cell_type": "code",
      "source": [
        "test_df_model['label'].value_counts()"
      ],
      "metadata": {
        "colab": {
          "base_uri": "https://localhost:8080/"
        },
        "id": "77_yuTFyGIJO",
        "outputId": "d4f83fc3-9786-46bd-96b9-49c069c53bba"
      },
      "execution_count": null,
      "outputs": [
        {
          "output_type": "execute_result",
          "data": {
            "text/plain": [
              "0    862\n",
              "1    262\n",
              "Name: label, dtype: int64"
            ]
          },
          "metadata": {},
          "execution_count": 46
        }
      ]
    },
    {
      "cell_type": "markdown",
      "source": [
        "### Save the dataframes for faster access"
      ],
      "metadata": {
        "id": "w0QG3RYMUAwU"
      }
    },
    {
      "cell_type": "code",
      "source": [
        "#Save training df\n",
        "train_df_model.to_pickle(BASE_SAVE_LOCATION+\"/weibo-train.pickle\")\n",
        "#Save testing df\n",
        "test_df_model.to_pickle(BASE_SAVE_LOCATION+\"/weibo-test.pickle\")"
      ],
      "metadata": {
        "id": "s5sZDtqZGK1E"
      },
      "execution_count": null,
      "outputs": []
    },
    {
      "cell_type": "markdown",
      "source": [
        "## Load the dataframes"
      ],
      "metadata": {
        "id": "TKusTHhYWBlz"
      }
    },
    {
      "cell_type": "code",
      "source": [
        "#Load training df\n",
        "train_df_model = pd.read_pickle(BASE_SAVE_LOCATION+\"/weibo-train.pickle\")\n",
        "#Load testing df\n",
        "test_df_model = pd.read_pickle(BASE_SAVE_LOCATION+\"/weibo-test.pickle\")\n",
        "print(train_df_model.shape, test_df_model.shape)"
      ],
      "metadata": {
        "colab": {
          "base_uri": "https://localhost:8080/"
        },
        "id": "Y5Vn5bc6GWAq",
        "outputId": "cecb603e-42c3-46d2-90dd-f40cd564b01c"
      },
      "execution_count": 11,
      "outputs": [
        {
          "output_type": "stream",
          "name": "stdout",
          "text": [
            "(4140, 3) (1124, 3)\n"
          ]
        }
      ]
    },
    {
      "cell_type": "code",
      "source": [
        "# This is for Talos as it doesn't take TF DataSet as input\n",
        "X_train = train_df_model.copy()\n",
        "y_train = X_train.pop('label')\n",
        "\n",
        "X_test = test_df_model.copy()\n",
        "y_test = X_test.pop('label')"
      ],
      "metadata": {
        "id": "g3iaPhB7gqdq"
      },
      "execution_count": 12,
      "outputs": []
    },
    {
      "cell_type": "markdown",
      "source": [
        "# Data input pipeline"
      ],
      "metadata": {
        "id": "cCuEsRz4CIdR"
      }
    },
    {
      "cell_type": "code",
      "source": [
        "# Define TF Hub paths to the BERT encoder and its preprocessor\n",
        "bert_model_path = (\n",
        "    \"https://tfhub.dev/tensorflow/bert_zh_L-12_H-768_A-12/4\"\n",
        ")\n",
        "bert_preprocess_path = \"https://tfhub.dev/tensorflow/bert_zh_preprocess/3\""
      ],
      "metadata": {
        "id": "sjc2FLKhBfbj"
      },
      "execution_count": 13,
      "outputs": []
    },
    {
      "cell_type": "code",
      "source": [
        "def make_bert_preprocessing_model(sentence_features, seq_length=128):\n",
        "    \"\"\"Returns Model mapping string features to BERT inputs.\n",
        "\n",
        "  Args:\n",
        "    sentence_features: A list with the names of string-valued features.\n",
        "    seq_length: An integer that defines the sequence length of BERT inputs.\n",
        "\n",
        "  Returns:\n",
        "    A Keras Model that can be called on a list or dict of string Tensors\n",
        "    (with the order or names, resp., given by sentence_features) and\n",
        "    returns a dict of tensors for input to BERT.\n",
        "  \"\"\"\n",
        "\n",
        "    input_segments = [\n",
        "        tf.keras.layers.Input(shape=(), dtype=tf.string, name=ft)\n",
        "        for ft in sentence_features\n",
        "    ]\n",
        "\n",
        "    # Tokenize the text to word pieces.\n",
        "    bert_preprocess = hub.load(bert_preprocess_path)\n",
        "    tokenizer = hub.KerasLayer(bert_preprocess.tokenize, name=\"tokenizer\")\n",
        "    segments = [tokenizer(s) for s in input_segments]\n",
        "\n",
        "    # Optional: Trim segments in a smart way to fit seq_length.\n",
        "    # Simple cases (like this example) can skip this step and let\n",
        "    # the next step apply a default truncation to approximately equal lengths.\n",
        "    truncated_segments = segments\n",
        "\n",
        "    # Pack inputs. The details (start/end token ids, dict of output tensors)\n",
        "    # are model-dependent, so this gets loaded from the SavedModel.\n",
        "    packer = hub.KerasLayer(\n",
        "        bert_preprocess.bert_pack_inputs,\n",
        "        arguments=dict(seq_length=seq_length),\n",
        "        name=\"packer\",\n",
        "    )\n",
        "    model_inputs = packer(truncated_segments)\n",
        "    return keras.Model(input_segments, model_inputs)\n"
      ],
      "metadata": {
        "id": "uZzOdgKYInBJ"
      },
      "execution_count": 14,
      "outputs": []
    },
    {
      "cell_type": "code",
      "source": [
        "bert_preprocess_model = make_bert_preprocessing_model([\"text_1\"], 224)\n",
        "bert_preprocess_model.summary()"
      ],
      "metadata": {
        "colab": {
          "base_uri": "https://localhost:8080/"
        },
        "id": "vqW4X6onJQKQ",
        "outputId": "bfb2b99d-808b-4c3d-f210-e35ea2ea1ef1"
      },
      "execution_count": 15,
      "outputs": [
        {
          "output_type": "stream",
          "name": "stdout",
          "text": [
            "Model: \"model\"\n",
            "_________________________________________________________________\n",
            " Layer (type)                Output Shape              Param #   \n",
            "=================================================================\n",
            " text_1 (InputLayer)         [(None,)]                 0         \n",
            "                                                                 \n",
            " tokenizer (KerasLayer)      (None, None, None)        0         \n",
            "                                                                 \n",
            " packer (KerasLayer)         {'input_word_ids': (None  0         \n",
            "                             , 224),                             \n",
            "                              'input_mask': (None, 22            \n",
            "                             4),                                 \n",
            "                              'input_type_ids': (None            \n",
            "                             , 224)}                             \n",
            "                                                                 \n",
            "=================================================================\n",
            "Total params: 0\n",
            "Trainable params: 0\n",
            "Non-trainable params: 0\n",
            "_________________________________________________________________\n"
          ]
        }
      ]
    },
    {
      "cell_type": "code",
      "source": [
        "idx = np.random.choice(len(train_df_model))\n",
        "row = train_df_model.iloc[idx]\n",
        "sample_text_1, sample_text_2 = row[\"tweetText\"], row[\"tweetText\"]\n",
        "print(f\"Text 1: {sample_text_1}\")\n",
        "print(f\"Text 2: {sample_text_2}\")\n",
        "\n",
        "test_text = [np.array([sample_text_1])]\n",
        "text_preprocessed = bert_preprocess_model(test_text)\n",
        "\n",
        "print(\"Keys           : \", list(text_preprocessed.keys()))\n",
        "print(\"Shape Word Ids : \", text_preprocessed[\"input_word_ids\"].shape)\n",
        "print(\"Word Ids       : \", text_preprocessed[\"input_word_ids\"][0, :16])\n",
        "print(\"Shape Mask     : \", text_preprocessed[\"input_mask\"].shape)\n",
        "print(\"Input Mask     : \", text_preprocessed[\"input_mask\"][0, :16])\n",
        "print(\"Shape Type Ids : \", text_preprocessed[\"input_type_ids\"].shape)\n",
        "print(\"Type Ids       : \", text_preprocessed[\"input_type_ids\"][0, :16])\n"
      ],
      "metadata": {
        "colab": {
          "base_uri": "https://localhost:8080/"
        },
        "id": "DCOmGQXtJn9a",
        "outputId": "3b67c572-1582-4d69-edd3-37ab93b3f0db"
      },
      "execution_count": 16,
      "outputs": [
        {
          "output_type": "stream",
          "name": "stdout",
          "text": [
            "Text 1: 【现场视频：法国警方发动强攻击毙歹徒 民众抱头撤离】现场视频显示：法国警方发动了强攻，击毙2名歹徒，民众抱头撤离。。。L现场：法国警方发动强攻击毙歹徒 民众抱头撤离\n",
            "Text 2: 【现场视频：法国警方发动强攻击毙歹徒 民众抱头撤离】现场视频显示：法国警方发动了强攻，击毙2名歹徒，民众抱头撤离。。。L现场：法国警方发动强攻击毙歹徒 民众抱头撤离\n",
            "Keys           :  ['input_word_ids', 'input_mask', 'input_type_ids']\n",
            "Shape Word Ids :  (1, 224)\n",
            "Word Ids       :  tf.Tensor(\n",
            "[ 101  523 4385 1767 6228 7574 8038 3791 1744 6356 3175 1355 1220 2487\n",
            " 3122 1140], shape=(16,), dtype=int32)\n",
            "Shape Mask     :  (1, 224)\n",
            "Input Mask     :  tf.Tensor([1 1 1 1 1 1 1 1 1 1 1 1 1 1 1 1], shape=(16,), dtype=int32)\n",
            "Shape Type Ids :  (1, 224)\n",
            "Type Ids       :  tf.Tensor([0 0 0 0 0 0 0 0 0 0 0 0 0 0 0 0], shape=(16,), dtype=int32)\n"
          ]
        }
      ]
    },
    {
      "cell_type": "code",
      "source": [
        "def dataframe_to_dataset(dataframe):\n",
        "    columns = ['tweetText', 'image_1', 'label']\n",
        "    dataframe = dataframe[columns].copy()\n",
        "    labels = dataframe.pop(\"label\")\n",
        "    ds = tf.data.Dataset.from_tensor_slices((dict(dataframe), labels))\n",
        "    ds = ds.shuffle(buffer_size=len(dataframe))\n",
        "    return ds"
      ],
      "metadata": {
        "id": "dhn-DPb7Lsb1"
      },
      "execution_count": 17,
      "outputs": []
    },
    {
      "cell_type": "markdown",
      "source": [
        "## Preprocessing utilities"
      ],
      "metadata": {
        "id": "QO6IRl9rkfT4"
      }
    },
    {
      "cell_type": "code",
      "source": [
        "resize = (224, 224)\n",
        "bert_input_features = [\"input_word_ids\", \"input_type_ids\", \"input_mask\"]"
      ],
      "metadata": {
        "id": "slef7sY9ke1l"
      },
      "execution_count": 18,
      "outputs": []
    },
    {
      "cell_type": "code",
      "source": [
        "def preprocess_image(image_path):\n",
        "  extension = tf.strings.split(image_path,'.')[-1]\n",
        "  image = tf.io.read_file(image_path)\n",
        "  if extension == b\"gif\":\n",
        "    image = tf.io.decode_image(image, 3, expand_animations=False)\n",
        "  elif extension == b\"png\":\n",
        "    image = tf.image.decode_png(image, 3)\n",
        "  else:\n",
        "    image = tf.image.decode_jpeg(image, 3)\n",
        "  image = tf.image.resize(image, resize)\n",
        "  return image"
      ],
      "metadata": {
        "id": "FrTCJPUzkP3Q"
      },
      "execution_count": 19,
      "outputs": []
    },
    {
      "cell_type": "code",
      "source": [
        "def preprocess_text(text_1):\n",
        "  text_1 = tf.convert_to_tensor([text_1])\n",
        "  output = bert_preprocess_model([text_1])\n",
        "  output = {feature: tf.squeeze(output[feature]) for feature in bert_input_features}\n",
        "  return output"
      ],
      "metadata": {
        "id": "IvgkLXK5k5ZX"
      },
      "execution_count": 20,
      "outputs": []
    },
    {
      "cell_type": "code",
      "source": [
        "def preprocess_text_and_image(sample):\n",
        "  image_1 = preprocess_image(sample[\"image_1\"])\n",
        "  text = preprocess_text(sample[\"tweetText\"])\n",
        "  return {\"image_1\": image_1, \"text\": text}"
      ],
      "metadata": {
        "id": "uXQHweTHpCQM"
      },
      "execution_count": 21,
      "outputs": []
    },
    {
      "cell_type": "code",
      "source": [
        "batch_size = 32\n",
        "auto = tf.data.AUTOTUNE"
      ],
      "metadata": {
        "id": "C-0aLqtupoL5"
      },
      "execution_count": 22,
      "outputs": []
    },
    {
      "cell_type": "code",
      "source": [
        "def prepare_dataset(dataframe, training=True):\n",
        "  ds = dataframe_to_dataset(dataframe)\n",
        "  if training:\n",
        "      ds = ds.shuffle(len(train_df_model))\n",
        "  ds = ds.map(lambda x, y: (preprocess_text_and_image(x), y)).cache()\n",
        "  ds = ds.batch(batch_size).prefetch(auto)\n",
        "  return ds"
      ],
      "metadata": {
        "id": "DwL2IjrIp-Tn"
      },
      "execution_count": 23,
      "outputs": []
    },
    {
      "cell_type": "code",
      "source": [
        "train_ds = prepare_dataset(train_df_model)\n",
        "test_ds = prepare_dataset(test_df_model, False)"
      ],
      "metadata": {
        "id": "NqZ_9z6KVUeV"
      },
      "execution_count": 32,
      "outputs": []
    },
    {
      "cell_type": "markdown",
      "source": [
        "## Model Building"
      ],
      "metadata": {
        "id": "UUA1fjql-NCs"
      }
    },
    {
      "cell_type": "markdown",
      "source": [
        "### Projection"
      ],
      "metadata": {
        "id": "dsnHD-at_70f"
      }
    },
    {
      "cell_type": "code",
      "source": [
        "def project_embeddings(\n",
        "    embeddings, num_projection_layers, projection_dims, dropout_rate\n",
        "):\n",
        "    projected_embeddings = keras.layers.Dense(units=projection_dims)(embeddings)\n",
        "    for _ in range(num_projection_layers):\n",
        "        x = tf.nn.gelu(projected_embeddings)\n",
        "        x = keras.layers.Dense(projection_dims)(x)\n",
        "        x = keras.layers.Dropout(dropout_rate)(x)\n",
        "        x = keras.layers.Add()([projected_embeddings, x])\n",
        "        projected_embeddings = keras.layers.LayerNormalization()(x)\n",
        "    return projected_embeddings\n"
      ],
      "metadata": {
        "id": "JUmnESU36Q-N"
      },
      "execution_count": 24,
      "outputs": []
    },
    {
      "cell_type": "markdown",
      "source": [
        "### Vision encoder"
      ],
      "metadata": {
        "id": "uEelNTYZAB0h"
      }
    },
    {
      "cell_type": "code",
      "source": [
        "def create_vision_encoder(\n",
        "    num_projection_layers, projection_dims, dropout_rate, trainable=False\n",
        "):\n",
        "    # Load the pre-trained ResNet50V2 model to be used as the base encoder.\n",
        "    resnet_v2 = keras.applications.EfficientNetV2B3(\n",
        "        include_top=False, weights=\"imagenet\", pooling=\"avg\"\n",
        "    )\n",
        "    # Set the trainability of the base encoder.\n",
        "    for layer in resnet_v2.layers:\n",
        "        layer.trainable = trainable\n",
        "\n",
        "    # Receive the images as inputs.\n",
        "    image_1 = keras.Input(shape=(224, 224, 3), name=\"image_1\")\n",
        "    \n",
        "    # Preprocess the input image.\n",
        "    preprocessed_1 = keras.applications.resnet_v2.preprocess_input(image_1)\n",
        "    \n",
        "    # Generate the embeddings for the images using the resnet_v2 model\n",
        "    # concatenate them.\n",
        "    embeddings = resnet_v2(preprocessed_1)\n",
        "    #embeddings = keras.layers.Concatenate()([embeddings_1, embeddings_2])\n",
        "    #print(\"Image embeddings shape before\", embeddings.shape)\n",
        "    # Project the embeddings produced by the model.\n",
        "    outputs = project_embeddings(\n",
        "        embeddings, num_projection_layers, projection_dims, dropout_rate\n",
        "    )\n",
        "    #print(\"Image embeddings shape After\", outputs.shape)\n",
        "    # Create the vision encoder model.\n",
        "    return keras.Model([image_1], outputs, name=\"vision_encoder\")"
      ],
      "metadata": {
        "id": "y2ypqRWE_Oyq"
      },
      "execution_count": 25,
      "outputs": []
    },
    {
      "cell_type": "markdown",
      "source": [
        "### Text Encoder"
      ],
      "metadata": {
        "id": "jtChuDndAGLm"
      }
    },
    {
      "cell_type": "code",
      "source": [
        "def create_text_encoder(\n",
        "    num_projection_layers, projection_dims, dropout_rate, trainable=False\n",
        "):\n",
        "    # Load the pre-trained BERT model to be used as the base encoder.\n",
        "    bert = hub.KerasLayer(bert_model_path, name=\"bert\",)\n",
        "    # Set the trainability of the base encoder.\n",
        "    bert.trainable = trainable\n",
        "\n",
        "    # Receive the text as inputs.\n",
        "    bert_input_features = [\"input_type_ids\", \"input_mask\", \"input_word_ids\"]\n",
        "    inputs = {\n",
        "        feature: keras.Input(shape=(224,), dtype=tf.int32, name=feature)\n",
        "        for feature in bert_input_features\n",
        "    }\n",
        "\n",
        "    # Generate embeddings for the preprocessed text using the BERT model.\n",
        "    embeddings = bert(inputs)[\"pooled_output\"]\n",
        "\n",
        "    # Project the embeddings produced by the model.\n",
        "    outputs = project_embeddings(\n",
        "        embeddings, num_projection_layers, projection_dims, dropout_rate\n",
        "    )\n",
        "    # Create the text encoder model.\n",
        "    return keras.Model(inputs, outputs, name=\"text_encoder\")"
      ],
      "metadata": {
        "id": "UoVTKoTt_1Pv"
      },
      "execution_count": 26,
      "outputs": []
    },
    {
      "cell_type": "markdown",
      "source": [
        "### Multi Head Attention Layer"
      ],
      "metadata": {
        "id": "WF0jLUzqjwFv"
      }
    },
    {
      "cell_type": "code",
      "source": [
        "class TransformerBlock(keras.layers.Layer):\n",
        "    def __init__(self, embed_dim, num_heads, ff_dim, rate=0.1):\n",
        "        super().__init__()\n",
        "        self.att = keras.layers.MultiHeadAttention(num_heads=num_heads, key_dim=embed_dim)\n",
        "        self.ffn = keras.Sequential(\n",
        "            [keras.layers.Dense(ff_dim, activation=\"relu\"), keras.layers.Dense(embed_dim),]\n",
        "        )\n",
        "        self.layernorm1 = keras.layers.LayerNormalization(epsilon=1e-6)\n",
        "        self.layernorm2 = keras.layers.LayerNormalization(epsilon=1e-6)\n",
        "        self.dropout1 = keras.layers.Dropout(rate)\n",
        "        self.dropout2 = keras.layers.Dropout(rate)\n",
        "\n",
        "    def call(self, x, y, training):\n",
        "        attn_output = self.att(x, y)\n",
        "        attn_output = self.dropout1(attn_output, training=training)\n",
        "        out1 = self.layernorm1(x + attn_output)\n",
        "        ffn_output = self.ffn(out1)\n",
        "        ffn_output = self.dropout2(ffn_output, training=training)\n",
        "        return self.layernorm2(out1 + ffn_output)"
      ],
      "metadata": {
        "id": "UX52i1Pj4piV"
      },
      "execution_count": 27,
      "outputs": []
    },
    {
      "cell_type": "markdown",
      "source": [
        "## MultiModal model"
      ],
      "metadata": {
        "id": "Ugj-e4g8AWOp"
      }
    },
    {
      "cell_type": "code",
      "source": [
        "def create_multimodal_model(\n",
        "    num_projection_layers=0,\n",
        "    projection_dims=224,\n",
        "    dropout_rate=0.1,\n",
        "    vision_trainable=False,\n",
        "    text_trainable=False,\n",
        "    attention=False\n",
        "):\n",
        "    # Receive the images as inputs.\n",
        "    image_1 = keras.Input(shape=(224, 224, 3), name=\"image_1\")\n",
        "    \n",
        "    # Receive the text as inputs.\n",
        "    bert_input_features = [\"input_type_ids\", \"input_mask\", \"input_word_ids\"]\n",
        "    text_inputs = {\n",
        "        feature: keras.Input(shape=(224,), dtype=tf.int32, name=feature)\n",
        "        for feature in bert_input_features\n",
        "    }\n",
        "\n",
        "    # Create the encoders.\n",
        "    vision_encoder = create_vision_encoder(\n",
        "        num_projection_layers, projection_dims, dropout_rate, vision_trainable\n",
        "    )\n",
        "    text_encoder = create_text_encoder(\n",
        "        num_projection_layers, projection_dims, dropout_rate, text_trainable\n",
        "    )\n",
        "\n",
        "    # Fetch the embedding projections.\n",
        "    vision_projections = vision_encoder([image_1])\n",
        "    vision_projections = keras.layers.Dropout(dropout_rate)(vision_projections)\n",
        "    text_projections = text_encoder(text_inputs)\n",
        "    text_projections = keras.layers.Dropout(dropout_rate)(text_projections)\n",
        "    \n",
        "    # Cross-attention.\n",
        "    if attention:\n",
        "      transformer_block = TransformerBlock(projection_dims, 4, projection_dims)\n",
        "      x = transformer_block(tf.expand_dims(vision_projections, -1), tf.expand_dims(text_projections, -1))\n",
        "      x = tf.keras.layers.Flatten()(x)\n",
        "      x = project_embeddings(\n",
        "        x, 1, projection_dims, dropout_rate) \n",
        "      query_value_attention_seq = keras.layers.Attention(use_scale=True, dropout=0.2)(\n",
        "            [vision_projections, text_projections]\n",
        "        )\n",
        "      \n",
        "    # Concatenate the projections and pass through the classification layer.\n",
        "    concatenated = keras.layers.Concatenate()([vision_projections, text_projections])\n",
        "    if attention:\n",
        "        concatenated = keras.layers.Concatenate()([concatenated, x, query_value_attention_seq])\n",
        "        #x = tf.keras.layers.Flatten(x)\n",
        "    outputs = keras.layers.Dense(1, activation=\"sigmoid\")(concatenated)\n",
        "    return keras.Model([image_1, text_inputs], outputs)"
      ],
      "metadata": {
        "id": "1RjaNwDnANoc"
      },
      "execution_count": 28,
      "outputs": []
    },
    {
      "cell_type": "code",
      "source": [
        "loss = tf.keras.losses.BinaryCrossentropy(from_logits=True)\n",
        "metrics= [\n",
        "      tf.keras.metrics.BinaryAccuracy(name='accuracy'),\n",
        "      tf.keras.metrics.Precision(name='precision'),\n",
        "      tf.keras.metrics.Recall(name='recall')\n",
        "]"
      ],
      "metadata": {
        "id": "HYAqM03bYqpj"
      },
      "execution_count": 29,
      "outputs": []
    },
    {
      "cell_type": "code",
      "source": [],
      "metadata": {
        "id": "lzh_oeuuZVrA"
      },
      "execution_count": null,
      "outputs": []
    },
    {
      "cell_type": "markdown",
      "source": [
        "## Final Multimodal model"
      ],
      "metadata": {
        "id": "cvh6vbUTXRRs"
      }
    },
    {
      "cell_type": "code",
      "source": [
        "def multimodal_model(X_train, y_train, X_test, y_test, params):\n",
        "  train_ds = prepare_dataset(train_df_model)\n",
        "  test_ds = prepare_dataset(test_df_model, False)\n",
        "  model = create_multimodal_model(params['num_projection_layers'],\n",
        "    params['projection_dims'],\n",
        "    params['dropout_rate'],\n",
        "    params['vision_trainable'],\n",
        "    params['text_trainable'],\n",
        "    params['attention'])\n",
        "  model.compile(\n",
        "    optimizer=tf.keras.optimizers.Adam(params['lr']), loss=loss, metrics=metrics\n",
        "  )\n",
        "  history = model.fit(\n",
        "      train_ds, validation_data=test_ds, \n",
        "      epochs=params['epochs'], batch_size=params['batch_size'], \n",
        "      callbacks = [model_checkpoint_callback])\n",
        "  return history, model\n",
        "  "
      ],
      "metadata": {
        "id": "iMyfwuhtXQRJ"
      },
      "execution_count": null,
      "outputs": []
    },
    {
      "cell_type": "code",
      "source": [
        "params = {\n",
        "    'num_projection_layers' : [0, 1],\n",
        "    'projection_dims' : [128, 224],\n",
        "    'dropout_rate' : [0.1, 0.2],\n",
        "    'vision_trainable' : [False],\n",
        "    'text_trainable' : [False],\n",
        "    'attention' : [True],\n",
        "    'lr' : [0.001, 0.01, 0.1],\n",
        "    'epochs' : [10],\n",
        "    'batch_size' : [32, 64]\n",
        "}"
      ],
      "metadata": {
        "id": "_hLDJku6bY9O"
      },
      "execution_count": null,
      "outputs": []
    },
    {
      "cell_type": "code",
      "source": [
        "h = ta.Scan(x = X_train, y= y_train, params = params, model = multimodal_model, x_val = X_test, y_val = y_test, experiment_name = 'multi', save_weights=False, print_params=True)"
      ],
      "metadata": {
        "colab": {
          "base_uri": "https://localhost:8080/",
          "height": 1000
        },
        "id": "qhrpIETIevhH",
        "outputId": "e70aeab1-cd52-42b7-d769-47e7ff9f7065"
      },
      "execution_count": null,
      "outputs": [
        {
          "output_type": "stream",
          "name": "stderr",
          "text": [
            "\n",
            "\n",
            "  0%|          | 0/48 [00:00<?, ?it/s]\u001b[A\u001b[A"
          ]
        },
        {
          "output_type": "stream",
          "name": "stdout",
          "text": [
            "{'num_projection_layers': 0, 'projection_dims': 128, 'dropout_rate': 0.1, 'vision_trainable': False, 'text_trainable': False, 'attention': True, 'lr': 0.001, 'epochs': 10, 'batch_size': 32}\n"
          ]
        },
        {
          "output_type": "stream",
          "name": "stderr",
          "text": [
            "\r  0%|          | 0/48 [05:59<?, ?it/s]\n"
          ]
        },
        {
          "output_type": "stream",
          "name": "stdout",
          "text": [
            "Epoch 1/10\n",
            "130/130 [==============================] - 124s 782ms/step - loss: 0.5274 - accuracy: 0.7879 - precision: 0.4695 - recall: 0.3542 - val_loss: 0.3534 - val_accuracy: 0.8434 - val_precision: 0.7867 - val_recall: 0.4504\n",
            "Epoch 2/10\n",
            "130/130 [==============================] - 101s 775ms/step - loss: 0.2877 - accuracy: 0.8729 - precision: 0.7066 - recall: 0.5786 - val_loss: 0.4049 - val_accuracy: 0.8336 - val_precision: 0.9032 - val_recall: 0.3206\n",
            "Epoch 3/10\n",
            "130/130 [==============================] - 102s 789ms/step - loss: 0.2711 - accuracy: 0.8857 - precision: 0.7307 - recall: 0.6415 - val_loss: 0.3122 - val_accuracy: 0.8683 - val_precision: 0.8239 - val_recall: 0.5534\n",
            "Epoch 4/10\n",
            "130/130 [==============================] - 102s 790ms/step - loss: 0.2517 - accuracy: 0.8932 - precision: 0.7496 - recall: 0.6667 - val_loss: 0.2909 - val_accuracy: 0.8737 - val_precision: 0.7830 - val_recall: 0.6336\n",
            "Epoch 5/10\n",
            "130/130 [==============================] - 103s 791ms/step - loss: 0.2403 - accuracy: 0.9019 - precision: 0.7743 - recall: 0.6906 - val_loss: 0.2937 - val_accuracy: 0.8746 - val_precision: 0.7689 - val_recall: 0.6603\n",
            "Epoch 6/10\n",
            "130/130 [==============================] - 103s 791ms/step - loss: 0.2379 - accuracy: 0.9022 - precision: 0.7762 - recall: 0.6893 - val_loss: 0.3334 - val_accuracy: 0.8612 - val_precision: 0.6646 - val_recall: 0.8168\n",
            "Epoch 7/10\n",
            "130/130 [==============================] - 102s 790ms/step - loss: 0.2222 - accuracy: 0.9114 - precision: 0.8031 - recall: 0.7132 - val_loss: 0.3046 - val_accuracy: 0.8657 - val_precision: 0.6920 - val_recall: 0.7634\n",
            "Epoch 8/10\n",
            "130/130 [==============================] - 103s 791ms/step - loss: 0.2093 - accuracy: 0.9138 - precision: 0.8129 - recall: 0.7157 - val_loss: 0.2954 - val_accuracy: 0.8719 - val_precision: 0.7185 - val_recall: 0.7405\n",
            "Epoch 9/10\n",
            "130/130 [==============================] - 103s 790ms/step - loss: 0.2025 - accuracy: 0.9208 - precision: 0.8293 - recall: 0.7396 - val_loss: 0.2880 - val_accuracy: 0.8772 - val_precision: 0.7366 - val_recall: 0.7366\n",
            "Epoch 10/10\n",
            "130/130 [==============================] - 103s 791ms/step - loss: 0.2055 - accuracy: 0.9133 - precision: 0.8045 - recall: 0.7245 - val_loss: 0.3104 - val_accuracy: 0.8728 - val_precision: 0.6990 - val_recall: 0.7977\n"
          ]
        },
        {
          "output_type": "stream",
          "name": "stderr",
          "text": [
            "\n",
            "\n",
            "  2%|▏         | 1/48 [18:22<14:23:38, 1102.51s/it]\u001b[A\u001b[A"
          ]
        },
        {
          "output_type": "stream",
          "name": "stdout",
          "text": [
            "{'num_projection_layers': 0, 'projection_dims': 128, 'dropout_rate': 0.1, 'vision_trainable': False, 'text_trainable': False, 'attention': True, 'lr': 0.001, 'epochs': 10, 'batch_size': 64}\n",
            "Epoch 1/10\n",
            "130/130 [==============================] - 125s 795ms/step - loss: 0.4299 - accuracy: 0.8353 - precision: 0.6123 - recall: 0.4901 - val_loss: 0.4069 - val_accuracy: 0.8319 - val_precision: 0.8925 - val_recall: 0.3168\n",
            "Epoch 2/10\n",
            "130/130 [==============================] - 102s 782ms/step - loss: 0.2991 - accuracy: 0.8688 - precision: 0.6800 - recall: 0.5987 - val_loss: 0.3111 - val_accuracy: 0.8639 - val_precision: 0.7824 - val_recall: 0.5763\n",
            "Epoch 3/10\n",
            "130/130 [==============================] - 100s 772ms/step - loss: 0.2650 - accuracy: 0.8872 - precision: 0.7412 - recall: 0.6340 - val_loss: 0.3399 - val_accuracy: 0.8612 - val_precision: 0.8581 - val_recall: 0.4847\n",
            "Epoch 4/10\n",
            "130/130 [==============================] - 102s 787ms/step - loss: 0.2585 - accuracy: 0.8918 - precision: 0.7440 - recall: 0.6654 - val_loss: 0.5773 - val_accuracy: 0.8194 - val_precision: 0.9403 - val_recall: 0.2405\n",
            "Epoch 5/10\n",
            "130/130 [==============================] - 102s 787ms/step - loss: 0.2405 - accuracy: 0.8964 - precision: 0.7637 - recall: 0.6667 - val_loss: 0.5479 - val_accuracy: 0.8265 - val_precision: 0.9467 - val_recall: 0.2710\n",
            "Epoch 6/10\n",
            "130/130 [==============================] - 102s 786ms/step - loss: 0.2304 - accuracy: 0.9039 - precision: 0.7856 - recall: 0.6868 - val_loss: 0.4346 - val_accuracy: 0.8541 - val_precision: 0.9537 - val_recall: 0.3931\n",
            "Epoch 7/10\n",
            "130/130 [==============================] - 102s 787ms/step - loss: 0.2165 - accuracy: 0.9128 - precision: 0.8091 - recall: 0.7145 - val_loss: 0.4440 - val_accuracy: 0.8550 - val_precision: 0.9626 - val_recall: 0.3931\n",
            "Epoch 8/10\n",
            "130/130 [==============================] - 102s 785ms/step - loss: 0.2138 - accuracy: 0.9123 - precision: 0.8051 - recall: 0.7170 - val_loss: 0.3865 - val_accuracy: 0.8657 - val_precision: 0.9440 - val_recall: 0.4504\n",
            "Epoch 9/10\n",
            "130/130 [==============================] - 101s 776ms/step - loss: 0.2093 - accuracy: 0.9150 - precision: 0.8133 - recall: 0.7233 - val_loss: 0.3500 - val_accuracy: 0.8674 - val_precision: 0.9007 - val_recall: 0.4847\n",
            "Epoch 10/10\n",
            "130/130 [==============================] - 102s 787ms/step - loss: 0.2049 - accuracy: 0.9171 - precision: 0.8139 - recall: 0.7371 - val_loss: 0.2937 - val_accuracy: 0.8843 - val_precision: 0.8173 - val_recall: 0.6489\n"
          ]
        },
        {
          "output_type": "stream",
          "name": "stderr",
          "text": [
            "\n",
            "\n",
            "  4%|▍         | 2/48 [37:20<14:21:27, 1123.65s/it]\u001b[A\u001b[A"
          ]
        },
        {
          "output_type": "stream",
          "name": "stdout",
          "text": [
            "{'num_projection_layers': 0, 'projection_dims': 128, 'dropout_rate': 0.1, 'vision_trainable': False, 'text_trainable': False, 'attention': True, 'lr': 0.01, 'epochs': 10, 'batch_size': 32}\n",
            "Epoch 1/10\n",
            "130/130 [==============================] - 127s 804ms/step - loss: 4.3898 - accuracy: 0.8049 - precision: 0.5145 - recall: 0.5052 - val_loss: 2.8855 - val_accuracy: 0.7918 - val_precision: 0.9118 - val_recall: 0.1183\n",
            "Epoch 2/10\n",
            "130/130 [==============================] - 102s 788ms/step - loss: 1.2567 - accuracy: 0.8338 - precision: 0.5682 - recall: 0.5610 - val_loss: 1.0772 - val_accuracy: 0.8505 - val_precision: 0.9123 - val_recall: 0.3969\n",
            "Epoch 3/10\n",
            "130/130 [==============================] - 102s 788ms/step - loss: 0.6366 - accuracy: 0.8618 - precision: 0.6446 - recall: 0.6252 - val_loss: 0.8417 - val_accuracy: 0.8470 - val_precision: 0.9245 - val_recall: 0.3740\n",
            "Epoch 4/10\n",
            "130/130 [==============================] - 101s 776ms/step - loss: 0.3650 - accuracy: 0.8819 - precision: 0.7056 - recall: 0.6604 - val_loss: 0.4619 - val_accuracy: 0.8674 - val_precision: 0.8742 - val_recall: 0.5038\n",
            "Epoch 5/10\n",
            "130/130 [==============================] - 102s 789ms/step - loss: 0.3107 - accuracy: 0.8932 - precision: 0.7338 - recall: 0.6969 - val_loss: 0.4048 - val_accuracy: 0.8665 - val_precision: 0.8500 - val_recall: 0.5191\n",
            "Epoch 6/10\n",
            "130/130 [==============================] - 102s 788ms/step - loss: 0.3287 - accuracy: 0.8841 - precision: 0.7086 - recall: 0.6730 - val_loss: 0.3411 - val_accuracy: 0.8772 - val_precision: 0.7366 - val_recall: 0.7366\n",
            "Epoch 7/10\n",
            "130/130 [==============================] - 101s 777ms/step - loss: 0.2551 - accuracy: 0.9027 - precision: 0.7599 - recall: 0.7208 - val_loss: 0.3159 - val_accuracy: 0.8817 - val_precision: 0.7919 - val_recall: 0.6679\n",
            "Epoch 8/10\n",
            "130/130 [==============================] - 103s 790ms/step - loss: 0.2465 - accuracy: 0.9036 - precision: 0.7705 - recall: 0.7094 - val_loss: 0.3367 - val_accuracy: 0.8835 - val_precision: 0.8291 - val_recall: 0.6298\n",
            "Epoch 9/10\n",
            "130/130 [==============================] - 102s 790ms/step - loss: 0.2357 - accuracy: 0.9106 - precision: 0.7907 - recall: 0.7270 - val_loss: 0.3362 - val_accuracy: 0.8808 - val_precision: 0.7735 - val_recall: 0.6908\n",
            "Epoch 10/10\n",
            "130/130 [==============================] - 103s 790ms/step - loss: 0.2242 - accuracy: 0.9123 - precision: 0.7959 - recall: 0.7308 - val_loss: 0.3562 - val_accuracy: 0.8550 - val_precision: 0.6460 - val_recall: 0.8359\n"
          ]
        },
        {
          "output_type": "stream",
          "name": "stderr",
          "text": [
            "\n",
            "\n",
            "  6%|▋         | 3/48 [56:24<14:09:25, 1132.57s/it]\u001b[A\u001b[A"
          ]
        },
        {
          "output_type": "stream",
          "name": "stdout",
          "text": [
            "{'num_projection_layers': 0, 'projection_dims': 128, 'dropout_rate': 0.1, 'vision_trainable': False, 'text_trainable': False, 'attention': True, 'lr': 0.01, 'epochs': 10, 'batch_size': 64}\n",
            "Epoch 1/10\n",
            "130/130 [==============================] - 127s 809ms/step - loss: 7.4350 - accuracy: 0.7891 - precision: 0.4772 - recall: 0.5251 - val_loss: 3.9896 - val_accuracy: 0.7758 - val_precision: 0.9167 - val_recall: 0.0420\n",
            "Epoch 2/10\n",
            "130/130 [==============================] - 103s 791ms/step - loss: 1.3934 - accuracy: 0.8278 - precision: 0.5528 - recall: 0.5396 - val_loss: 1.4634 - val_accuracy: 0.8256 - val_precision: 0.9342 - val_recall: 0.2710\n",
            "Epoch 3/10\n",
            "130/130 [==============================] - 103s 792ms/step - loss: 0.5533 - accuracy: 0.8587 - precision: 0.6389 - recall: 0.6075 - val_loss: 0.3712 - val_accuracy: 0.8594 - val_precision: 0.8467 - val_recall: 0.4847\n",
            "Epoch 4/10\n",
            "130/130 [==============================] - 103s 792ms/step - loss: 0.3600 - accuracy: 0.8800 - precision: 0.6955 - recall: 0.6667 - val_loss: 0.9070 - val_accuracy: 0.7989 - val_precision: 0.9737 - val_recall: 0.1412\n",
            "Epoch 5/10\n",
            "130/130 [==============================] - 103s 793ms/step - loss: 0.3560 - accuracy: 0.8872 - precision: 0.7247 - recall: 0.6654 - val_loss: 0.3677 - val_accuracy: 0.8550 - val_precision: 0.8561 - val_recall: 0.4542\n",
            "Epoch 6/10\n",
            "130/130 [==============================] - 103s 791ms/step - loss: 0.2604 - accuracy: 0.8966 - precision: 0.7470 - recall: 0.6981 - val_loss: 0.3639 - val_accuracy: 0.8496 - val_precision: 0.8661 - val_recall: 0.4198\n",
            "Epoch 7/10\n",
            "130/130 [==============================] - 103s 792ms/step - loss: 0.2471 - accuracy: 0.9000 - precision: 0.7599 - recall: 0.7006 - val_loss: 0.3414 - val_accuracy: 0.8612 - val_precision: 0.8313 - val_recall: 0.5076\n",
            "Epoch 8/10\n",
            "130/130 [==============================] - 102s 784ms/step - loss: 0.2374 - accuracy: 0.9058 - precision: 0.7763 - recall: 0.7157 - val_loss: 0.3545 - val_accuracy: 0.8585 - val_precision: 0.8411 - val_recall: 0.4847\n",
            "Epoch 9/10\n",
            "130/130 [==============================] - 103s 791ms/step - loss: 0.2281 - accuracy: 0.9116 - precision: 0.7942 - recall: 0.7283 - val_loss: 0.3551 - val_accuracy: 0.8621 - val_precision: 0.8365 - val_recall: 0.5076\n",
            "Epoch 10/10\n",
            "130/130 [==============================] - 103s 792ms/step - loss: 0.2457 - accuracy: 0.9027 - precision: 0.7579 - recall: 0.7245 - val_loss: 0.3297 - val_accuracy: 0.8719 - val_precision: 0.7980 - val_recall: 0.6031\n"
          ]
        },
        {
          "output_type": "stream",
          "name": "stderr",
          "text": [
            "\n",
            "\n",
            "  8%|▊         | 4/48 [1:14:53<13:43:43, 1123.27s/it]\u001b[A\u001b[A"
          ]
        },
        {
          "output_type": "stream",
          "name": "stdout",
          "text": [
            "{'num_projection_layers': 0, 'projection_dims': 128, 'dropout_rate': 0.1, 'vision_trainable': False, 'text_trainable': False, 'attention': True, 'lr': 0.1, 'epochs': 10, 'batch_size': 32}\n",
            "Epoch 1/10\n",
            "130/130 [==============================] - 127s 806ms/step - loss: 37.4439 - accuracy: 0.8116 - precision: 0.5323 - recall: 0.5061 - val_loss: 3.7456 - val_accuracy: 0.8496 - val_precision: 0.7104 - val_recall: 0.5992\n",
            "Epoch 2/10\n",
            "130/130 [==============================] - 102s 788ms/step - loss: 2.9709 - accuracy: 0.8447 - precision: 0.5943 - recall: 0.6025 - val_loss: 3.8809 - val_accuracy: 0.6708 - val_precision: 0.4025 - val_recall: 0.8511\n",
            "Epoch 3/10\n",
            "130/130 [==============================] - 102s 788ms/step - loss: 6.8824 - accuracy: 0.8464 - precision: 0.5961 - recall: 0.6201 - val_loss: 1.8061 - val_accuracy: 0.7883 - val_precision: 0.5438 - val_recall: 0.5687\n",
            "Epoch 4/10\n",
            "130/130 [==============================] - 102s 789ms/step - loss: 18.3900 - accuracy: 0.8408 - precision: 0.5819 - recall: 0.6075 - val_loss: 8.2402 - val_accuracy: 0.8479 - val_precision: 0.7486 - val_recall: 0.5229\n",
            "Epoch 5/10\n",
            "130/130 [==============================] - 102s 787ms/step - loss: 8.0734 - accuracy: 0.8650 - precision: 0.6482 - recall: 0.6491 - val_loss: 5.3061 - val_accuracy: 0.8069 - val_precision: 0.5616 - val_recall: 0.7824\n",
            "Epoch 6/10\n",
            "130/130 [==============================] - 102s 787ms/step - loss: 42.5014 - accuracy: 0.8432 - precision: 0.5890 - recall: 0.6075 - val_loss: 29.8334 - val_accuracy: 0.8265 - val_precision: 0.6175 - val_recall: 0.6718\n",
            "Epoch 7/10\n",
            "130/130 [==============================] - 102s 789ms/step - loss: 18.4606 - accuracy: 0.8626 - precision: 0.6395 - recall: 0.6516 - val_loss: 12.2333 - val_accuracy: 0.8594 - val_precision: 0.6955 - val_recall: 0.7061\n",
            "Epoch 8/10\n",
            "130/130 [==============================] - 102s 788ms/step - loss: 13.5435 - accuracy: 0.8758 - precision: 0.6745 - recall: 0.6830 - val_loss: 15.2433 - val_accuracy: 0.8354 - val_precision: 0.6262 - val_recall: 0.7290\n",
            "Epoch 9/10\n",
            "130/130 [==============================] - 102s 787ms/step - loss: 17.8067 - accuracy: 0.8737 - precision: 0.6687 - recall: 0.6780 - val_loss: 14.5979 - val_accuracy: 0.8719 - val_precision: 0.7521 - val_recall: 0.6718\n",
            "Epoch 10/10\n",
            "130/130 [==============================] - 102s 788ms/step - loss: 23.6933 - accuracy: 0.8737 - precision: 0.6671 - recall: 0.6830 - val_loss: 37.9902 - val_accuracy: 0.8123 - val_precision: 0.5752 - val_recall: 0.7443\n"
          ]
        },
        {
          "output_type": "stream",
          "name": "stderr",
          "text": [
            "\n",
            "\n",
            " 10%|█         | 5/48 [1:32:39<13:10:12, 1102.62s/it]\u001b[A\u001b[A"
          ]
        },
        {
          "output_type": "stream",
          "name": "stdout",
          "text": [
            "{'num_projection_layers': 0, 'projection_dims': 128, 'dropout_rate': 0.1, 'vision_trainable': False, 'text_trainable': False, 'attention': True, 'lr': 0.1, 'epochs': 10, 'batch_size': 64}\n",
            "Epoch 1/10\n",
            "130/130 [==============================] - 127s 808ms/step - loss: 101.0008 - accuracy: 0.7827 - precision: 0.4642 - recall: 0.5336 - val_loss: 9.1495 - val_accuracy: 0.7936 - val_precision: 0.9167 - val_recall: 0.1260\n",
            "Epoch 2/10\n",
            "130/130 [==============================] - 103s 791ms/step - loss: 4.7109 - accuracy: 0.8343 - precision: 0.5684 - recall: 0.5698 - val_loss: 9.5340 - val_accuracy: 0.8470 - val_precision: 0.7009 - val_recall: 0.5992\n",
            "Epoch 3/10\n",
            "130/130 [==============================] - 102s 789ms/step - loss: 2.6020 - accuracy: 0.8534 - precision: 0.6196 - recall: 0.6126 - val_loss: 1.0267 - val_accuracy: 0.8594 - val_precision: 0.7080 - val_recall: 0.6756\n",
            "Epoch 4/10\n",
            "130/130 [==============================] - 102s 789ms/step - loss: 1.0880 - accuracy: 0.8703 - precision: 0.6658 - recall: 0.6516 - val_loss: 1.9399 - val_accuracy: 0.7020 - val_precision: 0.4345 - val_recall: 0.9237\n",
            "Epoch 5/10\n",
            "130/130 [==============================] - 102s 790ms/step - loss: 1.8429 - accuracy: 0.8630 - precision: 0.6404 - recall: 0.6541 - val_loss: 9.1507 - val_accuracy: 0.8069 - val_precision: 0.9412 - val_recall: 0.1832\n",
            "Epoch 6/10\n",
            "130/130 [==============================] - 102s 789ms/step - loss: 2.5228 - accuracy: 0.8633 - precision: 0.6426 - recall: 0.6491 - val_loss: 3.2754 - val_accuracy: 0.8728 - val_precision: 0.9048 - val_recall: 0.5076\n",
            "Epoch 7/10\n",
            "130/130 [==============================] - 102s 788ms/step - loss: 3.7348 - accuracy: 0.8585 - precision: 0.6295 - recall: 0.6390 - val_loss: 11.3435 - val_accuracy: 0.8425 - val_precision: 0.9474 - val_recall: 0.3435\n",
            "Epoch 8/10\n",
            "130/130 [==============================] - 122s 939ms/step - loss: 20.8160 - accuracy: 0.8300 - precision: 0.5548 - recall: 0.5799 - val_loss: 118.8610 - val_accuracy: 0.7811 - val_precision: 0.8636 - val_recall: 0.0725\n",
            "Epoch 9/10\n",
            "130/130 [==============================] - 103s 791ms/step - loss: 21.9040 - accuracy: 0.8568 - precision: 0.6263 - recall: 0.6302 - val_loss: 13.0002 - val_accuracy: 0.8710 - val_precision: 0.7407 - val_recall: 0.6870\n",
            "Epoch 10/10\n",
            "130/130 [==============================] - 102s 788ms/step - loss: 18.3384 - accuracy: 0.8710 - precision: 0.6629 - recall: 0.6679 - val_loss: 27.9782 - val_accuracy: 0.8274 - val_precision: 0.7982 - val_recall: 0.3473\n"
          ]
        },
        {
          "output_type": "stream",
          "name": "stderr",
          "text": [
            "\n",
            "\n",
            " 12%|█▎        | 6/48 [1:50:46<12:48:17, 1097.56s/it]\u001b[A\u001b[A"
          ]
        },
        {
          "output_type": "stream",
          "name": "stdout",
          "text": [
            "{'num_projection_layers': 0, 'projection_dims': 128, 'dropout_rate': 0.2, 'vision_trainable': False, 'text_trainable': False, 'attention': True, 'lr': 0.001, 'epochs': 10, 'batch_size': 32}\n",
            "Epoch 1/10\n",
            "130/130 [==============================] - 128s 816ms/step - loss: 0.4896 - accuracy: 0.8129 - precision: 0.5504 - recall: 0.3718 - val_loss: 0.3926 - val_accuracy: 0.8319 - val_precision: 0.8411 - val_recall: 0.3435\n",
            "Epoch 2/10\n",
            "130/130 [==============================] - 103s 792ms/step - loss: 0.3068 - accuracy: 0.8679 - precision: 0.6902 - recall: 0.5660 - val_loss: 0.3248 - val_accuracy: 0.8630 - val_precision: 0.8214 - val_recall: 0.5267\n",
            "Epoch 3/10\n",
            "130/130 [==============================] - 103s 792ms/step - loss: 0.2584 - accuracy: 0.8889 - precision: 0.7431 - recall: 0.6440 - val_loss: 0.3030 - val_accuracy: 0.8612 - val_precision: 0.7409 - val_recall: 0.6221\n",
            "Epoch 4/10\n",
            "130/130 [==============================] - 103s 791ms/step - loss: 0.2463 - accuracy: 0.8971 - precision: 0.7610 - recall: 0.6767 - val_loss: 0.3026 - val_accuracy: 0.8657 - val_precision: 0.7160 - val_recall: 0.7023\n",
            "Epoch 5/10\n",
            "130/130 [==============================] - 103s 792ms/step - loss: 0.2358 - accuracy: 0.9031 - precision: 0.7798 - recall: 0.6906 - val_loss: 0.3048 - val_accuracy: 0.8683 - val_precision: 0.7111 - val_recall: 0.7328\n",
            "Epoch 6/10\n",
            "130/130 [==============================] - 103s 792ms/step - loss: 0.2240 - accuracy: 0.9039 - precision: 0.7792 - recall: 0.6969 - val_loss: 0.2897 - val_accuracy: 0.8835 - val_precision: 0.7860 - val_recall: 0.6870\n",
            "Epoch 7/10\n",
            "130/130 [==============================] - 103s 792ms/step - loss: 0.2199 - accuracy: 0.9097 - precision: 0.7994 - recall: 0.7069 - val_loss: 0.2937 - val_accuracy: 0.8817 - val_precision: 0.7590 - val_recall: 0.7214\n",
            "Epoch 8/10\n",
            "130/130 [==============================] - 103s 792ms/step - loss: 0.2105 - accuracy: 0.9140 - precision: 0.8070 - recall: 0.7258 - val_loss: 0.3198 - val_accuracy: 0.8648 - val_precision: 0.6846 - val_recall: 0.7786\n",
            "Epoch 9/10\n",
            "130/130 [==============================] - 103s 792ms/step - loss: 0.1992 - accuracy: 0.9203 - precision: 0.8252 - recall: 0.7421 - val_loss: 0.2954 - val_accuracy: 0.8817 - val_precision: 0.7416 - val_recall: 0.7557\n",
            "Epoch 10/10\n",
            "130/130 [==============================] - 103s 792ms/step - loss: 0.1993 - accuracy: 0.9184 - precision: 0.8178 - recall: 0.7396 - val_loss: 0.3120 - val_accuracy: 0.8701 - val_precision: 0.6959 - val_recall: 0.7863\n"
          ]
        },
        {
          "output_type": "stream",
          "name": "stderr",
          "text": [
            "\n",
            "\n",
            " 15%|█▍        | 7/48 [2:08:39<12:24:24, 1089.38s/it]\u001b[A\u001b[A"
          ]
        },
        {
          "output_type": "stream",
          "name": "stdout",
          "text": [
            "{'num_projection_layers': 0, 'projection_dims': 128, 'dropout_rate': 0.2, 'vision_trainable': False, 'text_trainable': False, 'attention': True, 'lr': 0.001, 'epochs': 10, 'batch_size': 64}\n",
            "Epoch 1/10\n",
            "130/130 [==============================] - 128s 815ms/step - loss: 0.4488 - accuracy: 0.8338 - precision: 0.6091 - recall: 0.4806 - val_loss: 0.3941 - val_accuracy: 0.8416 - val_precision: 0.8621 - val_recall: 0.3817\n",
            "Epoch 2/10\n",
            "130/130 [==============================] - 103s 790ms/step - loss: 0.2936 - accuracy: 0.8756 - precision: 0.7128 - recall: 0.5899 - val_loss: 0.4500 - val_accuracy: 0.8390 - val_precision: 0.9355 - val_recall: 0.3321\n",
            "Epoch 3/10\n",
            "130/130 [==============================] - 102s 789ms/step - loss: 0.2661 - accuracy: 0.8872 - precision: 0.7419 - recall: 0.6327 - val_loss: 0.3475 - val_accuracy: 0.8621 - val_precision: 0.8639 - val_recall: 0.4847\n",
            "Epoch 4/10\n",
            "130/130 [==============================] - 103s 791ms/step - loss: 0.2421 - accuracy: 0.8993 - precision: 0.7708 - recall: 0.6767 - val_loss: 0.3420 - val_accuracy: 0.8657 - val_precision: 0.8627 - val_recall: 0.5038\n",
            "Epoch 5/10\n",
            "130/130 [==============================] - 103s 791ms/step - loss: 0.2313 - accuracy: 0.9048 - precision: 0.7902 - recall: 0.6868 - val_loss: 0.3798 - val_accuracy: 0.8577 - val_precision: 0.8984 - val_recall: 0.4389\n",
            "Epoch 6/10\n",
            "130/130 [==============================] - 103s 790ms/step - loss: 0.2235 - accuracy: 0.9070 - precision: 0.7937 - recall: 0.6969 - val_loss: 0.3364 - val_accuracy: 0.8710 - val_precision: 0.8824 - val_recall: 0.5153\n",
            "Epoch 7/10\n",
            "130/130 [==============================] - 102s 786ms/step - loss: 0.2208 - accuracy: 0.9116 - precision: 0.8051 - recall: 0.7119 - val_loss: 0.3188 - val_accuracy: 0.8772 - val_precision: 0.8483 - val_recall: 0.5763\n",
            "Epoch 8/10\n",
            "130/130 [==============================] - 102s 789ms/step - loss: 0.2132 - accuracy: 0.9123 - precision: 0.8077 - recall: 0.7132 - val_loss: 0.3174 - val_accuracy: 0.8790 - val_precision: 0.8795 - val_recall: 0.5573\n",
            "Epoch 9/10\n",
            "130/130 [==============================] - 103s 790ms/step - loss: 0.2047 - accuracy: 0.9157 - precision: 0.8150 - recall: 0.7258 - val_loss: 0.3111 - val_accuracy: 0.8817 - val_precision: 0.8644 - val_recall: 0.5840\n",
            "Epoch 10/10\n",
            "130/130 [==============================] - 103s 790ms/step - loss: 0.1960 - accuracy: 0.9171 - precision: 0.8165 - recall: 0.7333 - val_loss: 0.3201 - val_accuracy: 0.8790 - val_precision: 0.8841 - val_recall: 0.5534\n"
          ]
        },
        {
          "output_type": "stream",
          "name": "stderr",
          "text": [
            "\n",
            "\n",
            " 17%|█▋        | 8/48 [2:27:08<12:10:26, 1095.66s/it]\u001b[A\u001b[A"
          ]
        },
        {
          "output_type": "stream",
          "name": "stdout",
          "text": [
            "{'num_projection_layers': 0, 'projection_dims': 128, 'dropout_rate': 0.2, 'vision_trainable': False, 'text_trainable': False, 'attention': True, 'lr': 0.01, 'epochs': 10, 'batch_size': 32}\n",
            "Epoch 1/10\n",
            "130/130 [==============================] - 128s 814ms/step - loss: 6.1143 - accuracy: 0.7958 - precision: 0.4911 - recall: 0.4702 - val_loss: 2.3446 - val_accuracy: 0.8052 - val_precision: 0.9057 - val_recall: 0.1832\n",
            "Epoch 2/10\n",
            "130/130 [==============================] - 101s 780ms/step - loss: 1.0292 - accuracy: 0.8408 - precision: 0.5881 - recall: 0.5711 - val_loss: 0.7730 - val_accuracy: 0.8461 - val_precision: 0.8112 - val_recall: 0.4427\n",
            "Epoch 3/10\n",
            "130/130 [==============================] - 102s 788ms/step - loss: 0.4602 - accuracy: 0.8691 - precision: 0.6712 - recall: 0.6239 - val_loss: 0.4895 - val_accuracy: 0.8541 - val_precision: 0.7130 - val_recall: 0.6260\n",
            "Epoch 4/10\n",
            "130/130 [==============================] - 102s 790ms/step - loss: 0.3352 - accuracy: 0.8831 - precision: 0.7121 - recall: 0.6566 - val_loss: 0.4507 - val_accuracy: 0.8479 - val_precision: 0.6585 - val_recall: 0.7214\n",
            "Epoch 5/10\n",
            "130/130 [==============================] - 102s 789ms/step - loss: 0.3105 - accuracy: 0.8862 - precision: 0.7213 - recall: 0.6642 - val_loss: 0.4186 - val_accuracy: 0.8532 - val_precision: 0.8540 - val_recall: 0.4466\n",
            "Epoch 6/10\n",
            "130/130 [==============================] - 102s 788ms/step - loss: 0.2862 - accuracy: 0.8935 - precision: 0.7452 - recall: 0.6767 - val_loss: 0.3407 - val_accuracy: 0.8665 - val_precision: 0.8011 - val_recall: 0.5687\n",
            "Epoch 7/10\n",
            "130/130 [==============================] - 102s 789ms/step - loss: 0.2378 - accuracy: 0.9072 - precision: 0.7819 - recall: 0.7170 - val_loss: 0.4005 - val_accuracy: 0.8603 - val_precision: 0.8777 - val_recall: 0.4656\n",
            "Epoch 8/10\n",
            "130/130 [==============================] - 102s 789ms/step - loss: 0.2412 - accuracy: 0.9039 - precision: 0.7686 - recall: 0.7145 - val_loss: 0.4422 - val_accuracy: 0.8603 - val_precision: 0.9008 - val_recall: 0.4504\n",
            "Epoch 9/10\n",
            "130/130 [==============================] - 102s 789ms/step - loss: 0.2305 - accuracy: 0.9101 - precision: 0.7854 - recall: 0.7321 - val_loss: 0.4184 - val_accuracy: 0.8612 - val_precision: 0.9077 - val_recall: 0.4504\n",
            "Epoch 10/10\n",
            "130/130 [==============================] - 103s 790ms/step - loss: 0.2269 - accuracy: 0.9126 - precision: 0.7922 - recall: 0.7384 - val_loss: 0.4018 - val_accuracy: 0.8594 - val_precision: 0.8939 - val_recall: 0.4504\n"
          ]
        },
        {
          "output_type": "stream",
          "name": "stderr",
          "text": [
            "\n",
            "\n",
            " 19%|█▉        | 9/48 [2:45:30<11:53:28, 1097.65s/it]\u001b[A\u001b[A"
          ]
        },
        {
          "output_type": "stream",
          "name": "stdout",
          "text": [
            "{'num_projection_layers': 0, 'projection_dims': 128, 'dropout_rate': 0.2, 'vision_trainable': False, 'text_trainable': False, 'attention': True, 'lr': 0.01, 'epochs': 10, 'batch_size': 64}\n",
            "Epoch 1/10\n",
            "130/130 [==============================] - 128s 820ms/step - loss: 4.7034 - accuracy: 0.7996 - precision: 0.5010 - recall: 0.4541 - val_loss: 1.4947 - val_accuracy: 0.7731 - val_precision: 0.5077 - val_recall: 0.8817\n",
            "Epoch 2/10\n",
            "130/130 [==============================] - 103s 793ms/step - loss: 1.2918 - accuracy: 0.8403 - precision: 0.5842 - recall: 0.5849 - val_loss: 0.6464 - val_accuracy: 0.8185 - val_precision: 0.5863 - val_recall: 0.7519\n",
            "Epoch 3/10\n",
            "130/130 [==============================] - 103s 793ms/step - loss: 0.4560 - accuracy: 0.8703 - precision: 0.6711 - recall: 0.6365 - val_loss: 0.5511 - val_accuracy: 0.7785 - val_precision: 0.5142 - val_recall: 0.8969\n",
            "Epoch 4/10\n",
            "130/130 [==============================] - 103s 792ms/step - loss: 0.3681 - accuracy: 0.8734 - precision: 0.6795 - recall: 0.6453 - val_loss: 0.3557 - val_accuracy: 0.8639 - val_precision: 0.7189 - val_recall: 0.6832\n",
            "Epoch 5/10\n",
            "130/130 [==============================] - 103s 791ms/step - loss: 0.2723 - accuracy: 0.8944 - precision: 0.7472 - recall: 0.6805 - val_loss: 0.3718 - val_accuracy: 0.8523 - val_precision: 0.6690 - val_recall: 0.7252\n",
            "Epoch 6/10\n",
            "130/130 [==============================] - 103s 792ms/step - loss: 0.2515 - accuracy: 0.8990 - precision: 0.7607 - recall: 0.6918 - val_loss: 0.3452 - val_accuracy: 0.8719 - val_precision: 0.7543 - val_recall: 0.6679\n",
            "Epoch 7/10\n",
            "130/130 [==============================] - 103s 792ms/step - loss: 0.2519 - accuracy: 0.9024 - precision: 0.7653 - recall: 0.7094 - val_loss: 0.3437 - val_accuracy: 0.8674 - val_precision: 0.7364 - val_recall: 0.6718\n",
            "Epoch 8/10\n",
            "130/130 [==============================] - 103s 792ms/step - loss: 0.2443 - accuracy: 0.9053 - precision: 0.7676 - recall: 0.7270 - val_loss: 0.3588 - val_accuracy: 0.8674 - val_precision: 0.7269 - val_recall: 0.6908\n",
            "Epoch 9/10\n",
            "130/130 [==============================] - 103s 792ms/step - loss: 0.2465 - accuracy: 0.9068 - precision: 0.7775 - recall: 0.7208 - val_loss: 0.4087 - val_accuracy: 0.8452 - val_precision: 0.6257 - val_recall: 0.8359\n",
            "Epoch 10/10\n",
            "130/130 [==============================] - 103s 792ms/step - loss: 0.2845 - accuracy: 0.9002 - precision: 0.7567 - recall: 0.7082 - val_loss: 0.3980 - val_accuracy: 0.8763 - val_precision: 0.7758 - val_recall: 0.6603\n"
          ]
        },
        {
          "output_type": "stream",
          "name": "stderr",
          "text": [
            "\n",
            "\n",
            " 21%|██        | 10/48 [3:03:23<11:30:22, 1090.06s/it]\u001b[A\u001b[A"
          ]
        },
        {
          "output_type": "stream",
          "name": "stdout",
          "text": [
            "{'num_projection_layers': 0, 'projection_dims': 128, 'dropout_rate': 0.2, 'vision_trainable': False, 'text_trainable': False, 'attention': True, 'lr': 0.1, 'epochs': 10, 'batch_size': 32}\n",
            "Epoch 1/10\n",
            " 14/130 [==>...........................] - ETA: 1:11 - loss: 306.8893 - accuracy: 0.8104 - precision: 0.5860 - recall: 0.5630"
          ]
        },
        {
          "output_type": "error",
          "ename": "KeyboardInterrupt",
          "evalue": "ignored",
          "traceback": [
            "\u001b[0;31m---------------------------------------------------------------------------\u001b[0m",
            "\u001b[0;31mKeyboardInterrupt\u001b[0m                         Traceback (most recent call last)",
            "\u001b[0;32m<ipython-input-77-8b1b9fbfd096>\u001b[0m in \u001b[0;36m<cell line: 1>\u001b[0;34m()\u001b[0m\n\u001b[0;32m----> 1\u001b[0;31m \u001b[0mh\u001b[0m \u001b[0;34m=\u001b[0m \u001b[0mta\u001b[0m\u001b[0;34m.\u001b[0m\u001b[0mScan\u001b[0m\u001b[0;34m(\u001b[0m\u001b[0mx\u001b[0m \u001b[0;34m=\u001b[0m \u001b[0mX_train\u001b[0m\u001b[0;34m,\u001b[0m \u001b[0my\u001b[0m\u001b[0;34m=\u001b[0m \u001b[0my_train\u001b[0m\u001b[0;34m,\u001b[0m \u001b[0mparams\u001b[0m \u001b[0;34m=\u001b[0m \u001b[0mparams\u001b[0m\u001b[0;34m,\u001b[0m \u001b[0mmodel\u001b[0m \u001b[0;34m=\u001b[0m \u001b[0mmultimodal_model\u001b[0m\u001b[0;34m,\u001b[0m \u001b[0mx_val\u001b[0m \u001b[0;34m=\u001b[0m \u001b[0mX_test\u001b[0m\u001b[0;34m,\u001b[0m \u001b[0my_val\u001b[0m \u001b[0;34m=\u001b[0m \u001b[0my_test\u001b[0m\u001b[0;34m,\u001b[0m \u001b[0mexperiment_name\u001b[0m \u001b[0;34m=\u001b[0m \u001b[0;34m'multi'\u001b[0m\u001b[0;34m,\u001b[0m \u001b[0msave_weights\u001b[0m\u001b[0;34m=\u001b[0m\u001b[0;32mFalse\u001b[0m\u001b[0;34m,\u001b[0m \u001b[0mprint_params\u001b[0m\u001b[0;34m=\u001b[0m\u001b[0;32mTrue\u001b[0m\u001b[0;34m)\u001b[0m\u001b[0;34m\u001b[0m\u001b[0;34m\u001b[0m\u001b[0m\n\u001b[0m",
            "\u001b[0;32m/usr/local/lib/python3.9/dist-packages/talos/scan/Scan.py\u001b[0m in \u001b[0;36m__init__\u001b[0;34m(self, x, y, params, model, experiment_name, x_val, y_val, val_split, multi_input, random_method, seed, performance_target, fraction_limit, round_limit, time_limit, boolean_limit, reduction_method, reduction_interval, reduction_window, reduction_threshold, reduction_metric, minimize_loss, disable_progress_bar, print_params, clear_session, save_weights, save_models)\u001b[0m\n\u001b[1;32m    203\u001b[0m         \u001b[0;31m# start runtime\u001b[0m\u001b[0;34m\u001b[0m\u001b[0;34m\u001b[0m\u001b[0m\n\u001b[1;32m    204\u001b[0m         \u001b[0;32mfrom\u001b[0m \u001b[0;34m.\u001b[0m\u001b[0mscan_run\u001b[0m \u001b[0;32mimport\u001b[0m \u001b[0mscan_run\u001b[0m\u001b[0;34m\u001b[0m\u001b[0;34m\u001b[0m\u001b[0m\n\u001b[0;32m--> 205\u001b[0;31m         \u001b[0mscan_run\u001b[0m\u001b[0;34m(\u001b[0m\u001b[0mself\u001b[0m\u001b[0;34m)\u001b[0m\u001b[0;34m\u001b[0m\u001b[0;34m\u001b[0m\u001b[0m\n\u001b[0m",
            "\u001b[0;32m/usr/local/lib/python3.9/dist-packages/talos/scan/scan_run.py\u001b[0m in \u001b[0;36mscan_run\u001b[0;34m(self)\u001b[0m\n\u001b[1;32m     24\u001b[0m         \u001b[0;31m# otherwise proceed with next permutation\u001b[0m\u001b[0;34m\u001b[0m\u001b[0;34m\u001b[0m\u001b[0m\n\u001b[1;32m     25\u001b[0m         \u001b[0;32mfrom\u001b[0m \u001b[0;34m.\u001b[0m\u001b[0mscan_round\u001b[0m \u001b[0;32mimport\u001b[0m \u001b[0mscan_round\u001b[0m\u001b[0;34m\u001b[0m\u001b[0;34m\u001b[0m\u001b[0m\n\u001b[0;32m---> 26\u001b[0;31m         \u001b[0mself\u001b[0m \u001b[0;34m=\u001b[0m \u001b[0mscan_round\u001b[0m\u001b[0;34m(\u001b[0m\u001b[0mself\u001b[0m\u001b[0;34m)\u001b[0m\u001b[0;34m\u001b[0m\u001b[0;34m\u001b[0m\u001b[0m\n\u001b[0m\u001b[1;32m     27\u001b[0m         \u001b[0mself\u001b[0m\u001b[0;34m.\u001b[0m\u001b[0mpbar\u001b[0m\u001b[0;34m.\u001b[0m\u001b[0mupdate\u001b[0m\u001b[0;34m(\u001b[0m\u001b[0;36m1\u001b[0m\u001b[0;34m)\u001b[0m\u001b[0;34m\u001b[0m\u001b[0;34m\u001b[0m\u001b[0m\n\u001b[1;32m     28\u001b[0m \u001b[0;34m\u001b[0m\u001b[0m\n",
            "\u001b[0;32m/usr/local/lib/python3.9/dist-packages/talos/scan/scan_round.py\u001b[0m in \u001b[0;36mscan_round\u001b[0;34m(self)\u001b[0m\n\u001b[1;32m     17\u001b[0m     \u001b[0;31m# fit the model\u001b[0m\u001b[0;34m\u001b[0m\u001b[0;34m\u001b[0m\u001b[0m\n\u001b[1;32m     18\u001b[0m     \u001b[0;32mfrom\u001b[0m \u001b[0;34m.\u001b[0m\u001b[0;34m.\u001b[0m\u001b[0mmodel\u001b[0m\u001b[0;34m.\u001b[0m\u001b[0mingest_model\u001b[0m \u001b[0;32mimport\u001b[0m \u001b[0mingest_model\u001b[0m\u001b[0;34m\u001b[0m\u001b[0;34m\u001b[0m\u001b[0m\n\u001b[0;32m---> 19\u001b[0;31m     \u001b[0mself\u001b[0m\u001b[0;34m.\u001b[0m\u001b[0mmodel_history\u001b[0m\u001b[0;34m,\u001b[0m \u001b[0mself\u001b[0m\u001b[0;34m.\u001b[0m\u001b[0mround_model\u001b[0m \u001b[0;34m=\u001b[0m \u001b[0mingest_model\u001b[0m\u001b[0;34m(\u001b[0m\u001b[0mself\u001b[0m\u001b[0;34m)\u001b[0m\u001b[0;34m\u001b[0m\u001b[0;34m\u001b[0m\u001b[0m\n\u001b[0m\u001b[1;32m     20\u001b[0m     \u001b[0mself\u001b[0m\u001b[0;34m.\u001b[0m\u001b[0mround_history\u001b[0m\u001b[0;34m.\u001b[0m\u001b[0mappend\u001b[0m\u001b[0;34m(\u001b[0m\u001b[0mself\u001b[0m\u001b[0;34m.\u001b[0m\u001b[0mmodel_history\u001b[0m\u001b[0;34m.\u001b[0m\u001b[0mhistory\u001b[0m\u001b[0;34m)\u001b[0m\u001b[0;34m\u001b[0m\u001b[0;34m\u001b[0m\u001b[0m\n\u001b[1;32m     21\u001b[0m \u001b[0;34m\u001b[0m\u001b[0m\n",
            "\u001b[0;32m/usr/local/lib/python3.9/dist-packages/talos/model/ingest_model.py\u001b[0m in \u001b[0;36mingest_model\u001b[0;34m(self)\u001b[0m\n\u001b[1;32m      4\u001b[0m     through Scan() model paramater.'''\n\u001b[1;32m      5\u001b[0m \u001b[0;34m\u001b[0m\u001b[0m\n\u001b[0;32m----> 6\u001b[0;31m     return self.model(self.x_train,\n\u001b[0m\u001b[1;32m      7\u001b[0m                       \u001b[0mself\u001b[0m\u001b[0;34m.\u001b[0m\u001b[0my_train\u001b[0m\u001b[0;34m,\u001b[0m\u001b[0;34m\u001b[0m\u001b[0;34m\u001b[0m\u001b[0m\n\u001b[1;32m      8\u001b[0m                       \u001b[0mself\u001b[0m\u001b[0;34m.\u001b[0m\u001b[0mx_val\u001b[0m\u001b[0;34m,\u001b[0m\u001b[0;34m\u001b[0m\u001b[0;34m\u001b[0m\u001b[0m\n",
            "\u001b[0;32m<ipython-input-75-4fef6bd46a44>\u001b[0m in \u001b[0;36mmultimodal_model\u001b[0;34m(X_train, y_train, X_test, y_test, params)\u001b[0m\n\u001b[1;32m     11\u001b[0m     \u001b[0moptimizer\u001b[0m\u001b[0;34m=\u001b[0m\u001b[0mtf\u001b[0m\u001b[0;34m.\u001b[0m\u001b[0mkeras\u001b[0m\u001b[0;34m.\u001b[0m\u001b[0moptimizers\u001b[0m\u001b[0;34m.\u001b[0m\u001b[0mAdam\u001b[0m\u001b[0;34m(\u001b[0m\u001b[0mparams\u001b[0m\u001b[0;34m[\u001b[0m\u001b[0;34m'lr'\u001b[0m\u001b[0;34m]\u001b[0m\u001b[0;34m)\u001b[0m\u001b[0;34m,\u001b[0m \u001b[0mloss\u001b[0m\u001b[0;34m=\u001b[0m\u001b[0mloss\u001b[0m\u001b[0;34m,\u001b[0m \u001b[0mmetrics\u001b[0m\u001b[0;34m=\u001b[0m\u001b[0mmetrics\u001b[0m\u001b[0;34m\u001b[0m\u001b[0;34m\u001b[0m\u001b[0m\n\u001b[1;32m     12\u001b[0m   )\n\u001b[0;32m---> 13\u001b[0;31m   history = model.fit(\n\u001b[0m\u001b[1;32m     14\u001b[0m       \u001b[0mtrain_ds\u001b[0m\u001b[0;34m,\u001b[0m \u001b[0mvalidation_data\u001b[0m\u001b[0;34m=\u001b[0m\u001b[0mtest_ds\u001b[0m\u001b[0;34m,\u001b[0m\u001b[0;34m\u001b[0m\u001b[0;34m\u001b[0m\u001b[0m\n\u001b[1;32m     15\u001b[0m       \u001b[0mepochs\u001b[0m\u001b[0;34m=\u001b[0m\u001b[0mparams\u001b[0m\u001b[0;34m[\u001b[0m\u001b[0;34m'epochs'\u001b[0m\u001b[0;34m]\u001b[0m\u001b[0;34m,\u001b[0m \u001b[0mbatch_size\u001b[0m\u001b[0;34m=\u001b[0m\u001b[0mparams\u001b[0m\u001b[0;34m[\u001b[0m\u001b[0;34m'batch_size'\u001b[0m\u001b[0;34m]\u001b[0m\u001b[0;34m,\u001b[0m\u001b[0;34m\u001b[0m\u001b[0;34m\u001b[0m\u001b[0m\n",
            "\u001b[0;32m/usr/local/lib/python3.9/dist-packages/keras/utils/traceback_utils.py\u001b[0m in \u001b[0;36merror_handler\u001b[0;34m(*args, **kwargs)\u001b[0m\n\u001b[1;32m     63\u001b[0m         \u001b[0mfiltered_tb\u001b[0m \u001b[0;34m=\u001b[0m \u001b[0;32mNone\u001b[0m\u001b[0;34m\u001b[0m\u001b[0;34m\u001b[0m\u001b[0m\n\u001b[1;32m     64\u001b[0m         \u001b[0;32mtry\u001b[0m\u001b[0;34m:\u001b[0m\u001b[0;34m\u001b[0m\u001b[0;34m\u001b[0m\u001b[0m\n\u001b[0;32m---> 65\u001b[0;31m             \u001b[0;32mreturn\u001b[0m \u001b[0mfn\u001b[0m\u001b[0;34m(\u001b[0m\u001b[0;34m*\u001b[0m\u001b[0margs\u001b[0m\u001b[0;34m,\u001b[0m \u001b[0;34m**\u001b[0m\u001b[0mkwargs\u001b[0m\u001b[0;34m)\u001b[0m\u001b[0;34m\u001b[0m\u001b[0;34m\u001b[0m\u001b[0m\n\u001b[0m\u001b[1;32m     66\u001b[0m         \u001b[0;32mexcept\u001b[0m \u001b[0mException\u001b[0m \u001b[0;32mas\u001b[0m \u001b[0me\u001b[0m\u001b[0;34m:\u001b[0m\u001b[0;34m\u001b[0m\u001b[0;34m\u001b[0m\u001b[0m\n\u001b[1;32m     67\u001b[0m             \u001b[0mfiltered_tb\u001b[0m \u001b[0;34m=\u001b[0m \u001b[0m_process_traceback_frames\u001b[0m\u001b[0;34m(\u001b[0m\u001b[0me\u001b[0m\u001b[0;34m.\u001b[0m\u001b[0m__traceback__\u001b[0m\u001b[0;34m)\u001b[0m\u001b[0;34m\u001b[0m\u001b[0;34m\u001b[0m\u001b[0m\n",
            "\u001b[0;32m/usr/local/lib/python3.9/dist-packages/keras/engine/training.py\u001b[0m in \u001b[0;36mfit\u001b[0;34m(self, x, y, batch_size, epochs, verbose, callbacks, validation_split, validation_data, shuffle, class_weight, sample_weight, initial_epoch, steps_per_epoch, validation_steps, validation_batch_size, validation_freq, max_queue_size, workers, use_multiprocessing)\u001b[0m\n\u001b[1;32m   1683\u001b[0m                         ):\n\u001b[1;32m   1684\u001b[0m                             \u001b[0mcallbacks\u001b[0m\u001b[0;34m.\u001b[0m\u001b[0mon_train_batch_begin\u001b[0m\u001b[0;34m(\u001b[0m\u001b[0mstep\u001b[0m\u001b[0;34m)\u001b[0m\u001b[0;34m\u001b[0m\u001b[0;34m\u001b[0m\u001b[0m\n\u001b[0;32m-> 1685\u001b[0;31m                             \u001b[0mtmp_logs\u001b[0m \u001b[0;34m=\u001b[0m \u001b[0mself\u001b[0m\u001b[0;34m.\u001b[0m\u001b[0mtrain_function\u001b[0m\u001b[0;34m(\u001b[0m\u001b[0miterator\u001b[0m\u001b[0;34m)\u001b[0m\u001b[0;34m\u001b[0m\u001b[0;34m\u001b[0m\u001b[0m\n\u001b[0m\u001b[1;32m   1686\u001b[0m                             \u001b[0;32mif\u001b[0m \u001b[0mdata_handler\u001b[0m\u001b[0;34m.\u001b[0m\u001b[0mshould_sync\u001b[0m\u001b[0;34m:\u001b[0m\u001b[0;34m\u001b[0m\u001b[0;34m\u001b[0m\u001b[0m\n\u001b[1;32m   1687\u001b[0m                                 \u001b[0mcontext\u001b[0m\u001b[0;34m.\u001b[0m\u001b[0masync_wait\u001b[0m\u001b[0;34m(\u001b[0m\u001b[0;34m)\u001b[0m\u001b[0;34m\u001b[0m\u001b[0;34m\u001b[0m\u001b[0m\n",
            "\u001b[0;32m/usr/local/lib/python3.9/dist-packages/tensorflow/python/util/traceback_utils.py\u001b[0m in \u001b[0;36merror_handler\u001b[0;34m(*args, **kwargs)\u001b[0m\n\u001b[1;32m    148\u001b[0m     \u001b[0mfiltered_tb\u001b[0m \u001b[0;34m=\u001b[0m \u001b[0;32mNone\u001b[0m\u001b[0;34m\u001b[0m\u001b[0;34m\u001b[0m\u001b[0m\n\u001b[1;32m    149\u001b[0m     \u001b[0;32mtry\u001b[0m\u001b[0;34m:\u001b[0m\u001b[0;34m\u001b[0m\u001b[0;34m\u001b[0m\u001b[0m\n\u001b[0;32m--> 150\u001b[0;31m       \u001b[0;32mreturn\u001b[0m \u001b[0mfn\u001b[0m\u001b[0;34m(\u001b[0m\u001b[0;34m*\u001b[0m\u001b[0margs\u001b[0m\u001b[0;34m,\u001b[0m \u001b[0;34m**\u001b[0m\u001b[0mkwargs\u001b[0m\u001b[0;34m)\u001b[0m\u001b[0;34m\u001b[0m\u001b[0;34m\u001b[0m\u001b[0m\n\u001b[0m\u001b[1;32m    151\u001b[0m     \u001b[0;32mexcept\u001b[0m \u001b[0mException\u001b[0m \u001b[0;32mas\u001b[0m \u001b[0me\u001b[0m\u001b[0;34m:\u001b[0m\u001b[0;34m\u001b[0m\u001b[0;34m\u001b[0m\u001b[0m\n\u001b[1;32m    152\u001b[0m       \u001b[0mfiltered_tb\u001b[0m \u001b[0;34m=\u001b[0m \u001b[0m_process_traceback_frames\u001b[0m\u001b[0;34m(\u001b[0m\u001b[0me\u001b[0m\u001b[0;34m.\u001b[0m\u001b[0m__traceback__\u001b[0m\u001b[0;34m)\u001b[0m\u001b[0;34m\u001b[0m\u001b[0;34m\u001b[0m\u001b[0m\n",
            "\u001b[0;32m/usr/local/lib/python3.9/dist-packages/tensorflow/python/eager/polymorphic_function/polymorphic_function.py\u001b[0m in \u001b[0;36m__call__\u001b[0;34m(self, *args, **kwds)\u001b[0m\n\u001b[1;32m    892\u001b[0m \u001b[0;34m\u001b[0m\u001b[0m\n\u001b[1;32m    893\u001b[0m       \u001b[0;32mwith\u001b[0m \u001b[0mOptionalXlaContext\u001b[0m\u001b[0;34m(\u001b[0m\u001b[0mself\u001b[0m\u001b[0;34m.\u001b[0m\u001b[0m_jit_compile\u001b[0m\u001b[0;34m)\u001b[0m\u001b[0;34m:\u001b[0m\u001b[0;34m\u001b[0m\u001b[0;34m\u001b[0m\u001b[0m\n\u001b[0;32m--> 894\u001b[0;31m         \u001b[0mresult\u001b[0m \u001b[0;34m=\u001b[0m \u001b[0mself\u001b[0m\u001b[0;34m.\u001b[0m\u001b[0m_call\u001b[0m\u001b[0;34m(\u001b[0m\u001b[0;34m*\u001b[0m\u001b[0margs\u001b[0m\u001b[0;34m,\u001b[0m \u001b[0;34m**\u001b[0m\u001b[0mkwds\u001b[0m\u001b[0;34m)\u001b[0m\u001b[0;34m\u001b[0m\u001b[0;34m\u001b[0m\u001b[0m\n\u001b[0m\u001b[1;32m    895\u001b[0m \u001b[0;34m\u001b[0m\u001b[0m\n\u001b[1;32m    896\u001b[0m       \u001b[0mnew_tracing_count\u001b[0m \u001b[0;34m=\u001b[0m \u001b[0mself\u001b[0m\u001b[0;34m.\u001b[0m\u001b[0mexperimental_get_tracing_count\u001b[0m\u001b[0;34m(\u001b[0m\u001b[0;34m)\u001b[0m\u001b[0;34m\u001b[0m\u001b[0;34m\u001b[0m\u001b[0m\n",
            "\u001b[0;32m/usr/local/lib/python3.9/dist-packages/tensorflow/python/eager/polymorphic_function/polymorphic_function.py\u001b[0m in \u001b[0;36m_call\u001b[0;34m(self, *args, **kwds)\u001b[0m\n\u001b[1;32m    924\u001b[0m       \u001b[0;31m# In this case we have created variables on the first call, so we run the\u001b[0m\u001b[0;34m\u001b[0m\u001b[0;34m\u001b[0m\u001b[0m\n\u001b[1;32m    925\u001b[0m       \u001b[0;31m# defunned version which is guaranteed to never create variables.\u001b[0m\u001b[0;34m\u001b[0m\u001b[0;34m\u001b[0m\u001b[0m\n\u001b[0;32m--> 926\u001b[0;31m       \u001b[0;32mreturn\u001b[0m \u001b[0mself\u001b[0m\u001b[0;34m.\u001b[0m\u001b[0m_no_variable_creation_fn\u001b[0m\u001b[0;34m(\u001b[0m\u001b[0;34m*\u001b[0m\u001b[0margs\u001b[0m\u001b[0;34m,\u001b[0m \u001b[0;34m**\u001b[0m\u001b[0mkwds\u001b[0m\u001b[0;34m)\u001b[0m  \u001b[0;31m# pylint: disable=not-callable\u001b[0m\u001b[0;34m\u001b[0m\u001b[0;34m\u001b[0m\u001b[0m\n\u001b[0m\u001b[1;32m    927\u001b[0m     \u001b[0;32melif\u001b[0m \u001b[0mself\u001b[0m\u001b[0;34m.\u001b[0m\u001b[0m_variable_creation_fn\u001b[0m \u001b[0;32mis\u001b[0m \u001b[0;32mnot\u001b[0m \u001b[0;32mNone\u001b[0m\u001b[0;34m:\u001b[0m\u001b[0;34m\u001b[0m\u001b[0;34m\u001b[0m\u001b[0m\n\u001b[1;32m    928\u001b[0m       \u001b[0;31m# Release the lock early so that multiple threads can perform the call\u001b[0m\u001b[0;34m\u001b[0m\u001b[0;34m\u001b[0m\u001b[0m\n",
            "\u001b[0;32m/usr/local/lib/python3.9/dist-packages/tensorflow/python/eager/polymorphic_function/tracing_compiler.py\u001b[0m in \u001b[0;36m__call__\u001b[0;34m(self, *args, **kwargs)\u001b[0m\n\u001b[1;32m    141\u001b[0m       (concrete_function,\n\u001b[1;32m    142\u001b[0m        filtered_flat_args) = self._maybe_define_function(args, kwargs)\n\u001b[0;32m--> 143\u001b[0;31m     return concrete_function._call_flat(\n\u001b[0m\u001b[1;32m    144\u001b[0m         filtered_flat_args, captured_inputs=concrete_function.captured_inputs)  # pylint: disable=protected-access\n\u001b[1;32m    145\u001b[0m \u001b[0;34m\u001b[0m\u001b[0m\n",
            "\u001b[0;32m/usr/local/lib/python3.9/dist-packages/tensorflow/python/eager/polymorphic_function/monomorphic_function.py\u001b[0m in \u001b[0;36m_call_flat\u001b[0;34m(self, args, captured_inputs, cancellation_manager)\u001b[0m\n\u001b[1;32m   1755\u001b[0m         and executing_eagerly):\n\u001b[1;32m   1756\u001b[0m       \u001b[0;31m# No tape is watching; skip to running the function.\u001b[0m\u001b[0;34m\u001b[0m\u001b[0;34m\u001b[0m\u001b[0m\n\u001b[0;32m-> 1757\u001b[0;31m       return self._build_call_outputs(self._inference_function.call(\n\u001b[0m\u001b[1;32m   1758\u001b[0m           ctx, args, cancellation_manager=cancellation_manager))\n\u001b[1;32m   1759\u001b[0m     forward_backward = self._select_forward_and_backward_functions(\n",
            "\u001b[0;32m/usr/local/lib/python3.9/dist-packages/tensorflow/python/eager/polymorphic_function/monomorphic_function.py\u001b[0m in \u001b[0;36mcall\u001b[0;34m(self, ctx, args, cancellation_manager)\u001b[0m\n\u001b[1;32m    379\u001b[0m       \u001b[0;32mwith\u001b[0m \u001b[0m_InterpolateFunctionError\u001b[0m\u001b[0;34m(\u001b[0m\u001b[0mself\u001b[0m\u001b[0;34m)\u001b[0m\u001b[0;34m:\u001b[0m\u001b[0;34m\u001b[0m\u001b[0;34m\u001b[0m\u001b[0m\n\u001b[1;32m    380\u001b[0m         \u001b[0;32mif\u001b[0m \u001b[0mcancellation_manager\u001b[0m \u001b[0;32mis\u001b[0m \u001b[0;32mNone\u001b[0m\u001b[0;34m:\u001b[0m\u001b[0;34m\u001b[0m\u001b[0;34m\u001b[0m\u001b[0m\n\u001b[0;32m--> 381\u001b[0;31m           outputs = execute.execute(\n\u001b[0m\u001b[1;32m    382\u001b[0m               \u001b[0mstr\u001b[0m\u001b[0;34m(\u001b[0m\u001b[0mself\u001b[0m\u001b[0;34m.\u001b[0m\u001b[0msignature\u001b[0m\u001b[0;34m.\u001b[0m\u001b[0mname\u001b[0m\u001b[0;34m)\u001b[0m\u001b[0;34m,\u001b[0m\u001b[0;34m\u001b[0m\u001b[0;34m\u001b[0m\u001b[0m\n\u001b[1;32m    383\u001b[0m               \u001b[0mnum_outputs\u001b[0m\u001b[0;34m=\u001b[0m\u001b[0mself\u001b[0m\u001b[0;34m.\u001b[0m\u001b[0m_num_outputs\u001b[0m\u001b[0;34m,\u001b[0m\u001b[0;34m\u001b[0m\u001b[0;34m\u001b[0m\u001b[0m\n",
            "\u001b[0;32m/usr/local/lib/python3.9/dist-packages/tensorflow/python/eager/execute.py\u001b[0m in \u001b[0;36mquick_execute\u001b[0;34m(op_name, num_outputs, inputs, attrs, ctx, name)\u001b[0m\n\u001b[1;32m     50\u001b[0m   \u001b[0;32mtry\u001b[0m\u001b[0;34m:\u001b[0m\u001b[0;34m\u001b[0m\u001b[0;34m\u001b[0m\u001b[0m\n\u001b[1;32m     51\u001b[0m     \u001b[0mctx\u001b[0m\u001b[0;34m.\u001b[0m\u001b[0mensure_initialized\u001b[0m\u001b[0;34m(\u001b[0m\u001b[0;34m)\u001b[0m\u001b[0;34m\u001b[0m\u001b[0;34m\u001b[0m\u001b[0m\n\u001b[0;32m---> 52\u001b[0;31m     tensors = pywrap_tfe.TFE_Py_Execute(ctx._handle, device_name, op_name,\n\u001b[0m\u001b[1;32m     53\u001b[0m                                         inputs, attrs, num_outputs)\n\u001b[1;32m     54\u001b[0m   \u001b[0;32mexcept\u001b[0m \u001b[0mcore\u001b[0m\u001b[0;34m.\u001b[0m\u001b[0m_NotOkStatusException\u001b[0m \u001b[0;32mas\u001b[0m \u001b[0me\u001b[0m\u001b[0;34m:\u001b[0m\u001b[0;34m\u001b[0m\u001b[0;34m\u001b[0m\u001b[0m\n",
            "\u001b[0;31mKeyboardInterrupt\u001b[0m: "
          ]
        }
      ]
    },
    {
      "cell_type": "code",
      "source": [
        "params = {\n",
        "    'num_projection_layers' : [0],\n",
        "    'projection_dims' : [224],\n",
        "    'dropout_rate' : [0.1, 0.2],\n",
        "    'vision_trainable' : [False],\n",
        "    'text_trainable' : [False],\n",
        "    'attention' : [True],\n",
        "    'lr' : [0.001, 0.005],\n",
        "    'epochs' : [10],\n",
        "    'batch_size' : [32]\n",
        "}"
      ],
      "metadata": {
        "id": "Pct4VZSldbgl"
      },
      "execution_count": null,
      "outputs": []
    },
    {
      "cell_type": "code",
      "source": [
        "h = ta.Scan(x = X_train, y= y_train, params = params, model = multimodal_model, x_val = X_test, y_val = y_test, experiment_name = 'multi', save_weights=True, print_params=True)"
      ],
      "metadata": {
        "colab": {
          "base_uri": "https://localhost:8080/",
          "height": 1000
        },
        "id": "Ejj4XHt_dq2M",
        "outputId": "4ebebc17-cb00-4e94-8819-1f0ea30c3aee"
      },
      "execution_count": null,
      "outputs": [
        {
          "output_type": "stream",
          "name": "stderr",
          "text": [
            "\r  0%|          | 0/4 [00:00<?, ?it/s]"
          ]
        },
        {
          "output_type": "stream",
          "name": "stdout",
          "text": [
            "{'num_projection_layers': 0, 'projection_dims': 224, 'dropout_rate': 0.1, 'vision_trainable': False, 'text_trainable': False, 'attention': True, 'lr': 0.001, 'epochs': 10, 'batch_size': 32}\n"
          ]
        },
        {
          "output_type": "stream",
          "name": "stderr",
          "text": [
            "\r  2%|▏         | 1/48 [3:12:19<150:39:39, 11539.98s/it]\n"
          ]
        },
        {
          "output_type": "stream",
          "name": "stdout",
          "text": [
            "Epoch 1/10\n",
            "130/130 [==============================] - 126s 794ms/step - loss: 0.8962 - accuracy: 0.7873 - precision: 0.4682 - recall: 0.4204 - val_loss: 1.1604 - val_accuracy: 0.7678 - val_precision: 1.0000 - val_recall: 0.0038\n",
            "Epoch 2/10\n",
            "130/130 [==============================] - 103s 794ms/step - loss: 0.3692 - accuracy: 0.8553 - precision: 0.6408 - recall: 0.5610 - val_loss: 0.3556 - val_accuracy: 0.8568 - val_precision: 0.8301 - val_recall: 0.4847\n",
            "Epoch 3/10\n",
            "130/130 [==============================] - 103s 795ms/step - loss: 0.2924 - accuracy: 0.8778 - precision: 0.7061 - recall: 0.6226 - val_loss: 0.3165 - val_accuracy: 0.8648 - val_precision: 0.7865 - val_recall: 0.5763\n",
            "Epoch 4/10\n",
            "130/130 [==============================] - 104s 800ms/step - loss: 0.2861 - accuracy: 0.8802 - precision: 0.7091 - recall: 0.6377 - val_loss: 0.3134 - val_accuracy: 0.8710 - val_precision: 0.8000 - val_recall: 0.5954\n",
            "Epoch 5/10\n",
            "130/130 [==============================] - 104s 799ms/step - loss: 0.2678 - accuracy: 0.8915 - precision: 0.7423 - recall: 0.6667 - val_loss: 0.3198 - val_accuracy: 0.8559 - val_precision: 0.6712 - val_recall: 0.7481\n",
            "Epoch 6/10\n",
            "130/130 [==============================] - 104s 801ms/step - loss: 0.2540 - accuracy: 0.8969 - precision: 0.7521 - recall: 0.6906 - val_loss: 0.3252 - val_accuracy: 0.8559 - val_precision: 0.6623 - val_recall: 0.7786\n",
            "Epoch 7/10\n",
            "130/130 [==============================] - 104s 801ms/step - loss: 0.2395 - accuracy: 0.8995 - precision: 0.7592 - recall: 0.6981 - val_loss: 0.3203 - val_accuracy: 0.8612 - val_precision: 0.6710 - val_recall: 0.7939\n",
            "Epoch 8/10\n",
            "130/130 [==============================] - 104s 802ms/step - loss: 0.2223 - accuracy: 0.9051 - precision: 0.7746 - recall: 0.7132 - val_loss: 0.2983 - val_accuracy: 0.8754 - val_precision: 0.7148 - val_recall: 0.7748\n",
            "Epoch 9/10\n",
            "130/130 [==============================] - 104s 802ms/step - loss: 0.2224 - accuracy: 0.9031 - precision: 0.7677 - recall: 0.7107 - val_loss: 0.3100 - val_accuracy: 0.8692 - val_precision: 0.6910 - val_recall: 0.7939\n",
            "Epoch 10/10\n",
            "130/130 [==============================] - 104s 801ms/step - loss: 0.2180 - accuracy: 0.9063 - precision: 0.7784 - recall: 0.7157 - val_loss: 0.2902 - val_accuracy: 0.8835 - val_precision: 0.7569 - val_recall: 0.7366\n"
          ]
        },
        {
          "output_type": "stream",
          "name": "stderr",
          "text": [
            "\r 25%|██▌       | 1/4 [18:44<56:13, 1124.51s/it]"
          ]
        },
        {
          "output_type": "stream",
          "name": "stdout",
          "text": [
            "{'num_projection_layers': 0, 'projection_dims': 224, 'dropout_rate': 0.1, 'vision_trainable': False, 'text_trainable': False, 'attention': True, 'lr': 0.005, 'epochs': 10, 'batch_size': 32}\n",
            "Epoch 1/10\n",
            "130/130 [==============================] - 131s 832ms/step - loss: 15.8833 - accuracy: 0.7812 - precision: 0.4561 - recall: 0.4664 - val_loss: 3.1761 - val_accuracy: 0.7669 - val_precision: 0.0000e+00 - val_recall: 0.0000e+00\n",
            "Epoch 2/10\n",
            "130/130 [==============================] - 104s 802ms/step - loss: 1.6742 - accuracy: 0.8213 - precision: 0.5351 - recall: 0.5270 - val_loss: 6.2185 - val_accuracy: 0.7669 - val_precision: 0.0000e+00 - val_recall: 0.0000e+00\n",
            "Epoch 3/10\n",
            "130/130 [==============================] - 104s 799ms/step - loss: 1.5851 - accuracy: 0.8360 - precision: 0.5740 - recall: 0.5660 - val_loss: 3.7009 - val_accuracy: 0.7678 - val_precision: 1.0000 - val_recall: 0.0038\n",
            "Epoch 4/10\n",
            "130/130 [==============================] - 104s 801ms/step - loss: 0.8494 - accuracy: 0.8529 - precision: 0.6189 - recall: 0.6088 - val_loss: 1.7907 - val_accuracy: 0.7865 - val_precision: 0.9583 - val_recall: 0.0878\n",
            "Epoch 5/10\n",
            "130/130 [==============================] - 104s 800ms/step - loss: 0.5808 - accuracy: 0.8626 - precision: 0.6464 - recall: 0.6277 - val_loss: 0.5393 - val_accuracy: 0.8496 - val_precision: 0.8843 - val_recall: 0.4084\n",
            "Epoch 6/10\n",
            "130/130 [==============================] - 104s 800ms/step - loss: 0.4050 - accuracy: 0.8787 - precision: 0.6930 - recall: 0.6616 - val_loss: 0.9770 - val_accuracy: 0.8167 - val_precision: 0.9516 - val_recall: 0.2252\n",
            "Epoch 7/10\n",
            "130/130 [==============================] - 104s 800ms/step - loss: 0.3459 - accuracy: 0.8857 - precision: 0.7124 - recall: 0.6792 - val_loss: 0.6866 - val_accuracy: 0.8345 - val_precision: 0.9524 - val_recall: 0.3053\n",
            "Epoch 8/10\n",
            "130/130 [==============================] - 104s 799ms/step - loss: 0.3145 - accuracy: 0.8911 - precision: 0.7293 - recall: 0.6881 - val_loss: 0.3969 - val_accuracy: 0.8639 - val_precision: 0.8428 - val_recall: 0.5115\n",
            "Epoch 9/10\n",
            "130/130 [==============================] - 104s 800ms/step - loss: 0.2751 - accuracy: 0.8998 - precision: 0.7582 - recall: 0.7019 - val_loss: 0.3216 - val_accuracy: 0.8665 - val_precision: 0.6986 - val_recall: 0.7519\n",
            "Epoch 10/10\n",
            "130/130 [==============================] - 104s 801ms/step - loss: 0.2367 - accuracy: 0.9034 - precision: 0.7665 - recall: 0.7145 - val_loss: 0.3918 - val_accuracy: 0.8443 - val_precision: 0.6268 - val_recall: 0.8206\n"
          ]
        },
        {
          "output_type": "stream",
          "name": "stderr",
          "text": [
            "\r 50%|█████     | 2/4 [36:50<36:43, 1101.91s/it]"
          ]
        },
        {
          "output_type": "stream",
          "name": "stdout",
          "text": [
            "{'num_projection_layers': 0, 'projection_dims': 224, 'dropout_rate': 0.2, 'vision_trainable': False, 'text_trainable': False, 'attention': True, 'lr': 0.001, 'epochs': 10, 'batch_size': 32}\n",
            "Epoch 1/10\n",
            "130/130 [==============================] - 131s 835ms/step - loss: 1.7496 - accuracy: 0.7859 - precision: 0.4671 - recall: 0.4702 - val_loss: 0.4713 - val_accuracy: 0.8158 - val_precision: 0.8161 - val_recall: 0.2710\n",
            "Epoch 2/10\n",
            "130/130 [==============================] - 104s 803ms/step - loss: 0.3586 - accuracy: 0.8522 - precision: 0.6376 - recall: 0.5333 - val_loss: 0.4191 - val_accuracy: 0.8488 - val_precision: 0.8286 - val_recall: 0.4427\n",
            "Epoch 3/10\n",
            "130/130 [==============================] - 104s 801ms/step - loss: 0.3531 - accuracy: 0.8674 - precision: 0.6704 - recall: 0.6088 - val_loss: 0.3385 - val_accuracy: 0.8523 - val_precision: 0.6846 - val_recall: 0.6794\n",
            "Epoch 4/10\n",
            "130/130 [==============================] - 104s 801ms/step - loss: 0.3200 - accuracy: 0.8800 - precision: 0.7052 - recall: 0.6440 - val_loss: 0.4474 - val_accuracy: 0.8114 - val_precision: 0.5622 - val_recall: 0.8626\n",
            "Epoch 5/10\n",
            "130/130 [==============================] - 104s 800ms/step - loss: 0.2898 - accuracy: 0.8821 - precision: 0.7060 - recall: 0.6616 - val_loss: 0.3968 - val_accuracy: 0.8274 - val_precision: 0.5914 - val_recall: 0.8397\n",
            "Epoch 6/10\n",
            "130/130 [==============================] - 104s 801ms/step - loss: 0.2649 - accuracy: 0.8913 - precision: 0.7334 - recall: 0.6818 - val_loss: 0.4552 - val_accuracy: 0.8007 - val_precision: 0.5452 - val_recall: 0.8740\n",
            "Epoch 7/10\n",
            "130/130 [==============================] - 104s 800ms/step - loss: 0.2411 - accuracy: 0.8983 - precision: 0.7569 - recall: 0.6931 - val_loss: 0.4467 - val_accuracy: 0.8016 - val_precision: 0.5468 - val_recall: 0.8702\n",
            "Epoch 8/10\n",
            "130/130 [==============================] - 104s 801ms/step - loss: 0.2363 - accuracy: 0.9012 - precision: 0.7622 - recall: 0.7057 - val_loss: 0.4082 - val_accuracy: 0.8176 - val_precision: 0.5722 - val_recall: 0.8626\n",
            "Epoch 9/10\n",
            "130/130 [==============================] - 104s 802ms/step - loss: 0.2269 - accuracy: 0.9046 - precision: 0.7688 - recall: 0.7195 - val_loss: 0.4417 - val_accuracy: 0.8025 - val_precision: 0.5478 - val_recall: 0.8740\n",
            "Epoch 10/10\n",
            "130/130 [==============================] - 104s 801ms/step - loss: 0.2299 - accuracy: 0.9039 - precision: 0.7679 - recall: 0.7157 - val_loss: 0.4544 - val_accuracy: 0.7945 - val_precision: 0.5363 - val_recall: 0.8740\n"
          ]
        },
        {
          "output_type": "stream",
          "name": "stderr",
          "text": [
            "\r 75%|███████▌  | 3/4 [54:58<18:15, 1095.29s/it]"
          ]
        },
        {
          "output_type": "stream",
          "name": "stdout",
          "text": [
            "{'num_projection_layers': 0, 'projection_dims': 224, 'dropout_rate': 0.2, 'vision_trainable': False, 'text_trainable': False, 'attention': True, 'lr': 0.005, 'epochs': 10, 'batch_size': 32}\n",
            "Epoch 1/10\n",
            " 31/130 [======>.......................] - ETA: 1:02 - loss: 28.0519 - accuracy: 0.7472 - precision: 0.4349 - recall: 0.6311"
          ]
        },
        {
          "output_type": "error",
          "ename": "KeyboardInterrupt",
          "evalue": "ignored",
          "traceback": [
            "\u001b[0;31m---------------------------------------------------------------------------\u001b[0m",
            "\u001b[0;31mKeyboardInterrupt\u001b[0m                         Traceback (most recent call last)",
            "\u001b[0;32m<ipython-input-79-b1d2b3bc46fe>\u001b[0m in \u001b[0;36m<cell line: 1>\u001b[0;34m()\u001b[0m\n\u001b[0;32m----> 1\u001b[0;31m \u001b[0mh\u001b[0m \u001b[0;34m=\u001b[0m \u001b[0mta\u001b[0m\u001b[0;34m.\u001b[0m\u001b[0mScan\u001b[0m\u001b[0;34m(\u001b[0m\u001b[0mx\u001b[0m \u001b[0;34m=\u001b[0m \u001b[0mX_train\u001b[0m\u001b[0;34m,\u001b[0m \u001b[0my\u001b[0m\u001b[0;34m=\u001b[0m \u001b[0my_train\u001b[0m\u001b[0;34m,\u001b[0m \u001b[0mparams\u001b[0m \u001b[0;34m=\u001b[0m \u001b[0mparams\u001b[0m\u001b[0;34m,\u001b[0m \u001b[0mmodel\u001b[0m \u001b[0;34m=\u001b[0m \u001b[0mmultimodal_model\u001b[0m\u001b[0;34m,\u001b[0m \u001b[0mx_val\u001b[0m \u001b[0;34m=\u001b[0m \u001b[0mX_test\u001b[0m\u001b[0;34m,\u001b[0m \u001b[0my_val\u001b[0m \u001b[0;34m=\u001b[0m \u001b[0my_test\u001b[0m\u001b[0;34m,\u001b[0m \u001b[0mexperiment_name\u001b[0m \u001b[0;34m=\u001b[0m \u001b[0;34m'multi'\u001b[0m\u001b[0;34m,\u001b[0m \u001b[0msave_weights\u001b[0m\u001b[0;34m=\u001b[0m\u001b[0;32mTrue\u001b[0m\u001b[0;34m,\u001b[0m \u001b[0mprint_params\u001b[0m\u001b[0;34m=\u001b[0m\u001b[0;32mTrue\u001b[0m\u001b[0;34m)\u001b[0m\u001b[0;34m\u001b[0m\u001b[0;34m\u001b[0m\u001b[0m\n\u001b[0m",
            "\u001b[0;32m/usr/local/lib/python3.9/dist-packages/talos/scan/Scan.py\u001b[0m in \u001b[0;36m__init__\u001b[0;34m(self, x, y, params, model, experiment_name, x_val, y_val, val_split, multi_input, random_method, seed, performance_target, fraction_limit, round_limit, time_limit, boolean_limit, reduction_method, reduction_interval, reduction_window, reduction_threshold, reduction_metric, minimize_loss, disable_progress_bar, print_params, clear_session, save_weights, save_models)\u001b[0m\n\u001b[1;32m    203\u001b[0m         \u001b[0;31m# start runtime\u001b[0m\u001b[0;34m\u001b[0m\u001b[0;34m\u001b[0m\u001b[0m\n\u001b[1;32m    204\u001b[0m         \u001b[0;32mfrom\u001b[0m \u001b[0;34m.\u001b[0m\u001b[0mscan_run\u001b[0m \u001b[0;32mimport\u001b[0m \u001b[0mscan_run\u001b[0m\u001b[0;34m\u001b[0m\u001b[0;34m\u001b[0m\u001b[0m\n\u001b[0;32m--> 205\u001b[0;31m         \u001b[0mscan_run\u001b[0m\u001b[0;34m(\u001b[0m\u001b[0mself\u001b[0m\u001b[0;34m)\u001b[0m\u001b[0;34m\u001b[0m\u001b[0;34m\u001b[0m\u001b[0m\n\u001b[0m",
            "\u001b[0;32m/usr/local/lib/python3.9/dist-packages/talos/scan/scan_run.py\u001b[0m in \u001b[0;36mscan_run\u001b[0;34m(self)\u001b[0m\n\u001b[1;32m     24\u001b[0m         \u001b[0;31m# otherwise proceed with next permutation\u001b[0m\u001b[0;34m\u001b[0m\u001b[0;34m\u001b[0m\u001b[0m\n\u001b[1;32m     25\u001b[0m         \u001b[0;32mfrom\u001b[0m \u001b[0;34m.\u001b[0m\u001b[0mscan_round\u001b[0m \u001b[0;32mimport\u001b[0m \u001b[0mscan_round\u001b[0m\u001b[0;34m\u001b[0m\u001b[0;34m\u001b[0m\u001b[0m\n\u001b[0;32m---> 26\u001b[0;31m         \u001b[0mself\u001b[0m \u001b[0;34m=\u001b[0m \u001b[0mscan_round\u001b[0m\u001b[0;34m(\u001b[0m\u001b[0mself\u001b[0m\u001b[0;34m)\u001b[0m\u001b[0;34m\u001b[0m\u001b[0;34m\u001b[0m\u001b[0m\n\u001b[0m\u001b[1;32m     27\u001b[0m         \u001b[0mself\u001b[0m\u001b[0;34m.\u001b[0m\u001b[0mpbar\u001b[0m\u001b[0;34m.\u001b[0m\u001b[0mupdate\u001b[0m\u001b[0;34m(\u001b[0m\u001b[0;36m1\u001b[0m\u001b[0;34m)\u001b[0m\u001b[0;34m\u001b[0m\u001b[0;34m\u001b[0m\u001b[0m\n\u001b[1;32m     28\u001b[0m \u001b[0;34m\u001b[0m\u001b[0m\n",
            "\u001b[0;32m/usr/local/lib/python3.9/dist-packages/talos/scan/scan_round.py\u001b[0m in \u001b[0;36mscan_round\u001b[0;34m(self)\u001b[0m\n\u001b[1;32m     17\u001b[0m     \u001b[0;31m# fit the model\u001b[0m\u001b[0;34m\u001b[0m\u001b[0;34m\u001b[0m\u001b[0m\n\u001b[1;32m     18\u001b[0m     \u001b[0;32mfrom\u001b[0m \u001b[0;34m.\u001b[0m\u001b[0;34m.\u001b[0m\u001b[0mmodel\u001b[0m\u001b[0;34m.\u001b[0m\u001b[0mingest_model\u001b[0m \u001b[0;32mimport\u001b[0m \u001b[0mingest_model\u001b[0m\u001b[0;34m\u001b[0m\u001b[0;34m\u001b[0m\u001b[0m\n\u001b[0;32m---> 19\u001b[0;31m     \u001b[0mself\u001b[0m\u001b[0;34m.\u001b[0m\u001b[0mmodel_history\u001b[0m\u001b[0;34m,\u001b[0m \u001b[0mself\u001b[0m\u001b[0;34m.\u001b[0m\u001b[0mround_model\u001b[0m \u001b[0;34m=\u001b[0m \u001b[0mingest_model\u001b[0m\u001b[0;34m(\u001b[0m\u001b[0mself\u001b[0m\u001b[0;34m)\u001b[0m\u001b[0;34m\u001b[0m\u001b[0;34m\u001b[0m\u001b[0m\n\u001b[0m\u001b[1;32m     20\u001b[0m     \u001b[0mself\u001b[0m\u001b[0;34m.\u001b[0m\u001b[0mround_history\u001b[0m\u001b[0;34m.\u001b[0m\u001b[0mappend\u001b[0m\u001b[0;34m(\u001b[0m\u001b[0mself\u001b[0m\u001b[0;34m.\u001b[0m\u001b[0mmodel_history\u001b[0m\u001b[0;34m.\u001b[0m\u001b[0mhistory\u001b[0m\u001b[0;34m)\u001b[0m\u001b[0;34m\u001b[0m\u001b[0;34m\u001b[0m\u001b[0m\n\u001b[1;32m     21\u001b[0m \u001b[0;34m\u001b[0m\u001b[0m\n",
            "\u001b[0;32m/usr/local/lib/python3.9/dist-packages/talos/model/ingest_model.py\u001b[0m in \u001b[0;36mingest_model\u001b[0;34m(self)\u001b[0m\n\u001b[1;32m      4\u001b[0m     through Scan() model paramater.'''\n\u001b[1;32m      5\u001b[0m \u001b[0;34m\u001b[0m\u001b[0m\n\u001b[0;32m----> 6\u001b[0;31m     return self.model(self.x_train,\n\u001b[0m\u001b[1;32m      7\u001b[0m                       \u001b[0mself\u001b[0m\u001b[0;34m.\u001b[0m\u001b[0my_train\u001b[0m\u001b[0;34m,\u001b[0m\u001b[0;34m\u001b[0m\u001b[0;34m\u001b[0m\u001b[0m\n\u001b[1;32m      8\u001b[0m                       \u001b[0mself\u001b[0m\u001b[0;34m.\u001b[0m\u001b[0mx_val\u001b[0m\u001b[0;34m,\u001b[0m\u001b[0;34m\u001b[0m\u001b[0;34m\u001b[0m\u001b[0m\n",
            "\u001b[0;32m<ipython-input-75-4fef6bd46a44>\u001b[0m in \u001b[0;36mmultimodal_model\u001b[0;34m(X_train, y_train, X_test, y_test, params)\u001b[0m\n\u001b[1;32m     11\u001b[0m     \u001b[0moptimizer\u001b[0m\u001b[0;34m=\u001b[0m\u001b[0mtf\u001b[0m\u001b[0;34m.\u001b[0m\u001b[0mkeras\u001b[0m\u001b[0;34m.\u001b[0m\u001b[0moptimizers\u001b[0m\u001b[0;34m.\u001b[0m\u001b[0mAdam\u001b[0m\u001b[0;34m(\u001b[0m\u001b[0mparams\u001b[0m\u001b[0;34m[\u001b[0m\u001b[0;34m'lr'\u001b[0m\u001b[0;34m]\u001b[0m\u001b[0;34m)\u001b[0m\u001b[0;34m,\u001b[0m \u001b[0mloss\u001b[0m\u001b[0;34m=\u001b[0m\u001b[0mloss\u001b[0m\u001b[0;34m,\u001b[0m \u001b[0mmetrics\u001b[0m\u001b[0;34m=\u001b[0m\u001b[0mmetrics\u001b[0m\u001b[0;34m\u001b[0m\u001b[0;34m\u001b[0m\u001b[0m\n\u001b[1;32m     12\u001b[0m   )\n\u001b[0;32m---> 13\u001b[0;31m   history = model.fit(\n\u001b[0m\u001b[1;32m     14\u001b[0m       \u001b[0mtrain_ds\u001b[0m\u001b[0;34m,\u001b[0m \u001b[0mvalidation_data\u001b[0m\u001b[0;34m=\u001b[0m\u001b[0mtest_ds\u001b[0m\u001b[0;34m,\u001b[0m\u001b[0;34m\u001b[0m\u001b[0;34m\u001b[0m\u001b[0m\n\u001b[1;32m     15\u001b[0m       \u001b[0mepochs\u001b[0m\u001b[0;34m=\u001b[0m\u001b[0mparams\u001b[0m\u001b[0;34m[\u001b[0m\u001b[0;34m'epochs'\u001b[0m\u001b[0;34m]\u001b[0m\u001b[0;34m,\u001b[0m \u001b[0mbatch_size\u001b[0m\u001b[0;34m=\u001b[0m\u001b[0mparams\u001b[0m\u001b[0;34m[\u001b[0m\u001b[0;34m'batch_size'\u001b[0m\u001b[0;34m]\u001b[0m\u001b[0;34m,\u001b[0m\u001b[0;34m\u001b[0m\u001b[0;34m\u001b[0m\u001b[0m\n",
            "\u001b[0;32m/usr/local/lib/python3.9/dist-packages/keras/utils/traceback_utils.py\u001b[0m in \u001b[0;36merror_handler\u001b[0;34m(*args, **kwargs)\u001b[0m\n\u001b[1;32m     63\u001b[0m         \u001b[0mfiltered_tb\u001b[0m \u001b[0;34m=\u001b[0m \u001b[0;32mNone\u001b[0m\u001b[0;34m\u001b[0m\u001b[0;34m\u001b[0m\u001b[0m\n\u001b[1;32m     64\u001b[0m         \u001b[0;32mtry\u001b[0m\u001b[0;34m:\u001b[0m\u001b[0;34m\u001b[0m\u001b[0;34m\u001b[0m\u001b[0m\n\u001b[0;32m---> 65\u001b[0;31m             \u001b[0;32mreturn\u001b[0m \u001b[0mfn\u001b[0m\u001b[0;34m(\u001b[0m\u001b[0;34m*\u001b[0m\u001b[0margs\u001b[0m\u001b[0;34m,\u001b[0m \u001b[0;34m**\u001b[0m\u001b[0mkwargs\u001b[0m\u001b[0;34m)\u001b[0m\u001b[0;34m\u001b[0m\u001b[0;34m\u001b[0m\u001b[0m\n\u001b[0m\u001b[1;32m     66\u001b[0m         \u001b[0;32mexcept\u001b[0m \u001b[0mException\u001b[0m \u001b[0;32mas\u001b[0m \u001b[0me\u001b[0m\u001b[0;34m:\u001b[0m\u001b[0;34m\u001b[0m\u001b[0;34m\u001b[0m\u001b[0m\n\u001b[1;32m     67\u001b[0m             \u001b[0mfiltered_tb\u001b[0m \u001b[0;34m=\u001b[0m \u001b[0m_process_traceback_frames\u001b[0m\u001b[0;34m(\u001b[0m\u001b[0me\u001b[0m\u001b[0;34m.\u001b[0m\u001b[0m__traceback__\u001b[0m\u001b[0;34m)\u001b[0m\u001b[0;34m\u001b[0m\u001b[0;34m\u001b[0m\u001b[0m\n",
            "\u001b[0;32m/usr/local/lib/python3.9/dist-packages/keras/engine/training.py\u001b[0m in \u001b[0;36mfit\u001b[0;34m(self, x, y, batch_size, epochs, verbose, callbacks, validation_split, validation_data, shuffle, class_weight, sample_weight, initial_epoch, steps_per_epoch, validation_steps, validation_batch_size, validation_freq, max_queue_size, workers, use_multiprocessing)\u001b[0m\n\u001b[1;32m   1683\u001b[0m                         ):\n\u001b[1;32m   1684\u001b[0m                             \u001b[0mcallbacks\u001b[0m\u001b[0;34m.\u001b[0m\u001b[0mon_train_batch_begin\u001b[0m\u001b[0;34m(\u001b[0m\u001b[0mstep\u001b[0m\u001b[0;34m)\u001b[0m\u001b[0;34m\u001b[0m\u001b[0;34m\u001b[0m\u001b[0m\n\u001b[0;32m-> 1685\u001b[0;31m                             \u001b[0mtmp_logs\u001b[0m \u001b[0;34m=\u001b[0m \u001b[0mself\u001b[0m\u001b[0;34m.\u001b[0m\u001b[0mtrain_function\u001b[0m\u001b[0;34m(\u001b[0m\u001b[0miterator\u001b[0m\u001b[0;34m)\u001b[0m\u001b[0;34m\u001b[0m\u001b[0;34m\u001b[0m\u001b[0m\n\u001b[0m\u001b[1;32m   1686\u001b[0m                             \u001b[0;32mif\u001b[0m \u001b[0mdata_handler\u001b[0m\u001b[0;34m.\u001b[0m\u001b[0mshould_sync\u001b[0m\u001b[0;34m:\u001b[0m\u001b[0;34m\u001b[0m\u001b[0;34m\u001b[0m\u001b[0m\n\u001b[1;32m   1687\u001b[0m                                 \u001b[0mcontext\u001b[0m\u001b[0;34m.\u001b[0m\u001b[0masync_wait\u001b[0m\u001b[0;34m(\u001b[0m\u001b[0;34m)\u001b[0m\u001b[0;34m\u001b[0m\u001b[0;34m\u001b[0m\u001b[0m\n",
            "\u001b[0;32m/usr/local/lib/python3.9/dist-packages/tensorflow/python/util/traceback_utils.py\u001b[0m in \u001b[0;36merror_handler\u001b[0;34m(*args, **kwargs)\u001b[0m\n\u001b[1;32m    148\u001b[0m     \u001b[0mfiltered_tb\u001b[0m \u001b[0;34m=\u001b[0m \u001b[0;32mNone\u001b[0m\u001b[0;34m\u001b[0m\u001b[0;34m\u001b[0m\u001b[0m\n\u001b[1;32m    149\u001b[0m     \u001b[0;32mtry\u001b[0m\u001b[0;34m:\u001b[0m\u001b[0;34m\u001b[0m\u001b[0;34m\u001b[0m\u001b[0m\n\u001b[0;32m--> 150\u001b[0;31m       \u001b[0;32mreturn\u001b[0m \u001b[0mfn\u001b[0m\u001b[0;34m(\u001b[0m\u001b[0;34m*\u001b[0m\u001b[0margs\u001b[0m\u001b[0;34m,\u001b[0m \u001b[0;34m**\u001b[0m\u001b[0mkwargs\u001b[0m\u001b[0;34m)\u001b[0m\u001b[0;34m\u001b[0m\u001b[0;34m\u001b[0m\u001b[0m\n\u001b[0m\u001b[1;32m    151\u001b[0m     \u001b[0;32mexcept\u001b[0m \u001b[0mException\u001b[0m \u001b[0;32mas\u001b[0m \u001b[0me\u001b[0m\u001b[0;34m:\u001b[0m\u001b[0;34m\u001b[0m\u001b[0;34m\u001b[0m\u001b[0m\n\u001b[1;32m    152\u001b[0m       \u001b[0mfiltered_tb\u001b[0m \u001b[0;34m=\u001b[0m \u001b[0m_process_traceback_frames\u001b[0m\u001b[0;34m(\u001b[0m\u001b[0me\u001b[0m\u001b[0;34m.\u001b[0m\u001b[0m__traceback__\u001b[0m\u001b[0;34m)\u001b[0m\u001b[0;34m\u001b[0m\u001b[0;34m\u001b[0m\u001b[0m\n",
            "\u001b[0;32m/usr/local/lib/python3.9/dist-packages/tensorflow/python/eager/polymorphic_function/polymorphic_function.py\u001b[0m in \u001b[0;36m__call__\u001b[0;34m(self, *args, **kwds)\u001b[0m\n\u001b[1;32m    892\u001b[0m \u001b[0;34m\u001b[0m\u001b[0m\n\u001b[1;32m    893\u001b[0m       \u001b[0;32mwith\u001b[0m \u001b[0mOptionalXlaContext\u001b[0m\u001b[0;34m(\u001b[0m\u001b[0mself\u001b[0m\u001b[0;34m.\u001b[0m\u001b[0m_jit_compile\u001b[0m\u001b[0;34m)\u001b[0m\u001b[0;34m:\u001b[0m\u001b[0;34m\u001b[0m\u001b[0;34m\u001b[0m\u001b[0m\n\u001b[0;32m--> 894\u001b[0;31m         \u001b[0mresult\u001b[0m \u001b[0;34m=\u001b[0m \u001b[0mself\u001b[0m\u001b[0;34m.\u001b[0m\u001b[0m_call\u001b[0m\u001b[0;34m(\u001b[0m\u001b[0;34m*\u001b[0m\u001b[0margs\u001b[0m\u001b[0;34m,\u001b[0m \u001b[0;34m**\u001b[0m\u001b[0mkwds\u001b[0m\u001b[0;34m)\u001b[0m\u001b[0;34m\u001b[0m\u001b[0;34m\u001b[0m\u001b[0m\n\u001b[0m\u001b[1;32m    895\u001b[0m \u001b[0;34m\u001b[0m\u001b[0m\n\u001b[1;32m    896\u001b[0m       \u001b[0mnew_tracing_count\u001b[0m \u001b[0;34m=\u001b[0m \u001b[0mself\u001b[0m\u001b[0;34m.\u001b[0m\u001b[0mexperimental_get_tracing_count\u001b[0m\u001b[0;34m(\u001b[0m\u001b[0;34m)\u001b[0m\u001b[0;34m\u001b[0m\u001b[0;34m\u001b[0m\u001b[0m\n",
            "\u001b[0;32m/usr/local/lib/python3.9/dist-packages/tensorflow/python/eager/polymorphic_function/polymorphic_function.py\u001b[0m in \u001b[0;36m_call\u001b[0;34m(self, *args, **kwds)\u001b[0m\n\u001b[1;32m    924\u001b[0m       \u001b[0;31m# In this case we have created variables on the first call, so we run the\u001b[0m\u001b[0;34m\u001b[0m\u001b[0;34m\u001b[0m\u001b[0m\n\u001b[1;32m    925\u001b[0m       \u001b[0;31m# defunned version which is guaranteed to never create variables.\u001b[0m\u001b[0;34m\u001b[0m\u001b[0;34m\u001b[0m\u001b[0m\n\u001b[0;32m--> 926\u001b[0;31m       \u001b[0;32mreturn\u001b[0m \u001b[0mself\u001b[0m\u001b[0;34m.\u001b[0m\u001b[0m_no_variable_creation_fn\u001b[0m\u001b[0;34m(\u001b[0m\u001b[0;34m*\u001b[0m\u001b[0margs\u001b[0m\u001b[0;34m,\u001b[0m \u001b[0;34m**\u001b[0m\u001b[0mkwds\u001b[0m\u001b[0;34m)\u001b[0m  \u001b[0;31m# pylint: disable=not-callable\u001b[0m\u001b[0;34m\u001b[0m\u001b[0;34m\u001b[0m\u001b[0m\n\u001b[0m\u001b[1;32m    927\u001b[0m     \u001b[0;32melif\u001b[0m \u001b[0mself\u001b[0m\u001b[0;34m.\u001b[0m\u001b[0m_variable_creation_fn\u001b[0m \u001b[0;32mis\u001b[0m \u001b[0;32mnot\u001b[0m \u001b[0;32mNone\u001b[0m\u001b[0;34m:\u001b[0m\u001b[0;34m\u001b[0m\u001b[0;34m\u001b[0m\u001b[0m\n\u001b[1;32m    928\u001b[0m       \u001b[0;31m# Release the lock early so that multiple threads can perform the call\u001b[0m\u001b[0;34m\u001b[0m\u001b[0;34m\u001b[0m\u001b[0m\n",
            "\u001b[0;32m/usr/local/lib/python3.9/dist-packages/tensorflow/python/eager/polymorphic_function/tracing_compiler.py\u001b[0m in \u001b[0;36m__call__\u001b[0;34m(self, *args, **kwargs)\u001b[0m\n\u001b[1;32m    141\u001b[0m       (concrete_function,\n\u001b[1;32m    142\u001b[0m        filtered_flat_args) = self._maybe_define_function(args, kwargs)\n\u001b[0;32m--> 143\u001b[0;31m     return concrete_function._call_flat(\n\u001b[0m\u001b[1;32m    144\u001b[0m         filtered_flat_args, captured_inputs=concrete_function.captured_inputs)  # pylint: disable=protected-access\n\u001b[1;32m    145\u001b[0m \u001b[0;34m\u001b[0m\u001b[0m\n",
            "\u001b[0;32m/usr/local/lib/python3.9/dist-packages/tensorflow/python/eager/polymorphic_function/monomorphic_function.py\u001b[0m in \u001b[0;36m_call_flat\u001b[0;34m(self, args, captured_inputs, cancellation_manager)\u001b[0m\n\u001b[1;32m   1755\u001b[0m         and executing_eagerly):\n\u001b[1;32m   1756\u001b[0m       \u001b[0;31m# No tape is watching; skip to running the function.\u001b[0m\u001b[0;34m\u001b[0m\u001b[0;34m\u001b[0m\u001b[0m\n\u001b[0;32m-> 1757\u001b[0;31m       return self._build_call_outputs(self._inference_function.call(\n\u001b[0m\u001b[1;32m   1758\u001b[0m           ctx, args, cancellation_manager=cancellation_manager))\n\u001b[1;32m   1759\u001b[0m     forward_backward = self._select_forward_and_backward_functions(\n",
            "\u001b[0;32m/usr/local/lib/python3.9/dist-packages/tensorflow/python/eager/polymorphic_function/monomorphic_function.py\u001b[0m in \u001b[0;36mcall\u001b[0;34m(self, ctx, args, cancellation_manager)\u001b[0m\n\u001b[1;32m    379\u001b[0m       \u001b[0;32mwith\u001b[0m \u001b[0m_InterpolateFunctionError\u001b[0m\u001b[0;34m(\u001b[0m\u001b[0mself\u001b[0m\u001b[0;34m)\u001b[0m\u001b[0;34m:\u001b[0m\u001b[0;34m\u001b[0m\u001b[0;34m\u001b[0m\u001b[0m\n\u001b[1;32m    380\u001b[0m         \u001b[0;32mif\u001b[0m \u001b[0mcancellation_manager\u001b[0m \u001b[0;32mis\u001b[0m \u001b[0;32mNone\u001b[0m\u001b[0;34m:\u001b[0m\u001b[0;34m\u001b[0m\u001b[0;34m\u001b[0m\u001b[0m\n\u001b[0;32m--> 381\u001b[0;31m           outputs = execute.execute(\n\u001b[0m\u001b[1;32m    382\u001b[0m               \u001b[0mstr\u001b[0m\u001b[0;34m(\u001b[0m\u001b[0mself\u001b[0m\u001b[0;34m.\u001b[0m\u001b[0msignature\u001b[0m\u001b[0;34m.\u001b[0m\u001b[0mname\u001b[0m\u001b[0;34m)\u001b[0m\u001b[0;34m,\u001b[0m\u001b[0;34m\u001b[0m\u001b[0;34m\u001b[0m\u001b[0m\n\u001b[1;32m    383\u001b[0m               \u001b[0mnum_outputs\u001b[0m\u001b[0;34m=\u001b[0m\u001b[0mself\u001b[0m\u001b[0;34m.\u001b[0m\u001b[0m_num_outputs\u001b[0m\u001b[0;34m,\u001b[0m\u001b[0;34m\u001b[0m\u001b[0;34m\u001b[0m\u001b[0m\n",
            "\u001b[0;32m/usr/local/lib/python3.9/dist-packages/tensorflow/python/eager/execute.py\u001b[0m in \u001b[0;36mquick_execute\u001b[0;34m(op_name, num_outputs, inputs, attrs, ctx, name)\u001b[0m\n\u001b[1;32m     50\u001b[0m   \u001b[0;32mtry\u001b[0m\u001b[0;34m:\u001b[0m\u001b[0;34m\u001b[0m\u001b[0;34m\u001b[0m\u001b[0m\n\u001b[1;32m     51\u001b[0m     \u001b[0mctx\u001b[0m\u001b[0;34m.\u001b[0m\u001b[0mensure_initialized\u001b[0m\u001b[0;34m(\u001b[0m\u001b[0;34m)\u001b[0m\u001b[0;34m\u001b[0m\u001b[0;34m\u001b[0m\u001b[0m\n\u001b[0;32m---> 52\u001b[0;31m     tensors = pywrap_tfe.TFE_Py_Execute(ctx._handle, device_name, op_name,\n\u001b[0m\u001b[1;32m     53\u001b[0m                                         inputs, attrs, num_outputs)\n\u001b[1;32m     54\u001b[0m   \u001b[0;32mexcept\u001b[0m \u001b[0mcore\u001b[0m\u001b[0;34m.\u001b[0m\u001b[0m_NotOkStatusException\u001b[0m \u001b[0;32mas\u001b[0m \u001b[0me\u001b[0m\u001b[0;34m:\u001b[0m\u001b[0;34m\u001b[0m\u001b[0;34m\u001b[0m\u001b[0m\n",
            "\u001b[0;31mKeyboardInterrupt\u001b[0m: "
          ]
        }
      ]
    },
    {
      "cell_type": "code",
      "source": [
        "params = {\n",
        "    'num_projection_layers' : [1],\n",
        "    'projection_dims' : [128, 224],\n",
        "    'dropout_rate' : [0.1, 0.2],\n",
        "    'vision_trainable' : [False],\n",
        "    'text_trainable' : [False],\n",
        "    'attention' : [True],\n",
        "    'lr' : [0.001],\n",
        "    'epochs' : [10],\n",
        "    'batch_size' : [32, 64]\n",
        "}"
      ],
      "metadata": {
        "id": "oAFq5t25ip5h"
      },
      "execution_count": null,
      "outputs": []
    },
    {
      "cell_type": "code",
      "source": [
        "h = ta.Scan(x = X_train, y= y_train, params = params, model = multimodal_model, x_val = X_test, y_val = y_test, experiment_name = 'multi2', save_weights=True, print_params=True)"
      ],
      "metadata": {
        "colab": {
          "base_uri": "https://localhost:8080/"
        },
        "id": "XsQCub5Ki6qY",
        "outputId": "c898b1b2-d5f3-46ed-8d23-a4740d533a92"
      },
      "execution_count": null,
      "outputs": [
        {
          "output_type": "stream",
          "name": "stderr",
          "text": [
            "\r  0%|          | 0/8 [00:00<?, ?it/s]"
          ]
        },
        {
          "output_type": "stream",
          "name": "stdout",
          "text": [
            "{'num_projection_layers': 1, 'projection_dims': 128, 'dropout_rate': 0.1, 'vision_trainable': False, 'text_trainable': False, 'attention': True, 'lr': 0.001, 'epochs': 10, 'batch_size': 32}\n",
            "Downloading data from https://storage.googleapis.com/tensorflow/keras-applications/efficientnet_v2/efficientnetv2-b3_notop.h5\n",
            "52606240/52606240 [==============================] - 2s 0us/step\n",
            "Epoch 1/10\n",
            "130/130 [==============================] - 134s 782ms/step - loss: 0.4959 - accuracy: 0.8176 - precision: 0.5361 - recall: 0.3736 - val_loss: 0.3524 - val_accuracy: 0.8363 - val_precision: 0.6773 - val_recall: 0.5687\n",
            "Epoch 2/10\n",
            "130/130 [==============================] - 99s 766ms/step - loss: 0.2852 - accuracy: 0.8829 - precision: 0.7293 - recall: 0.6201 - val_loss: 0.3431 - val_accuracy: 0.8523 - val_precision: 0.7759 - val_recall: 0.5153\n",
            "Epoch 3/10\n",
            "130/130 [==============================] - 101s 780ms/step - loss: 0.2515 - accuracy: 0.8978 - precision: 0.7548 - recall: 0.6931 - val_loss: 0.4322 - val_accuracy: 0.8470 - val_precision: 0.9327 - val_recall: 0.3702\n",
            "Epoch 4/10\n",
            "130/130 [==============================] - 102s 787ms/step - loss: 0.2308 - accuracy: 0.9029 - precision: 0.7748 - recall: 0.6969 - val_loss: 0.3550 - val_accuracy: 0.8657 - val_precision: 0.8675 - val_recall: 0.5000\n",
            "Epoch 5/10\n",
            "130/130 [==============================] - 102s 788ms/step - loss: 0.2191 - accuracy: 0.9126 - precision: 0.7938 - recall: 0.7358 - val_loss: 0.3469 - val_accuracy: 0.8639 - val_precision: 0.8263 - val_recall: 0.5267\n",
            "Epoch 6/10\n",
            "130/130 [==============================] - 103s 791ms/step - loss: 0.2183 - accuracy: 0.9118 - precision: 0.7953 - recall: 0.7283 - val_loss: 0.3041 - val_accuracy: 0.8657 - val_precision: 0.7194 - val_recall: 0.6947\n",
            "Epoch 7/10\n",
            "130/130 [==============================] - 103s 790ms/step - loss: 0.2296 - accuracy: 0.9089 - precision: 0.7809 - recall: 0.7308 - val_loss: 0.2971 - val_accuracy: 0.8683 - val_precision: 0.7127 - val_recall: 0.7290\n",
            "Epoch 8/10\n",
            "130/130 [==============================] - 103s 791ms/step - loss: 0.1977 - accuracy: 0.9217 - precision: 0.8170 - recall: 0.7635 - val_loss: 0.3093 - val_accuracy: 0.8665 - val_precision: 0.7044 - val_recall: 0.7366\n",
            "Epoch 9/10\n",
            "130/130 [==============================] - 103s 791ms/step - loss: 0.1870 - accuracy: 0.9246 - precision: 0.8233 - recall: 0.7736 - val_loss: 0.3016 - val_accuracy: 0.8746 - val_precision: 0.7391 - val_recall: 0.7137\n",
            "Epoch 10/10\n",
            "130/130 [==============================] - 103s 791ms/step - loss: 0.1752 - accuracy: 0.9324 - precision: 0.8393 - recall: 0.8013 - val_loss: 0.3176 - val_accuracy: 0.8665 - val_precision: 0.7074 - val_recall: 0.7290\n"
          ]
        },
        {
          "output_type": "stream",
          "name": "stderr",
          "text": [
            "\r 12%|█▎        | 1/8 [18:03<2:06:23, 1083.39s/it]"
          ]
        },
        {
          "output_type": "stream",
          "name": "stdout",
          "text": [
            "{'num_projection_layers': 1, 'projection_dims': 128, 'dropout_rate': 0.1, 'vision_trainable': False, 'text_trainable': False, 'attention': True, 'lr': 0.001, 'epochs': 10, 'batch_size': 64}\n",
            "Epoch 1/10\n",
            "130/130 [==============================] - 129s 801ms/step - loss: 0.5178 - accuracy: 0.8220 - precision: 0.5661 - recall: 0.4863 - val_loss: 0.3262 - val_accuracy: 0.8550 - val_precision: 0.7324 - val_recall: 0.5954\n",
            "Epoch 2/10\n",
            "130/130 [==============================] - 102s 783ms/step - loss: 0.2903 - accuracy: 0.8829 - precision: 0.7253 - recall: 0.6277 - val_loss: 0.2994 - val_accuracy: 0.8701 - val_precision: 0.7929 - val_recall: 0.5992\n",
            "Epoch 3/10\n",
            "130/130 [==============================] - 100s 767ms/step - loss: 0.2626 - accuracy: 0.8928 - precision: 0.7441 - recall: 0.6730 - val_loss: 0.2881 - val_accuracy: 0.8808 - val_precision: 0.8441 - val_recall: 0.5992\n",
            "Epoch 4/10\n",
            "130/130 [==============================] - 101s 782ms/step - loss: 0.2371 - accuracy: 0.9070 - precision: 0.7871 - recall: 0.7069 - val_loss: 0.2978 - val_accuracy: 0.8790 - val_precision: 0.8841 - val_recall: 0.5534\n",
            "Epoch 5/10\n",
            "130/130 [==============================] - 102s 788ms/step - loss: 0.2219 - accuracy: 0.9089 - precision: 0.7895 - recall: 0.7170 - val_loss: 0.2931 - val_accuracy: 0.8808 - val_precision: 0.8516 - val_recall: 0.5916\n",
            "Epoch 6/10\n",
            "130/130 [==============================] - 103s 791ms/step - loss: 0.2114 - accuracy: 0.9140 - precision: 0.7931 - recall: 0.7472 - val_loss: 0.2837 - val_accuracy: 0.8897 - val_precision: 0.8350 - val_recall: 0.6565\n",
            "Epoch 7/10\n",
            "130/130 [==============================] - 103s 790ms/step - loss: 0.1969 - accuracy: 0.9186 - precision: 0.8137 - recall: 0.7472 - val_loss: 0.2813 - val_accuracy: 0.8959 - val_precision: 0.8341 - val_recall: 0.6908\n",
            "Epoch 8/10\n",
            "130/130 [==============================] - 102s 789ms/step - loss: 0.1895 - accuracy: 0.9215 - precision: 0.8219 - recall: 0.7547 - val_loss: 0.2823 - val_accuracy: 0.8923 - val_precision: 0.8373 - val_recall: 0.6679\n",
            "Epoch 9/10\n",
            "130/130 [==============================] - 103s 791ms/step - loss: 0.1812 - accuracy: 0.9287 - precision: 0.8360 - recall: 0.7824 - val_loss: 0.2826 - val_accuracy: 0.8932 - val_precision: 0.8318 - val_recall: 0.6794\n",
            "Epoch 10/10\n",
            "130/130 [==============================] - 103s 790ms/step - loss: 0.1673 - accuracy: 0.9345 - precision: 0.8522 - recall: 0.7975 - val_loss: 0.2899 - val_accuracy: 0.8861 - val_precision: 0.7500 - val_recall: 0.7672\n"
          ]
        },
        {
          "output_type": "stream",
          "name": "stderr",
          "text": [
            "\r 25%|██▌       | 2/8 [36:28<1:49:35, 1095.99s/it]"
          ]
        },
        {
          "output_type": "stream",
          "name": "stdout",
          "text": [
            "{'num_projection_layers': 1, 'projection_dims': 128, 'dropout_rate': 0.2, 'vision_trainable': False, 'text_trainable': False, 'attention': True, 'lr': 0.001, 'epochs': 10, 'batch_size': 32}\n",
            "Epoch 1/10\n",
            "130/130 [==============================] - 127s 796ms/step - loss: 0.5116 - accuracy: 0.8260 - precision: 0.5882 - recall: 0.4447 - val_loss: 0.3435 - val_accuracy: 0.8452 - val_precision: 0.6419 - val_recall: 0.7595\n",
            "Epoch 2/10\n",
            "130/130 [==============================] - 101s 779ms/step - loss: 0.2864 - accuracy: 0.8821 - precision: 0.7241 - recall: 0.6239 - val_loss: 0.2989 - val_accuracy: 0.8683 - val_precision: 0.7545 - val_recall: 0.6450\n",
            "Epoch 3/10\n",
            "130/130 [==============================] - 102s 784ms/step - loss: 0.2668 - accuracy: 0.8874 - precision: 0.7401 - recall: 0.6377 - val_loss: 0.3558 - val_accuracy: 0.8488 - val_precision: 0.6329 - val_recall: 0.8359\n",
            "Epoch 4/10\n",
            "130/130 [==============================] - 103s 790ms/step - loss: 0.2385 - accuracy: 0.9017 - precision: 0.7725 - recall: 0.6918 - val_loss: 0.3371 - val_accuracy: 0.8594 - val_precision: 0.6605 - val_recall: 0.8168\n",
            "Epoch 5/10\n",
            "130/130 [==============================] - 100s 770ms/step - loss: 0.2226 - accuracy: 0.9092 - precision: 0.7906 - recall: 0.7170 - val_loss: 0.3117 - val_accuracy: 0.8674 - val_precision: 0.6828 - val_recall: 0.8053\n",
            "Epoch 6/10\n",
            "130/130 [==============================] - 102s 783ms/step - loss: 0.2021 - accuracy: 0.9157 - precision: 0.8055 - recall: 0.7396 - val_loss: 0.3318 - val_accuracy: 0.8550 - val_precision: 0.6505 - val_recall: 0.8168\n",
            "Epoch 7/10\n",
            "130/130 [==============================] - 102s 789ms/step - loss: 0.2023 - accuracy: 0.9164 - precision: 0.8038 - recall: 0.7472 - val_loss: 0.3049 - val_accuracy: 0.8754 - val_precision: 0.7089 - val_recall: 0.7901\n",
            "Epoch 8/10\n",
            "130/130 [==============================] - 100s 770ms/step - loss: 0.1964 - accuracy: 0.9208 - precision: 0.8126 - recall: 0.7635 - val_loss: 0.3112 - val_accuracy: 0.8710 - val_precision: 0.7024 - val_recall: 0.7748\n",
            "Epoch 9/10\n",
            "130/130 [==============================] - 102s 784ms/step - loss: 0.1740 - accuracy: 0.9307 - precision: 0.8396 - recall: 0.7899 - val_loss: 0.3094 - val_accuracy: 0.8737 - val_precision: 0.7013 - val_recall: 0.7977\n",
            "Epoch 10/10\n",
            "130/130 [==============================] - 102s 788ms/step - loss: 0.1702 - accuracy: 0.9307 - precision: 0.8387 - recall: 0.7912 - val_loss: 0.2977 - val_accuracy: 0.8852 - val_precision: 0.7588 - val_recall: 0.7443\n"
          ]
        },
        {
          "output_type": "stream",
          "name": "stderr",
          "text": [
            "\r 38%|███▊      | 3/8 [55:27<1:32:58, 1115.71s/it]"
          ]
        },
        {
          "output_type": "stream",
          "name": "stdout",
          "text": [
            "{'num_projection_layers': 1, 'projection_dims': 128, 'dropout_rate': 0.2, 'vision_trainable': False, 'text_trainable': False, 'attention': True, 'lr': 0.001, 'epochs': 10, 'batch_size': 64}\n",
            "Epoch 1/10\n",
            "130/130 [==============================] - 128s 800ms/step - loss: 0.4848 - accuracy: 0.8233 - precision: 0.5775 - recall: 0.4475 - val_loss: 0.3604 - val_accuracy: 0.8452 - val_precision: 0.8667 - val_recall: 0.3969\n",
            "Epoch 2/10\n",
            "130/130 [==============================] - 100s 769ms/step - loss: 0.2854 - accuracy: 0.8797 - precision: 0.7174 - recall: 0.6164 - val_loss: 0.4112 - val_accuracy: 0.8345 - val_precision: 0.9130 - val_recall: 0.3206\n",
            "Epoch 3/10\n",
            "130/130 [==============================] - 102s 785ms/step - loss: 0.2688 - accuracy: 0.8923 - precision: 0.7447 - recall: 0.6679 - val_loss: 0.3936 - val_accuracy: 0.8425 - val_precision: 0.9048 - val_recall: 0.3626\n",
            "Epoch 4/10\n",
            "130/130 [==============================] - 103s 792ms/step - loss: 0.2515 - accuracy: 0.9014 - precision: 0.7662 - recall: 0.7006 - val_loss: 0.2941 - val_accuracy: 0.8719 - val_precision: 0.7521 - val_recall: 0.6718\n",
            "Epoch 5/10\n",
            "130/130 [==============================] - 103s 791ms/step - loss: 0.2270 - accuracy: 0.9077 - precision: 0.7848 - recall: 0.7157 - val_loss: 0.2926 - val_accuracy: 0.8754 - val_precision: 0.7460 - val_recall: 0.7061\n",
            "Epoch 6/10\n",
            "130/130 [==============================] - 103s 792ms/step - loss: 0.2145 - accuracy: 0.9147 - precision: 0.8061 - recall: 0.7321 - val_loss: 0.3265 - val_accuracy: 0.8532 - val_precision: 0.6439 - val_recall: 0.8282\n",
            "Epoch 7/10\n",
            "130/130 [==============================] - 103s 792ms/step - loss: 0.2014 - accuracy: 0.9162 - precision: 0.8085 - recall: 0.7384 - val_loss: 0.3658 - val_accuracy: 0.8425 - val_precision: 0.6184 - val_recall: 0.8473\n",
            "Epoch 8/10\n",
            "130/130 [==============================] - 103s 792ms/step - loss: 0.1919 - accuracy: 0.9244 - precision: 0.8375 - recall: 0.7522 - val_loss: 0.3469 - val_accuracy: 0.8461 - val_precision: 0.6275 - val_recall: 0.8359\n",
            "Epoch 9/10\n",
            "130/130 [==============================] - 103s 792ms/step - loss: 0.1818 - accuracy: 0.9290 - precision: 0.8436 - recall: 0.7736 - val_loss: 0.3356 - val_accuracy: 0.8514 - val_precision: 0.6435 - val_recall: 0.8130\n",
            "Epoch 10/10\n",
            "130/130 [==============================] - 103s 792ms/step - loss: 0.1797 - accuracy: 0.9300 - precision: 0.8408 - recall: 0.7836 - val_loss: 0.3271 - val_accuracy: 0.8559 - val_precision: 0.6634 - val_recall: 0.7748\n"
          ]
        },
        {
          "output_type": "stream",
          "name": "stderr",
          "text": [
            "\r 50%|█████     | 4/8 [1:13:51<1:14:03, 1110.95s/it]"
          ]
        },
        {
          "output_type": "stream",
          "name": "stdout",
          "text": [
            "{'num_projection_layers': 1, 'projection_dims': 224, 'dropout_rate': 0.1, 'vision_trainable': False, 'text_trainable': False, 'attention': True, 'lr': 0.001, 'epochs': 10, 'batch_size': 32}\n",
            "Epoch 1/10\n",
            "130/130 [==============================] - 132s 811ms/step - loss: 0.8680 - accuracy: 0.8066 - precision: 0.5200 - recall: 0.4797 - val_loss: 0.3327 - val_accuracy: 0.8479 - val_precision: 0.7136 - val_recall: 0.5802\n",
            "Epoch 2/10\n",
            "130/130 [==============================] - 103s 792ms/step - loss: 0.3392 - accuracy: 0.8662 - precision: 0.6704 - recall: 0.5962 - val_loss: 0.3305 - val_accuracy: 0.8568 - val_precision: 0.6950 - val_recall: 0.6870\n",
            "Epoch 3/10\n",
            "130/130 [==============================] - 104s 800ms/step - loss: 0.2981 - accuracy: 0.8836 - precision: 0.7239 - recall: 0.6365 - val_loss: 0.3979 - val_accuracy: 0.8390 - val_precision: 0.6057 - val_recall: 0.8855\n",
            "Epoch 4/10\n",
            "130/130 [==============================] - 104s 804ms/step - loss: 0.2546 - accuracy: 0.8976 - precision: 0.7573 - recall: 0.6868 - val_loss: 0.3382 - val_accuracy: 0.8568 - val_precision: 0.6490 - val_recall: 0.8397\n",
            "Epoch 5/10\n",
            "130/130 [==============================] - 104s 805ms/step - loss: 0.2400 - accuracy: 0.9048 - precision: 0.7735 - recall: 0.7132 - val_loss: 0.2904 - val_accuracy: 0.8835 - val_precision: 0.7835 - val_recall: 0.6908\n",
            "Epoch 6/10\n",
            "130/130 [==============================] - 104s 804ms/step - loss: 0.2127 - accuracy: 0.9150 - precision: 0.8038 - recall: 0.7371 - val_loss: 0.2925 - val_accuracy: 0.8879 - val_precision: 0.8119 - val_recall: 0.6756\n",
            "Epoch 7/10\n",
            "130/130 [==============================] - 104s 803ms/step - loss: 0.2071 - accuracy: 0.9191 - precision: 0.8108 - recall: 0.7547 - val_loss: 0.3152 - val_accuracy: 0.8879 - val_precision: 0.8656 - val_recall: 0.6145\n",
            "Epoch 8/10\n",
            "130/130 [==============================] - 104s 803ms/step - loss: 0.1895 - accuracy: 0.9251 - precision: 0.8255 - recall: 0.7736 - val_loss: 0.2957 - val_accuracy: 0.8932 - val_precision: 0.8257 - val_recall: 0.6870\n",
            "Epoch 9/10\n",
            "130/130 [==============================] - 105s 805ms/step - loss: 0.1829 - accuracy: 0.9309 - precision: 0.8425 - recall: 0.7874 - val_loss: 0.3127 - val_accuracy: 0.8888 - val_precision: 0.8278 - val_recall: 0.6603\n",
            "Epoch 10/10\n",
            "130/130 [==============================] - 104s 804ms/step - loss: 0.1811 - accuracy: 0.9316 - precision: 0.8368 - recall: 0.8000 - val_loss: 0.3207 - val_accuracy: 0.8941 - val_precision: 0.8667 - val_recall: 0.6450\n"
          ]
        },
        {
          "output_type": "stream",
          "name": "stderr",
          "text": [
            "\r 62%|██████▎   | 5/8 [1:32:34<55:46, 1115.63s/it]  "
          ]
        },
        {
          "output_type": "stream",
          "name": "stdout",
          "text": [
            "{'num_projection_layers': 1, 'projection_dims': 224, 'dropout_rate': 0.1, 'vision_trainable': False, 'text_trainable': False, 'attention': True, 'lr': 0.001, 'epochs': 10, 'batch_size': 64}\n",
            "Epoch 1/10\n",
            "130/130 [==============================] - 130s 802ms/step - loss: 0.9498 - accuracy: 0.8019 - precision: 0.5078 - recall: 0.4314 - val_loss: 0.4093 - val_accuracy: 0.8238 - val_precision: 0.5988 - val_recall: 0.7405\n",
            "Epoch 2/10\n",
            "130/130 [==============================] - 102s 789ms/step - loss: 0.3680 - accuracy: 0.8568 - precision: 0.6494 - recall: 0.5522 - val_loss: 0.5929 - val_accuracy: 0.7429 - val_precision: 0.4735 - val_recall: 0.9198\n",
            "Epoch 3/10\n",
            "130/130 [==============================] - 101s 780ms/step - loss: 0.3042 - accuracy: 0.8819 - precision: 0.7155 - recall: 0.6390 - val_loss: 0.3486 - val_accuracy: 0.8496 - val_precision: 0.6372 - val_recall: 0.8244\n",
            "Epoch 4/10\n",
            "130/130 [==============================] - 103s 793ms/step - loss: 0.2632 - accuracy: 0.8925 - precision: 0.7444 - recall: 0.6704 - val_loss: 0.3227 - val_accuracy: 0.8674 - val_precision: 0.6840 - val_recall: 0.8015\n",
            "Epoch 5/10\n",
            "130/130 [==============================] - 104s 799ms/step - loss: 0.2421 - accuracy: 0.9000 - precision: 0.7679 - recall: 0.6868 - val_loss: 0.2938 - val_accuracy: 0.8781 - val_precision: 0.7323 - val_recall: 0.7519\n",
            "Epoch 6/10\n",
            "130/130 [==============================] - 104s 802ms/step - loss: 0.2183 - accuracy: 0.9128 - precision: 0.8056 - recall: 0.7195 - val_loss: 0.2958 - val_accuracy: 0.8763 - val_precision: 0.7236 - val_recall: 0.7595\n",
            "Epoch 7/10\n",
            "130/130 [==============================] - 104s 801ms/step - loss: 0.2110 - accuracy: 0.9174 - precision: 0.8133 - recall: 0.7396 - val_loss: 0.2928 - val_accuracy: 0.8772 - val_precision: 0.7441 - val_recall: 0.7214\n",
            "Epoch 8/10\n",
            "130/130 [==============================] - 104s 800ms/step - loss: 0.2131 - accuracy: 0.9167 - precision: 0.8065 - recall: 0.7447 - val_loss: 0.3076 - val_accuracy: 0.8781 - val_precision: 0.8571 - val_recall: 0.5725\n",
            "Epoch 9/10\n",
            "130/130 [==============================] - 104s 802ms/step - loss: 0.1949 - accuracy: 0.9220 - precision: 0.8189 - recall: 0.7623 - val_loss: 0.3124 - val_accuracy: 0.8799 - val_precision: 0.8588 - val_recall: 0.5802\n",
            "Epoch 10/10\n",
            "130/130 [==============================] - 104s 802ms/step - loss: 0.1792 - accuracy: 0.9295 - precision: 0.8394 - recall: 0.7824 - val_loss: 0.3212 - val_accuracy: 0.8772 - val_precision: 0.8563 - val_recall: 0.5687\n"
          ]
        },
        {
          "output_type": "stream",
          "name": "stderr",
          "text": [
            "\r 75%|███████▌  | 6/8 [1:51:13<37:12, 1116.46s/it]"
          ]
        },
        {
          "output_type": "stream",
          "name": "stdout",
          "text": [
            "{'num_projection_layers': 1, 'projection_dims': 224, 'dropout_rate': 0.2, 'vision_trainable': False, 'text_trainable': False, 'attention': True, 'lr': 0.001, 'epochs': 10, 'batch_size': 32}\n",
            "Epoch 1/10\n",
            "130/130 [==============================] - 132s 815ms/step - loss: 1.1284 - accuracy: 0.7907 - precision: 0.4753 - recall: 0.4096 - val_loss: 0.5303 - val_accuracy: 0.8345 - val_precision: 0.8455 - val_recall: 0.3550\n",
            "Epoch 2/10\n",
            "130/130 [==============================] - 103s 795ms/step - loss: 0.4183 - accuracy: 0.8543 - precision: 0.6433 - recall: 0.5421 - val_loss: 0.3852 - val_accuracy: 0.8390 - val_precision: 0.6364 - val_recall: 0.7214\n",
            "Epoch 3/10\n",
            "130/130 [==============================] - 104s 802ms/step - loss: 0.3322 - accuracy: 0.8746 - precision: 0.6944 - recall: 0.6201 - val_loss: 0.3554 - val_accuracy: 0.8568 - val_precision: 0.7563 - val_recall: 0.5687\n",
            "Epoch 4/10\n",
            "130/130 [==============================] - 124s 953ms/step - loss: 0.2938 - accuracy: 0.8928 - precision: 0.7468 - recall: 0.6679 - val_loss: 0.3302 - val_accuracy: 0.8719 - val_precision: 0.8073 - val_recall: 0.5916\n",
            "Epoch 5/10\n",
            "130/130 [==============================] - 103s 792ms/step - loss: 0.2426 - accuracy: 0.9024 - precision: 0.7727 - recall: 0.6969 - val_loss: 0.3272 - val_accuracy: 0.8692 - val_precision: 0.7778 - val_recall: 0.6145\n",
            "Epoch 6/10\n",
            "130/130 [==============================] - 104s 800ms/step - loss: 0.2183 - accuracy: 0.9104 - precision: 0.7936 - recall: 0.7208 - val_loss: 0.3127 - val_accuracy: 0.8763 - val_precision: 0.7758 - val_recall: 0.6603\n",
            "Epoch 7/10\n",
            "130/130 [==============================] - 104s 805ms/step - loss: 0.2093 - accuracy: 0.9179 - precision: 0.8104 - recall: 0.7472 - val_loss: 0.3190 - val_accuracy: 0.8870 - val_precision: 0.8293 - val_recall: 0.6489\n",
            "Epoch 8/10\n",
            "130/130 [==============================] - 104s 805ms/step - loss: 0.2046 - accuracy: 0.9227 - precision: 0.8179 - recall: 0.7686 - val_loss: 0.3507 - val_accuracy: 0.8852 - val_precision: 0.8376 - val_recall: 0.6298\n",
            "Epoch 9/10\n",
            "130/130 [==============================] - 104s 805ms/step - loss: 0.2103 - accuracy: 0.9164 - precision: 0.7958 - recall: 0.7597 - val_loss: 0.3997 - val_accuracy: 0.8683 - val_precision: 0.8851 - val_recall: 0.5000\n",
            "Epoch 10/10\n",
            "130/130 [==============================] - 104s 805ms/step - loss: 0.1822 - accuracy: 0.9268 - precision: 0.8254 - recall: 0.7849 - val_loss: 0.3757 - val_accuracy: 0.8728 - val_precision: 0.8650 - val_recall: 0.5382\n"
          ]
        },
        {
          "output_type": "stream",
          "name": "stderr",
          "text": [
            "\r 88%|████████▊ | 7/8 [2:09:38<18:32, 1112.75s/it]"
          ]
        },
        {
          "output_type": "stream",
          "name": "stdout",
          "text": [
            "{'num_projection_layers': 1, 'projection_dims': 224, 'dropout_rate': 0.2, 'vision_trainable': False, 'text_trainable': False, 'attention': True, 'lr': 0.001, 'epochs': 10, 'batch_size': 64}\n",
            "Epoch 1/10\n",
            "130/130 [==============================] - 132s 812ms/step - loss: 1.0601 - accuracy: 0.7920 - precision: 0.4775 - recall: 0.3822 - val_loss: 0.5921 - val_accuracy: 0.7829 - val_precision: 0.9500 - val_recall: 0.0725\n",
            "Epoch 2/10\n",
            "130/130 [==============================] - 103s 794ms/step - loss: 0.3337 - accuracy: 0.8674 - precision: 0.6772 - recall: 0.5912 - val_loss: 0.4813 - val_accuracy: 0.8425 - val_precision: 0.9208 - val_recall: 0.3550\n",
            "Epoch 3/10\n",
            "130/130 [==============================] - 104s 801ms/step - loss: 0.2796 - accuracy: 0.8838 - precision: 0.7205 - recall: 0.6453 - val_loss: 0.4920 - val_accuracy: 0.8470 - val_precision: 0.8947 - val_recall: 0.3893\n",
            "Epoch 4/10\n",
            "130/130 [==============================] - 104s 804ms/step - loss: 0.2662 - accuracy: 0.8913 - precision: 0.7433 - recall: 0.6629 - val_loss: 0.4070 - val_accuracy: 0.8657 - val_precision: 0.8675 - val_recall: 0.5000\n",
            "Epoch 5/10\n",
            "130/130 [==============================] - 104s 805ms/step - loss: 0.2404 - accuracy: 0.8990 - precision: 0.7607 - recall: 0.6918 - val_loss: 0.4152 - val_accuracy: 0.8648 - val_precision: 0.8819 - val_recall: 0.4847\n",
            "Epoch 6/10\n",
            "130/130 [==============================] - 104s 805ms/step - loss: 0.2231 - accuracy: 0.9077 - precision: 0.7825 - recall: 0.7195 - val_loss: 0.4070 - val_accuracy: 0.8683 - val_precision: 0.8750 - val_recall: 0.5076\n",
            "Epoch 7/10\n",
            "130/130 [==============================] - 105s 805ms/step - loss: 0.2165 - accuracy: 0.9106 - precision: 0.7868 - recall: 0.7333 - val_loss: 0.3709 - val_accuracy: 0.8772 - val_precision: 0.8444 - val_recall: 0.5802\n",
            "Epoch 8/10\n",
            "130/130 [==============================] - 105s 806ms/step - loss: 0.2050 - accuracy: 0.9152 - precision: 0.7937 - recall: 0.7547 - val_loss: 0.4441 - val_accuracy: 0.8692 - val_precision: 0.9137 - val_recall: 0.4847\n",
            "Epoch 9/10\n",
            "130/130 [==============================] - 105s 807ms/step - loss: 0.1937 - accuracy: 0.9210 - precision: 0.8145 - recall: 0.7623 - val_loss: 0.4164 - val_accuracy: 0.8701 - val_precision: 0.8537 - val_recall: 0.5344\n",
            "Epoch 10/10\n",
            "130/130 [==============================] - 105s 806ms/step - loss: 0.1783 - accuracy: 0.9268 - precision: 0.8271 - recall: 0.7824 - val_loss: 0.4226 - val_accuracy: 0.8763 - val_precision: 0.8917 - val_recall: 0.5344\n"
          ]
        },
        {
          "output_type": "stream",
          "name": "stderr",
          "text": [
            "100%|██████████| 8/8 [2:27:46<00:00, 1108.31s/it]\n"
          ]
        }
      ]
    },
    {
      "cell_type": "markdown",
      "source": [
        "## Multimodal Model selection"
      ],
      "metadata": {
        "id": "x_gerTA4dogA"
      }
    },
    {
      "cell_type": "markdown",
      "source": [
        "The best balanced model seems to be the one with hyperparameters - num_projection_layers = 1, , 'projection_dims': 128, 'dropout_rate': 0.1, 'vision_trainable': False, 'text_trainable': False, 'attention': True, 'lr': 0.001, 'epochs': 10, 'batch_size': 64. Lets try to run the model"
      ],
      "metadata": {
        "id": "Wy8JVlr-KBR8"
      }
    },
    {
      "cell_type": "code",
      "source": [
        "checkpoint_filepath = '/content/drive/MyDrive/multimodal-news/weibo-models/comb-model1-weights.{val_accuracy:.4f}-{val_loss:.2f}.hdf5'\n",
        "save_model = tf.keras.callbacks.ModelCheckpoint(\n",
        "    filepath=checkpoint_filepath,\n",
        "    save_weights_only=True,\n",
        "    monitor='val_accuracy',\n",
        "    mode='max',\n",
        "    save_best_only=True)"
      ],
      "metadata": {
        "id": "332pTb6ianDA"
      },
      "execution_count": 33,
      "outputs": []
    },
    {
      "cell_type": "code",
      "source": [
        "multimodal_model = create_multimodal_model(attention=True, num_projection_layers=1, projection_dims=128)"
      ],
      "metadata": {
        "id": "DG9HS8aNAuGn",
        "colab": {
          "base_uri": "https://localhost:8080/"
        },
        "outputId": "4adfab9c-7133-479b-90fd-b4c6d1408cf6"
      },
      "execution_count": 34,
      "outputs": [
        {
          "output_type": "stream",
          "name": "stdout",
          "text": [
            "Downloading data from https://storage.googleapis.com/tensorflow/keras-applications/efficientnet_v2/efficientnetv2-b3_notop.h5\n",
            "52606240/52606240 [==============================] - 0s 0us/step\n"
          ]
        }
      ]
    },
    {
      "cell_type": "markdown",
      "source": [
        "### Model Training"
      ],
      "metadata": {
        "id": "DDAXg6GZF7tP"
      }
    },
    {
      "cell_type": "code",
      "source": [
        "epochs = 10\n",
        "batch_size = 64"
      ],
      "metadata": {
        "id": "-EvQQlevMUbP"
      },
      "execution_count": 35,
      "outputs": []
    },
    {
      "cell_type": "code",
      "source": [
        "multimodal_model.compile(\n",
        "    optimizer=tf.keras.optimizers.Adam(), loss=loss, metrics=metrics\n",
        ")\n",
        "history = multimodal_model.fit(train_ds, validation_data=test_ds, epochs=epochs, batch_size=batch_size, callbacks=[save_model])"
      ],
      "metadata": {
        "id": "nHJ6ptX7NzOb",
        "colab": {
          "base_uri": "https://localhost:8080/"
        },
        "outputId": "c9c2966e-fbae-479c-c156-eb300e01f5df"
      },
      "execution_count": 36,
      "outputs": [
        {
          "output_type": "stream",
          "name": "stdout",
          "text": [
            "Epoch 1/10\n",
            "65/65 [==============================] - 144s 2s/step - loss: 0.4679 - accuracy: 0.8210 - precision: 0.5637 - recall: 0.3006 - val_loss: 0.4083 - val_accuracy: 0.8167 - val_precision: 0.6867 - val_recall: 0.3931\n",
            "Epoch 2/10\n",
            "65/65 [==============================] - 104s 2s/step - loss: 0.3189 - accuracy: 0.8676 - precision: 0.7178 - recall: 0.5119 - val_loss: 0.3339 - val_accuracy: 0.8479 - val_precision: 0.7156 - val_recall: 0.5763\n",
            "Epoch 3/10\n",
            "65/65 [==============================] - 104s 2s/step - loss: 0.2637 - accuracy: 0.8831 - precision: 0.7411 - recall: 0.6013 - val_loss: 0.3200 - val_accuracy: 0.8585 - val_precision: 0.7441 - val_recall: 0.5992\n",
            "Epoch 4/10\n",
            "65/65 [==============================] - 104s 2s/step - loss: 0.2413 - accuracy: 0.8930 - precision: 0.7635 - recall: 0.6415 - val_loss: 0.3116 - val_accuracy: 0.8621 - val_precision: 0.7082 - val_recall: 0.6947\n",
            "Epoch 5/10\n",
            "65/65 [==============================] - 102s 2s/step - loss: 0.2289 - accuracy: 0.9027 - precision: 0.7841 - recall: 0.6805 - val_loss: 0.3189 - val_accuracy: 0.8594 - val_precision: 0.6806 - val_recall: 0.7481\n",
            "Epoch 6/10\n",
            "65/65 [==============================] - 102s 2s/step - loss: 0.2446 - accuracy: 0.8976 - precision: 0.7677 - recall: 0.6692 - val_loss: 0.3281 - val_accuracy: 0.8585 - val_precision: 0.8366 - val_recall: 0.4885\n",
            "Epoch 7/10\n",
            "65/65 [==============================] - 104s 2s/step - loss: 0.2196 - accuracy: 0.9099 - precision: 0.7972 - recall: 0.7119 - val_loss: 0.3043 - val_accuracy: 0.8781 - val_precision: 0.7753 - val_recall: 0.6718\n",
            "Epoch 8/10\n",
            "65/65 [==============================] - 102s 2s/step - loss: 0.2062 - accuracy: 0.9159 - precision: 0.8126 - recall: 0.7308 - val_loss: 0.3087 - val_accuracy: 0.8692 - val_precision: 0.7751 - val_recall: 0.6183\n",
            "Epoch 9/10\n",
            "65/65 [==============================] - 101s 2s/step - loss: 0.1954 - accuracy: 0.9208 - precision: 0.8293 - recall: 0.7396 - val_loss: 0.3246 - val_accuracy: 0.8639 - val_precision: 0.6775 - val_recall: 0.7939\n",
            "Epoch 10/10\n",
            "65/65 [==============================] - 102s 2s/step - loss: 0.2011 - accuracy: 0.9167 - precision: 0.8065 - recall: 0.7447 - val_loss: 0.2906 - val_accuracy: 0.8781 - val_precision: 0.7962 - val_recall: 0.6412\n"
          ]
        }
      ]
    },
    {
      "cell_type": "code",
      "source": [
        "from sklearn.metrics import accuracy_score,f1_score,precision_score,recall_score"
      ],
      "metadata": {
        "id": "JvqG8xphbPgD"
      },
      "execution_count": 37,
      "outputs": []
    },
    {
      "cell_type": "code",
      "source": [
        "y_test = np.concatenate([y for x, y in test_ds], axis=0)"
      ],
      "metadata": {
        "id": "YLi_UnaxKmpt"
      },
      "execution_count": 38,
      "outputs": []
    },
    {
      "cell_type": "code",
      "source": [
        "y_pred = multimodal_model.predict(test_ds)\n",
        "y_pred = [1 if i>=0.5 else 0 for i in y_pred]\n",
        "print(f'Accuracy == {accuracy_score(y_test,y_pred)}')\n",
        "print(f'F1 == {f1_score(y_test,y_pred,average=None)}')\n",
        "print(f'Precision == {precision_score(y_test,y_pred,average=None)}')\n",
        "print(f'Recall == {recall_score(y_test,y_pred,average=None)}')"
      ],
      "metadata": {
        "colab": {
          "base_uri": "https://localhost:8080/"
        },
        "id": "GCZsFJUaM4ze",
        "outputId": "e0a2ca9e-8ca4-46ed-c306-7e75e865b943"
      },
      "execution_count": 39,
      "outputs": [
        {
          "output_type": "stream",
          "name": "stdout",
          "text": [
            "18/18 [==============================] - 25s 1s/step\n",
            "Accuracy == 0.8781138790035588\n",
            "F1 == [0.9228169  0.71035941]\n",
            "Precision == [0.89704272 0.79620853]\n",
            "Recall == [0.95011601 0.64122137]\n"
          ]
        }
      ]
    },
    {
      "cell_type": "code",
      "source": [
        "multimodal_model.load_weights('/content/drive/MyDrive/multimodal-news/weibo-models/model1-weights.0.8808-0.30.hdf5')"
      ],
      "metadata": {
        "id": "WFnVbhMIN6O_"
      },
      "execution_count": null,
      "outputs": []
    },
    {
      "cell_type": "code",
      "source": [
        "y_pred = multimodal_model.predict(test_ds)\n",
        "y_pred = [1 if i>=0.5 else 0 for i in y_pred]\n",
        "print(f'Accuracy == {accuracy_score(y_test,y_pred)}')\n",
        "print(f'F1 == {f1_score(y_test,y_pred,average=None)}')\n",
        "print(f'Precision == {precision_score(y_test,y_pred,average=None)}')\n",
        "print(f'Recall == {recall_score(y_test,y_pred,average=None)}')"
      ],
      "metadata": {
        "colab": {
          "base_uri": "https://localhost:8080/"
        },
        "id": "hvkYNwRhN9LQ",
        "outputId": "807219e4-8319-4623-8b0a-ef781c7d0e91"
      },
      "execution_count": null,
      "outputs": [
        {
          "output_type": "stream",
          "name": "stdout",
          "text": [
            "18/18 [==============================] - 20s 1s/step\n",
            "Accuracy == 0.8807829181494662\n",
            "F1 == [0.92236385 0.74329502]\n",
            "Precision == [0.9212963  0.74615385]\n",
            "Recall == [0.92343387 0.74045802]\n"
          ]
        }
      ]
    },
    {
      "cell_type": "markdown",
      "source": [
        "## Some Other models"
      ],
      "metadata": {
        "id": "-HGrBwWHYQE8"
      }
    },
    {
      "cell_type": "markdown",
      "source": [
        "num_projection_layers': 1, 'projection_dims': 128, 'dropout_rate': 0.2, 'vision_trainable': False, 'text_trainable': False, 'attention': True, 'lr': 0.001, 'epochs': 10, 'batch_size': 32}"
      ],
      "metadata": {
        "id": "39lo4BHYRDHM"
      }
    },
    {
      "cell_type": "code",
      "source": [
        "checkpoint_filepath = '/content/drive/MyDrive/multimodal-news/weibo-models/comb-model3-weights.{val_accuracy:.4f}-{val_loss:.2f}.hdf5'\n",
        "\n",
        "save_model = tf.keras.callbacks.ModelCheckpoint(\n",
        "    filepath=checkpoint_filepath,\n",
        "    save_weights_only=True,\n",
        "    monitor='val_accuracy',\n",
        "    mode='max',\n",
        "    save_best_only=True)\n",
        "\n"
      ],
      "metadata": {
        "id": "DhMILdQNUaKF"
      },
      "execution_count": 45,
      "outputs": []
    },
    {
      "cell_type": "code",
      "source": [
        "epochs = 10\n",
        "batch_size1 = 32"
      ],
      "metadata": {
        "id": "CwNncdUBitC2"
      },
      "execution_count": 46,
      "outputs": []
    },
    {
      "cell_type": "code",
      "source": [
        "multimodal_model2 = create_multimodal_model(attention=True, num_projection_layers=1, projection_dims=128, dropout_rate=0.1)"
      ],
      "metadata": {
        "id": "KbVeuCW6Yj8T"
      },
      "execution_count": 47,
      "outputs": []
    },
    {
      "cell_type": "code",
      "source": [
        "multimodal_model2.compile(\n",
        "    optimizer=tf.keras.optimizers.Adam(), loss=loss, metrics=metrics)\n",
        "history = multimodal_model2.fit(train_ds, validation_data=test_ds, epochs=epochs, batch_size=batch_size1, callbacks=[save_model])"
      ],
      "metadata": {
        "colab": {
          "base_uri": "https://localhost:8080/"
        },
        "id": "jqf4bV_tYTk6",
        "outputId": "8c71133a-c6c4-4088-ceff-83adc1f75682"
      },
      "execution_count": 48,
      "outputs": [
        {
          "output_type": "stream",
          "name": "stdout",
          "text": [
            "Epoch 1/10\n",
            "65/65 [==============================] - 134s 2s/step - loss: 0.4827 - accuracy: 0.8243 - precision: 0.6398 - recall: 0.2857 - val_loss: 0.4100 - val_accuracy: 0.8185 - val_precision: 0.6908 - val_recall: 0.4008\n",
            "Epoch 2/10\n",
            "65/65 [==============================] - 104s 2s/step - loss: 0.3432 - accuracy: 0.8621 - precision: 0.7044 - recall: 0.4855 - val_loss: 0.3596 - val_accuracy: 0.8336 - val_precision: 0.7273 - val_recall: 0.4580\n",
            "Epoch 3/10\n",
            "65/65 [==============================] - 103s 2s/step - loss: 0.2759 - accuracy: 0.8773 - precision: 0.7218 - recall: 0.5874 - val_loss: 0.3975 - val_accuracy: 0.8256 - val_precision: 0.5882 - val_recall: 0.8397\n",
            "Epoch 4/10\n",
            "65/65 [==============================] - 105s 2s/step - loss: 0.2595 - accuracy: 0.8889 - precision: 0.7452 - recall: 0.6403 - val_loss: 0.3373 - val_accuracy: 0.8505 - val_precision: 0.6556 - val_recall: 0.7557\n",
            "Epoch 5/10\n",
            "65/65 [==============================] - 105s 2s/step - loss: 0.2508 - accuracy: 0.8966 - precision: 0.7656 - recall: 0.6654 - val_loss: 0.3231 - val_accuracy: 0.8639 - val_precision: 0.6940 - val_recall: 0.7443\n",
            "Epoch 6/10\n",
            "65/65 [==============================] - 102s 2s/step - loss: 0.2404 - accuracy: 0.9007 - precision: 0.7637 - recall: 0.6994 - val_loss: 0.3814 - val_accuracy: 0.8585 - val_precision: 0.8759 - val_recall: 0.4580\n",
            "Epoch 7/10\n",
            "65/65 [==============================] - 105s 2s/step - loss: 0.2316 - accuracy: 0.9043 - precision: 0.7887 - recall: 0.6855 - val_loss: 0.3092 - val_accuracy: 0.8683 - val_precision: 0.7050 - val_recall: 0.7481\n",
            "Epoch 8/10\n",
            "65/65 [==============================] - 104s 2s/step - loss: 0.2036 - accuracy: 0.9152 - precision: 0.8092 - recall: 0.7308 - val_loss: 0.3046 - val_accuracy: 0.8710 - val_precision: 0.7696 - val_recall: 0.6374\n",
            "Epoch 9/10\n",
            "65/65 [==============================] - 105s 2s/step - loss: 0.1988 - accuracy: 0.9193 - precision: 0.8111 - recall: 0.7560 - val_loss: 0.3141 - val_accuracy: 0.8737 - val_precision: 0.8333 - val_recall: 0.5725\n",
            "Epoch 10/10\n",
            "65/65 [==============================] - 104s 2s/step - loss: 0.1914 - accuracy: 0.9242 - precision: 0.8263 - recall: 0.7660 - val_loss: 0.3027 - val_accuracy: 0.8754 - val_precision: 0.7824 - val_recall: 0.6450\n"
          ]
        }
      ]
    },
    {
      "cell_type": "code",
      "source": [
        "y_pred = multimodal_model2.predict(test_ds)\n",
        "y_pred = [1 if i>=0.5 else 0 for i in y_pred]\n",
        "print(f'Accuracy == {accuracy_score(y_test,y_pred)}')\n",
        "print(f'F1 == {f1_score(y_test,y_pred,average=None)}')\n",
        "print(f'Precision == {precision_score(y_test,y_pred,average=None)}')\n",
        "print(f'Recall == {recall_score(y_test,y_pred,average=None)}')"
      ],
      "metadata": {
        "colab": {
          "base_uri": "https://localhost:8080/"
        },
        "outputId": "aef6706c-ad5d-415e-c45a-a4f0f41be197",
        "id": "K-EDC6xAY24o"
      },
      "execution_count": 49,
      "outputs": [
        {
          "output_type": "stream",
          "name": "stdout",
          "text": [
            "18/18 [==============================] - 25s 1s/step\n",
            "Accuracy == 0.8754448398576512\n",
            "F1 == [0.92090395 0.70711297]\n",
            "Precision == [0.89757709 0.78240741]\n",
            "Recall == [0.94547564 0.64503817]\n"
          ]
        }
      ]
    },
    {
      "cell_type": "markdown",
      "source": [
        "The model above is the best performance we have got so far"
      ],
      "metadata": {
        "id": "BB1IomLyqL1U"
      }
    },
    {
      "cell_type": "code",
      "source": [
        "checkpoint_filepath = '/content/drive/MyDrive/multimodal-news/weibo-models/comb-model4-weights.{val_accuracy:.4f}-{val_loss:.2f}.hdf5'\n",
        "\n",
        "save_model = tf.keras.callbacks.ModelCheckpoint(\n",
        "    filepath=checkpoint_filepath,\n",
        "    save_weights_only=True,\n",
        "    monitor='val_accuracy',\n",
        "    mode='max',\n",
        "    save_best_only=True)"
      ],
      "metadata": {
        "id": "P9NWZU4xjR4s"
      },
      "execution_count": 51,
      "outputs": []
    },
    {
      "cell_type": "code",
      "source": [
        "multimodal_model2 = create_multimodal_model(attention=True, num_projection_layers=1, projection_dims=224, dropout_rate=0.1)"
      ],
      "metadata": {
        "id": "FF9UvTzVnf6e"
      },
      "execution_count": 52,
      "outputs": []
    },
    {
      "cell_type": "code",
      "source": [
        "multimodal_model2.compile(\n",
        "    optimizer=tf.keras.optimizers.Adam(), loss=loss, metrics=metrics)\n",
        "history = multimodal_model2.fit(train_ds, validation_data=test_ds, epochs=epochs, batch_size=batch_size1, callbacks=[save_model])"
      ],
      "metadata": {
        "id": "Qo_r0o8tpPDv",
        "colab": {
          "base_uri": "https://localhost:8080/"
        },
        "outputId": "1f96d35c-a1c1-4884-d90a-2209ef680060"
      },
      "execution_count": 53,
      "outputs": [
        {
          "output_type": "stream",
          "name": "stdout",
          "text": [
            "Epoch 1/10\n",
            "65/65 [==============================] - 138s 2s/step - loss: 0.4926 - accuracy: 0.8315 - precision: 0.6328 - recall: 0.3832 - val_loss: 0.4004 - val_accuracy: 0.8292 - val_precision: 0.7160 - val_recall: 0.4427\n",
            "Epoch 2/10\n",
            "65/65 [==============================] - 106s 2s/step - loss: 0.3395 - accuracy: 0.8570 - precision: 0.6809 - recall: 0.4805 - val_loss: 0.3489 - val_accuracy: 0.8461 - val_precision: 0.7908 - val_recall: 0.4618\n",
            "Epoch 3/10\n",
            "65/65 [==============================] - 106s 2s/step - loss: 0.2859 - accuracy: 0.8821 - precision: 0.7372 - recall: 0.6000 - val_loss: 0.3211 - val_accuracy: 0.8550 - val_precision: 0.7592 - val_recall: 0.5534\n",
            "Epoch 4/10\n",
            "65/65 [==============================] - 106s 2s/step - loss: 0.2633 - accuracy: 0.8884 - precision: 0.7542 - recall: 0.6214 - val_loss: 0.3015 - val_accuracy: 0.8657 - val_precision: 0.7846 - val_recall: 0.5840\n",
            "Epoch 5/10\n",
            "65/65 [==============================] - 104s 2s/step - loss: 0.2447 - accuracy: 0.8981 - precision: 0.7691 - recall: 0.6704 - val_loss: 0.3124 - val_accuracy: 0.8621 - val_precision: 0.7357 - val_recall: 0.6374\n",
            "Epoch 6/10\n",
            "65/65 [==============================] - 105s 2s/step - loss: 0.2432 - accuracy: 0.9014 - precision: 0.7792 - recall: 0.6792 - val_loss: 0.3049 - val_accuracy: 0.8737 - val_precision: 0.8261 - val_recall: 0.5802\n",
            "Epoch 7/10\n",
            "65/65 [==============================] - 105s 2s/step - loss: 0.2239 - accuracy: 0.9089 - precision: 0.8012 - recall: 0.6994 - val_loss: 0.2946 - val_accuracy: 0.8754 - val_precision: 0.7824 - val_recall: 0.6450\n",
            "Epoch 8/10\n",
            "65/65 [==============================] - 104s 2s/step - loss: 0.2046 - accuracy: 0.9176 - precision: 0.8215 - recall: 0.7296 - val_loss: 0.3307 - val_accuracy: 0.8585 - val_precision: 0.6722 - val_recall: 0.7672\n",
            "Epoch 9/10\n",
            "65/65 [==============================] - 104s 2s/step - loss: 0.2008 - accuracy: 0.9152 - precision: 0.8075 - recall: 0.7333 - val_loss: 0.3105 - val_accuracy: 0.8746 - val_precision: 0.7923 - val_recall: 0.6260\n",
            "Epoch 10/10\n",
            "65/65 [==============================] - 106s 2s/step - loss: 0.1944 - accuracy: 0.9210 - precision: 0.8197 - recall: 0.7547 - val_loss: 0.2981 - val_accuracy: 0.8852 - val_precision: 0.8122 - val_recall: 0.6603\n"
          ]
        }
      ]
    },
    {
      "cell_type": "code",
      "source": [
        "y_pred = multimodal_model2.predict(test_ds)\n",
        "y_pred = [1 if i>=0.5 else 0 for i in y_pred]\n",
        "print(f'Accuracy == {accuracy_score(y_test,y_pred)}')\n",
        "print(f'F1 == {f1_score(y_test,y_pred,average=None)}')\n",
        "print(f'Precision == {precision_score(y_test,y_pred,average=None)}')\n",
        "print(f'Recall == {recall_score(y_test,y_pred,average=None)}')"
      ],
      "metadata": {
        "colab": {
          "base_uri": "https://localhost:8080/"
        },
        "id": "2kjU0KTEjaGw",
        "outputId": "99039da1-951d-4a46-89c1-ec5119230401"
      },
      "execution_count": 54,
      "outputs": [
        {
          "output_type": "stream",
          "name": "stdout",
          "text": [
            "18/18 [==============================] - 26s 1s/step\n",
            "Accuracy == 0.8852313167259787\n",
            "F1 == [0.92724196 0.72842105]\n",
            "Precision == [0.90230516 0.81220657]\n",
            "Recall == [0.95359629 0.66030534]\n"
          ]
        }
      ]
    },
    {
      "cell_type": "code",
      "source": [
        "multimodal_model2.load_weights('/content/drive/MyDrive/multimodal-news/weibo-models/comb-model4-weights.0.8550-0.32.hdf5')\n",
        "y_pred = multimodal_model2.predict(test_ds)\n",
        "y_pred = [1 if i>=0.5 else 0 for i in y_pred]\n",
        "print(f'Accuracy == {accuracy_score(y_test,y_pred)}')\n",
        "print(f'F1 == {f1_score(y_test,y_pred,average=None)}')\n",
        "print(f'Precision == {precision_score(y_test,y_pred,average=None)}')\n",
        "print(f'Recall == {recall_score(y_test,y_pred,average=None)}')"
      ],
      "metadata": {
        "colab": {
          "base_uri": "https://localhost:8080/"
        },
        "id": "d1RLuOSenpGx",
        "outputId": "214fcf69-8c2d-45d1-d4d6-1c94af98a6ec"
      },
      "execution_count": 55,
      "outputs": [
        {
          "output_type": "stream",
          "name": "stdout",
          "text": [
            "18/18 [==============================] - 23s 1s/step\n",
            "Accuracy == 0.854982206405694\n",
            "F1 == [0.9091922 0.6401766]\n",
            "Precision == [0.87459807 0.7591623 ]\n",
            "Recall == [0.94663573 0.55343511]\n"
          ]
        }
      ]
    },
    {
      "cell_type": "code",
      "source": [],
      "metadata": {
        "id": "oyEgudq4obUN"
      },
      "execution_count": null,
      "outputs": []
    }
  ]
}