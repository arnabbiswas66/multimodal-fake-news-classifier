{
  "nbformat": 4,
  "nbformat_minor": 0,
  "metadata": {
    "colab": {
      "provenance": [],
      "machine_shape": "hm",
      "gpuType": "T4",
      "authorship_tag": "ABX9TyN/r1F6XxMSVW4L1NWV4RFH",
      "include_colab_link": true
    },
    "kernelspec": {
      "name": "python3",
      "display_name": "Python 3"
    },
    "language_info": {
      "name": "python"
    },
    "accelerator": "GPU",
    "gpuClass": "standard"
  },
  "cells": [
    {
      "cell_type": "markdown",
      "metadata": {
        "id": "view-in-github",
        "colab_type": "text"
      },
      "source": [
        "<a href=\"https://colab.research.google.com/github/arnabbiswas66/multimodal-fake-news-classifier/blob/main/Experiments/Twitter_image_only_experiments.ipynb\" target=\"_parent\"><img src=\"https://colab.research.google.com/assets/colab-badge.svg\" alt=\"Open In Colab\"/></a>"
      ]
    },
    {
      "cell_type": "markdown",
      "source": [
        "# EfficientNetV2 B3"
      ],
      "metadata": {
        "id": "HTRw6Dq5iUyB"
      }
    },
    {
      "cell_type": "code",
      "execution_count": 1,
      "metadata": {
        "id": "S0_Dwt-ondpi"
      },
      "outputs": [],
      "source": [
        "from tensorflow.python.platform.tf_logging import warn\n",
        "import pandas as pd\n",
        "import numpy as np\n",
        "import tensorflow as tf\n",
        "from tensorflow import keras\n",
        "import os\n",
        "import re\n",
        "from os import listdir\n",
        "import shutil\n",
        "import glob\n",
        "import random\n",
        "import matplotlib.pyplot as plt\n",
        "import tensorflow_hub as hub\n",
        "tf.get_logger().setLevel('ERROR')\n",
        "import warnings\n",
        "\n",
        "warnings.filterwarnings('ignore')"
      ]
    },
    {
      "cell_type": "code",
      "execution_count": 2,
      "metadata": {
        "colab": {
          "base_uri": "https://localhost:8080/"
        },
        "id": "x20211H_nnLR",
        "outputId": "7ec95470-fef2-400e-cd74-904b23ec8d18"
      },
      "outputs": [
        {
          "output_type": "stream",
          "name": "stdout",
          "text": [
            "Mounted at /content/drive\n"
          ]
        }
      ],
      "source": [
        "from google.colab import drive\n",
        "drive.mount('/content/drive')"
      ]
    },
    {
      "cell_type": "code",
      "execution_count": 3,
      "metadata": {
        "id": "BbHqdujoUn87"
      },
      "outputs": [],
      "source": [
        "BASE_SAVE_LOCATION = \"/content/drive/MyDrive/multimodal-news\"\n",
        "CHECKPOINT_FILEPATH = '/content/drive/MyDrive/multimodal-news/twitter-models/'"
      ]
    },
    {
      "cell_type": "markdown",
      "metadata": {
        "id": "TKusTHhYWBlz"
      },
      "source": [
        "## Load the dataframes"
      ]
    },
    {
      "cell_type": "code",
      "execution_count": 4,
      "metadata": {
        "colab": {
          "base_uri": "https://localhost:8080/"
        },
        "id": "JftdaRkIWAAo",
        "outputId": "8836a608-c86a-4d41-a12e-e1b339fa08f9"
      },
      "outputs": [
        {
          "output_type": "stream",
          "name": "stdout",
          "text": [
            "(14258, 3) (1923, 3)\n"
          ]
        }
      ],
      "source": [
        "#Load training df\n",
        "train_df_model = pd.read_pickle(BASE_SAVE_LOCATION+\"/twitter-train.pickle\")\n",
        "test_df_model = pd.read_pickle(BASE_SAVE_LOCATION+\"/twitter-test.pickle\")\n",
        "print(train_df_model.shape, test_df_model.shape)"
      ]
    },
    {
      "cell_type": "markdown",
      "metadata": {
        "id": "cCuEsRz4CIdR"
      },
      "source": [
        "# Data input pipeline"
      ]
    },
    {
      "cell_type": "code",
      "execution_count": 5,
      "metadata": {
        "id": "dhn-DPb7Lsb1"
      },
      "outputs": [],
      "source": [
        "def dataframe_to_dataset(dataframe):\n",
        "    columns = ['image_1', 'label']\n",
        "    dataframe = dataframe[columns].copy()\n",
        "    labels = dataframe.pop(\"label\")\n",
        "    ds = tf.data.Dataset.from_tensor_slices((dict(dataframe), labels))\n",
        "    ds = ds.shuffle(buffer_size=len(dataframe))\n",
        "    return ds"
      ]
    },
    {
      "cell_type": "markdown",
      "metadata": {
        "id": "QO6IRl9rkfT4"
      },
      "source": [
        "## Preprocessing utilities"
      ]
    },
    {
      "cell_type": "code",
      "execution_count": 6,
      "metadata": {
        "id": "slef7sY9ke1l"
      },
      "outputs": [],
      "source": [
        "resize = (224, 224)"
      ]
    },
    {
      "cell_type": "code",
      "execution_count": 7,
      "metadata": {
        "id": "FrTCJPUzkP3Q"
      },
      "outputs": [],
      "source": [
        "def preprocess_image(image_path):\n",
        "  extension = tf.strings.split(image_path,'.')[-1]\n",
        "  image = tf.io.read_file(image_path)\n",
        "  if extension == b\"gif\":\n",
        "    image = tf.io.decode_image(image, 3, expand_animations=False)\n",
        "  elif extension == b\"png\":\n",
        "    image = tf.image.decode_png(image, 3)\n",
        "  else:\n",
        "    image = tf.image.decode_jpeg(image, 3)\n",
        "  image = tf.image.resize(image, resize)\n",
        "  return image"
      ]
    },
    {
      "cell_type": "code",
      "execution_count": 8,
      "metadata": {
        "id": "uXQHweTHpCQM"
      },
      "outputs": [],
      "source": [
        "def preprocess_text_and_image(sample):\n",
        "  image_1 = preprocess_image(sample[\"image_1\"])\n",
        "  return {\"image_1\": image_1}"
      ]
    },
    {
      "cell_type": "code",
      "execution_count": 9,
      "metadata": {
        "id": "C-0aLqtupoL5"
      },
      "outputs": [],
      "source": [
        "batch_size = 32\n",
        "auto = tf.data.AUTOTUNE"
      ]
    },
    {
      "cell_type": "code",
      "execution_count": 10,
      "metadata": {
        "id": "DwL2IjrIp-Tn"
      },
      "outputs": [],
      "source": [
        "def prepare_dataset(dataframe, training=True):\n",
        "  ds = dataframe_to_dataset(dataframe)\n",
        "  if training:\n",
        "      ds = ds.shuffle(len(train_df_model))\n",
        "  ds = ds.map(lambda x, y: (preprocess_text_and_image(x), y)).cache()\n",
        "  ds = ds.batch(batch_size).prefetch(auto)\n",
        "  return ds"
      ]
    },
    {
      "cell_type": "code",
      "execution_count": 11,
      "metadata": {
        "id": "5rSseL-fqSCE"
      },
      "outputs": [],
      "source": [
        "train_ds = prepare_dataset(train_df_model)\n",
        "test_ds = prepare_dataset(test_df_model, False)"
      ]
    },
    {
      "cell_type": "markdown",
      "metadata": {
        "id": "UUA1fjql-NCs"
      },
      "source": [
        "## Model Building"
      ]
    },
    {
      "cell_type": "markdown",
      "metadata": {
        "id": "dsnHD-at_70f"
      },
      "source": [
        "### Projection"
      ]
    },
    {
      "cell_type": "code",
      "execution_count": 12,
      "metadata": {
        "id": "JUmnESU36Q-N"
      },
      "outputs": [],
      "source": [
        "def project_embeddings(\n",
        "    embeddings, num_projection_layers, projection_dims, dropout_rate\n",
        "):\n",
        "    projected_embeddings = keras.layers.Dense(units=projection_dims)(embeddings)\n",
        "    for _ in range(num_projection_layers):\n",
        "        x = tf.nn.gelu(projected_embeddings)\n",
        "        x = keras.layers.Dense(projection_dims)(x)\n",
        "        x = keras.layers.Dropout(dropout_rate)(x)\n",
        "        x = keras.layers.Add()([projected_embeddings, x])\n",
        "        projected_embeddings = keras.layers.LayerNormalization()(x)\n",
        "    return projected_embeddings\n"
      ]
    },
    {
      "cell_type": "markdown",
      "metadata": {
        "id": "uEelNTYZAB0h"
      },
      "source": [
        "### Vision encoder"
      ]
    },
    {
      "cell_type": "code",
      "execution_count": 13,
      "metadata": {
        "id": "y2ypqRWE_Oyq"
      },
      "outputs": [],
      "source": [
        "def create_vision_encoder(\n",
        "    num_projection_layers, projection_dims, dropout_rate, trainable=False\n",
        "):\n",
        "    # Load the pre-trained ResNet50V2 model to be used as the base encoder.\n",
        "    resnet_v2 = keras.applications.EfficientNetV2B3(\n",
        "        include_top=False, weights=\"imagenet\", pooling=\"avg\"\n",
        "    )\n",
        "    # Set the trainability of the base encoder.\n",
        "    for layer in resnet_v2.layers:\n",
        "        layer.trainable = trainable\n",
        "\n",
        "    # Receive the images as inputs.\n",
        "    image_1 = keras.Input(shape=(224, 224, 3), name=\"image_1\")\n",
        "    \n",
        "    # Preprocess the input image.\n",
        "    preprocessed_1 = keras.applications.resnet_v2.preprocess_input(image_1)\n",
        "    \n",
        "    # Generate the embeddings for the images using the resnet_v2 model\n",
        "    # concatenate them.\n",
        "    embeddings = resnet_v2(preprocessed_1)\n",
        "    #embeddings = keras.layers.Concatenate()([embeddings_1, embeddings_2])\n",
        "\n",
        "    # Project the embeddings produced by the model.\n",
        "    outputs = project_embeddings(\n",
        "        embeddings, num_projection_layers, projection_dims, dropout_rate\n",
        "    )\n",
        "    # Create the vision encoder model.\n",
        "    return keras.Model([image_1], outputs, name=\"vision_encoder\")"
      ]
    },
    {
      "cell_type": "markdown",
      "metadata": {
        "id": "Ugj-e4g8AWOp"
      },
      "source": [
        "## ImageOnly model"
      ]
    },
    {
      "cell_type": "code",
      "execution_count": 14,
      "metadata": {
        "id": "1RjaNwDnANoc"
      },
      "outputs": [],
      "source": [
        "def create_image_only_model(\n",
        "    num_projection_layers=0,\n",
        "    projection_dims=224,\n",
        "    dropout_rate=0.1,\n",
        "    vision_trainable=False,\n",
        "    text_trainable=False,\n",
        "    attention=False\n",
        "):\n",
        "    # Receive the images as inputs.\n",
        "    image_1 = keras.Input(shape=(224, 224, 3), name=\"image_1\")\n",
        "    \n",
        "   # Create the encoders.\n",
        "    vision_encoder = create_vision_encoder(\n",
        "        num_projection_layers, projection_dims, dropout_rate, vision_trainable\n",
        "    )\n",
        "    \n",
        "    # Fetch the embedding projections.\n",
        "    vision_projections = vision_encoder([image_1])\n",
        "    vision_projections = keras.layers.Dropout(dropout_rate)(vision_projections)\n",
        "    \n",
        "    outputs = keras.layers.Dense(1, activation=\"sigmoid\")(vision_projections)\n",
        "    return keras.Model([image_1], outputs)"
      ]
    },
    {
      "cell_type": "code",
      "execution_count": 15,
      "metadata": {
        "id": "HYAqM03bYqpj"
      },
      "outputs": [],
      "source": [
        "loss = tf.keras.losses.BinaryCrossentropy(from_logits=True)\n",
        "metrics= [\n",
        "      tf.keras.metrics.BinaryAccuracy(name='accuracy'),\n",
        "      tf.keras.metrics.Precision(name='precision'),\n",
        "      tf.keras.metrics.Recall(name='recall')\n",
        "]"
      ]
    },
    {
      "cell_type": "code",
      "source": [
        "image_only_model = create_image_only_model(attention=False, num_projection_layers=0, projection_dims=128, dropout_rate=0.0)\n",
        "image_only_model.summary()"
      ],
      "metadata": {
        "id": "DG9HS8aNAuGn",
        "colab": {
          "base_uri": "https://localhost:8080/"
        },
        "outputId": "a707465b-a44b-41d7-d285-d7b563125559"
      },
      "execution_count": 16,
      "outputs": [
        {
          "output_type": "stream",
          "name": "stdout",
          "text": [
            "Downloading data from https://storage.googleapis.com/tensorflow/keras-applications/efficientnet_v2/efficientnetv2-b3_notop.h5\n",
            "52606240/52606240 [==============================] - 0s 0us/step\n",
            "Model: \"model\"\n",
            "_________________________________________________________________\n",
            " Layer (type)                Output Shape              Param #   \n",
            "=================================================================\n",
            " image_1 (InputLayer)        [(None, 224, 224, 3)]     0         \n",
            "                                                                 \n",
            " vision_encoder (Functional)  (None, 128)              13127358  \n",
            "                                                                 \n",
            " dropout (Dropout)           (None, 128)               0         \n",
            "                                                                 \n",
            " dense_1 (Dense)             (None, 1)                 129       \n",
            "                                                                 \n",
            "=================================================================\n",
            "Total params: 13,127,487\n",
            "Trainable params: 196,865\n",
            "Non-trainable params: 12,930,622\n",
            "_________________________________________________________________\n"
          ]
        }
      ]
    },
    {
      "cell_type": "markdown",
      "source": [
        "### Model Training"
      ],
      "metadata": {
        "id": "DDAXg6GZF7tP"
      }
    },
    {
      "cell_type": "code",
      "source": [
        "epochs = 10\n",
        "batch_size = 32"
      ],
      "metadata": {
        "id": "-EvQQlevMUbP"
      },
      "execution_count": 17,
      "outputs": []
    },
    {
      "cell_type": "code",
      "source": [
        "image_only_model.compile(\n",
        "    optimizer=tf.keras.optimizers.Adam(), loss=loss, metrics=metrics\n",
        ")\n",
        "history = image_only_model.fit(train_ds, validation_data=test_ds, epochs=epochs, batch_size=batch_size)"
      ],
      "metadata": {
        "id": "nHJ6ptX7NzOb",
        "colab": {
          "base_uri": "https://localhost:8080/"
        },
        "outputId": "95f47120-7478-4add-ee9c-29bb769844f7"
      },
      "execution_count": 18,
      "outputs": [
        {
          "output_type": "stream",
          "name": "stdout",
          "text": [
            "Epoch 1/10\n",
            "446/446 [==============================] - 135s 245ms/step - loss: 0.4416 - accuracy: 0.7993 - precision: 0.7651 - recall: 0.6010 - val_loss: 0.7684 - val_accuracy: 0.3567 - val_precision: 0.1591 - val_recall: 0.0058\n",
            "Epoch 2/10\n",
            "446/446 [==============================] - 46s 103ms/step - loss: 0.3650 - accuracy: 0.8432 - precision: 0.8160 - recall: 0.7025 - val_loss: 0.4285 - val_accuracy: 0.8908 - val_precision: 0.9655 - val_recall: 0.8567\n",
            "Epoch 3/10\n",
            "446/446 [==============================] - 45s 101ms/step - loss: 0.3322 - accuracy: 0.8574 - precision: 0.8289 - recall: 0.7378 - val_loss: 0.5863 - val_accuracy: 0.8274 - val_precision: 0.9610 - val_recall: 0.7556\n",
            "Epoch 4/10\n",
            "446/446 [==============================] - 46s 103ms/step - loss: 0.3144 - accuracy: 0.8686 - precision: 0.8425 - recall: 0.7600 - val_loss: 0.6396 - val_accuracy: 0.8258 - val_precision: 0.9599 - val_recall: 0.7539\n",
            "Epoch 5/10\n",
            "446/446 [==============================] - 45s 101ms/step - loss: 0.2999 - accuracy: 0.8771 - precision: 0.8551 - recall: 0.7739 - val_loss: 0.4672 - val_accuracy: 0.8476 - val_precision: 0.9616 - val_recall: 0.7887\n",
            "Epoch 6/10\n",
            "446/446 [==============================] - 45s 102ms/step - loss: 0.2932 - accuracy: 0.8782 - precision: 0.8544 - recall: 0.7788 - val_loss: 0.7726 - val_accuracy: 0.3900 - val_precision: 0.6545 - val_recall: 0.0597\n",
            "Epoch 7/10\n",
            "446/446 [==============================] - 45s 102ms/step - loss: 0.2781 - accuracy: 0.8832 - precision: 0.8630 - recall: 0.7849 - val_loss: 0.5131 - val_accuracy: 0.8352 - val_precision: 0.9406 - val_recall: 0.7871\n",
            "Epoch 8/10\n",
            "446/446 [==============================] - 51s 114ms/step - loss: 0.2800 - accuracy: 0.8841 - precision: 0.8623 - recall: 0.7890 - val_loss: 0.9569 - val_accuracy: 0.3583 - val_precision: 0.2245 - val_recall: 0.0091\n",
            "Epoch 9/10\n",
            "446/446 [==============================] - 45s 102ms/step - loss: 0.2723 - accuracy: 0.8869 - precision: 0.8672 - recall: 0.7925 - val_loss: 0.5771 - val_accuracy: 0.8346 - val_precision: 0.9606 - val_recall: 0.7680\n",
            "Epoch 10/10\n",
            "446/446 [==============================] - 45s 102ms/step - loss: 0.2618 - accuracy: 0.8908 - precision: 0.8713 - recall: 0.8008 - val_loss: 0.6225 - val_accuracy: 0.8409 - val_precision: 0.9611 - val_recall: 0.7780\n"
          ]
        }
      ]
    },
    {
      "cell_type": "markdown",
      "source": [
        "Plot training loss vs testing loss"
      ],
      "metadata": {
        "id": "gCrtiR-BwEOH"
      }
    },
    {
      "cell_type": "code",
      "source": [
        "plt.plot(history.history['loss'], label='loss')\n",
        "plt.plot(history.history['val_loss'], label='val_loss')\n",
        "plt.ylim([0, max(plt.ylim())])\n",
        "plt.xlabel('Epoch #')\n",
        "plt.ylabel('Loss')\n",
        "plt.legend()"
      ],
      "metadata": {
        "colab": {
          "base_uri": "https://localhost:8080/",
          "height": 466
        },
        "id": "egeUvyOQovSU",
        "outputId": "57108bad-3005-4447-e9b5-039d909a8f66"
      },
      "execution_count": 19,
      "outputs": [
        {
          "output_type": "execute_result",
          "data": {
            "text/plain": [
              "<matplotlib.legend.Legend at 0x7ff6f61508b0>"
            ]
          },
          "metadata": {},
          "execution_count": 19
        },
        {
          "output_type": "display_data",
          "data": {
            "text/plain": [
              "<Figure size 640x480 with 1 Axes>"
            ],
            "image/png": "[encoded data removed]"
          },
          "metadata": {}
        }
      ]
    },
    {
      "cell_type": "markdown",
      "source": [
        "Plot training accuracy vs testing accuracy"
      ],
      "metadata": {
        "id": "DolnD-nFwO0G"
      }
    },
    {
      "cell_type": "code",
      "source": [
        "plt.plot(history.history['accuracy'], label='accuracy')\n",
        "plt.plot(history.history['val_accuracy'], label='val_accuracy')\n",
        "plt.ylim([0, max(plt.ylim())])\n",
        "plt.xlabel('Epoch #')\n",
        "plt.ylabel('Accuracy')\n",
        "plt.legend()"
      ],
      "metadata": {
        "id": "8kNZXn1_veFn",
        "colab": {
          "base_uri": "https://localhost:8080/",
          "height": 466
        },
        "outputId": "abc2122a-9da3-427c-c1e9-9bcad8ef2303"
      },
      "execution_count": 20,
      "outputs": [
        {
          "output_type": "execute_result",
          "data": {
            "text/plain": [
              "<matplotlib.legend.Legend at 0x7ff65c58bdc0>"
            ]
          },
          "metadata": {},
          "execution_count": 20
        },
        {
          "output_type": "display_data",
          "data": {
            "text/plain": [
              "<Figure size 640x480 with 1 Axes>"
            ],
            "image/png": "[encoded data removed]"
          },
          "metadata": {}
        }
      ]
    },
    {
      "cell_type": "code",
      "source": [
        "from sklearn.metrics import accuracy_score,f1_score,precision_score,recall_score"
      ],
      "metadata": {
        "id": "JvqG8xphbPgD"
      },
      "execution_count": 21,
      "outputs": []
    },
    {
      "cell_type": "code",
      "source": [
        "y_test = np.concatenate([y for x, y in test_ds], axis=0)"
      ],
      "metadata": {
        "id": "YLi_UnaxKmpt"
      },
      "execution_count": 22,
      "outputs": []
    },
    {
      "cell_type": "code",
      "source": [
        "y_pred = image_only_model.predict(test_ds)\n",
        "y_pred = [1 if i>=0.5 else 0 for i in y_pred]\n",
        "print(f'Accuracy == {accuracy_score(y_test,y_pred)}')\n",
        "print(f'F1 == {f1_score(y_test,y_pred,average=None)}')\n",
        "print(f'Precision == {precision_score(y_test,y_pred,average=None)}')\n",
        "print(f'Recall == {recall_score(y_test,y_pred,average=None)}')"
      ],
      "metadata": {
        "colab": {
          "base_uri": "https://localhost:8080/"
        },
        "id": "GCZsFJUaM4ze",
        "outputId": "ba6c2045-b603-4dae-b17b-a36827c3ec56"
      },
      "execution_count": 23,
      "outputs": [
        {
          "output_type": "stream",
          "name": "stdout",
          "text": [
            "61/61 [==============================] - 7s 82ms/step\n",
            "Accuracy == 0.8408736349453978\n",
            "F1 == [0.81588448 0.85989011]\n",
            "Precision == [0.7167019  0.96110542]\n",
            "Recall == [0.94692737 0.77796189]\n"
          ]
        }
      ]
    },
    {
      "cell_type": "markdown",
      "source": [
        "# InceptionNet"
      ],
      "metadata": {
        "id": "mXaGtuTVjIYP"
      }
    },
    {
      "cell_type": "code",
      "execution_count": 24,
      "metadata": {
        "id": "uGRA1nK5qG9V"
      },
      "outputs": [],
      "source": [
        "def create_vision_encoder(\n",
        "    num_projection_layers, projection_dims, dropout_rate, trainable=False\n",
        "):\n",
        "    # Load the pre-trained ResNet50V2 model to be used as the base encoder.\n",
        "    resnet_v2 = keras.applications.InceptionV3(\n",
        "        include_top=False, weights=\"imagenet\", pooling=\"avg\"\n",
        "    )\n",
        "    # Set the trainability of the base encoder.\n",
        "    for layer in resnet_v2.layers:\n",
        "        layer.trainable = trainable\n",
        "\n",
        "    # Receive the images as inputs.\n",
        "    image_1 = keras.Input(shape=(224, 224, 3), name=\"image_1\")\n",
        "    \n",
        "    # Preprocess the input image.\n",
        "    preprocessed_1 = tf.keras.applications.inception_v3.preprocess_input(image_1)\n",
        "    \n",
        "    # Generate the embeddings for the images using the resnet_v2 model\n",
        "    embeddings = resnet_v2(preprocessed_1)\n",
        "    \n",
        "    # Project the embeddings produced by the model.\n",
        "    outputs = project_embeddings(\n",
        "        embeddings, num_projection_layers, projection_dims, dropout_rate\n",
        "    )\n",
        "    # Create the vision encoder model.\n",
        "    return keras.Model([image_1], outputs, name=\"vision_encoder\")"
      ]
    },
    {
      "cell_type": "code",
      "source": [
        "image_only_model1 = create_image_only_model(attention=False, num_projection_layers=1, projection_dims=128, dropout_rate=0.2)\n",
        "image_only_model1.summary()"
      ],
      "metadata": {
        "colab": {
          "base_uri": "https://localhost:8080/"
        },
        "outputId": "c664496c-d976-4309-8248-2730d9870903",
        "id": "Jm7fLzOpqqEV"
      },
      "execution_count": 25,
      "outputs": [
        {
          "output_type": "stream",
          "name": "stdout",
          "text": [
            "Downloading data from https://storage.googleapis.com/tensorflow/keras-applications/inception_v3/inception_v3_weights_tf_dim_ordering_tf_kernels_notop.h5\n",
            "87910968/87910968 [==============================] - 1s 0us/step\n",
            "Model: \"model_1\"\n",
            "_________________________________________________________________\n",
            " Layer (type)                Output Shape              Param #   \n",
            "=================================================================\n",
            " image_1 (InputLayer)        [(None, 224, 224, 3)]     0         \n",
            "                                                                 \n",
            " vision_encoder (Functional)  (None, 128)              22081824  \n",
            "                                                                 \n",
            " dropout_2 (Dropout)         (None, 128)               0         \n",
            "                                                                 \n",
            " dense_4 (Dense)             (None, 1)                 129       \n",
            "                                                                 \n",
            "=================================================================\n",
            "Total params: 22,081,953\n",
            "Trainable params: 279,169\n",
            "Non-trainable params: 21,802,784\n",
            "_________________________________________________________________\n"
          ]
        }
      ]
    },
    {
      "cell_type": "markdown",
      "source": [
        "### Model Training"
      ],
      "metadata": {
        "id": "jC140RQ7qqEW"
      }
    },
    {
      "cell_type": "code",
      "source": [
        "image_only_model1.compile(\n",
        "    optimizer=tf.keras.optimizers.Adam(), loss=loss, metrics=metrics\n",
        ")\n",
        "history1 = image_only_model1.fit(train_ds, validation_data=test_ds, epochs=epochs, batch_size=batch_size)"
      ],
      "metadata": {
        "colab": {
          "base_uri": "https://localhost:8080/"
        },
        "outputId": "2810a39d-88c9-44c4-f04f-2b7c80edb9ae",
        "id": "a2zcON_TqqEX"
      },
      "execution_count": 26,
      "outputs": [
        {
          "output_type": "stream",
          "name": "stdout",
          "text": [
            "Epoch 1/10\n",
            "446/446 [==============================] - 48s 90ms/step - loss: 0.0595 - accuracy: 0.9604 - precision: 0.9674 - recall: 0.9265 - val_loss: 4.7167 - val_accuracy: 0.2767 - val_precision: 0.3251 - val_recall: 0.1417\n",
            "Epoch 2/10\n",
            "446/446 [==============================] - 36s 80ms/step - loss: 0.0100 - accuracy: 0.9973 - precision: 0.9967 - recall: 0.9953 - val_loss: 4.2505 - val_accuracy: 0.2741 - val_precision: 0.3220 - val_recall: 0.1417\n",
            "Epoch 3/10\n",
            "446/446 [==============================] - 36s 81ms/step - loss: 0.0063 - accuracy: 0.9981 - precision: 0.9980 - recall: 0.9965 - val_loss: 4.3631 - val_accuracy: 0.1628 - val_precision: 0.2331 - val_recall: 0.1458\n",
            "Epoch 4/10\n",
            "446/446 [==============================] - 36s 81ms/step - loss: 0.0025 - accuracy: 0.9994 - precision: 0.9994 - recall: 0.9990 - val_loss: 6.8721 - val_accuracy: 0.2969 - val_precision: 0.3541 - val_recall: 0.1458\n",
            "Epoch 5/10\n",
            "446/446 [==============================] - 36s 81ms/step - loss: 0.0045 - accuracy: 0.9983 - precision: 0.9976 - recall: 0.9976 - val_loss: 6.3608 - val_accuracy: 0.2969 - val_precision: 0.3511 - val_recall: 0.1417\n",
            "Epoch 6/10\n",
            "446/446 [==============================] - 36s 81ms/step - loss: 9.4784e-04 - accuracy: 0.9996 - precision: 0.9996 - recall: 0.9994 - val_loss: 6.2765 - val_accuracy: 0.2938 - val_precision: 0.3469 - val_recall: 0.1417\n",
            "Epoch 7/10\n",
            "446/446 [==============================] - 36s 81ms/step - loss: 0.0013 - accuracy: 0.9994 - precision: 0.9994 - recall: 0.9990 - val_loss: 7.7859 - val_accuracy: 0.2943 - val_precision: 0.3476 - val_recall: 0.1417\n",
            "Epoch 8/10\n",
            "446/446 [==============================] - 36s 81ms/step - loss: 0.0055 - accuracy: 0.9980 - precision: 0.9967 - recall: 0.9976 - val_loss: 5.7453 - val_accuracy: 0.2886 - val_precision: 0.3326 - val_recall: 0.1326\n",
            "Epoch 9/10\n",
            "446/446 [==============================] - 36s 81ms/step - loss: 0.0020 - accuracy: 0.9993 - precision: 0.9992 - recall: 0.9988 - val_loss: 7.0755 - val_accuracy: 0.2709 - val_precision: 0.3107 - val_recall: 0.1326\n",
            "Epoch 10/10\n",
            "446/446 [==============================] - 36s 81ms/step - loss: 3.2118e-04 - accuracy: 0.9999 - precision: 0.9998 - recall: 1.0000 - val_loss: 7.7507 - val_accuracy: 0.2767 - val_precision: 0.3251 - val_recall: 0.1417\n"
          ]
        }
      ]
    },
    {
      "cell_type": "markdown",
      "source": [
        "Plot training loss vs testing loss"
      ],
      "metadata": {
        "id": "RKfUFPj5rAmY"
      }
    },
    {
      "cell_type": "code",
      "source": [
        "plt.plot(history1.history['loss'], label='loss')\n",
        "plt.plot(history1.history['val_loss'], label='val_loss')\n",
        "plt.ylim([0, max(plt.ylim())])\n",
        "plt.xlabel('Epoch #')\n",
        "plt.ylabel('Loss')\n",
        "plt.legend()"
      ],
      "metadata": {
        "colab": {
          "base_uri": "https://localhost:8080/",
          "height": 466
        },
        "outputId": "cfeb6f58-7f6f-4962-e2af-f1c4ad5b6496",
        "id": "FTtUOL-frAmZ"
      },
      "execution_count": 27,
      "outputs": [
        {
          "output_type": "execute_result",
          "data": {
            "text/plain": [
              "<matplotlib.legend.Legend at 0x7ff52c3a7310>"
            ]
          },
          "metadata": {},
          "execution_count": 27
        },
        {
          "output_type": "display_data",
          "data": {
            "text/plain": [
              "<Figure size 640x480 with 1 Axes>"
            ],
            "image/png": "[encoded data removed]"
          },
          "metadata": {}
        }
      ]
    },
    {
      "cell_type": "markdown",
      "source": [
        "Plot training accuracy vs testing accuracy"
      ],
      "metadata": {
        "id": "5mMNJUtjrAmZ"
      }
    },
    {
      "cell_type": "code",
      "source": [
        "plt.plot(history1.history['accuracy'], label='accuracy')\n",
        "plt.plot(history1.history['val_accuracy'], label='val_accuracy')\n",
        "plt.ylim([0, max(plt.ylim())])\n",
        "plt.xlabel('Epoch #')\n",
        "plt.ylabel('Accuracy')\n",
        "plt.legend()"
      ],
      "metadata": {
        "colab": {
          "base_uri": "https://localhost:8080/",
          "height": 466
        },
        "outputId": "85e25d03-f29c-425a-e538-13cbea3419e0",
        "id": "eyw2vHDUrAma"
      },
      "execution_count": 28,
      "outputs": [
        {
          "output_type": "execute_result",
          "data": {
            "text/plain": [
              "<matplotlib.legend.Legend at 0x7ff51991b5b0>"
            ]
          },
          "metadata": {},
          "execution_count": 28
        },
        {
          "output_type": "display_data",
          "data": {
            "text/plain": [
              "<Figure size 640x480 with 1 Axes>"
            ],
            "image/png": "[encoded data removed]"
          },
          "metadata": {}
        }
      ]
    },
    {
      "cell_type": "code",
      "source": [
        "y_pred = image_only_model1.predict(test_ds)\n",
        "y_pred = [1 if i>=0.5 else 0 for i in y_pred]\n",
        "print(f'Accuracy == {accuracy_score(y_test,y_pred)}')\n",
        "print(f'F1 == {f1_score(y_test,y_pred,average=None)}')\n",
        "print(f'Precision == {precision_score(y_test,y_pred,average=None)}')\n",
        "print(f'Recall == {recall_score(y_test,y_pred,average=None)}')"
      ],
      "metadata": {
        "colab": {
          "base_uri": "https://localhost:8080/"
        },
        "outputId": "0b555c70-e8ec-4496-c6ab-9ad7d04b8591",
        "id": "XpMLo4LQrAma"
      },
      "execution_count": 29,
      "outputs": [
        {
          "output_type": "stream",
          "name": "stdout",
          "text": [
            "61/61 [==============================] - 5s 68ms/step\n",
            "Accuracy == 0.2766510660426417\n",
            "F1 == [0.34169427 0.19734564]\n",
            "Precision == [0.25841088 0.32509506]\n",
            "Recall == [0.50418994 0.14167357]\n"
          ]
        }
      ]
    },
    {
      "cell_type": "markdown",
      "source": [
        "# MobileNetV3 Small"
      ],
      "metadata": {
        "id": "p4w8w-a81KiH"
      }
    },
    {
      "cell_type": "code",
      "source": [
        "def create_vision_encoder(\n",
        "    num_projection_layers, projection_dims, dropout_rate, trainable=False\n",
        "):\n",
        "    # Load the pre-trained ResNet50V2 model to be used as the base encoder.\n",
        "    resnet_v2 = keras.applications.MobileNetV3Small(\n",
        "        include_top=False, weights=\"imagenet\", pooling=\"avg\"\n",
        "    )\n",
        "    # Set the trainability of the base encoder.\n",
        "    for layer in resnet_v2.layers:\n",
        "        layer.trainable = trainable\n",
        "\n",
        "    # Receive the images as inputs.\n",
        "    image_1 = keras.Input(shape=(224, 224, 3), name=\"image_1\")\n",
        "    \n",
        "    # Preprocess the input image.\n",
        "    preprocessed_1 = tf.keras.applications.mobilenet_v3.preprocess_input(image_1)\n",
        "    \n",
        "    # Generate the embeddings for the images using the resnet_v2 model\n",
        "    embeddings = resnet_v2(preprocessed_1)\n",
        "    \n",
        "    # Project the embeddings produced by the model.\n",
        "    outputs = project_embeddings(\n",
        "        embeddings, num_projection_layers, projection_dims, dropout_rate\n",
        "    )\n",
        "    # Create the vision encoder model.\n",
        "    return keras.Model([image_1], outputs, name=\"vision_encoder\")"
      ],
      "metadata": {
        "id": "VXGLMcMl1Jjw"
      },
      "execution_count": 30,
      "outputs": []
    },
    {
      "cell_type": "code",
      "source": [
        "image_only_model2 = create_image_only_model(attention=False, num_projection_layers=0, projection_dims=128, dropout_rate=0.0)\n",
        "image_only_model2.summary()"
      ],
      "metadata": {
        "colab": {
          "base_uri": "https://localhost:8080/"
        },
        "outputId": "3d8b9631-f305-4b7e-8204-a4d247361b42",
        "id": "x3sjD2Xo1isJ"
      },
      "execution_count": 31,
      "outputs": [
        {
          "output_type": "stream",
          "name": "stdout",
          "text": [
            "Downloading data from https://storage.googleapis.com/tensorflow/keras-applications/mobilenet_v3/weights_mobilenet_v3_small_224_1.0_float_no_top_v2.h5\n",
            "4334752/4334752 [==============================] - 0s 0us/step\n",
            "Model: \"model_2\"\n",
            "_________________________________________________________________\n",
            " Layer (type)                Output Shape              Param #   \n",
            "=================================================================\n",
            " image_1 (InputLayer)        [(None, 224, 224, 3)]     0         \n",
            "                                                                 \n",
            " vision_encoder (Functional)  (None, 128)              1012976   \n",
            "                                                                 \n",
            " dropout_3 (Dropout)         (None, 128)               0         \n",
            "                                                                 \n",
            " dense_6 (Dense)             (None, 1)                 129       \n",
            "                                                                 \n",
            "=================================================================\n",
            "Total params: 1,013,105\n",
            "Trainable params: 73,985\n",
            "Non-trainable params: 939,120\n",
            "_________________________________________________________________\n"
          ]
        }
      ]
    },
    {
      "cell_type": "markdown",
      "source": [
        "### Model Training"
      ],
      "metadata": {
        "id": "pocRfxkk1isJ"
      }
    },
    {
      "cell_type": "code",
      "source": [
        "image_only_model2.compile(\n",
        "    optimizer=tf.keras.optimizers.Adam(), loss=loss, metrics=metrics\n",
        ")\n",
        "history2 = image_only_model2.fit(train_ds, validation_data=test_ds, epochs=epochs, batch_size=batch_size)"
      ],
      "metadata": {
        "colab": {
          "base_uri": "https://localhost:8080/"
        },
        "outputId": "c54df43f-ae55-40bc-c053-58712ab681d2",
        "id": "rnSPaTxo1isJ"
      },
      "execution_count": 32,
      "outputs": [
        {
          "output_type": "stream",
          "name": "stdout",
          "text": [
            "Epoch 1/10\n",
            "446/446 [==============================] - 18s 31ms/step - loss: 0.0786 - accuracy: 0.8916 - precision: 0.9044 - recall: 0.7973 - val_loss: 1.5061 - val_accuracy: 0.2283 - val_precision: 0.1646 - val_recall: 0.0563\n",
            "Epoch 2/10\n",
            "446/446 [==============================] - 11s 25ms/step - loss: 0.0188 - accuracy: 0.9959 - precision: 0.9945 - recall: 0.9937 - val_loss: 0.9871 - val_accuracy: 0.6989 - val_precision: 0.7329 - val_recall: 0.8186\n",
            "Epoch 3/10\n",
            "446/446 [==============================] - 11s 25ms/step - loss: 0.0130 - accuracy: 0.9966 - precision: 0.9957 - recall: 0.9943 - val_loss: 0.9337 - val_accuracy: 0.6505 - val_precision: 0.7128 - val_recall: 0.7423\n",
            "Epoch 4/10\n",
            "446/446 [==============================] - 11s 25ms/step - loss: 0.0092 - accuracy: 0.9973 - precision: 0.9973 - recall: 0.9949 - val_loss: 0.8030 - val_accuracy: 0.8050 - val_precision: 0.8741 - val_recall: 0.8053\n",
            "Epoch 5/10\n",
            "446/446 [==============================] - 11s 25ms/step - loss: 0.0065 - accuracy: 0.9981 - precision: 0.9971 - recall: 0.9973 - val_loss: 0.9025 - val_accuracy: 0.8040 - val_precision: 0.8759 - val_recall: 0.8012\n",
            "Epoch 6/10\n",
            "446/446 [==============================] - 11s 25ms/step - loss: 0.0188 - accuracy: 0.9945 - precision: 0.9929 - recall: 0.9912 - val_loss: 1.3764 - val_accuracy: 0.5736 - val_precision: 0.6225 - val_recall: 0.8144\n",
            "Epoch 7/10\n",
            "446/446 [==============================] - 11s 25ms/step - loss: 0.0034 - accuracy: 0.9989 - precision: 0.9988 - recall: 0.9982 - val_loss: 1.9900 - val_accuracy: 0.6360 - val_precision: 0.6749 - val_recall: 0.8103\n",
            "Epoch 8/10\n",
            "446/446 [==============================] - 11s 25ms/step - loss: 0.0034 - accuracy: 0.9989 - precision: 0.9988 - recall: 0.9980 - val_loss: 2.6917 - val_accuracy: 0.6422 - val_precision: 0.6781 - val_recall: 0.8186\n",
            "Epoch 9/10\n",
            "446/446 [==============================] - 12s 26ms/step - loss: 0.0026 - accuracy: 0.9991 - precision: 0.9984 - recall: 0.9990 - val_loss: 2.2250 - val_accuracy: 0.6297 - val_precision: 0.6720 - val_recall: 0.8012\n",
            "Epoch 10/10\n",
            "446/446 [==============================] - 11s 25ms/step - loss: 0.0033 - accuracy: 0.9988 - precision: 0.9984 - recall: 0.9982 - val_loss: 2.3669 - val_accuracy: 0.6604 - val_precision: 0.6948 - val_recall: 0.8186\n"
          ]
        }
      ]
    },
    {
      "cell_type": "markdown",
      "source": [
        "Plot training loss vs testing loss"
      ],
      "metadata": {
        "id": "CnvLIxPK-HSF"
      }
    },
    {
      "cell_type": "code",
      "source": [
        "plt.plot(history2.history['loss'], label='loss')\n",
        "plt.plot(history2.history['val_loss'], label='val_loss')\n",
        "plt.ylim([0, max(plt.ylim())])\n",
        "plt.xlabel('Epoch #')\n",
        "plt.ylabel('Loss')\n",
        "plt.legend()"
      ],
      "metadata": {
        "colab": {
          "base_uri": "https://localhost:8080/",
          "height": 466
        },
        "outputId": "0ed3d0ab-6525-4dc3-a30e-d0ab769f3ff3",
        "id": "DMBVcEep-HSN"
      },
      "execution_count": 33,
      "outputs": [
        {
          "output_type": "execute_result",
          "data": {
            "text/plain": [
              "<matplotlib.legend.Legend at 0x7ff6f5af8940>"
            ]
          },
          "metadata": {},
          "execution_count": 33
        },
        {
          "output_type": "display_data",
          "data": {
            "text/plain": [
              "<Figure size 640x480 with 1 Axes>"
            ],
            "image/png": "[encoded data removed]"
          },
          "metadata": {}
        }
      ]
    },
    {
      "cell_type": "markdown",
      "source": [
        "Plot training accuracy vs testing accuracy"
      ],
      "metadata": {
        "id": "ETctEgyT-HSO"
      }
    },
    {
      "cell_type": "code",
      "source": [
        "plt.plot(history2.history['accuracy'], label='accuracy')\n",
        "plt.plot(history2.history['val_accuracy'], label='val_accuracy')\n",
        "plt.ylim([0, max(plt.ylim())])\n",
        "plt.xlabel('Epoch #')\n",
        "plt.ylabel('Accuracy')\n",
        "plt.legend()"
      ],
      "metadata": {
        "colab": {
          "base_uri": "https://localhost:8080/",
          "height": 466
        },
        "outputId": "42035df0-8879-4560-d535-29794131f0fa",
        "id": "Bybx3-q7-HSO"
      },
      "execution_count": 34,
      "outputs": [
        {
          "output_type": "execute_result",
          "data": {
            "text/plain": [
              "<matplotlib.legend.Legend at 0x7ff6f5af8a90>"
            ]
          },
          "metadata": {},
          "execution_count": 34
        },
        {
          "output_type": "display_data",
          "data": {
            "text/plain": [
              "<Figure size 640x480 with 1 Axes>"
            ],
            "image/png": "[encoded data removed]"
          },
          "metadata": {}
        }
      ]
    },
    {
      "cell_type": "code",
      "source": [
        "y_pred = image_only_model2.predict(test_ds)\n",
        "y_pred = [1 if i>=0.5 else 0 for i in y_pred]\n",
        "print(f'Accuracy == {accuracy_score(y_test,y_pred)}')\n",
        "print(f'F1 == {f1_score(y_test,y_pred,average=None)}')\n",
        "print(f'Precision == {precision_score(y_test,y_pred,average=None)}')\n",
        "print(f'Recall == {recall_score(y_test,y_pred,average=None)}')"
      ],
      "metadata": {
        "colab": {
          "base_uri": "https://localhost:8080/"
        },
        "outputId": "04e50f30-ed6f-46f7-8c8b-04583205ee1e",
        "id": "i2wMc_8y-HSO"
      },
      "execution_count": 35,
      "outputs": [
        {
          "output_type": "stream",
          "name": "stdout",
          "text": [
            "61/61 [==============================] - 2s 20ms/step\n",
            "Accuracy == 0.6604264170566823\n",
            "F1 == [0.46343468 0.75161658]\n",
            "Precision == [0.56287425 0.69479606]\n",
            "Recall == [0.39385475 0.81855841]\n"
          ]
        }
      ]
    },
    {
      "cell_type": "code",
      "source": [],
      "metadata": {
        "id": "lCA7GDvUsfy2"
      },
      "execution_count": null,
      "outputs": []
    }
  ]
}