{
  "nbformat": 4,
  "nbformat_minor": 0,
  "metadata": {
    "colab": {
      "provenance": [],
      "machine_shape": "hm",
      "gpuType": "T4",
      "authorship_tag": "ABX9TyPBUikp0bvor8vbYPRlFwqb",
      "include_colab_link": true
    },
    "kernelspec": {
      "name": "python3",
      "display_name": "Python 3"
    },
    "language_info": {
      "name": "python"
    },
    "accelerator": "GPU",
    "gpuClass": "standard"
  },
  "cells": [
    {
      "cell_type": "markdown",
      "metadata": {
        "id": "view-in-github",
        "colab_type": "text"
      },
      "source": [
        "<a href=\"https://colab.research.google.com/github/arnabbiswas66/multimodal-fake-news-classifier/blob/main/Experiments/Weibo_image_only_experiments.ipynb\" target=\"_parent\"><img src=\"https://colab.research.google.com/assets/colab-badge.svg\" alt=\"Open In Colab\"/></a>"
      ]
    },
    {
      "cell_type": "markdown",
      "source": [
        "# EfficientNetV2 B3"
      ],
      "metadata": {
        "id": "HTRw6Dq5iUyB"
      }
    },
    {
      "cell_type": "code",
      "execution_count": 1,
      "metadata": {
        "id": "S0_Dwt-ondpi"
      },
      "outputs": [],
      "source": [
        "from tensorflow.python.platform.tf_logging import warn\n",
        "import pandas as pd\n",
        "import numpy as np\n",
        "import tensorflow as tf\n",
        "from tensorflow import keras\n",
        "import os\n",
        "import re\n",
        "from os import listdir\n",
        "import shutil\n",
        "import glob\n",
        "import random\n",
        "import matplotlib.pyplot as plt\n",
        "import tensorflow_hub as hub\n",
        "tf.get_logger().setLevel('ERROR')\n",
        "import warnings\n",
        "\n",
        "warnings.filterwarnings('ignore')"
      ]
    },
    {
      "cell_type": "code",
      "execution_count": 2,
      "metadata": {
        "colab": {
          "base_uri": "https://localhost:8080/"
        },
        "id": "x20211H_nnLR",
        "outputId": "928b082d-bbc3-4e56-f1ee-986cdb993796"
      },
      "outputs": [
        {
          "output_type": "stream",
          "name": "stdout",
          "text": [
            "Mounted at /content/drive\n"
          ]
        }
      ],
      "source": [
        "from google.colab import drive\n",
        "drive.mount('/content/drive')"
      ]
    },
    {
      "cell_type": "code",
      "source": [
        "# image copy pipeline from Gdrive to Colab\n",
        "! mkdir \"/content/images\"\n",
        "! cp \"/content/drive/MyDrive/multimodal-news/weibo-data/images.zip\" \"/content/images\"\n",
        "! unzip -q -d \"/content/images\" \"/content/images/images.zip\""
      ],
      "metadata": {
        "id": "-wX0FqzUXcYJ"
      },
      "execution_count": 20,
      "outputs": []
    },
    {
      "cell_type": "code",
      "execution_count": 3,
      "metadata": {
        "id": "BbHqdujoUn87"
      },
      "outputs": [],
      "source": [
        "\n",
        "BASE_SAVE_LOCATION = \"/content/drive/MyDrive/multimodal-news\"\n",
        "CHECKPOINT_FILEPATH = '/content/drive/MyDrive/multimodal-news/weibo/'"
      ]
    },
    {
      "cell_type": "markdown",
      "metadata": {
        "id": "TKusTHhYWBlz"
      },
      "source": [
        "## Load the dataframes"
      ]
    },
    {
      "cell_type": "code",
      "execution_count": 4,
      "metadata": {
        "colab": {
          "base_uri": "https://localhost:8080/"
        },
        "id": "JftdaRkIWAAo",
        "outputId": "dfca6b0c-8ca6-40aa-e92b-e5516f897760"
      },
      "outputs": [
        {
          "output_type": "stream",
          "name": "stdout",
          "text": [
            "(4140, 3) (1124, 3)\n"
          ]
        }
      ],
      "source": [
        "#Load training df\n",
        "train_df_model = pd.read_pickle(BASE_SAVE_LOCATION+\"/weibo-train.pickle\")\n",
        "#Load testing df\n",
        "test_df_model = pd.read_pickle(BASE_SAVE_LOCATION+\"/weibo-test.pickle\")\n",
        "print(train_df_model.shape, test_df_model.shape)"
      ]
    },
    {
      "cell_type": "markdown",
      "metadata": {
        "id": "cCuEsRz4CIdR"
      },
      "source": [
        "# Data input pipeline"
      ]
    },
    {
      "cell_type": "code",
      "execution_count": 5,
      "metadata": {
        "id": "dhn-DPb7Lsb1"
      },
      "outputs": [],
      "source": [
        "def dataframe_to_dataset(dataframe):\n",
        "    columns = ['image_1', 'label']\n",
        "    dataframe = dataframe[columns].copy()\n",
        "    labels = dataframe.pop(\"label\")\n",
        "    ds = tf.data.Dataset.from_tensor_slices((dict(dataframe), labels))\n",
        "    ds = ds.shuffle(buffer_size=len(dataframe))\n",
        "    return ds"
      ]
    },
    {
      "cell_type": "markdown",
      "metadata": {
        "id": "QO6IRl9rkfT4"
      },
      "source": [
        "## Preprocessing utilities"
      ]
    },
    {
      "cell_type": "code",
      "execution_count": 6,
      "metadata": {
        "id": "slef7sY9ke1l"
      },
      "outputs": [],
      "source": [
        "resize = (224, 224)"
      ]
    },
    {
      "cell_type": "code",
      "execution_count": 7,
      "metadata": {
        "id": "FrTCJPUzkP3Q"
      },
      "outputs": [],
      "source": [
        "def preprocess_image(image_path):\n",
        "  extension = tf.strings.split(image_path,'.')[-1]\n",
        "  image = tf.io.read_file(image_path)\n",
        "  if extension == b\"gif\":\n",
        "    image = tf.io.decode_image(image, 3, expand_animations=False)\n",
        "  elif extension == b\"png\":\n",
        "    image = tf.image.decode_png(image, 3)\n",
        "  else:\n",
        "    image = tf.image.decode_jpeg(image, 3)\n",
        "  image = tf.image.resize(image, resize)\n",
        "  return image"
      ]
    },
    {
      "cell_type": "code",
      "execution_count": 8,
      "metadata": {
        "id": "uXQHweTHpCQM"
      },
      "outputs": [],
      "source": [
        "def preprocess_text_and_image(sample):\n",
        "  image_1 = preprocess_image(sample[\"image_1\"])\n",
        "  return {\"image_1\": image_1}"
      ]
    },
    {
      "cell_type": "code",
      "execution_count": 9,
      "metadata": {
        "id": "C-0aLqtupoL5"
      },
      "outputs": [],
      "source": [
        "batch_size = 32\n",
        "auto = tf.data.AUTOTUNE"
      ]
    },
    {
      "cell_type": "code",
      "execution_count": 10,
      "metadata": {
        "id": "DwL2IjrIp-Tn"
      },
      "outputs": [],
      "source": [
        "def prepare_dataset(dataframe, training=True):\n",
        "  ds = dataframe_to_dataset(dataframe)\n",
        "  if training:\n",
        "      ds = ds.shuffle(len(train_df_model))\n",
        "  ds = ds.map(lambda x, y: (preprocess_text_and_image(x), y)).cache()\n",
        "  ds = ds.batch(batch_size).prefetch(auto)\n",
        "  return ds"
      ]
    },
    {
      "cell_type": "code",
      "execution_count": 11,
      "metadata": {
        "id": "5rSseL-fqSCE"
      },
      "outputs": [],
      "source": [
        "train_ds = prepare_dataset(train_df_model)\n",
        "test_ds = prepare_dataset(test_df_model, False)"
      ]
    },
    {
      "cell_type": "markdown",
      "metadata": {
        "id": "UUA1fjql-NCs"
      },
      "source": [
        "## Model Building"
      ]
    },
    {
      "cell_type": "markdown",
      "metadata": {
        "id": "dsnHD-at_70f"
      },
      "source": [
        "### Projection"
      ]
    },
    {
      "cell_type": "code",
      "execution_count": 12,
      "metadata": {
        "id": "JUmnESU36Q-N"
      },
      "outputs": [],
      "source": [
        "def project_embeddings(\n",
        "    embeddings, num_projection_layers, projection_dims, dropout_rate\n",
        "):\n",
        "    projected_embeddings = keras.layers.Dense(units=projection_dims)(embeddings)\n",
        "    for _ in range(num_projection_layers):\n",
        "        x = tf.nn.gelu(projected_embeddings)\n",
        "        x = keras.layers.Dense(projection_dims)(x)\n",
        "        x = keras.layers.Dropout(dropout_rate)(x)\n",
        "        x = keras.layers.Add()([projected_embeddings, x])\n",
        "        projected_embeddings = keras.layers.LayerNormalization()(x)\n",
        "    return projected_embeddings\n"
      ]
    },
    {
      "cell_type": "markdown",
      "metadata": {
        "id": "uEelNTYZAB0h"
      },
      "source": [
        "### Vision encoder"
      ]
    },
    {
      "cell_type": "code",
      "execution_count": 13,
      "metadata": {
        "id": "y2ypqRWE_Oyq"
      },
      "outputs": [],
      "source": [
        "def create_vision_encoder(\n",
        "    num_projection_layers, projection_dims, dropout_rate, trainable=False\n",
        "):\n",
        "    # Load the pre-trained ResNet50V2 model to be used as the base encoder.\n",
        "    resnet_v2 = keras.applications.EfficientNetV2B3(\n",
        "        include_top=False, weights=\"imagenet\", pooling=\"avg\"\n",
        "    )\n",
        "    # Set the trainability of the base encoder.\n",
        "    for layer in resnet_v2.layers:\n",
        "        layer.trainable = trainable\n",
        "\n",
        "    # Receive the images as inputs.\n",
        "    image_1 = keras.Input(shape=(224, 224, 3), name=\"image_1\")\n",
        "    \n",
        "    # Preprocess the input image.\n",
        "    preprocessed_1 = keras.applications.resnet_v2.preprocess_input(image_1)\n",
        "    \n",
        "    # Generate the embeddings for the images using the resnet_v2 model\n",
        "    # concatenate them.\n",
        "    embeddings = resnet_v2(preprocessed_1)\n",
        "    #embeddings = keras.layers.Concatenate()([embeddings_1, embeddings_2])\n",
        "\n",
        "    # Project the embeddings produced by the model.\n",
        "    outputs = project_embeddings(\n",
        "        embeddings, num_projection_layers, projection_dims, dropout_rate\n",
        "    )\n",
        "    # Create the vision encoder model.\n",
        "    return keras.Model([image_1], outputs, name=\"vision_encoder\")"
      ]
    },
    {
      "cell_type": "markdown",
      "metadata": {
        "id": "Ugj-e4g8AWOp"
      },
      "source": [
        "## ImageOnly model"
      ]
    },
    {
      "cell_type": "code",
      "execution_count": 14,
      "metadata": {
        "id": "1RjaNwDnANoc"
      },
      "outputs": [],
      "source": [
        "def create_image_only_model(\n",
        "    num_projection_layers=0,\n",
        "    projection_dims=224,\n",
        "    dropout_rate=0.1,\n",
        "    vision_trainable=False,\n",
        "    text_trainable=False,\n",
        "    attention=False\n",
        "):\n",
        "    # Receive the images as inputs.\n",
        "    image_1 = keras.Input(shape=(224, 224, 3), name=\"image_1\")\n",
        "    \n",
        "   # Create the encoders.\n",
        "    vision_encoder = create_vision_encoder(\n",
        "        num_projection_layers, projection_dims, dropout_rate, vision_trainable\n",
        "    )\n",
        "    \n",
        "    # Fetch the embedding projections.\n",
        "    vision_projections = vision_encoder([image_1])\n",
        "    vision_projections = keras.layers.Dropout(dropout_rate)(vision_projections)\n",
        "    \n",
        "    outputs = keras.layers.Dense(1, activation=\"sigmoid\")(vision_projections)\n",
        "    return keras.Model([image_1], outputs)"
      ]
    },
    {
      "cell_type": "code",
      "execution_count": 15,
      "metadata": {
        "id": "HYAqM03bYqpj"
      },
      "outputs": [],
      "source": [
        "loss = tf.keras.losses.BinaryCrossentropy(from_logits=True)\n",
        "metrics= [\n",
        "      tf.keras.metrics.BinaryAccuracy(name='accuracy'),\n",
        "      tf.keras.metrics.Precision(name='precision'),\n",
        "      tf.keras.metrics.Recall(name='recall')\n",
        "]"
      ]
    },
    {
      "cell_type": "code",
      "source": [
        "image_only_model = create_image_only_model(attention=False, num_projection_layers=0, projection_dims=128, dropout_rate=0.0)\n",
        "image_only_model.summary()"
      ],
      "metadata": {
        "id": "DG9HS8aNAuGn",
        "colab": {
          "base_uri": "https://localhost:8080/"
        },
        "outputId": "ec5c75ea-c6ea-4c5d-ad81-d706dc1b92c3"
      },
      "execution_count": 26,
      "outputs": [
        {
          "output_type": "stream",
          "name": "stdout",
          "text": [
            "Model: \"model_3\"\n",
            "_________________________________________________________________\n",
            " Layer (type)                Output Shape              Param #   \n",
            "=================================================================\n",
            " image_1 (InputLayer)        [(None, 224, 224, 3)]     0         \n",
            "                                                                 \n",
            " vision_encoder (Functional)  (None, 128)              13127358  \n",
            "                                                                 \n",
            " dropout_4 (Dropout)         (None, 128)               0         \n",
            "                                                                 \n",
            " dense_8 (Dense)             (None, 1)                 129       \n",
            "                                                                 \n",
            "=================================================================\n",
            "Total params: 13,127,487\n",
            "Trainable params: 196,865\n",
            "Non-trainable params: 12,930,622\n",
            "_________________________________________________________________\n"
          ]
        }
      ]
    },
    {
      "cell_type": "markdown",
      "source": [
        "### Model Training"
      ],
      "metadata": {
        "id": "DDAXg6GZF7tP"
      }
    },
    {
      "cell_type": "code",
      "source": [
        "epochs = 10\n",
        "batch_size = 32"
      ],
      "metadata": {
        "id": "-EvQQlevMUbP"
      },
      "execution_count": 27,
      "outputs": []
    },
    {
      "cell_type": "code",
      "source": [
        "image_only_model.compile(\n",
        "    optimizer=tf.keras.optimizers.Adam(), loss=loss, metrics=metrics\n",
        ")\n",
        "history = image_only_model.fit(train_ds, validation_data=test_ds, epochs=epochs, batch_size=batch_size)"
      ],
      "metadata": {
        "id": "nHJ6ptX7NzOb",
        "colab": {
          "base_uri": "https://localhost:8080/"
        },
        "outputId": "a8fc9b30-ca8e-4f92-8bf1-d90acfcc7441"
      },
      "execution_count": 29,
      "outputs": [
        {
          "output_type": "stream",
          "name": "stdout",
          "text": [
            "Epoch 1/10\n",
            "130/130 [==============================] - 30s 137ms/step - loss: 0.5058 - accuracy: 0.8062 - precision: 0.3704 - recall: 0.0134 - val_loss: 0.5260 - val_accuracy: 0.7669 - val_precision: 0.0000e+00 - val_recall: 0.0000e+00\n",
            "Epoch 2/10\n",
            "130/130 [==============================] - 15s 115ms/step - loss: 0.4903 - accuracy: 0.8082 - precision: 0.6667 - recall: 0.0025 - val_loss: 0.5307 - val_accuracy: 0.7669 - val_precision: 0.0000e+00 - val_recall: 0.0000e+00\n",
            "Epoch 3/10\n",
            "130/130 [==============================] - 15s 114ms/step - loss: 0.4889 - accuracy: 0.8082 - precision: 0.5333 - recall: 0.0101 - val_loss: 0.5573 - val_accuracy: 0.7669 - val_precision: 0.0000e+00 - val_recall: 0.0000e+00\n",
            "Epoch 4/10\n",
            "130/130 [==============================] - 15s 114ms/step - loss: 0.4851 - accuracy: 0.8092 - precision: 0.8571 - recall: 0.0075 - val_loss: 0.5492 - val_accuracy: 0.7669 - val_precision: 0.0000e+00 - val_recall: 0.0000e+00\n",
            "Epoch 5/10\n",
            "130/130 [==============================] - 15s 113ms/step - loss: 0.4780 - accuracy: 0.8087 - precision: 0.8000 - recall: 0.0050 - val_loss: 0.5544 - val_accuracy: 0.7669 - val_precision: 0.0000e+00 - val_recall: 0.0000e+00\n",
            "Epoch 6/10\n",
            "130/130 [==============================] - 15s 114ms/step - loss: 0.4814 - accuracy: 0.8085 - precision: 0.7500 - recall: 0.0038 - val_loss: 0.5469 - val_accuracy: 0.7669 - val_precision: 0.0000e+00 - val_recall: 0.0000e+00\n",
            "Epoch 7/10\n",
            "130/130 [==============================] - 15s 114ms/step - loss: 0.4765 - accuracy: 0.8092 - precision: 1.0000 - recall: 0.0063 - val_loss: 0.5502 - val_accuracy: 0.7669 - val_precision: 0.0000e+00 - val_recall: 0.0000e+00\n",
            "Epoch 8/10\n",
            "130/130 [==============================] - 15s 114ms/step - loss: 0.4784 - accuracy: 0.8082 - precision: 0.6667 - recall: 0.0025 - val_loss: 0.5559 - val_accuracy: 0.7669 - val_precision: 0.0000e+00 - val_recall: 0.0000e+00\n",
            "Epoch 9/10\n",
            "130/130 [==============================] - 15s 114ms/step - loss: 0.4776 - accuracy: 0.8092 - precision: 0.8571 - recall: 0.0075 - val_loss: 0.5516 - val_accuracy: 0.7669 - val_precision: 0.0000e+00 - val_recall: 0.0000e+00\n",
            "Epoch 10/10\n",
            "130/130 [==============================] - 15s 114ms/step - loss: 0.4749 - accuracy: 0.8082 - precision: 0.6667 - recall: 0.0025 - val_loss: 0.5482 - val_accuracy: 0.7669 - val_precision: 0.0000e+00 - val_recall: 0.0000e+00\n"
          ]
        }
      ]
    },
    {
      "cell_type": "markdown",
      "source": [
        "Plot training loss vs testing loss"
      ],
      "metadata": {
        "id": "gCrtiR-BwEOH"
      }
    },
    {
      "cell_type": "code",
      "source": [
        "plt.plot(history.history['loss'], label='loss')\n",
        "plt.plot(history.history['val_loss'], label='val_loss')\n",
        "plt.ylim([0, max(plt.ylim())])\n",
        "plt.xlabel('Epoch #')\n",
        "plt.ylabel('Loss')\n",
        "plt.legend()"
      ],
      "metadata": {
        "colab": {
          "base_uri": "https://localhost:8080/",
          "height": 466
        },
        "id": "egeUvyOQovSU",
        "outputId": "9629a140-7ce8-4ccc-aac6-253195e59f8f"
      },
      "execution_count": 31,
      "outputs": [
        {
          "output_type": "execute_result",
          "data": {
            "text/plain": [
              "<matplotlib.legend.Legend at 0x7fb87ff6f940>"
            ]
          },
          "metadata": {},
          "execution_count": 31
        },
        {
          "output_type": "display_data",
          "data": {
            "text/plain": [
              "<Figure size 640x480 with 1 Axes>"
            ],
            "image/png": "[encoded data removed]"
          },
          "metadata": {}
        }
      ]
    },
    {
      "cell_type": "markdown",
      "source": [
        "Plot training accuracy vs testing accuracy"
      ],
      "metadata": {
        "id": "DolnD-nFwO0G"
      }
    },
    {
      "cell_type": "code",
      "source": [
        "plt.plot(history.history['accuracy'], label='accuracy')\n",
        "plt.plot(history.history['val_accuracy'], label='val_accuracy')\n",
        "plt.ylim([0, max(plt.ylim())])\n",
        "plt.xlabel('Epoch #')\n",
        "plt.ylabel('Loss')\n",
        "plt.legend()"
      ],
      "metadata": {
        "id": "8kNZXn1_veFn",
        "colab": {
          "base_uri": "https://localhost:8080/",
          "height": 467
        },
        "outputId": "cae7bbde-f433-4ff8-abd1-8dc4b3e6f259"
      },
      "execution_count": 32,
      "outputs": [
        {
          "output_type": "execute_result",
          "data": {
            "text/plain": [
              "<matplotlib.legend.Legend at 0x7fb87ff6fb50>"
            ]
          },
          "metadata": {},
          "execution_count": 32
        },
        {
          "output_type": "display_data",
          "data": {
            "text/plain": [
              "<Figure size 640x480 with 1 Axes>"
            ],
            "image/png": "[encoded data removed]"
          },
          "metadata": {}
        }
      ]
    },
    {
      "cell_type": "code",
      "source": [
        "from sklearn.metrics import accuracy_score,f1_score,precision_score,recall_score"
      ],
      "metadata": {
        "id": "JvqG8xphbPgD"
      },
      "execution_count": 33,
      "outputs": []
    },
    {
      "cell_type": "code",
      "source": [
        "y_test = np.concatenate([y for x, y in test_ds], axis=0)"
      ],
      "metadata": {
        "id": "YLi_UnaxKmpt"
      },
      "execution_count": 34,
      "outputs": []
    },
    {
      "cell_type": "code",
      "source": [
        "y_pred = image_only_model.predict(test_ds)\n",
        "y_pred = [1 if i>=0.5 else 0 for i in y_pred]\n",
        "print(f'Accuracy == {accuracy_score(y_test,y_pred)}')\n",
        "print(f'F1 == {f1_score(y_test,y_pred,average=None)}')\n",
        "print(f'Precision == {precision_score(y_test,y_pred,average=None)}')\n",
        "print(f'Recall == {recall_score(y_test,y_pred,average=None)}')"
      ],
      "metadata": {
        "colab": {
          "base_uri": "https://localhost:8080/"
        },
        "id": "GCZsFJUaM4ze",
        "outputId": "8124b933-5a98-4010-ec69-52e36a4571b6"
      },
      "execution_count": 35,
      "outputs": [
        {
          "output_type": "stream",
          "name": "stdout",
          "text": [
            "36/36 [==============================] - 6s 84ms/step\n",
            "Accuracy == 0.7669039145907474\n",
            "F1 == [0.86807654 0.        ]\n",
            "Precision == [0.76690391 0.        ]\n",
            "Recall == [1. 0.]\n"
          ]
        }
      ]
    },
    {
      "cell_type": "markdown",
      "source": [
        "# InceptionNet"
      ],
      "metadata": {
        "id": "mXaGtuTVjIYP"
      }
    },
    {
      "cell_type": "code",
      "execution_count": 36,
      "metadata": {
        "id": "uGRA1nK5qG9V"
      },
      "outputs": [],
      "source": [
        "def create_vision_encoder(\n",
        "    num_projection_layers, projection_dims, dropout_rate, trainable=False\n",
        "):\n",
        "    # Load the pre-trained ResNet50V2 model to be used as the base encoder.\n",
        "    resnet_v2 = keras.applications.InceptionV3(\n",
        "        include_top=False, weights=\"imagenet\", pooling=\"avg\"\n",
        "    )\n",
        "    # Set the trainability of the base encoder.\n",
        "    for layer in resnet_v2.layers:\n",
        "        layer.trainable = trainable\n",
        "\n",
        "    # Receive the images as inputs.\n",
        "    image_1 = keras.Input(shape=(224, 224, 3), name=\"image_1\")\n",
        "    \n",
        "    # Preprocess the input image.\n",
        "    preprocessed_1 = tf.keras.applications.inception_v3.preprocess_input(image_1)\n",
        "    \n",
        "    # Generate the embeddings for the images using the resnet_v2 model\n",
        "    embeddings = resnet_v2(preprocessed_1)\n",
        "    \n",
        "    # Project the embeddings produced by the model.\n",
        "    outputs = project_embeddings(\n",
        "        embeddings, num_projection_layers, projection_dims, dropout_rate\n",
        "    )\n",
        "    # Create the vision encoder model.\n",
        "    return keras.Model([image_1], outputs, name=\"vision_encoder\")"
      ]
    },
    {
      "cell_type": "code",
      "source": [
        "image_only_model1 = create_image_only_model(attention=False, num_projection_layers=1, projection_dims=128, dropout_rate=0.0)\n",
        "image_only_model1.summary()"
      ],
      "metadata": {
        "colab": {
          "base_uri": "https://localhost:8080/"
        },
        "outputId": "fd1c3b4f-4fcb-4d63-fbc5-5ea049128966",
        "id": "Jm7fLzOpqqEV"
      },
      "execution_count": 39,
      "outputs": [
        {
          "output_type": "stream",
          "name": "stdout",
          "text": [
            "Model: \"model_5\"\n",
            "_________________________________________________________________\n",
            " Layer (type)                Output Shape              Param #   \n",
            "=================================================================\n",
            " image_1 (InputLayer)        [(None, 224, 224, 3)]     0         \n",
            "                                                                 \n",
            " vision_encoder (Functional)  (None, 128)              22081824  \n",
            "                                                                 \n",
            " dropout_8 (Dropout)         (None, 128)               0         \n",
            "                                                                 \n",
            " dense_14 (Dense)            (None, 1)                 129       \n",
            "                                                                 \n",
            "=================================================================\n",
            "Total params: 22,081,953\n",
            "Trainable params: 279,169\n",
            "Non-trainable params: 21,802,784\n",
            "_________________________________________________________________\n"
          ]
        }
      ]
    },
    {
      "cell_type": "markdown",
      "source": [
        "### Model Training"
      ],
      "metadata": {
        "id": "jC140RQ7qqEW"
      }
    },
    {
      "cell_type": "code",
      "source": [
        "image_only_model1.compile(\n",
        "    optimizer=tf.keras.optimizers.Adam(), loss=loss, metrics=metrics\n",
        ")\n",
        "history1 = image_only_model1.fit(train_ds, validation_data=test_ds, epochs=epochs, batch_size=batch_size)"
      ],
      "metadata": {
        "colab": {
          "base_uri": "https://localhost:8080/"
        },
        "outputId": "ba1d7f0d-fce4-4756-808d-cf2eead579b9",
        "id": "a2zcON_TqqEX"
      },
      "execution_count": 40,
      "outputs": [
        {
          "output_type": "stream",
          "name": "stdout",
          "text": [
            "Epoch 1/10\n",
            "130/130 [==============================] - 19s 103ms/step - loss: 0.5553 - accuracy: 0.7874 - precision: 0.3176 - recall: 0.0511 - val_loss: 0.5541 - val_accuracy: 0.7669 - val_precision: 0.0000e+00 - val_recall: 0.0000e+00\n",
            "Epoch 2/10\n",
            "130/130 [==============================] - 12s 91ms/step - loss: 0.4655 - accuracy: 0.8077 - precision: 0.4545 - recall: 0.0063 - val_loss: 0.5342 - val_accuracy: 0.7669 - val_precision: 0.0000e+00 - val_recall: 0.0000e+00\n",
            "Epoch 3/10\n",
            "130/130 [==============================] - 12s 91ms/step - loss: 0.4436 - accuracy: 0.8094 - precision: 0.5278 - recall: 0.0717 - val_loss: 0.5217 - val_accuracy: 0.7687 - val_precision: 0.5238 - val_recall: 0.0840\n",
            "Epoch 4/10\n",
            "130/130 [==============================] - 12s 90ms/step - loss: 0.4210 - accuracy: 0.8152 - precision: 0.5694 - recall: 0.1547 - val_loss: 0.5246 - val_accuracy: 0.7678 - val_precision: 0.5135 - val_recall: 0.0725\n",
            "Epoch 5/10\n",
            "130/130 [==============================] - 12s 90ms/step - loss: 0.3953 - accuracy: 0.8268 - precision: 0.6364 - recall: 0.2289 - val_loss: 0.5598 - val_accuracy: 0.7642 - val_precision: 0.4681 - val_recall: 0.0840\n",
            "Epoch 6/10\n",
            "130/130 [==============================] - 12s 89ms/step - loss: 0.3778 - accuracy: 0.8292 - precision: 0.6209 - recall: 0.2843 - val_loss: 0.6648 - val_accuracy: 0.7651 - val_precision: 0.4737 - val_recall: 0.0687\n",
            "Epoch 7/10\n",
            "130/130 [==============================] - 12s 90ms/step - loss: 0.3555 - accuracy: 0.8423 - precision: 0.6606 - recall: 0.3673 - val_loss: 0.6104 - val_accuracy: 0.7438 - val_precision: 0.3934 - val_recall: 0.1832\n",
            "Epoch 8/10\n",
            "130/130 [==============================] - 12s 90ms/step - loss: 0.3477 - accuracy: 0.8493 - precision: 0.6792 - recall: 0.4075 - val_loss: 0.6808 - val_accuracy: 0.7402 - val_precision: 0.3661 - val_recall: 0.1565\n",
            "Epoch 9/10\n",
            "130/130 [==============================] - 12s 90ms/step - loss: 0.3272 - accuracy: 0.8621 - precision: 0.7129 - recall: 0.4717 - val_loss: 0.6595 - val_accuracy: 0.7162 - val_precision: 0.3649 - val_recall: 0.2939\n",
            "Epoch 10/10\n",
            "130/130 [==============================] - 12s 91ms/step - loss: 0.3089 - accuracy: 0.8729 - precision: 0.7486 - recall: 0.5094 - val_loss: 0.8077 - val_accuracy: 0.6833 - val_precision: 0.3368 - val_recall: 0.3702\n"
          ]
        }
      ]
    },
    {
      "cell_type": "markdown",
      "source": [
        "Plot training loss vs testing loss"
      ],
      "metadata": {
        "id": "RKfUFPj5rAmY"
      }
    },
    {
      "cell_type": "code",
      "source": [
        "plt.plot(history1.history['loss'], label='loss')\n",
        "plt.plot(history1.history['val_loss'], label='val_loss')\n",
        "plt.ylim([0, max(plt.ylim())])\n",
        "plt.xlabel('Epoch #')\n",
        "plt.ylabel('Loss')\n",
        "plt.legend()"
      ],
      "metadata": {
        "colab": {
          "base_uri": "https://localhost:8080/",
          "height": 466
        },
        "outputId": "0c9c0e1e-233f-4098-d546-e21b0e406508",
        "id": "FTtUOL-frAmZ"
      },
      "execution_count": 41,
      "outputs": [
        {
          "output_type": "execute_result",
          "data": {
            "text/plain": [
              "<matplotlib.legend.Legend at 0x7fb8403dc9a0>"
            ]
          },
          "metadata": {},
          "execution_count": 41
        },
        {
          "output_type": "display_data",
          "data": {
            "text/plain": [
              "<Figure size 640x480 with 1 Axes>"
            ],
            "image/png": "[encoded data removed]"
          },
          "metadata": {}
        }
      ]
    },
    {
      "cell_type": "markdown",
      "source": [
        "Plot training accuracy vs tersting accuracy"
      ],
      "metadata": {
        "id": "5mMNJUtjrAmZ"
      }
    },
    {
      "cell_type": "code",
      "source": [
        "plt.plot(history1.history['accuracy'], label='accuracy')\n",
        "plt.plot(history1.history['val_accuracy'], label='val_accuracy')\n",
        "plt.ylim([0, max(plt.ylim())])\n",
        "plt.xlabel('Epoch #')\n",
        "plt.ylabel('Loss')\n",
        "plt.legend()"
      ],
      "metadata": {
        "colab": {
          "base_uri": "https://localhost:8080/",
          "height": 466
        },
        "outputId": "d3e99fa5-c685-4ec8-c065-8f13efeb921e",
        "id": "eyw2vHDUrAma"
      },
      "execution_count": 42,
      "outputs": [
        {
          "output_type": "execute_result",
          "data": {
            "text/plain": [
              "<matplotlib.legend.Legend at 0x7fb82c20fca0>"
            ]
          },
          "metadata": {},
          "execution_count": 42
        },
        {
          "output_type": "display_data",
          "data": {
            "text/plain": [
              "<Figure size 640x480 with 1 Axes>"
            ],
            "image/png": "[encoded data removed]"
          },
          "metadata": {}
        }
      ]
    },
    {
      "cell_type": "code",
      "source": [
        "y_pred = image_only_model1.predict(test_ds)\n",
        "y_pred = [1 if i>=0.5 else 0 for i in y_pred]\n",
        "print(f'Accuracy == {accuracy_score(y_test,y_pred)}')\n",
        "print(f'F1 == {f1_score(y_test,y_pred,average=None)}')\n",
        "print(f'Precision == {precision_score(y_test,y_pred,average=None)}')\n",
        "print(f'Recall == {recall_score(y_test,y_pred,average=None)}')"
      ],
      "metadata": {
        "colab": {
          "base_uri": "https://localhost:8080/"
        },
        "outputId": "28b7a4ab-1ca9-4860-ac64-b469fccc2ba3",
        "id": "XpMLo4LQrAma"
      },
      "execution_count": 43,
      "outputs": [
        {
          "output_type": "stream",
          "name": "stdout",
          "text": [
            "36/36 [==============================] - 4s 66ms/step\n",
            "Accuracy == 0.6832740213523132\n",
            "F1 == [0.79034158 0.35272727]\n",
            "Precision == [0.80263158 0.33680556]\n",
            "Recall == [0.77842227 0.37022901]\n"
          ]
        }
      ]
    },
    {
      "cell_type": "markdown",
      "source": [
        "# MobileNetV3 Small"
      ],
      "metadata": {
        "id": "p4w8w-a81KiH"
      }
    },
    {
      "cell_type": "code",
      "source": [
        "def create_vision_encoder(\n",
        "    num_projection_layers, projection_dims, dropout_rate, trainable=False\n",
        "):\n",
        "    # Load the pre-trained ResNet50V2 model to be used as the base encoder.\n",
        "    resnet_v2 = keras.applications.MobileNetV3Small(\n",
        "        include_top=False, weights=\"imagenet\", pooling=\"avg\"\n",
        "    )\n",
        "    # Set the trainability of the base encoder.\n",
        "    for layer in resnet_v2.layers:\n",
        "        layer.trainable = trainable\n",
        "\n",
        "    # Receive the images as inputs.\n",
        "    image_1 = keras.Input(shape=(224, 224, 3), name=\"image_1\")\n",
        "    \n",
        "    # Preprocess the input image.\n",
        "    preprocessed_1 = tf.keras.applications.mobilenet_v3.preprocess_input(image_1)\n",
        "    \n",
        "    # Generate the embeddings for the images using the resnet_v2 model\n",
        "    embeddings = resnet_v2(preprocessed_1)\n",
        "    \n",
        "    # Project the embeddings produced by the model.\n",
        "    outputs = project_embeddings(\n",
        "        embeddings, num_projection_layers, projection_dims, dropout_rate\n",
        "    )\n",
        "    # Create the vision encoder model.\n",
        "    return keras.Model([image_1], outputs, name=\"vision_encoder\")"
      ],
      "metadata": {
        "id": "VXGLMcMl1Jjw"
      },
      "execution_count": 44,
      "outputs": []
    },
    {
      "cell_type": "code",
      "source": [
        "image_only_model2 = create_image_only_model(attention=False, num_projection_layers=1, projection_dims=128, dropout_rate=0.1)\n",
        "image_only_model2.summary()"
      ],
      "metadata": {
        "colab": {
          "base_uri": "https://localhost:8080/"
        },
        "outputId": "b8010c35-b11a-493f-b88e-ee355e1777f5",
        "id": "x3sjD2Xo1isJ"
      },
      "execution_count": 47,
      "outputs": [
        {
          "output_type": "stream",
          "name": "stdout",
          "text": [
            "Model: \"model_7\"\n",
            "_________________________________________________________________\n",
            " Layer (type)                Output Shape              Param #   \n",
            "=================================================================\n",
            " image_1 (InputLayer)        [(None, 224, 224, 3)]     0         \n",
            "                                                                 \n",
            " vision_encoder (Functional)  (None, 128)              1029744   \n",
            "                                                                 \n",
            " dropout_12 (Dropout)        (None, 128)               0         \n",
            "                                                                 \n",
            " dense_20 (Dense)            (None, 1)                 129       \n",
            "                                                                 \n",
            "=================================================================\n",
            "Total params: 1,029,873\n",
            "Trainable params: 90,753\n",
            "Non-trainable params: 939,120\n",
            "_________________________________________________________________\n"
          ]
        }
      ]
    },
    {
      "cell_type": "markdown",
      "source": [
        "### Model Training"
      ],
      "metadata": {
        "id": "pocRfxkk1isJ"
      }
    },
    {
      "cell_type": "code",
      "source": [
        "image_only_model2.compile(\n",
        "    optimizer=tf.keras.optimizers.Adam(), loss=loss, metrics=metrics\n",
        ")\n",
        "history2 = image_only_model2.fit(train_ds, validation_data=test_ds, epochs=epochs, batch_size=batch_size)"
      ],
      "metadata": {
        "colab": {
          "base_uri": "https://localhost:8080/"
        },
        "outputId": "7e5b41ac-3867-4db3-cc7f-322e4dd96314",
        "id": "rnSPaTxo1isJ"
      },
      "execution_count": 48,
      "outputs": [
        {
          "output_type": "stream",
          "name": "stdout",
          "text": [
            "Epoch 1/10\n",
            "130/130 [==============================] - 10s 39ms/step - loss: 0.4876 - accuracy: 0.7889 - precision: 0.4182 - recall: 0.1306 - val_loss: 0.5331 - val_accuracy: 0.7660 - val_precision: 0.0000e+00 - val_recall: 0.0000e+00\n",
            "Epoch 2/10\n",
            "130/130 [==============================] - 4s 31ms/step - loss: 0.4310 - accuracy: 0.8181 - precision: 0.5981 - recall: 0.1610 - val_loss: 0.5296 - val_accuracy: 0.7740 - val_precision: 0.5769 - val_recall: 0.1145\n",
            "Epoch 3/10\n",
            "130/130 [==============================] - 4s 31ms/step - loss: 0.4020 - accuracy: 0.8304 - precision: 0.6440 - recall: 0.2616 - val_loss: 0.5459 - val_accuracy: 0.7749 - val_precision: 0.5584 - val_recall: 0.1641\n",
            "Epoch 4/10\n",
            "130/130 [==============================] - 4s 31ms/step - loss: 0.3700 - accuracy: 0.8437 - precision: 0.6832 - recall: 0.3472 - val_loss: 0.5960 - val_accuracy: 0.7731 - val_precision: 0.5347 - val_recall: 0.2061\n",
            "Epoch 5/10\n",
            "130/130 [==============================] - 4s 31ms/step - loss: 0.3116 - accuracy: 0.8720 - precision: 0.7514 - recall: 0.4981 - val_loss: 0.6371 - val_accuracy: 0.7571 - val_precision: 0.4645 - val_recall: 0.2748\n",
            "Epoch 6/10\n",
            "130/130 [==============================] - 4s 32ms/step - loss: 0.2458 - accuracy: 0.9056 - precision: 0.8311 - recall: 0.6377 - val_loss: 0.7310 - val_accuracy: 0.7562 - val_precision: 0.4600 - val_recall: 0.2634\n",
            "Epoch 7/10\n",
            "130/130 [==============================] - 4s 30ms/step - loss: 0.1750 - accuracy: 0.9355 - precision: 0.8837 - recall: 0.7648 - val_loss: 0.8884 - val_accuracy: 0.7598 - val_precision: 0.4636 - val_recall: 0.1947\n",
            "Epoch 8/10\n",
            "130/130 [==============================] - 4s 30ms/step - loss: 0.1442 - accuracy: 0.9437 - precision: 0.8892 - recall: 0.8075 - val_loss: 1.0324 - val_accuracy: 0.7589 - val_precision: 0.4416 - val_recall: 0.1298\n",
            "Epoch 9/10\n",
            "130/130 [==============================] - 4s 32ms/step - loss: 0.2022 - accuracy: 0.9181 - precision: 0.8202 - recall: 0.7346 - val_loss: 0.7720 - val_accuracy: 0.7491 - val_precision: 0.4383 - val_recall: 0.2710\n",
            "Epoch 10/10\n",
            "130/130 [==============================] - 4s 31ms/step - loss: 0.1364 - accuracy: 0.9476 - precision: 0.8853 - recall: 0.8352 - val_loss: 0.8658 - val_accuracy: 0.7482 - val_precision: 0.4340 - val_recall: 0.2634\n"
          ]
        }
      ]
    },
    {
      "cell_type": "markdown",
      "source": [
        "Plot training loss vs testing loss"
      ],
      "metadata": {
        "id": "CnvLIxPK-HSF"
      }
    },
    {
      "cell_type": "code",
      "source": [
        "plt.plot(history2.history['loss'], label='loss')\n",
        "plt.plot(history2.history['val_loss'], label='val_loss')\n",
        "plt.ylim([0, max(plt.ylim())])\n",
        "plt.xlabel('Epoch #')\n",
        "plt.ylabel('Loss')\n",
        "plt.legend()"
      ],
      "metadata": {
        "colab": {
          "base_uri": "https://localhost:8080/",
          "height": 466
        },
        "outputId": "df7b83e4-2cd3-467c-fc68-fe2d856824ee",
        "id": "DMBVcEep-HSN"
      },
      "execution_count": 49,
      "outputs": [
        {
          "output_type": "execute_result",
          "data": {
            "text/plain": [
              "<matplotlib.legend.Legend at 0x7fb834268a90>"
            ]
          },
          "metadata": {},
          "execution_count": 49
        },
        {
          "output_type": "display_data",
          "data": {
            "text/plain": [
              "<Figure size 640x480 with 1 Axes>"
            ],
            "image/png": "[encoded data removed]"
          },
          "metadata": {}
        }
      ]
    },
    {
      "cell_type": "markdown",
      "source": [
        "Plot training accuracy vs tersting accuracy"
      ],
      "metadata": {
        "id": "ETctEgyT-HSO"
      }
    },
    {
      "cell_type": "code",
      "source": [
        "plt.plot(history2.history['accuracy'], label='accuracy')\n",
        "plt.plot(history2.history['val_accuracy'], label='val_accuracy')\n",
        "plt.ylim([0, max(plt.ylim())])\n",
        "plt.xlabel('Epoch #')\n",
        "plt.ylabel('Loss')\n",
        "plt.legend()"
      ],
      "metadata": {
        "colab": {
          "base_uri": "https://localhost:8080/",
          "height": 466
        },
        "outputId": "aff47627-fa15-4d7f-ee84-aa31e53e213f",
        "id": "Bybx3-q7-HSO"
      },
      "execution_count": 50,
      "outputs": [
        {
          "output_type": "execute_result",
          "data": {
            "text/plain": [
              "<matplotlib.legend.Legend at 0x7fb87fdd31f0>"
            ]
          },
          "metadata": {},
          "execution_count": 50
        },
        {
          "output_type": "display_data",
          "data": {
            "text/plain": [
              "<Figure size 640x480 with 1 Axes>"
            ],
            "image/png": "[encoded data removed]"
          },
          "metadata": {}
        }
      ]
    },
    {
      "cell_type": "code",
      "source": [
        "y_pred = image_only_model2.predict(test_ds)\n",
        "y_pred = [1 if i>=0.5 else 0 for i in y_pred]\n",
        "print(f'Accuracy == {accuracy_score(y_test,y_pred)}')\n",
        "print(f'F1 == {f1_score(y_test,y_pred,average=None)}')\n",
        "print(f'Precision == {precision_score(y_test,y_pred,average=None)}')\n",
        "print(f'Recall == {recall_score(y_test,y_pred,average=None)}')"
      ],
      "metadata": {
        "colab": {
          "base_uri": "https://localhost:8080/"
        },
        "outputId": "48bb0951-4129-4563-820c-b34c7820cc97",
        "id": "i2wMc_8y-HSO"
      },
      "execution_count": 51,
      "outputs": [
        {
          "output_type": "stream",
          "name": "stdout",
          "text": [
            "36/36 [==============================] - 2s 23ms/step\n",
            "Accuracy == 0.748220640569395\n",
            "F1 == [0.84510126 0.32779097]\n",
            "Precision == [0.8        0.43396226]\n",
            "Recall == [0.89559165 0.26335878]\n"
          ]
        }
      ]
    },
    {
      "cell_type": "code",
      "source": [],
      "metadata": {
        "id": "X5tq_IkKcKor"
      },
      "execution_count": null,
      "outputs": []
    },
    {
      "cell_type": "code",
      "source": [
        "def create_vision_encoder(\n",
        "    num_projection_layers, projection_dims, dropout_rate, trainable=False\n",
        "):\n",
        "    # Load the pre-trained ResNet50V2 model to be used as the base encoder.\n",
        "    resnet_v2 = keras.applications.DenseNet201(\n",
        "        include_top=False, weights=\"imagenet\", pooling=\"avg\"\n",
        "    )\n",
        "    # Set the trainability of the base encoder.\n",
        "    for layer in resnet_v2.layers:\n",
        "        layer.trainable = trainable\n",
        "\n",
        "    # Receive the images as inputs.\n",
        "    image_1 = keras.Input(shape=(224, 224, 3), name=\"image_1\")\n",
        "    \n",
        "    # Preprocess the input image.\n",
        "    preprocessed_1 = tf.keras.applications.densenet.preprocess_input(image_1)\n",
        "    \n",
        "    # Generate the embeddings for the images using the resnet_v2 model\n",
        "    embeddings = resnet_v2(preprocessed_1)\n",
        "    \n",
        "    # Project the embeddings produced by the model.\n",
        "    outputs = project_embeddings(\n",
        "        embeddings, num_projection_layers, projection_dims, dropout_rate\n",
        "    )\n",
        "    # Create the vision encoder model.\n",
        "    return keras.Model([image_1], outputs, name=\"vision_encoder\")"
      ],
      "metadata": {
        "id": "verLe-9tci_X"
      },
      "execution_count": 52,
      "outputs": []
    },
    {
      "cell_type": "code",
      "source": [
        "image_only_model3 = create_image_only_model(attention=False, num_projection_layers=1, projection_dims=128, dropout_rate=0.1)\n",
        "image_only_model3.summary()"
      ],
      "metadata": {
        "colab": {
          "base_uri": "https://localhost:8080/"
        },
        "outputId": "b7fa853c-b937-4486-e145-61b0f068539e",
        "id": "WPgapKazci_e"
      },
      "execution_count": 53,
      "outputs": [
        {
          "output_type": "stream",
          "name": "stdout",
          "text": [
            "Downloading data from https://storage.googleapis.com/tensorflow/keras-applications/densenet/densenet201_weights_tf_dim_ordering_tf_kernels_notop.h5\n",
            "74836368/74836368 [==============================] - 0s 0us/step\n",
            "Model: \"model_8\"\n",
            "_________________________________________________________________\n",
            " Layer (type)                Output Shape              Param #   \n",
            "=================================================================\n",
            " image_1 (InputLayer)        [(None, 224, 224, 3)]     0         \n",
            "                                                                 \n",
            " vision_encoder (Functional)  (None, 128)              18584640  \n",
            "                                                                 \n",
            " dropout_14 (Dropout)        (None, 128)               0         \n",
            "                                                                 \n",
            " dense_23 (Dense)            (None, 1)                 129       \n",
            "                                                                 \n",
            "=================================================================\n",
            "Total params: 18,584,769\n",
            "Trainable params: 262,785\n",
            "Non-trainable params: 18,321,984\n",
            "_________________________________________________________________\n"
          ]
        }
      ]
    },
    {
      "cell_type": "markdown",
      "source": [
        "### Model Training"
      ],
      "metadata": {
        "id": "4WGNQIOjci_f"
      }
    },
    {
      "cell_type": "code",
      "source": [
        "image_only_model3.compile(\n",
        "    optimizer=tf.keras.optimizers.Adam(), loss=loss, metrics=metrics\n",
        ")\n",
        "history3 = image_only_model3.fit(train_ds, validation_data=test_ds, epochs=epochs, batch_size=batch_size)"
      ],
      "metadata": {
        "colab": {
          "base_uri": "https://localhost:8080/"
        },
        "outputId": "7066f1b4-d0b3-44e5-bc41-dc11314a3ec6",
        "id": "DalBhJAJci_f"
      },
      "execution_count": 54,
      "outputs": [
        {
          "output_type": "stream",
          "name": "stdout",
          "text": [
            "Epoch 1/10\n",
            "130/130 [==============================] - 50s 249ms/step - loss: 0.4988 - accuracy: 0.7861 - precision: 0.3869 - recall: 0.1116 - val_loss: 0.5134 - val_accuracy: 0.7705 - val_precision: 0.8333 - val_recall: 0.0191\n",
            "Epoch 2/10\n",
            "130/130 [==============================] - 24s 188ms/step - loss: 0.4305 - accuracy: 0.8118 - precision: 0.5370 - recall: 0.1459 - val_loss: 0.5043 - val_accuracy: 0.7705 - val_precision: 0.5250 - val_recall: 0.1603\n",
            "Epoch 3/10\n",
            "130/130 [==============================] - 24s 185ms/step - loss: 0.3913 - accuracy: 0.8268 - precision: 0.6161 - recall: 0.2604 - val_loss: 0.5273 - val_accuracy: 0.7616 - val_precision: 0.4741 - val_recall: 0.2099\n",
            "Epoch 4/10\n",
            "130/130 [==============================] - 24s 185ms/step - loss: 0.3439 - accuracy: 0.8481 - precision: 0.6758 - recall: 0.4013 - val_loss: 0.6272 - val_accuracy: 0.7705 - val_precision: 0.5169 - val_recall: 0.2328\n",
            "Epoch 5/10\n",
            "130/130 [==============================] - 24s 187ms/step - loss: 0.3048 - accuracy: 0.8679 - precision: 0.7305 - recall: 0.4943 - val_loss: 0.7575 - val_accuracy: 0.7722 - val_precision: 0.5254 - val_recall: 0.2366\n",
            "Epoch 6/10\n",
            "130/130 [==============================] - 24s 186ms/step - loss: 0.2320 - accuracy: 0.9058 - precision: 0.8073 - recall: 0.6692 - val_loss: 1.1778 - val_accuracy: 0.7731 - val_precision: 0.5745 - val_recall: 0.1031\n",
            "Epoch 7/10\n",
            "130/130 [==============================] - 24s 186ms/step - loss: 0.2424 - accuracy: 0.9014 - precision: 0.7910 - recall: 0.6616 - val_loss: 0.8800 - val_accuracy: 0.7669 - val_precision: 0.5000 - val_recall: 0.1565\n",
            "Epoch 8/10\n",
            "130/130 [==============================] - 24s 186ms/step - loss: 0.1878 - accuracy: 0.9234 - precision: 0.8357 - recall: 0.7484 - val_loss: 1.2042 - val_accuracy: 0.7687 - val_precision: 0.5312 - val_recall: 0.0649\n",
            "Epoch 9/10\n",
            "130/130 [==============================] - 24s 186ms/step - loss: 0.2106 - accuracy: 0.9126 - precision: 0.8133 - recall: 0.7069 - val_loss: 0.7870 - val_accuracy: 0.6397 - val_precision: 0.3333 - val_recall: 0.5458\n",
            "Epoch 10/10\n",
            "130/130 [==============================] - 24s 186ms/step - loss: 0.1782 - accuracy: 0.9268 - precision: 0.8650 - recall: 0.7333 - val_loss: 0.8943 - val_accuracy: 0.6575 - val_precision: 0.3518 - val_recall: 0.5573\n"
          ]
        }
      ]
    },
    {
      "cell_type": "markdown",
      "source": [
        "Plot training loss vs testing loss"
      ],
      "metadata": {
        "id": "1xSr1LUad79h"
      }
    },
    {
      "cell_type": "code",
      "source": [
        "plt.plot(history3.history['loss'], label='loss')\n",
        "plt.plot(history3.history['val_loss'], label='val_loss')\n",
        "plt.ylim([0, max(plt.ylim())])\n",
        "plt.xlabel('Epoch #')\n",
        "plt.ylabel('Loss')\n",
        "plt.legend()"
      ],
      "metadata": {
        "colab": {
          "base_uri": "https://localhost:8080/",
          "height": 466
        },
        "outputId": "fa9d2e64-76cf-4a64-ebf3-7588ff577530",
        "id": "WCfSg17Xd79p"
      },
      "execution_count": 55,
      "outputs": [
        {
          "output_type": "execute_result",
          "data": {
            "text/plain": [
              "<matplotlib.legend.Legend at 0x7fb8c214ceb0>"
            ]
          },
          "metadata": {},
          "execution_count": 55
        },
        {
          "output_type": "display_data",
          "data": {
            "text/plain": [
              "<Figure size 640x480 with 1 Axes>"
            ],
            "image/png": "[encoded data removed]"
          },
          "metadata": {}
        }
      ]
    },
    {
      "cell_type": "markdown",
      "source": [
        "Plot training accuracy vs tersting accuracy"
      ],
      "metadata": {
        "id": "5_2yTdCod79q"
      }
    },
    {
      "cell_type": "code",
      "source": [
        "plt.plot(history3.history['accuracy'], label='accuracy')\n",
        "plt.plot(history3.history['val_accuracy'], label='val_accuracy')\n",
        "plt.ylim([0, max(plt.ylim())])\n",
        "plt.xlabel('Epoch #')\n",
        "plt.ylabel('Loss')\n",
        "plt.legend()"
      ],
      "metadata": {
        "colab": {
          "base_uri": "https://localhost:8080/",
          "height": 466
        },
        "outputId": "927cff95-7ef9-4030-f5c5-dc426c392cac",
        "id": "JjnmpB0Ed79q"
      },
      "execution_count": 56,
      "outputs": [
        {
          "output_type": "execute_result",
          "data": {
            "text/plain": [
              "<matplotlib.legend.Legend at 0x7fb7d85e0850>"
            ]
          },
          "metadata": {},
          "execution_count": 56
        },
        {
          "output_type": "display_data",
          "data": {
            "text/plain": [
              "<Figure size 640x480 with 1 Axes>"
            ],
            "image/png": "[encoded data removed]"
          },
          "metadata": {}
        }
      ]
    },
    {
      "cell_type": "code",
      "source": [
        "y_pred = image_only_model3.predict(test_ds)\n",
        "y_pred = [1 if i>=0.5 else 0 for i in y_pred]\n",
        "print(f'Accuracy == {accuracy_score(y_test,y_pred)}')\n",
        "print(f'F1 == {f1_score(y_test,y_pred,average=None)}')\n",
        "print(f'Precision == {precision_score(y_test,y_pred,average=None)}')\n",
        "print(f'Recall == {recall_score(y_test,y_pred,average=None)}')"
      ],
      "metadata": {
        "colab": {
          "base_uri": "https://localhost:8080/"
        },
        "outputId": "53dc3834-c18d-4682-8628-e3587916e32c",
        "id": "JsnMuUfRd79q"
      },
      "execution_count": 57,
      "outputs": [
        {
          "output_type": "stream",
          "name": "stdout",
          "text": [
            "36/36 [==============================] - 9s 139ms/step\n",
            "Accuracy == 0.6574733096085409\n",
            "F1 == [0.75493316 0.43131462]\n",
            "Precision == [0.83638928 0.35180723]\n",
            "Recall == [0.68793503 0.55725191]\n"
          ]
        }
      ]
    },
    {
      "cell_type": "code",
      "source": [],
      "metadata": {
        "id": "-jPgYoUreCxm"
      },
      "execution_count": null,
      "outputs": []
    }
  ]
}