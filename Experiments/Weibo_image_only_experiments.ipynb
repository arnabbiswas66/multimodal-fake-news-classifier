{
  "nbformat": 4,
  "nbformat_minor": 0,
  "metadata": {
    "colab": {
      "provenance": [],
      "machine_shape": "hm",
      "gpuType": "T4",
      "authorship_tag": "ABX9TyOxGUH2TlHSSfAczxdPvlyy",
      "include_colab_link": true
    },
    "kernelspec": {
      "name": "python3",
      "display_name": "Python 3"
    },
    "language_info": {
      "name": "python"
    },
    "accelerator": "GPU",
    "gpuClass": "standard"
  },
  "cells": [
    {
      "cell_type": "markdown",
      "metadata": {
        "id": "view-in-github",
        "colab_type": "text"
      },
      "source": [
        "<a href=\"https://colab.research.google.com/github/arnabbiswas66/multimodal-fake-news-classifier/blob/main/Experiments/Weibo_image_only_experiments.ipynb\" target=\"_parent\"><img src=\"https://colab.research.google.com/assets/colab-badge.svg\" alt=\"Open In Colab\"/></a>"
      ]
    },
    {
      "cell_type": "markdown",
      "source": [
        "# EfficientNetV2 B3"
      ],
      "metadata": {
        "id": "HTRw6Dq5iUyB"
      }
    },
    {
      "cell_type": "code",
      "execution_count": 1,
      "metadata": {
        "id": "S0_Dwt-ondpi"
      },
      "outputs": [],
      "source": [
        "from tensorflow.python.platform.tf_logging import warn\n",
        "import pandas as pd\n",
        "import numpy as np\n",
        "import tensorflow as tf\n",
        "from tensorflow import keras\n",
        "import os\n",
        "import re\n",
        "from os import listdir\n",
        "import shutil\n",
        "import glob\n",
        "import random\n",
        "import matplotlib.pyplot as plt\n",
        "import tensorflow_hub as hub\n",
        "tf.get_logger().setLevel('ERROR')\n",
        "import warnings\n",
        "\n",
        "warnings.filterwarnings('ignore')"
      ]
    },
    {
      "cell_type": "code",
      "execution_count": 2,
      "metadata": {
        "colab": {
          "base_uri": "https://localhost:8080/"
        },
        "id": "x20211H_nnLR",
        "outputId": "0b9c0d92-4b4f-4190-c80c-2634717ed6c7"
      },
      "outputs": [
        {
          "output_type": "stream",
          "name": "stdout",
          "text": [
            "Mounted at /content/drive\n"
          ]
        }
      ],
      "source": [
        "from google.colab import drive\n",
        "drive.mount('/content/drive')"
      ]
    },
    {
      "cell_type": "code",
      "source": [
        "# image copy pipeline from Gdrive to Colab\n",
        "! mkdir \"/content/images\"\n",
        "! cp \"/content/drive/MyDrive/multimodal-news/weibo-data/images.zip\" \"/content/images\"\n",
        "! unzip -q -d \"/content/images\" \"/content/images/images.zip\""
      ],
      "metadata": {
        "id": "-wX0FqzUXcYJ"
      },
      "execution_count": 3,
      "outputs": []
    },
    {
      "cell_type": "code",
      "execution_count": 4,
      "metadata": {
        "id": "BbHqdujoUn87"
      },
      "outputs": [],
      "source": [
        "\n",
        "BASE_SAVE_LOCATION = \"/content/drive/MyDrive/multimodal-news\"\n",
        "CHECKPOINT_FILEPATH = '/content/drive/MyDrive/multimodal-news/weibo/'"
      ]
    },
    {
      "cell_type": "markdown",
      "metadata": {
        "id": "TKusTHhYWBlz"
      },
      "source": [
        "## Load the dataframes"
      ]
    },
    {
      "cell_type": "code",
      "execution_count": 5,
      "metadata": {
        "colab": {
          "base_uri": "https://localhost:8080/"
        },
        "id": "JftdaRkIWAAo",
        "outputId": "6ba4da20-8a79-407f-9d50-3bacda740d46"
      },
      "outputs": [
        {
          "output_type": "stream",
          "name": "stdout",
          "text": [
            "(4140, 3) (1124, 3)\n"
          ]
        }
      ],
      "source": [
        "#Load training df\n",
        "train_df_model = pd.read_pickle(BASE_SAVE_LOCATION+\"/weibo-train.pickle\")\n",
        "#Load testing df\n",
        "test_df_model = pd.read_pickle(BASE_SAVE_LOCATION+\"/weibo-test.pickle\")\n",
        "print(train_df_model.shape, test_df_model.shape)"
      ]
    },
    {
      "cell_type": "markdown",
      "metadata": {
        "id": "cCuEsRz4CIdR"
      },
      "source": [
        "# Data input pipeline"
      ]
    },
    {
      "cell_type": "code",
      "execution_count": 6,
      "metadata": {
        "id": "dhn-DPb7Lsb1"
      },
      "outputs": [],
      "source": [
        "def dataframe_to_dataset(dataframe):\n",
        "    columns = ['image_1', 'label']\n",
        "    dataframe = dataframe[columns].copy()\n",
        "    labels = dataframe.pop(\"label\")\n",
        "    ds = tf.data.Dataset.from_tensor_slices((dict(dataframe), labels))\n",
        "    ds = ds.shuffle(buffer_size=len(dataframe))\n",
        "    return ds"
      ]
    },
    {
      "cell_type": "markdown",
      "metadata": {
        "id": "QO6IRl9rkfT4"
      },
      "source": [
        "## Preprocessing utilities"
      ]
    },
    {
      "cell_type": "code",
      "execution_count": 7,
      "metadata": {
        "id": "slef7sY9ke1l"
      },
      "outputs": [],
      "source": [
        "resize = (224, 224)"
      ]
    },
    {
      "cell_type": "code",
      "execution_count": 8,
      "metadata": {
        "id": "FrTCJPUzkP3Q"
      },
      "outputs": [],
      "source": [
        "def preprocess_image(image_path):\n",
        "  extension = tf.strings.split(image_path,'.')[-1]\n",
        "  image = tf.io.read_file(image_path)\n",
        "  if extension == b\"gif\":\n",
        "    image = tf.io.decode_image(image, 3, expand_animations=False)\n",
        "  elif extension == b\"png\":\n",
        "    image = tf.image.decode_png(image, 3)\n",
        "  else:\n",
        "    image = tf.image.decode_jpeg(image, 3)\n",
        "  image = tf.image.resize(image, resize)\n",
        "  return image"
      ]
    },
    {
      "cell_type": "code",
      "execution_count": 9,
      "metadata": {
        "id": "uXQHweTHpCQM"
      },
      "outputs": [],
      "source": [
        "def preprocess_text_and_image(sample):\n",
        "  image_1 = preprocess_image(sample[\"image_1\"])\n",
        "  return {\"image_1\": image_1}"
      ]
    },
    {
      "cell_type": "code",
      "execution_count": 10,
      "metadata": {
        "id": "C-0aLqtupoL5"
      },
      "outputs": [],
      "source": [
        "batch_size = 32\n",
        "auto = tf.data.AUTOTUNE"
      ]
    },
    {
      "cell_type": "code",
      "execution_count": 11,
      "metadata": {
        "id": "DwL2IjrIp-Tn"
      },
      "outputs": [],
      "source": [
        "def prepare_dataset(dataframe, training=True):\n",
        "  ds = dataframe_to_dataset(dataframe)\n",
        "  if training:\n",
        "      ds = ds.shuffle(len(train_df_model))\n",
        "  ds = ds.map(lambda x, y: (preprocess_text_and_image(x), y)).cache()\n",
        "  ds = ds.batch(batch_size).prefetch(auto)\n",
        "  return ds"
      ]
    },
    {
      "cell_type": "code",
      "execution_count": 12,
      "metadata": {
        "id": "5rSseL-fqSCE"
      },
      "outputs": [],
      "source": [
        "train_ds = prepare_dataset(train_df_model)\n",
        "test_ds = prepare_dataset(test_df_model, False)"
      ]
    },
    {
      "cell_type": "markdown",
      "metadata": {
        "id": "UUA1fjql-NCs"
      },
      "source": [
        "## Model Building"
      ]
    },
    {
      "cell_type": "markdown",
      "metadata": {
        "id": "dsnHD-at_70f"
      },
      "source": [
        "### Projection"
      ]
    },
    {
      "cell_type": "code",
      "execution_count": 13,
      "metadata": {
        "id": "JUmnESU36Q-N"
      },
      "outputs": [],
      "source": [
        "def project_embeddings(\n",
        "    embeddings, num_projection_layers, projection_dims, dropout_rate\n",
        "):\n",
        "    projected_embeddings = keras.layers.Dense(units=projection_dims)(embeddings)\n",
        "    for _ in range(num_projection_layers):\n",
        "        x = tf.nn.gelu(projected_embeddings)\n",
        "        x = keras.layers.Dense(projection_dims)(x)\n",
        "        x = keras.layers.Dropout(dropout_rate)(x)\n",
        "        x = keras.layers.Add()([projected_embeddings, x])\n",
        "        projected_embeddings = keras.layers.LayerNormalization()(x)\n",
        "    return projected_embeddings\n"
      ]
    },
    {
      "cell_type": "markdown",
      "metadata": {
        "id": "uEelNTYZAB0h"
      },
      "source": [
        "### Vision encoder"
      ]
    },
    {
      "cell_type": "code",
      "execution_count": 14,
      "metadata": {
        "id": "y2ypqRWE_Oyq"
      },
      "outputs": [],
      "source": [
        "def create_vision_encoder(\n",
        "    num_projection_layers, projection_dims, dropout_rate, trainable=False\n",
        "):\n",
        "    # Load the pre-trained ResNet50V2 model to be used as the base encoder.\n",
        "    resnet_v2 = keras.applications.EfficientNetV2B3(\n",
        "        include_top=False, weights=\"imagenet\", pooling=\"avg\"\n",
        "    )\n",
        "    # Set the trainability of the base encoder.\n",
        "    for layer in resnet_v2.layers:\n",
        "        layer.trainable = trainable\n",
        "\n",
        "    # Receive the images as inputs.\n",
        "    image_1 = keras.Input(shape=(224, 224, 3), name=\"image_1\")\n",
        "    \n",
        "    # Preprocess the input image.\n",
        "    preprocessed_1 = keras.applications.resnet_v2.preprocess_input(image_1)\n",
        "    \n",
        "    # Generate the embeddings for the images using the resnet_v2 model\n",
        "    # concatenate them.\n",
        "    embeddings = resnet_v2(preprocessed_1)\n",
        "    #embeddings = keras.layers.Concatenate()([embeddings_1, embeddings_2])\n",
        "\n",
        "    # Project the embeddings produced by the model.\n",
        "    outputs = project_embeddings(\n",
        "        embeddings, num_projection_layers, projection_dims, dropout_rate\n",
        "    )\n",
        "    # Create the vision encoder model.\n",
        "    return keras.Model([image_1], outputs, name=\"vision_encoder\")"
      ]
    },
    {
      "cell_type": "markdown",
      "metadata": {
        "id": "Ugj-e4g8AWOp"
      },
      "source": [
        "## ImageOnly model"
      ]
    },
    {
      "cell_type": "code",
      "execution_count": 15,
      "metadata": {
        "id": "1RjaNwDnANoc"
      },
      "outputs": [],
      "source": [
        "def create_image_only_model(\n",
        "    num_projection_layers=0,\n",
        "    projection_dims=224,\n",
        "    dropout_rate=0.1,\n",
        "    vision_trainable=False,\n",
        "    text_trainable=False,\n",
        "    attention=False\n",
        "):\n",
        "    # Receive the images as inputs.\n",
        "    image_1 = keras.Input(shape=(224, 224, 3), name=\"image_1\")\n",
        "    \n",
        "   # Create the encoders.\n",
        "    vision_encoder = create_vision_encoder(\n",
        "        num_projection_layers, projection_dims, dropout_rate, vision_trainable\n",
        "    )\n",
        "    \n",
        "    # Fetch the embedding projections.\n",
        "    vision_projections = vision_encoder([image_1])\n",
        "    vision_projections = keras.layers.Dropout(dropout_rate)(vision_projections)\n",
        "    \n",
        "    outputs = keras.layers.Dense(1, activation=\"sigmoid\")(vision_projections)\n",
        "    return keras.Model([image_1], outputs)"
      ]
    },
    {
      "cell_type": "code",
      "execution_count": 16,
      "metadata": {
        "id": "HYAqM03bYqpj"
      },
      "outputs": [],
      "source": [
        "loss = tf.keras.losses.BinaryCrossentropy(from_logits=True)\n",
        "metrics= [\n",
        "      tf.keras.metrics.BinaryAccuracy(name='accuracy'),\n",
        "      tf.keras.metrics.Precision(name='precision'),\n",
        "      tf.keras.metrics.Recall(name='recall')\n",
        "]"
      ]
    },
    {
      "cell_type": "code",
      "source": [
        "image_only_model = create_image_only_model(attention=False, num_projection_layers=0, projection_dims=128, dropout_rate=0.0)\n",
        "image_only_model.summary()"
      ],
      "metadata": {
        "id": "DG9HS8aNAuGn",
        "colab": {
          "base_uri": "https://localhost:8080/"
        },
        "outputId": "beffec98-2d72-4458-822f-71f2a5a5630d"
      },
      "execution_count": 17,
      "outputs": [
        {
          "output_type": "stream",
          "name": "stdout",
          "text": [
            "Downloading data from https://storage.googleapis.com/tensorflow/keras-applications/efficientnet_v2/efficientnetv2-b3_notop.h5\n",
            "52606240/52606240 [==============================] - 4s 0us/step\n",
            "Model: \"model\"\n",
            "_________________________________________________________________\n",
            " Layer (type)                Output Shape              Param #   \n",
            "=================================================================\n",
            " image_1 (InputLayer)        [(None, 224, 224, 3)]     0         \n",
            "                                                                 \n",
            " vision_encoder (Functional)  (None, 128)              13127358  \n",
            "                                                                 \n",
            " dropout (Dropout)           (None, 128)               0         \n",
            "                                                                 \n",
            " dense_1 (Dense)             (None, 1)                 129       \n",
            "                                                                 \n",
            "=================================================================\n",
            "Total params: 13,127,487\n",
            "Trainable params: 196,865\n",
            "Non-trainable params: 12,930,622\n",
            "_________________________________________________________________\n"
          ]
        }
      ]
    },
    {
      "cell_type": "markdown",
      "source": [
        "### Model Training"
      ],
      "metadata": {
        "id": "DDAXg6GZF7tP"
      }
    },
    {
      "cell_type": "code",
      "source": [
        "epochs = 10\n",
        "batch_size = 32"
      ],
      "metadata": {
        "id": "-EvQQlevMUbP"
      },
      "execution_count": 18,
      "outputs": []
    },
    {
      "cell_type": "code",
      "source": [
        "image_only_model.compile(\n",
        "    optimizer=tf.keras.optimizers.Adam(), loss=loss, metrics=metrics\n",
        ")\n",
        "history = image_only_model.fit(train_ds, validation_data=test_ds, epochs=epochs, batch_size=batch_size)"
      ],
      "metadata": {
        "id": "nHJ6ptX7NzOb",
        "colab": {
          "base_uri": "https://localhost:8080/"
        },
        "outputId": "b8c8e976-3814-4495-f77b-2923ab9faa9d"
      },
      "execution_count": 19,
      "outputs": [
        {
          "output_type": "stream",
          "name": "stdout",
          "text": [
            "Epoch 1/10\n",
            "130/130 [==============================] - 41s 153ms/step - loss: 0.5257 - accuracy: 0.7915 - precision: 0.2069 - recall: 0.0302 - val_loss: 0.5342 - val_accuracy: 0.7669 - val_precision: 0.0000e+00 - val_recall: 0.0000e+00\n",
            "Epoch 2/10\n",
            "130/130 [==============================] - 14s 108ms/step - loss: 0.4959 - accuracy: 0.8077 - precision: 0.4667 - recall: 0.0088 - val_loss: 0.5272 - val_accuracy: 0.7678 - val_precision: 0.6667 - val_recall: 0.0076\n",
            "Epoch 3/10\n",
            "130/130 [==============================] - 14s 110ms/step - loss: 0.4924 - accuracy: 0.8087 - precision: 0.5517 - recall: 0.0201 - val_loss: 0.5331 - val_accuracy: 0.7669 - val_precision: 0.0000e+00 - val_recall: 0.0000e+00\n",
            "Epoch 4/10\n",
            "130/130 [==============================] - 14s 111ms/step - loss: 0.4877 - accuracy: 0.8080 - precision: 0.5000 - recall: 0.0063 - val_loss: 0.5337 - val_accuracy: 0.7669 - val_precision: 0.0000e+00 - val_recall: 0.0000e+00\n",
            "Epoch 5/10\n",
            "130/130 [==============================] - 15s 112ms/step - loss: 0.4830 - accuracy: 0.8082 - precision: 0.5556 - recall: 0.0063 - val_loss: 0.5280 - val_accuracy: 0.7669 - val_precision: 0.0000e+00 - val_recall: 0.0000e+00\n",
            "Epoch 6/10\n",
            "130/130 [==============================] - 15s 113ms/step - loss: 0.4826 - accuracy: 0.8075 - precision: 0.3750 - recall: 0.0038 - val_loss: 0.5312 - val_accuracy: 0.7669 - val_precision: 0.0000e+00 - val_recall: 0.0000e+00\n",
            "Epoch 7/10\n",
            "130/130 [==============================] - 15s 113ms/step - loss: 0.4772 - accuracy: 0.8092 - precision: 1.0000 - recall: 0.0063 - val_loss: 0.5310 - val_accuracy: 0.7669 - val_precision: 0.0000e+00 - val_recall: 0.0000e+00\n",
            "Epoch 8/10\n",
            "130/130 [==============================] - 15s 112ms/step - loss: 0.4785 - accuracy: 0.8082 - precision: 0.6000 - recall: 0.0038 - val_loss: 0.5329 - val_accuracy: 0.7669 - val_precision: 0.0000e+00 - val_recall: 0.0000e+00\n",
            "Epoch 9/10\n",
            "130/130 [==============================] - 14s 112ms/step - loss: 0.4768 - accuracy: 0.8092 - precision: 1.0000 - recall: 0.0063 - val_loss: 0.5320 - val_accuracy: 0.7669 - val_precision: 0.0000e+00 - val_recall: 0.0000e+00\n",
            "Epoch 10/10\n",
            "130/130 [==============================] - 14s 112ms/step - loss: 0.4748 - accuracy: 0.8089 - precision: 0.8333 - recall: 0.0063 - val_loss: 0.5314 - val_accuracy: 0.7669 - val_precision: 0.0000e+00 - val_recall: 0.0000e+00\n"
          ]
        }
      ]
    },
    {
      "cell_type": "markdown",
      "source": [
        "Plot training loss vs testing loss"
      ],
      "metadata": {
        "id": "gCrtiR-BwEOH"
      }
    },
    {
      "cell_type": "code",
      "source": [
        "plt.plot(history.history['loss'], label='loss')\n",
        "plt.plot(history.history['val_loss'], label='val_loss')\n",
        "plt.ylim([0, max(plt.ylim())])\n",
        "plt.xlabel('Epoch #')\n",
        "plt.ylabel('Loss')\n",
        "plt.legend()"
      ],
      "metadata": {
        "colab": {
          "base_uri": "https://localhost:8080/",
          "height": 466
        },
        "id": "egeUvyOQovSU",
        "outputId": "8b76aa81-af7b-4f3f-e44b-f173a9d745a2"
      },
      "execution_count": 20,
      "outputs": [
        {
          "output_type": "execute_result",
          "data": {
            "text/plain": [
              "<matplotlib.legend.Legend at 0x7fd458bd0520>"
            ]
          },
          "metadata": {},
          "execution_count": 20
        },
        {
          "output_type": "display_data",
          "data": {
            "text/plain": [
              "<Figure size 640x480 with 1 Axes>"
            ],
            "image/png": "[encoded data removed]"
          },
          "metadata": {}
        }
      ]
    },
    {
      "cell_type": "markdown",
      "source": [
        "Plot training accuracy vs testing accuracy"
      ],
      "metadata": {
        "id": "DolnD-nFwO0G"
      }
    },
    {
      "cell_type": "code",
      "source": [
        "plt.plot(history.history['accuracy'], label='accuracy')\n",
        "plt.plot(history.history['val_accuracy'], label='val_accuracy')\n",
        "plt.ylim([0, max(plt.ylim())])\n",
        "plt.xlabel('Epoch #')\n",
        "plt.ylabel('Accuracy')\n",
        "plt.legend()"
      ],
      "metadata": {
        "id": "8kNZXn1_veFn",
        "colab": {
          "base_uri": "https://localhost:8080/",
          "height": 467
        },
        "outputId": "846d0e87-8f98-4b4b-a405-0c38738d8f77"
      },
      "execution_count": 21,
      "outputs": [
        {
          "output_type": "execute_result",
          "data": {
            "text/plain": [
              "<matplotlib.legend.Legend at 0x7fd4223160e0>"
            ]
          },
          "metadata": {},
          "execution_count": 21
        },
        {
          "output_type": "display_data",
          "data": {
            "text/plain": [
              "<Figure size 640x480 with 1 Axes>"
            ],
            "image/png": "[encoded data removed]"
          },
          "metadata": {}
        }
      ]
    },
    {
      "cell_type": "code",
      "source": [
        "from sklearn.metrics import accuracy_score,f1_score,precision_score,recall_score"
      ],
      "metadata": {
        "id": "JvqG8xphbPgD"
      },
      "execution_count": 22,
      "outputs": []
    },
    {
      "cell_type": "code",
      "source": [
        "y_test = np.concatenate([y for x, y in test_ds], axis=0)"
      ],
      "metadata": {
        "id": "YLi_UnaxKmpt"
      },
      "execution_count": 23,
      "outputs": []
    },
    {
      "cell_type": "code",
      "source": [
        "y_pred = image_only_model.predict(test_ds)\n",
        "y_pred = [1 if i>=0.5 else 0 for i in y_pred]\n",
        "print(f'Accuracy == {accuracy_score(y_test,y_pred)}')\n",
        "print(f'F1 == {f1_score(y_test,y_pred,average=None)}')\n",
        "print(f'Precision == {precision_score(y_test,y_pred,average=None)}')\n",
        "print(f'Recall == {recall_score(y_test,y_pred,average=None)}')"
      ],
      "metadata": {
        "colab": {
          "base_uri": "https://localhost:8080/"
        },
        "id": "GCZsFJUaM4ze",
        "outputId": "059c9f46-8149-4c8e-990a-1fc5600208f5"
      },
      "execution_count": 24,
      "outputs": [
        {
          "output_type": "stream",
          "name": "stdout",
          "text": [
            "36/36 [==============================] - 5s 81ms/step\n",
            "Accuracy == 0.7669039145907474\n",
            "F1 == [0.86807654 0.        ]\n",
            "Precision == [0.76690391 0.        ]\n",
            "Recall == [1. 0.]\n"
          ]
        }
      ]
    },
    {
      "cell_type": "markdown",
      "source": [
        "# InceptionNet"
      ],
      "metadata": {
        "id": "mXaGtuTVjIYP"
      }
    },
    {
      "cell_type": "code",
      "execution_count": 25,
      "metadata": {
        "id": "uGRA1nK5qG9V"
      },
      "outputs": [],
      "source": [
        "def create_vision_encoder(\n",
        "    num_projection_layers, projection_dims, dropout_rate, trainable=False\n",
        "):\n",
        "    # Load the pre-trained ResNet50V2 model to be used as the base encoder.\n",
        "    resnet_v2 = keras.applications.InceptionV3(\n",
        "        include_top=False, weights=\"imagenet\", pooling=\"avg\"\n",
        "    )\n",
        "    # Set the trainability of the base encoder.\n",
        "    for layer in resnet_v2.layers:\n",
        "        layer.trainable = trainable\n",
        "\n",
        "    # Receive the images as inputs.\n",
        "    image_1 = keras.Input(shape=(224, 224, 3), name=\"image_1\")\n",
        "    \n",
        "    # Preprocess the input image.\n",
        "    preprocessed_1 = tf.keras.applications.inception_v3.preprocess_input(image_1)\n",
        "    \n",
        "    # Generate the embeddings for the images using the resnet_v2 model\n",
        "    embeddings = resnet_v2(preprocessed_1)\n",
        "    \n",
        "    # Project the embeddings produced by the model.\n",
        "    outputs = project_embeddings(\n",
        "        embeddings, num_projection_layers, projection_dims, dropout_rate\n",
        "    )\n",
        "    # Create the vision encoder model.\n",
        "    return keras.Model([image_1], outputs, name=\"vision_encoder\")"
      ]
    },
    {
      "cell_type": "code",
      "source": [
        "image_only_model1 = create_image_only_model(attention=False, num_projection_layers=1, projection_dims=128, dropout_rate=0.0)\n",
        "image_only_model1.summary()"
      ],
      "metadata": {
        "colab": {
          "base_uri": "https://localhost:8080/"
        },
        "outputId": "0264eb64-d795-43c4-f0a8-8524702db1ef",
        "id": "Jm7fLzOpqqEV"
      },
      "execution_count": 26,
      "outputs": [
        {
          "output_type": "stream",
          "name": "stdout",
          "text": [
            "Downloading data from https://storage.googleapis.com/tensorflow/keras-applications/inception_v3/inception_v3_weights_tf_dim_ordering_tf_kernels_notop.h5\n",
            "87910968/87910968 [==============================] - 6s 0us/step\n",
            "Model: \"model_1\"\n",
            "_________________________________________________________________\n",
            " Layer (type)                Output Shape              Param #   \n",
            "=================================================================\n",
            " image_1 (InputLayer)        [(None, 224, 224, 3)]     0         \n",
            "                                                                 \n",
            " vision_encoder (Functional)  (None, 128)              22081824  \n",
            "                                                                 \n",
            " dropout_2 (Dropout)         (None, 128)               0         \n",
            "                                                                 \n",
            " dense_4 (Dense)             (None, 1)                 129       \n",
            "                                                                 \n",
            "=================================================================\n",
            "Total params: 22,081,953\n",
            "Trainable params: 279,169\n",
            "Non-trainable params: 21,802,784\n",
            "_________________________________________________________________\n"
          ]
        }
      ]
    },
    {
      "cell_type": "markdown",
      "source": [
        "### Model Training"
      ],
      "metadata": {
        "id": "jC140RQ7qqEW"
      }
    },
    {
      "cell_type": "code",
      "source": [
        "image_only_model1.compile(\n",
        "    optimizer=tf.keras.optimizers.Adam(), loss=loss, metrics=metrics\n",
        ")\n",
        "history1 = image_only_model1.fit(train_ds, validation_data=test_ds, epochs=epochs, batch_size=batch_size)"
      ],
      "metadata": {
        "colab": {
          "base_uri": "https://localhost:8080/"
        },
        "outputId": "a06d0b31-5868-4efa-abae-19042fd75042",
        "id": "a2zcON_TqqEX"
      },
      "execution_count": 27,
      "outputs": [
        {
          "output_type": "stream",
          "name": "stdout",
          "text": [
            "Epoch 1/10\n",
            "130/130 [==============================] - 22s 114ms/step - loss: 0.5216 - accuracy: 0.7971 - precision: 0.2105 - recall: 0.0038 - val_loss: 0.5303 - val_accuracy: 0.7669 - val_precision: 0.0000e+00 - val_recall: 0.0000e+00\n",
            "Epoch 2/10\n",
            "130/130 [==============================] - 11s 88ms/step - loss: 0.4584 - accuracy: 0.8092 - precision: 0.5490 - recall: 0.0352 - val_loss: 0.5288 - val_accuracy: 0.7598 - val_precision: 0.4429 - val_recall: 0.1183\n",
            "Epoch 3/10\n",
            "130/130 [==============================] - 11s 87ms/step - loss: 0.4327 - accuracy: 0.8140 - precision: 0.5668 - recall: 0.1333 - val_loss: 0.5305 - val_accuracy: 0.7411 - val_precision: 0.3876 - val_recall: 0.1908\n",
            "Epoch 4/10\n",
            "130/130 [==============================] - 11s 88ms/step - loss: 0.4048 - accuracy: 0.8285 - precision: 0.6491 - recall: 0.2327 - val_loss: 0.5381 - val_accuracy: 0.7456 - val_precision: 0.4178 - val_recall: 0.2328\n",
            "Epoch 5/10\n",
            "130/130 [==============================] - 11s 87ms/step - loss: 0.3766 - accuracy: 0.8411 - precision: 0.6807 - recall: 0.3245 - val_loss: 0.5650 - val_accuracy: 0.7224 - val_precision: 0.3853 - val_recall: 0.3206\n",
            "Epoch 6/10\n",
            "130/130 [==============================] - 11s 87ms/step - loss: 0.3431 - accuracy: 0.8570 - precision: 0.7128 - recall: 0.4277 - val_loss: 0.5811 - val_accuracy: 0.7304 - val_precision: 0.3842 - val_recall: 0.2595\n",
            "Epoch 7/10\n",
            "130/130 [==============================] - 11s 87ms/step - loss: 0.3306 - accuracy: 0.8570 - precision: 0.7002 - recall: 0.4465 - val_loss: 0.5530 - val_accuracy: 0.7393 - val_precision: 0.3885 - val_recall: 0.2061\n",
            "Epoch 8/10\n",
            "130/130 [==============================] - 11s 87ms/step - loss: 0.2994 - accuracy: 0.8729 - precision: 0.7423 - recall: 0.5182 - val_loss: 0.6028 - val_accuracy: 0.6842 - val_precision: 0.3495 - val_recall: 0.4122\n",
            "Epoch 9/10\n",
            "130/130 [==============================] - 11s 89ms/step - loss: 0.3143 - accuracy: 0.8614 - precision: 0.6991 - recall: 0.4881 - val_loss: 0.5729 - val_accuracy: 0.7607 - val_precision: 0.4340 - val_recall: 0.0878\n",
            "Epoch 10/10\n",
            "130/130 [==============================] - 11s 88ms/step - loss: 0.2779 - accuracy: 0.8833 - precision: 0.7662 - recall: 0.5648 - val_loss: 0.5852 - val_accuracy: 0.7536 - val_precision: 0.3585 - val_recall: 0.0725\n"
          ]
        }
      ]
    },
    {
      "cell_type": "markdown",
      "source": [
        "Plot training loss vs testing loss"
      ],
      "metadata": {
        "id": "RKfUFPj5rAmY"
      }
    },
    {
      "cell_type": "code",
      "source": [
        "plt.plot(history1.history['loss'], label='loss')\n",
        "plt.plot(history1.history['val_loss'], label='val_loss')\n",
        "plt.ylim([0, max(plt.ylim())])\n",
        "plt.xlabel('Epoch #')\n",
        "plt.ylabel('Loss')\n",
        "plt.legend()"
      ],
      "metadata": {
        "colab": {
          "base_uri": "https://localhost:8080/",
          "height": 466
        },
        "outputId": "6c856c8d-e78f-46f1-afec-dedc77f47929",
        "id": "FTtUOL-frAmZ"
      },
      "execution_count": 28,
      "outputs": [
        {
          "output_type": "execute_result",
          "data": {
            "text/plain": [
              "<matplotlib.legend.Legend at 0x7fd3d863a320>"
            ]
          },
          "metadata": {},
          "execution_count": 28
        },
        {
          "output_type": "display_data",
          "data": {
            "text/plain": [
              "<Figure size 640x480 with 1 Axes>"
            ],
            "image/png": "[encoded data removed]"
          },
          "metadata": {}
        }
      ]
    },
    {
      "cell_type": "markdown",
      "source": [
        "Plot training accuracy vs testing accuracy"
      ],
      "metadata": {
        "id": "5mMNJUtjrAmZ"
      }
    },
    {
      "cell_type": "code",
      "source": [
        "plt.plot(history1.history['accuracy'], label='accuracy')\n",
        "plt.plot(history1.history['val_accuracy'], label='val_accuracy')\n",
        "plt.ylim([0, max(plt.ylim())])\n",
        "plt.xlabel('Epoch #')\n",
        "plt.ylabel('Accuracy')\n",
        "plt.legend()"
      ],
      "metadata": {
        "colab": {
          "base_uri": "https://localhost:8080/",
          "height": 466
        },
        "outputId": "894cb5ea-bbaa-48dc-fef3-e2e209b717a1",
        "id": "eyw2vHDUrAma"
      },
      "execution_count": 29,
      "outputs": [
        {
          "output_type": "execute_result",
          "data": {
            "text/plain": [
              "<matplotlib.legend.Legend at 0x7fd45892a110>"
            ]
          },
          "metadata": {},
          "execution_count": 29
        },
        {
          "output_type": "display_data",
          "data": {
            "text/plain": [
              "<Figure size 640x480 with 1 Axes>"
            ],
            "image/png": "[encoded data removed]"
          },
          "metadata": {}
        }
      ]
    },
    {
      "cell_type": "code",
      "source": [
        "y_pred = image_only_model1.predict(test_ds)\n",
        "y_pred = [1 if i>=0.5 else 0 for i in y_pred]\n",
        "print(f'Accuracy == {accuracy_score(y_test,y_pred)}')\n",
        "print(f'F1 == {f1_score(y_test,y_pred,average=None)}')\n",
        "print(f'Precision == {precision_score(y_test,y_pred,average=None)}')\n",
        "print(f'Recall == {recall_score(y_test,y_pred,average=None)}')"
      ],
      "metadata": {
        "colab": {
          "base_uri": "https://localhost:8080/"
        },
        "outputId": "80da99f4-821a-4f1e-b7d9-22b483c775bb",
        "id": "XpMLo4LQrAma"
      },
      "execution_count": 30,
      "outputs": [
        {
          "output_type": "stream",
          "name": "stdout",
          "text": [
            "36/36 [==============================] - 4s 66ms/step\n",
            "Accuracy == 0.75355871886121\n",
            "F1 == [0.85669943 0.12063492]\n",
            "Precision == [0.77310924 0.35849057]\n",
            "Recall == [0.96055684 0.07251908]\n"
          ]
        }
      ]
    },
    {
      "cell_type": "markdown",
      "source": [
        "# MobileNetV3 Small"
      ],
      "metadata": {
        "id": "p4w8w-a81KiH"
      }
    },
    {
      "cell_type": "code",
      "source": [
        "def create_vision_encoder(\n",
        "    num_projection_layers, projection_dims, dropout_rate, trainable=False\n",
        "):\n",
        "    # Load the pre-trained ResNet50V2 model to be used as the base encoder.\n",
        "    resnet_v2 = keras.applications.MobileNetV3Small(\n",
        "        include_top=False, weights=\"imagenet\", pooling=\"avg\"\n",
        "    )\n",
        "    # Set the trainability of the base encoder.\n",
        "    for layer in resnet_v2.layers:\n",
        "        layer.trainable = trainable\n",
        "\n",
        "    # Receive the images as inputs.\n",
        "    image_1 = keras.Input(shape=(224, 224, 3), name=\"image_1\")\n",
        "    \n",
        "    # Preprocess the input image.\n",
        "    preprocessed_1 = tf.keras.applications.mobilenet_v3.preprocess_input(image_1)\n",
        "    \n",
        "    # Generate the embeddings for the images using the resnet_v2 model\n",
        "    embeddings = resnet_v2(preprocessed_1)\n",
        "    \n",
        "    # Project the embeddings produced by the model.\n",
        "    outputs = project_embeddings(\n",
        "        embeddings, num_projection_layers, projection_dims, dropout_rate\n",
        "    )\n",
        "    # Create the vision encoder model.\n",
        "    return keras.Model([image_1], outputs, name=\"vision_encoder\")"
      ],
      "metadata": {
        "id": "VXGLMcMl1Jjw"
      },
      "execution_count": 31,
      "outputs": []
    },
    {
      "cell_type": "code",
      "source": [
        "image_only_model2 = create_image_only_model(attention=False, num_projection_layers=1, projection_dims=128, dropout_rate=0.1)\n",
        "image_only_model2.summary()"
      ],
      "metadata": {
        "colab": {
          "base_uri": "https://localhost:8080/"
        },
        "outputId": "19bdbb99-a009-4808-f3e5-4d53bd3ae451",
        "id": "x3sjD2Xo1isJ"
      },
      "execution_count": 32,
      "outputs": [
        {
          "output_type": "stream",
          "name": "stdout",
          "text": [
            "Downloading data from https://storage.googleapis.com/tensorflow/keras-applications/mobilenet_v3/weights_mobilenet_v3_small_224_1.0_float_no_top_v2.h5\n",
            "4334752/4334752 [==============================] - 1s 0us/step\n",
            "Model: \"model_2\"\n",
            "_________________________________________________________________\n",
            " Layer (type)                Output Shape              Param #   \n",
            "=================================================================\n",
            " image_1 (InputLayer)        [(None, 224, 224, 3)]     0         \n",
            "                                                                 \n",
            " vision_encoder (Functional)  (None, 128)              1029744   \n",
            "                                                                 \n",
            " dropout_4 (Dropout)         (None, 128)               0         \n",
            "                                                                 \n",
            " dense_7 (Dense)             (None, 1)                 129       \n",
            "                                                                 \n",
            "=================================================================\n",
            "Total params: 1,029,873\n",
            "Trainable params: 90,753\n",
            "Non-trainable params: 939,120\n",
            "_________________________________________________________________\n"
          ]
        }
      ]
    },
    {
      "cell_type": "markdown",
      "source": [
        "### Model Training"
      ],
      "metadata": {
        "id": "pocRfxkk1isJ"
      }
    },
    {
      "cell_type": "code",
      "source": [
        "image_only_model2.compile(\n",
        "    optimizer=tf.keras.optimizers.Adam(), loss=loss, metrics=metrics\n",
        ")\n",
        "history2 = image_only_model2.fit(train_ds, validation_data=test_ds, epochs=epochs, batch_size=batch_size)"
      ],
      "metadata": {
        "colab": {
          "base_uri": "https://localhost:8080/"
        },
        "outputId": "baa2d676-5c82-40b3-c887-3092ce261cc0",
        "id": "rnSPaTxo1isJ"
      },
      "execution_count": 33,
      "outputs": [
        {
          "output_type": "stream",
          "name": "stdout",
          "text": [
            "Epoch 1/10\n",
            "130/130 [==============================] - 10s 43ms/step - loss: 0.4971 - accuracy: 0.7912 - precision: 0.3929 - recall: 0.0728 - val_loss: 0.5090 - val_accuracy: 0.7696 - val_precision: 0.6000 - val_recall: 0.0344\n",
            "Epoch 2/10\n",
            "130/130 [==============================] - 4s 29ms/step - loss: 0.4323 - accuracy: 0.8145 - precision: 0.5659 - recall: 0.1459 - val_loss: 0.5050 - val_accuracy: 0.7785 - val_precision: 0.6066 - val_recall: 0.1412\n",
            "Epoch 3/10\n",
            "130/130 [==============================] - 4s 28ms/step - loss: 0.4067 - accuracy: 0.8261 - precision: 0.6221 - recall: 0.2403 - val_loss: 0.5104 - val_accuracy: 0.7705 - val_precision: 0.5213 - val_recall: 0.1870\n",
            "Epoch 4/10\n",
            "130/130 [==============================] - 4s 28ms/step - loss: 0.3716 - accuracy: 0.8415 - precision: 0.6651 - recall: 0.3522 - val_loss: 0.5413 - val_accuracy: 0.7598 - val_precision: 0.4718 - val_recall: 0.2557\n",
            "Epoch 5/10\n",
            "130/130 [==============================] - 4s 29ms/step - loss: 0.3218 - accuracy: 0.8614 - precision: 0.7188 - recall: 0.4566 - val_loss: 0.5972 - val_accuracy: 0.7473 - val_precision: 0.4225 - val_recall: 0.2290\n",
            "Epoch 6/10\n",
            "130/130 [==============================] - 4s 28ms/step - loss: 0.2525 - accuracy: 0.8954 - precision: 0.7919 - recall: 0.6176 - val_loss: 0.7363 - val_accuracy: 0.7464 - val_precision: 0.4444 - val_recall: 0.3511\n",
            "Epoch 7/10\n",
            "130/130 [==============================] - 4s 28ms/step - loss: 0.1984 - accuracy: 0.9215 - precision: 0.8487 - recall: 0.7195 - val_loss: 0.8276 - val_accuracy: 0.7269 - val_precision: 0.4082 - val_recall: 0.3817\n",
            "Epoch 8/10\n",
            "130/130 [==============================] - 4s 28ms/step - loss: 0.1694 - accuracy: 0.9321 - precision: 0.8599 - recall: 0.7723 - val_loss: 1.0056 - val_accuracy: 0.7447 - val_precision: 0.3853 - val_recall: 0.1603\n",
            "Epoch 9/10\n",
            "130/130 [==============================] - 4s 29ms/step - loss: 0.1837 - accuracy: 0.9263 - precision: 0.8530 - recall: 0.7447 - val_loss: 0.9386 - val_accuracy: 0.7544 - val_precision: 0.4500 - val_recall: 0.2405\n",
            "Epoch 10/10\n",
            "130/130 [==============================] - 4s 28ms/step - loss: 0.1647 - accuracy: 0.9295 - precision: 0.8527 - recall: 0.7648 - val_loss: 0.9789 - val_accuracy: 0.7295 - val_precision: 0.4079 - val_recall: 0.3550\n"
          ]
        }
      ]
    },
    {
      "cell_type": "markdown",
      "source": [
        "Plot training loss vs testing loss"
      ],
      "metadata": {
        "id": "CnvLIxPK-HSF"
      }
    },
    {
      "cell_type": "code",
      "source": [
        "plt.plot(history2.history['loss'], label='loss')\n",
        "plt.plot(history2.history['val_loss'], label='val_loss')\n",
        "plt.ylim([0, max(plt.ylim())])\n",
        "plt.xlabel('Epoch #')\n",
        "plt.ylabel('Loss')\n",
        "plt.legend()"
      ],
      "metadata": {
        "colab": {
          "base_uri": "https://localhost:8080/",
          "height": 466
        },
        "outputId": "2a34654c-6fb6-4382-ae60-5178c2fae7f1",
        "id": "DMBVcEep-HSN"
      },
      "execution_count": 34,
      "outputs": [
        {
          "output_type": "execute_result",
          "data": {
            "text/plain": [
              "<matplotlib.legend.Legend at 0x7fd3d04eed70>"
            ]
          },
          "metadata": {},
          "execution_count": 34
        },
        {
          "output_type": "display_data",
          "data": {
            "text/plain": [
              "<Figure size 640x480 with 1 Axes>"
            ],
            "image/png": "[encoded data removed]"
          },
          "metadata": {}
        }
      ]
    },
    {
      "cell_type": "markdown",
      "source": [
        "Plot training accuracy vs testing accuracy"
      ],
      "metadata": {
        "id": "ETctEgyT-HSO"
      }
    },
    {
      "cell_type": "code",
      "source": [
        "plt.plot(history2.history['accuracy'], label='accuracy')\n",
        "plt.plot(history2.history['val_accuracy'], label='val_accuracy')\n",
        "plt.ylim([0, max(plt.ylim())])\n",
        "plt.xlabel('Epoch #')\n",
        "plt.ylabel('Accuracy')\n",
        "plt.legend()"
      ],
      "metadata": {
        "colab": {
          "base_uri": "https://localhost:8080/",
          "height": 466
        },
        "outputId": "598e536e-3dfa-41ea-d89e-05bcc19b7da9",
        "id": "Bybx3-q7-HSO"
      },
      "execution_count": 35,
      "outputs": [
        {
          "output_type": "execute_result",
          "data": {
            "text/plain": [
              "<matplotlib.legend.Legend at 0x7fd3e87c5e10>"
            ]
          },
          "metadata": {},
          "execution_count": 35
        },
        {
          "output_type": "display_data",
          "data": {
            "text/plain": [
              "<Figure size 640x480 with 1 Axes>"
            ],
            "image/png": "[encoded data removed]"
          },
          "metadata": {}
        }
      ]
    },
    {
      "cell_type": "code",
      "source": [
        "y_pred = image_only_model2.predict(test_ds)\n",
        "y_pred = [1 if i>=0.5 else 0 for i in y_pred]\n",
        "print(f'Accuracy == {accuracy_score(y_test,y_pred)}')\n",
        "print(f'F1 == {f1_score(y_test,y_pred,average=None)}')\n",
        "print(f'Precision == {precision_score(y_test,y_pred,average=None)}')\n",
        "print(f'Recall == {recall_score(y_test,y_pred,average=None)}')"
      ],
      "metadata": {
        "colab": {
          "base_uri": "https://localhost:8080/"
        },
        "outputId": "3e763e64-84d5-4276-9017-cad8d1a2cd74",
        "id": "i2wMc_8y-HSO"
      },
      "execution_count": 36,
      "outputs": [
        {
          "output_type": "stream",
          "name": "stdout",
          "text": [
            "36/36 [==============================] - 2s 20ms/step\n",
            "Accuracy == 0.7295373665480427\n",
            "F1 == [0.82707622 0.37959184]\n",
            "Precision == [0.81138393 0.40789474]\n",
            "Recall == [0.84338747 0.35496183]\n"
          ]
        }
      ]
    },
    {
      "cell_type": "code",
      "source": [],
      "metadata": {
        "id": "X5tq_IkKcKor"
      },
      "execution_count": null,
      "outputs": []
    },
    {
      "cell_type": "code",
      "source": [
        "def create_vision_encoder(\n",
        "    num_projection_layers, projection_dims, dropout_rate, trainable=False\n",
        "):\n",
        "    # Load the pre-trained ResNet50V2 model to be used as the base encoder.\n",
        "    resnet_v2 = keras.applications.DenseNet201(\n",
        "        include_top=False, weights=\"imagenet\", pooling=\"avg\"\n",
        "    )\n",
        "    # Set the trainability of the base encoder.\n",
        "    for layer in resnet_v2.layers:\n",
        "        layer.trainable = trainable\n",
        "\n",
        "    # Receive the images as inputs.\n",
        "    image_1 = keras.Input(shape=(224, 224, 3), name=\"image_1\")\n",
        "    \n",
        "    # Preprocess the input image.\n",
        "    preprocessed_1 = tf.keras.applications.densenet.preprocess_input(image_1)\n",
        "    \n",
        "    # Generate the embeddings for the images using the resnet_v2 model\n",
        "    embeddings = resnet_v2(preprocessed_1)\n",
        "    \n",
        "    # Project the embeddings produced by the model.\n",
        "    outputs = project_embeddings(\n",
        "        embeddings, num_projection_layers, projection_dims, dropout_rate\n",
        "    )\n",
        "    # Create the vision encoder model.\n",
        "    return keras.Model([image_1], outputs, name=\"vision_encoder\")"
      ],
      "metadata": {
        "id": "verLe-9tci_X"
      },
      "execution_count": null,
      "outputs": []
    },
    {
      "cell_type": "code",
      "source": [
        "image_only_model3 = create_image_only_model(attention=False, num_projection_layers=1, projection_dims=128, dropout_rate=0.1)\n",
        "image_only_model3.summary()"
      ],
      "metadata": {
        "colab": {
          "base_uri": "https://localhost:8080/"
        },
        "outputId": "b7fa853c-b937-4486-e145-61b0f068539e",
        "id": "WPgapKazci_e"
      },
      "execution_count": null,
      "outputs": [
        {
          "output_type": "stream",
          "name": "stdout",
          "text": [
            "Downloading data from https://storage.googleapis.com/tensorflow/keras-applications/densenet/densenet201_weights_tf_dim_ordering_tf_kernels_notop.h5\n",
            "74836368/74836368 [==============================] - 0s 0us/step\n",
            "Model: \"model_8\"\n",
            "_________________________________________________________________\n",
            " Layer (type)                Output Shape              Param #   \n",
            "=================================================================\n",
            " image_1 (InputLayer)        [(None, 224, 224, 3)]     0         \n",
            "                                                                 \n",
            " vision_encoder (Functional)  (None, 128)              18584640  \n",
            "                                                                 \n",
            " dropout_14 (Dropout)        (None, 128)               0         \n",
            "                                                                 \n",
            " dense_23 (Dense)            (None, 1)                 129       \n",
            "                                                                 \n",
            "=================================================================\n",
            "Total params: 18,584,769\n",
            "Trainable params: 262,785\n",
            "Non-trainable params: 18,321,984\n",
            "_________________________________________________________________\n"
          ]
        }
      ]
    },
    {
      "cell_type": "markdown",
      "source": [
        "### Model Training"
      ],
      "metadata": {
        "id": "4WGNQIOjci_f"
      }
    },
    {
      "cell_type": "code",
      "source": [
        "image_only_model3.compile(\n",
        "    optimizer=tf.keras.optimizers.Adam(), loss=loss, metrics=metrics\n",
        ")\n",
        "history3 = image_only_model3.fit(train_ds, validation_data=test_ds, epochs=epochs, batch_size=batch_size)"
      ],
      "metadata": {
        "colab": {
          "base_uri": "https://localhost:8080/"
        },
        "outputId": "7066f1b4-d0b3-44e5-bc41-dc11314a3ec6",
        "id": "DalBhJAJci_f"
      },
      "execution_count": null,
      "outputs": [
        {
          "output_type": "stream",
          "name": "stdout",
          "text": [
            "Epoch 1/10\n",
            "130/130 [==============================] - 50s 249ms/step - loss: 0.4988 - accuracy: 0.7861 - precision: 0.3869 - recall: 0.1116 - val_loss: 0.5134 - val_accuracy: 0.7705 - val_precision: 0.8333 - val_recall: 0.0191\n",
            "Epoch 2/10\n",
            "130/130 [==============================] - 24s 188ms/step - loss: 0.4305 - accuracy: 0.8118 - precision: 0.5370 - recall: 0.1459 - val_loss: 0.5043 - val_accuracy: 0.7705 - val_precision: 0.5250 - val_recall: 0.1603\n",
            "Epoch 3/10\n",
            "130/130 [==============================] - 24s 185ms/step - loss: 0.3913 - accuracy: 0.8268 - precision: 0.6161 - recall: 0.2604 - val_loss: 0.5273 - val_accuracy: 0.7616 - val_precision: 0.4741 - val_recall: 0.2099\n",
            "Epoch 4/10\n",
            "130/130 [==============================] - 24s 185ms/step - loss: 0.3439 - accuracy: 0.8481 - precision: 0.6758 - recall: 0.4013 - val_loss: 0.6272 - val_accuracy: 0.7705 - val_precision: 0.5169 - val_recall: 0.2328\n",
            "Epoch 5/10\n",
            "130/130 [==============================] - 24s 187ms/step - loss: 0.3048 - accuracy: 0.8679 - precision: 0.7305 - recall: 0.4943 - val_loss: 0.7575 - val_accuracy: 0.7722 - val_precision: 0.5254 - val_recall: 0.2366\n",
            "Epoch 6/10\n",
            "130/130 [==============================] - 24s 186ms/step - loss: 0.2320 - accuracy: 0.9058 - precision: 0.8073 - recall: 0.6692 - val_loss: 1.1778 - val_accuracy: 0.7731 - val_precision: 0.5745 - val_recall: 0.1031\n",
            "Epoch 7/10\n",
            "130/130 [==============================] - 24s 186ms/step - loss: 0.2424 - accuracy: 0.9014 - precision: 0.7910 - recall: 0.6616 - val_loss: 0.8800 - val_accuracy: 0.7669 - val_precision: 0.5000 - val_recall: 0.1565\n",
            "Epoch 8/10\n",
            "130/130 [==============================] - 24s 186ms/step - loss: 0.1878 - accuracy: 0.9234 - precision: 0.8357 - recall: 0.7484 - val_loss: 1.2042 - val_accuracy: 0.7687 - val_precision: 0.5312 - val_recall: 0.0649\n",
            "Epoch 9/10\n",
            "130/130 [==============================] - 24s 186ms/step - loss: 0.2106 - accuracy: 0.9126 - precision: 0.8133 - recall: 0.7069 - val_loss: 0.7870 - val_accuracy: 0.6397 - val_precision: 0.3333 - val_recall: 0.5458\n",
            "Epoch 10/10\n",
            "130/130 [==============================] - 24s 186ms/step - loss: 0.1782 - accuracy: 0.9268 - precision: 0.8650 - recall: 0.7333 - val_loss: 0.8943 - val_accuracy: 0.6575 - val_precision: 0.3518 - val_recall: 0.5573\n"
          ]
        }
      ]
    },
    {
      "cell_type": "markdown",
      "source": [
        "Plot training loss vs testing loss"
      ],
      "metadata": {
        "id": "1xSr1LUad79h"
      }
    },
    {
      "cell_type": "code",
      "source": [
        "plt.plot(history3.history['loss'], label='loss')\n",
        "plt.plot(history3.history['val_loss'], label='val_loss')\n",
        "plt.ylim([0, max(plt.ylim())])\n",
        "plt.xlabel('Epoch #')\n",
        "plt.ylabel('Loss')\n",
        "plt.legend()"
      ],
      "metadata": {
        "colab": {
          "base_uri": "https://localhost:8080/",
          "height": 466
        },
        "outputId": "fa9d2e64-76cf-4a64-ebf3-7588ff577530",
        "id": "WCfSg17Xd79p"
      },
      "execution_count": null,
      "outputs": [
        {
          "output_type": "execute_result",
          "data": {
            "text/plain": [
              "<matplotlib.legend.Legend at 0x7fb8c214ceb0>"
            ]
          },
          "metadata": {},
          "execution_count": 55
        },
        {
          "output_type": "display_data",
          "data": {
            "text/plain": [
              "<Figure size 640x480 with 1 Axes>"
            ],
            "image/png": "[encoded data removed]"
          },
          "metadata": {}
        }
      ]
    },
    {
      "cell_type": "markdown",
      "source": [
        "Plot training accuracy vs tersting accuracy"
      ],
      "metadata": {
        "id": "5_2yTdCod79q"
      }
    },
    {
      "cell_type": "code",
      "source": [
        "plt.plot(history3.history['accuracy'], label='accuracy')\n",
        "plt.plot(history3.history['val_accuracy'], label='val_accuracy')\n",
        "plt.ylim([0, max(plt.ylim())])\n",
        "plt.xlabel('Epoch #')\n",
        "plt.ylabel('Accuracy')\n",
        "plt.legend()"
      ],
      "metadata": {
        "colab": {
          "base_uri": "https://localhost:8080/",
          "height": 466
        },
        "outputId": "927cff95-7ef9-4030-f5c5-dc426c392cac",
        "id": "JjnmpB0Ed79q"
      },
      "execution_count": null,
      "outputs": [
        {
          "output_type": "execute_result",
          "data": {
            "text/plain": [
              "<matplotlib.legend.Legend at 0x7fb7d85e0850>"
            ]
          },
          "metadata": {},
          "execution_count": 56
        },
        {
          "output_type": "display_data",
          "data": {
            "text/plain": [
              "<Figure size 640x480 with 1 Axes>"
            ],
            "image/png": "[encoded data removed]"
          },
          "metadata": {}
        }
      ]
    },
    {
      "cell_type": "code",
      "source": [
        "y_pred = image_only_model3.predict(test_ds)\n",
        "y_pred = [1 if i>=0.5 else 0 for i in y_pred]\n",
        "print(f'Accuracy == {accuracy_score(y_test,y_pred)}')\n",
        "print(f'F1 == {f1_score(y_test,y_pred,average=None)}')\n",
        "print(f'Precision == {precision_score(y_test,y_pred,average=None)}')\n",
        "print(f'Recall == {recall_score(y_test,y_pred,average=None)}')"
      ],
      "metadata": {
        "colab": {
          "base_uri": "https://localhost:8080/"
        },
        "outputId": "53dc3834-c18d-4682-8628-e3587916e32c",
        "id": "JsnMuUfRd79q"
      },
      "execution_count": null,
      "outputs": [
        {
          "output_type": "stream",
          "name": "stdout",
          "text": [
            "36/36 [==============================] - 9s 139ms/step\n",
            "Accuracy == 0.6574733096085409\n",
            "F1 == [0.75493316 0.43131462]\n",
            "Precision == [0.83638928 0.35180723]\n",
            "Recall == [0.68793503 0.55725191]\n"
          ]
        }
      ]
    },
    {
      "cell_type": "code",
      "source": [],
      "metadata": {
        "id": "-jPgYoUreCxm"
      },
      "execution_count": null,
      "outputs": []
    }
  ]
}