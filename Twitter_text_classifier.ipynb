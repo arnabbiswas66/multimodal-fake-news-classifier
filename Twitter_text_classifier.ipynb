{
  "nbformat": 4,
  "nbformat_minor": 0,
  "metadata": {
    "colab": {
      "provenance": [],
      "include_colab_link": true
    },
    "kernelspec": {
      "name": "python3",
      "display_name": "Python 3"
    },
    "language_info": {
      "name": "python"
    },
    "accelerator": "GPU",
    "gpuClass": "standard"
  },
  "cells": [
    {
      "cell_type": "markdown",
      "metadata": {
        "id": "view-in-github",
        "colab_type": "text"
      },
      "source": [
        "<a href=\"https://colab.research.google.com/github/arnabbiswas66/multimodal-fake-news-classifier/blob/main/Twitter_text_classifier.ipynb\" target=\"_parent\"><img src=\"https://colab.research.google.com/assets/colab-badge.svg\" alt=\"Open In Colab\"/></a>"
      ]
    },
    {
      "cell_type": "code",
      "source": [
        "!pip install -q -U \"tensorflow-text==2.11.*\""
      ],
      "metadata": {
        "id": "_DjGVlKdb0bg"
      },
      "execution_count": 1,
      "outputs": []
    },
    {
      "cell_type": "code",
      "source": [
        "!pip install -q tf-models-official==2.11.0"
      ],
      "metadata": {
        "id": "kD3n7Zyjb2sf"
      },
      "execution_count": 2,
      "outputs": []
    },
    {
      "cell_type": "code",
      "execution_count": 3,
      "metadata": {
        "id": "f0sWSzpQO3Q2",
        "colab": {
          "base_uri": "https://localhost:8080/"
        },
        "outputId": "f79c9133-f0d1-4513-85c5-335fbdaaf511"
      },
      "outputs": [
        {
          "output_type": "stream",
          "name": "stderr",
          "text": [
            "[nltk_data] Downloading package stopwords to /root/nltk_data...\n",
            "[nltk_data]   Package stopwords is already up-to-date!\n",
            "/usr/local/lib/python3.9/dist-packages/tensorflow_addons/utils/tfa_eol_msg.py:23: UserWarning: \n",
            "\n",
            "TensorFlow Addons (TFA) has ended development and introduction of new features.\n",
            "TFA has entered a minimal maintenance and release mode until a planned end of life in May 2024.\n",
            "Please modify downstream libraries to take dependencies from other repositories in our TensorFlow community (e.g. Keras, Keras-CV, and Keras-NLP). \n",
            "\n",
            "For more information see: https://github.com/tensorflow/addons/issues/2807 \n",
            "\n",
            "  warnings.warn(\n"
          ]
        }
      ],
      "source": [
        "\n",
        "import pandas as pd\n",
        "import tensorflow as tf\n",
        "from tensorflow import keras\n",
        "import os\n",
        "import re\n",
        "import matplotlib.pyplot as plt\n",
        "import nltk\n",
        "nltk.download('stopwords')\n",
        "import tensorflow_hub as hub\n",
        "import tensorflow_text as text\n",
        "from official.nlp import optimization  # to create AdamW optimizer\n",
        "tf.get_logger().setLevel('ERROR')"
      ]
    },
    {
      "cell_type": "code",
      "source": [
        "from google.colab import drive\n",
        "drive.mount('/content/drive')"
      ],
      "metadata": {
        "colab": {
          "base_uri": "https://localhost:8080/"
        },
        "id": "L5QJUb49QYss",
        "outputId": "19cb00fb-5fb1-454b-acf6-7acbb27042a1"
      },
      "execution_count": 4,
      "outputs": [
        {
          "output_type": "stream",
          "name": "stdout",
          "text": [
            "Drive already mounted at /content/drive; to attempt to forcibly remount, call drive.mount(\"/content/drive\", force_remount=True).\n"
          ]
        }
      ]
    },
    {
      "cell_type": "code",
      "source": [
        "def get_df(file):\n",
        "    return pd.read_csv(file,sep = '\\t')"
      ],
      "metadata": {
        "id": "gBk2U1mSPRHb"
      },
      "execution_count": 5,
      "outputs": []
    },
    {
      "cell_type": "code",
      "source": [
        "train_df = get_df('/content/drive/MyDrive/multimodal-news/mediaeval2015/devset/tweets.txt')\n",
        "test_df = get_df('/content/drive/MyDrive/multimodal-news/mediaeval2015/testset/tweets.txt')"
      ],
      "metadata": {
        "id": "Yh9a2Kg0RhGG"
      },
      "execution_count": 6,
      "outputs": []
    },
    {
      "cell_type": "code",
      "source": [
        "train_df.info()"
      ],
      "metadata": {
        "colab": {
          "base_uri": "https://localhost:8080/"
        },
        "id": "6WEpz0I4SIci",
        "outputId": "281c6176-44f8-4b7e-86e8-9924e6fc560d"
      },
      "execution_count": 7,
      "outputs": [
        {
          "output_type": "stream",
          "name": "stdout",
          "text": [
            "<class 'pandas.core.frame.DataFrame'>\n",
            "RangeIndex: 14277 entries, 0 to 14276\n",
            "Data columns (total 7 columns):\n",
            " #   Column      Non-Null Count  Dtype \n",
            "---  ------      --------------  ----- \n",
            " 0   tweetId     14277 non-null  int64 \n",
            " 1   tweetText   14277 non-null  object\n",
            " 2   userId      14277 non-null  int64 \n",
            " 3   imageId(s)  14277 non-null  object\n",
            " 4   username    14277 non-null  object\n",
            " 5   timestamp   14277 non-null  object\n",
            " 6   label       14277 non-null  object\n",
            "dtypes: int64(2), object(5)\n",
            "memory usage: 780.9+ KB\n"
          ]
        }
      ]
    },
    {
      "cell_type": "code",
      "source": [
        "test_df.info()"
      ],
      "metadata": {
        "colab": {
          "base_uri": "https://localhost:8080/"
        },
        "id": "6T5dJ422SK05",
        "outputId": "0b3d3d92-60c2-4ba0-aef8-79ef82591106"
      },
      "execution_count": 8,
      "outputs": [
        {
          "output_type": "stream",
          "name": "stdout",
          "text": [
            "<class 'pandas.core.frame.DataFrame'>\n",
            "RangeIndex: 3755 entries, 0 to 3754\n",
            "Data columns (total 7 columns):\n",
            " #   Column      Non-Null Count  Dtype \n",
            "---  ------      --------------  ----- \n",
            " 0   tweetId     3755 non-null   int64 \n",
            " 1   tweetText   3755 non-null   object\n",
            " 2   userId      3755 non-null   int64 \n",
            " 3   imageId(s)  3755 non-null   object\n",
            " 4   username    3755 non-null   object\n",
            " 5   timestamp   3755 non-null   object\n",
            " 6   label       3755 non-null   object\n",
            "dtypes: int64(2), object(5)\n",
            "memory usage: 205.5+ KB\n"
          ]
        }
      ]
    },
    {
      "cell_type": "code",
      "source": [
        "#Changing 'humor' to 'fake'\n",
        "train_df.loc[(train_df.label == 'humor'),'label'] = 'fake'\n",
        "test_df.loc[(test_df.label == 'humor'),'label'] = 'fake'"
      ],
      "metadata": {
        "id": "N3nwp9RnSNGX"
      },
      "execution_count": 9,
      "outputs": []
    },
    {
      "cell_type": "code",
      "source": [
        "#Removing retweets, reposts, and modified tweets\n",
        "rtPattern1 = \"(RT|rt|MT|mt|RP|rp):? @\\w*:?\"\n",
        "rtPattern2 = \"(\\bRT\\b|\\brt\\b|\\bMT\\b|\\bmt\\b|\\bRP\\b|\\brp\\b)\"\n",
        "rtPattern3 = \"(@\\w*:)\"\n",
        "rtPattern4 = \"(#rt|#RT|#mt|#MT|#rp|#retweet|#Retweet|#modifiedtweet|#modifiedTweet|#ModifiedTweet|#repost|#Repost)\"\n",
        "rtPattern5 = \"(via @\\w*)\"\n",
        "\n",
        "retweets = train_df['tweetText'].str.contains(rtPattern1)\n",
        "train_df = train_df[~retweets]\n",
        "\n",
        "retweets = train_df['tweetText'].str.contains(rtPattern2)\n",
        "train_df = train_df[~retweets]\n",
        "\n",
        "retweets = train_df['tweetText'].str.contains(rtPattern3)\n",
        "train_df = train_df[~retweets]\n",
        "\n",
        "retweets = train_df['tweetText'].str.contains(rtPattern4)\n",
        "train_df = train_df[~retweets]\n",
        "\n",
        "retweets = train_df['tweetText'].str.contains(rtPattern5)\n",
        "train_df = train_df[~retweets]\n",
        "\n",
        "train_df.reset_index(drop=True, inplace=True)\n",
        "train_df.shape"
      ],
      "metadata": {
        "colab": {
          "base_uri": "https://localhost:8080/"
        },
        "id": "ImgT8K8aUL5u",
        "outputId": "fc716e55-1776-4a3f-e04d-4a72e103173c"
      },
      "execution_count": 13,
      "outputs": [
        {
          "output_type": "stream",
          "name": "stderr",
          "text": [
            "<ipython-input-13-fdd562f6ac27>:8: UserWarning: This pattern is interpreted as a regular expression, and has match groups. To actually get the groups, use str.extract.\n",
            "  retweets = train_df['tweetText'].str.contains(rtPattern1)\n",
            "<ipython-input-13-fdd562f6ac27>:11: UserWarning: This pattern is interpreted as a regular expression, and has match groups. To actually get the groups, use str.extract.\n",
            "  retweets = train_df['tweetText'].str.contains(rtPattern2)\n",
            "<ipython-input-13-fdd562f6ac27>:14: UserWarning: This pattern is interpreted as a regular expression, and has match groups. To actually get the groups, use str.extract.\n",
            "  retweets = train_df['tweetText'].str.contains(rtPattern3)\n",
            "<ipython-input-13-fdd562f6ac27>:17: UserWarning: This pattern is interpreted as a regular expression, and has match groups. To actually get the groups, use str.extract.\n",
            "  retweets = train_df['tweetText'].str.contains(rtPattern4)\n",
            "<ipython-input-13-fdd562f6ac27>:20: UserWarning: This pattern is interpreted as a regular expression, and has match groups. To actually get the groups, use str.extract.\n",
            "  retweets = train_df['tweetText'].str.contains(rtPattern5)\n"
          ]
        },
        {
          "output_type": "execute_result",
          "data": {
            "text/plain": [
              "(11550, 7)"
            ]
          },
          "metadata": {},
          "execution_count": 13
        }
      ]
    },
    {
      "cell_type": "code",
      "source": [
        "\n",
        "#Removing remaining twitter handles @username\n",
        "train_df['tweetText'] = train_df['tweetText'].apply(lambda text: re.sub(r'@\\w*', \"\", text))"
      ],
      "metadata": {
        "id": "_HBf7S5vUyt3"
      },
      "execution_count": 10,
      "outputs": []
    },
    {
      "cell_type": "code",
      "source": [
        "#Removing emojis\n",
        "emojis = re.compile(\"[\"\n",
        "                    u\"\\U0001F600-\\U0001F64F\"\n",
        "                    u\"\\U0001F300-\\U0001F5FF\"\n",
        "                    u\"\\U0001F680-\\U0001F6FF\"\n",
        "                    u\"\\U0001F1E0-\\U0001F1FF\"\n",
        "                    u\"\\U00002702-\\U000027B0\"\n",
        "                    u\"\\U000024C2-\\U0001F251\"\n",
        "                    \"]+\", flags=re.UNICODE)\n",
        "\n",
        "train_df['tweetText'] = train_df['tweetText'].apply(lambda text: emojis.sub(r'', text) if emojis.search(text) else text)"
      ],
      "metadata": {
        "id": "Mwq9_ydMVArV"
      },
      "execution_count": 11,
      "outputs": []
    },
    {
      "cell_type": "code",
      "source": [
        "#Cleaning symbols - ampersand and newline\n",
        "train_df['tweetText'] = train_df['tweetText'].apply(lambda text: re.sub(r'&amp;|\\\\n', '', text))"
      ],
      "metadata": {
        "id": "D99Pcx-HVIrI"
      },
      "execution_count": 12,
      "outputs": []
    },
    {
      "cell_type": "code",
      "source": [
        "#Removing urls\n",
        "train_df['tweetText'] = train_df['tweetText'].apply(lambda text: re.sub(r'http\\S+', '', text))\n",
        "train_df['tweetText'] = train_df['tweetText'].apply(lambda text: re.sub(r'\\\\\\/\\S+', '', text))"
      ],
      "metadata": {
        "id": "TUxuAEv7VNPQ"
      },
      "execution_count": 13,
      "outputs": []
    },
    {
      "cell_type": "code",
      "source": [
        "#Removing whitespace\n",
        "train_df['tweetText'] = train_df['tweetText'].apply(lambda text: \" \".join(text.split()))"
      ],
      "metadata": {
        "id": "R0cl0ioaVS1L"
      },
      "execution_count": 14,
      "outputs": []
    },
    {
      "cell_type": "code",
      "source": [
        "#Initialise stopwords\n",
        "\n",
        "stopwords = nltk.corpus.stopwords.words()\n",
        "stopwords.extend([':', ';', '[', ']', '\"', \"'\", '(', ')', '.', '?', '#', '@', '...'])"
      ],
      "metadata": {
        "id": "u6TBVPOWVZzy"
      },
      "execution_count": 19,
      "outputs": []
    },
    {
      "cell_type": "code",
      "source": [
        "#Removing stopwords\n",
        "train_df['filteredTweet'] = train_df['tweetText'].apply(lambda x: ' '.join([w for w in x.split() if w not in stopwords]))"
      ],
      "metadata": {
        "id": "M7R7bHeUVkIT"
      },
      "execution_count": 20,
      "outputs": []
    },
    {
      "cell_type": "code",
      "source": [
        "train_df['label'].unique()"
      ],
      "metadata": {
        "colab": {
          "base_uri": "https://localhost:8080/"
        },
        "id": "6ookQSeCV19S",
        "outputId": "1e3423f2-a655-41c5-ee19-1c9897d10132"
      },
      "execution_count": 15,
      "outputs": [
        {
          "output_type": "execute_result",
          "data": {
            "text/plain": [
              "array(['fake', 'real'], dtype=object)"
            ]
          },
          "metadata": {},
          "execution_count": 15
        }
      ]
    },
    {
      "cell_type": "code",
      "source": [
        "train_df['label'] = train_df['label'].apply(lambda x: 0 if x=='fake' else 1)"
      ],
      "metadata": {
        "id": "1Z0j6BncWDh6"
      },
      "execution_count": 16,
      "outputs": []
    },
    {
      "cell_type": "code",
      "source": [
        "train_df['label'].unique()"
      ],
      "metadata": {
        "colab": {
          "base_uri": "https://localhost:8080/"
        },
        "id": "607L4McRXGBZ",
        "outputId": "a86d1a93-bfe2-4b3c-9aeb-a6b88bdab2d6"
      },
      "execution_count": 17,
      "outputs": [
        {
          "output_type": "execute_result",
          "data": {
            "text/plain": [
              "array([0, 1])"
            ]
          },
          "metadata": {},
          "execution_count": 17
        }
      ]
    },
    {
      "cell_type": "code",
      "source": [
        "final_train_df = train_df[['tweetText', 'label']]\n",
        "final_train_df.head()"
      ],
      "metadata": {
        "colab": {
          "base_uri": "https://localhost:8080/",
          "height": 206
        },
        "id": "RA4hDiQuXJMm",
        "outputId": "08e62852-1b14-4e59-a60c-5de09fb721af"
      },
      "execution_count": 18,
      "outputs": [
        {
          "output_type": "execute_result",
          "data": {
            "text/plain": [
              "                                           tweetText  label\n",
              "0  ¿Se acuerdan de la película: “El día después d...      0\n",
              "1  : Miren a Sandy en NY! Tremenda imagen del hur...      0\n",
              "2  Buena la foto del Huracán Sandy, me recuerda a...      0\n",
              "3                          Scary shit #hurricane #NY      0\n",
              "4  My fave place in the world #nyc #hurricane #sa...      0"
            ],
            "text/html": [
              "\n",
              "  <div id=\"df-e64223d2-e725-4a06-b850-85a3cd6dcfde\">\n",
              "    <div class=\"colab-df-container\">\n",
              "      <div>\n",
              "<style scoped>\n",
              "    .dataframe tbody tr th:only-of-type {\n",
              "        vertical-align: middle;\n",
              "    }\n",
              "\n",
              "    .dataframe tbody tr th {\n",
              "        vertical-align: top;\n",
              "    }\n",
              "\n",
              "    .dataframe thead th {\n",
              "        text-align: right;\n",
              "    }\n",
              "</style>\n",
              "<table border=\"1\" class=\"dataframe\">\n",
              "  <thead>\n",
              "    <tr style=\"text-align: right;\">\n",
              "      <th></th>\n",
              "      <th>tweetText</th>\n",
              "      <th>label</th>\n",
              "    </tr>\n",
              "  </thead>\n",
              "  <tbody>\n",
              "    <tr>\n",
              "      <th>0</th>\n",
              "      <td>¿Se acuerdan de la película: “El día después d...</td>\n",
              "      <td>0</td>\n",
              "    </tr>\n",
              "    <tr>\n",
              "      <th>1</th>\n",
              "      <td>: Miren a Sandy en NY! Tremenda imagen del hur...</td>\n",
              "      <td>0</td>\n",
              "    </tr>\n",
              "    <tr>\n",
              "      <th>2</th>\n",
              "      <td>Buena la foto del Huracán Sandy, me recuerda a...</td>\n",
              "      <td>0</td>\n",
              "    </tr>\n",
              "    <tr>\n",
              "      <th>3</th>\n",
              "      <td>Scary shit #hurricane #NY</td>\n",
              "      <td>0</td>\n",
              "    </tr>\n",
              "    <tr>\n",
              "      <th>4</th>\n",
              "      <td>My fave place in the world #nyc #hurricane #sa...</td>\n",
              "      <td>0</td>\n",
              "    </tr>\n",
              "  </tbody>\n",
              "</table>\n",
              "</div>\n",
              "      <button class=\"colab-df-convert\" onclick=\"convertToInteractive('df-e64223d2-e725-4a06-b850-85a3cd6dcfde')\"\n",
              "              title=\"Convert this dataframe to an interactive table.\"\n",
              "              style=\"display:none;\">\n",
              "        \n",
              "  <svg xmlns=\"http://www.w3.org/2000/svg\" height=\"24px\"viewBox=\"0 0 24 24\"\n",
              "       width=\"24px\">\n",
              "    <path d=\"M0 0h24v24H0V0z\" fill=\"none\"/>\n",
              "    <path d=\"M18.56 5.44l.94 2.06.94-2.06 2.06-.94-2.06-.94-.94-2.06-.94 2.06-2.06.94zm-11 1L8.5 8.5l.94-2.06 2.06-.94-2.06-.94L8.5 2.5l-.94 2.06-2.06.94zm10 10l.94 2.06.94-2.06 2.06-.94-2.06-.94-.94-2.06-.94 2.06-2.06.94z\"/><path d=\"M17.41 7.96l-1.37-1.37c-.4-.4-.92-.59-1.43-.59-.52 0-1.04.2-1.43.59L10.3 9.45l-7.72 7.72c-.78.78-.78 2.05 0 2.83L4 21.41c.39.39.9.59 1.41.59.51 0 1.02-.2 1.41-.59l7.78-7.78 2.81-2.81c.8-.78.8-2.07 0-2.86zM5.41 20L4 18.59l7.72-7.72 1.47 1.35L5.41 20z\"/>\n",
              "  </svg>\n",
              "      </button>\n",
              "      \n",
              "  <style>\n",
              "    .colab-df-container {\n",
              "      display:flex;\n",
              "      flex-wrap:wrap;\n",
              "      gap: 12px;\n",
              "    }\n",
              "\n",
              "    .colab-df-convert {\n",
              "      background-color: #E8F0FE;\n",
              "      border: none;\n",
              "      border-radius: 50%;\n",
              "      cursor: pointer;\n",
              "      display: none;\n",
              "      fill: #1967D2;\n",
              "      height: 32px;\n",
              "      padding: 0 0 0 0;\n",
              "      width: 32px;\n",
              "    }\n",
              "\n",
              "    .colab-df-convert:hover {\n",
              "      background-color: #E2EBFA;\n",
              "      box-shadow: 0px 1px 2px rgba(60, 64, 67, 0.3), 0px 1px 3px 1px rgba(60, 64, 67, 0.15);\n",
              "      fill: #174EA6;\n",
              "    }\n",
              "\n",
              "    [theme=dark] .colab-df-convert {\n",
              "      background-color: #3B4455;\n",
              "      fill: #D2E3FC;\n",
              "    }\n",
              "\n",
              "    [theme=dark] .colab-df-convert:hover {\n",
              "      background-color: #434B5C;\n",
              "      box-shadow: 0px 1px 3px 1px rgba(0, 0, 0, 0.15);\n",
              "      filter: drop-shadow(0px 1px 2px rgba(0, 0, 0, 0.3));\n",
              "      fill: #FFFFFF;\n",
              "    }\n",
              "  </style>\n",
              "\n",
              "      <script>\n",
              "        const buttonEl =\n",
              "          document.querySelector('#df-e64223d2-e725-4a06-b850-85a3cd6dcfde button.colab-df-convert');\n",
              "        buttonEl.style.display =\n",
              "          google.colab.kernel.accessAllowed ? 'block' : 'none';\n",
              "\n",
              "        async function convertToInteractive(key) {\n",
              "          const element = document.querySelector('#df-e64223d2-e725-4a06-b850-85a3cd6dcfde');\n",
              "          const dataTable =\n",
              "            await google.colab.kernel.invokeFunction('convertToInteractive',\n",
              "                                                     [key], {});\n",
              "          if (!dataTable) return;\n",
              "\n",
              "          const docLinkHtml = 'Like what you see? Visit the ' +\n",
              "            '<a target=\"_blank\" href=https://colab.research.google.com/notebooks/data_table.ipynb>data table notebook</a>'\n",
              "            + ' to learn more about interactive tables.';\n",
              "          element.innerHTML = '';\n",
              "          dataTable['output_type'] = 'display_data';\n",
              "          await google.colab.output.renderOutput(dataTable, element);\n",
              "          const docLink = document.createElement('div');\n",
              "          docLink.innerHTML = docLinkHtml;\n",
              "          element.appendChild(docLink);\n",
              "        }\n",
              "      </script>\n",
              "    </div>\n",
              "  </div>\n",
              "  "
            ]
          },
          "metadata": {},
          "execution_count": 18
        }
      ]
    },
    {
      "cell_type": "code",
      "source": [
        "bert_preprocess = hub.KerasLayer(\"https://tfhub.dev/tensorflow/bert_en_uncased_preprocess/3\", name='preprocessing')\n",
        "bert_encoder = hub.KerasLayer(\"https://tfhub.dev/tensorflow/bert_en_uncased_L-12_H-768_A-12/4\", trainable=False, name='encoder')"
      ],
      "metadata": {
        "id": "U_6vW3k4aT5Y"
      },
      "execution_count": 19,
      "outputs": []
    },
    {
      "cell_type": "code",
      "source": [
        "text_input = tf.keras.layers.Input(shape=(), dtype=tf.string, name='text-layer')\n",
        "preprocessed_text = bert_preprocess(text_input)\n",
        "outputs = bert_encoder(preprocessed_text)\n",
        "d_layer = tf.keras.layers.Dropout(0.1, name=\"dropout-layer\")(outputs['pooled_output'])\n",
        "d_layer = tf.keras.layers.Dense(1, activation='sigmoid', name=\"output\")(d_layer)\n",
        "model = tf.keras.Model(inputs=[text_input], outputs = [d_layer])"
      ],
      "metadata": {
        "id": "HyjqE5UDc8qQ"
      },
      "execution_count": 20,
      "outputs": []
    },
    {
      "cell_type": "code",
      "source": [
        "model.summary()"
      ],
      "metadata": {
        "id": "X-f6iP7Suof-",
        "outputId": "d576bfb5-891f-4cd9-ca2e-56b3eeeb9133",
        "colab": {
          "base_uri": "https://localhost:8080/"
        }
      },
      "execution_count": 21,
      "outputs": [
        {
          "output_type": "stream",
          "name": "stdout",
          "text": [
            "Model: \"model\"\n",
            "__________________________________________________________________________________________________\n",
            " Layer (type)                   Output Shape         Param #     Connected to                     \n",
            "==================================================================================================\n",
            " text-layer (InputLayer)        [(None,)]            0           []                               \n",
            "                                                                                                  \n",
            " preprocessing (KerasLayer)     {'input_word_ids':   0           ['text-layer[0][0]']             \n",
            "                                (None, 128),                                                      \n",
            "                                 'input_type_ids':                                                \n",
            "                                (None, 128),                                                      \n",
            "                                 'input_mask': (Non                                               \n",
            "                                e, 128)}                                                          \n",
            "                                                                                                  \n",
            " encoder (KerasLayer)           {'pooled_output': (  109482241   ['preprocessing[0][0]',          \n",
            "                                None, 768),                       'preprocessing[0][1]',          \n",
            "                                 'encoder_outputs':               'preprocessing[0][2]']          \n",
            "                                 [(None, 128, 768),                                               \n",
            "                                 (None, 128, 768),                                                \n",
            "                                 (None, 128, 768),                                                \n",
            "                                 (None, 128, 768),                                                \n",
            "                                 (None, 128, 768),                                                \n",
            "                                 (None, 128, 768),                                                \n",
            "                                 (None, 128, 768),                                                \n",
            "                                 (None, 128, 768),                                                \n",
            "                                 (None, 128, 768),                                                \n",
            "                                 (None, 128, 768),                                                \n",
            "                                 (None, 128, 768),                                                \n",
            "                                 (None, 128, 768)],                                               \n",
            "                                 'sequence_output':                                               \n",
            "                                 (None, 128, 768),                                                \n",
            "                                 'default': (None,                                                \n",
            "                                768)}                                                             \n",
            "                                                                                                  \n",
            " dropout-layer (Dropout)        (None, 768)          0           ['encoder[0][13]']               \n",
            "                                                                                                  \n",
            " output (Dense)                 (None, 1)            769         ['dropout-layer[0][0]']          \n",
            "                                                                                                  \n",
            "==================================================================================================\n",
            "Total params: 109,483,010\n",
            "Trainable params: 769\n",
            "Non-trainable params: 109,482,241\n",
            "__________________________________________________________________________________________________\n"
          ]
        }
      ]
    },
    {
      "cell_type": "code",
      "source": [
        "m= [\n",
        "      tf.keras.metrics.BinaryAccuracy(name='accuracy'),\n",
        "      tf.keras.metrics.Precision(name='precision'),\n",
        "      tf.keras.metrics.Recall(name='recall')\n",
        "]"
      ],
      "metadata": {
        "id": "IlJ6n1LpdJFd"
      },
      "execution_count": 22,
      "outputs": []
    },
    {
      "cell_type": "code",
      "source": [
        "# Optimizer\n",
        "epochs = 10\n",
        "model.compile(optimizer='adam', loss='binary_crossentropy', metrics=m)"
      ],
      "metadata": {
        "id": "Wih7DEYQu7k9"
      },
      "execution_count": 23,
      "outputs": []
    },
    {
      "cell_type": "code",
      "source": [
        "X_train = final_train_df['tweetText']\n",
        "y_train = final_train_df['label']"
      ],
      "metadata": {
        "id": "qG3aPPVgdntM"
      },
      "execution_count": 24,
      "outputs": []
    },
    {
      "cell_type": "code",
      "source": [
        "model.fit(X_train, y_train, epochs=epochs, batch_size=32)"
      ],
      "metadata": {
        "colab": {
          "base_uri": "https://localhost:8080/"
        },
        "id": "3dFvROp9edmN",
        "outputId": "45a63f42-45ef-471b-e901-f2ab9e8f2cfc"
      },
      "execution_count": 25,
      "outputs": [
        {
          "output_type": "stream",
          "name": "stdout",
          "text": [
            "Epoch 1/10\n",
            "447/447 [==============================] - 161s 335ms/step - loss: 0.6403 - accuracy: 0.6443 - precision: 0.4233 - recall: 0.0880\n",
            "Epoch 2/10\n",
            "447/447 [==============================] - 151s 338ms/step - loss: 0.6215 - accuracy: 0.6634 - precision: 0.5361 - recall: 0.1735\n",
            "Epoch 3/10\n",
            "447/447 [==============================] - 151s 339ms/step - loss: 0.6047 - accuracy: 0.6779 - precision: 0.5931 - recall: 0.2091\n",
            "Epoch 4/10\n",
            "447/447 [==============================] - 151s 338ms/step - loss: 0.5954 - accuracy: 0.6919 - precision: 0.6244 - recall: 0.2662\n",
            "Epoch 5/10\n",
            "447/447 [==============================] - 151s 338ms/step - loss: 0.5903 - accuracy: 0.6957 - precision: 0.6326 - recall: 0.2796\n",
            "Epoch 6/10\n",
            "447/447 [==============================] - 151s 337ms/step - loss: 0.5840 - accuracy: 0.7052 - precision: 0.6552 - recall: 0.3054\n",
            "Epoch 7/10\n",
            "447/447 [==============================] - 151s 337ms/step - loss: 0.5828 - accuracy: 0.7049 - precision: 0.6468 - recall: 0.3170\n",
            "Epoch 8/10\n",
            "447/447 [==============================] - 151s 337ms/step - loss: 0.5757 - accuracy: 0.7097 - precision: 0.6522 - recall: 0.3379\n",
            "Epoch 9/10\n",
            "447/447 [==============================] - 151s 338ms/step - loss: 0.5767 - accuracy: 0.7090 - precision: 0.6457 - recall: 0.3455\n",
            "Epoch 10/10\n",
            "447/447 [==============================] - 151s 337ms/step - loss: 0.5697 - accuracy: 0.7167 - precision: 0.6652 - recall: 0.3589\n"
          ]
        },
        {
          "output_type": "execute_result",
          "data": {
            "text/plain": [
              "<keras.callbacks.History at 0x7fe120ee22e0>"
            ]
          },
          "metadata": {},
          "execution_count": 25
        }
      ]
    },
    {
      "cell_type": "code",
      "source": [],
      "metadata": {
        "id": "p7JPyFdkeeqJ"
      },
      "execution_count": null,
      "outputs": []
    }
  ]
}