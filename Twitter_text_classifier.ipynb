{
  "nbformat": 4,
  "nbformat_minor": 0,
  "metadata": {
    "colab": {
      "provenance": [],
      "include_colab_link": true
    },
    "kernelspec": {
      "name": "python3",
      "display_name": "Python 3"
    },
    "language_info": {
      "name": "python"
    },
    "accelerator": "GPU",
    "gpuClass": "standard"
  },
  "cells": [
    {
      "cell_type": "markdown",
      "metadata": {
        "id": "view-in-github",
        "colab_type": "text"
      },
      "source": [
        "<a href=\"https://colab.research.google.com/github/arnabbiswas66/multimodal-fake-news-classifier/blob/main/Twitter_text_classifier.ipynb\" target=\"_parent\"><img src=\"https://colab.research.google.com/assets/colab-badge.svg\" alt=\"Open In Colab\"/></a>"
      ]
    },
    {
      "cell_type": "code",
      "source": [
        "!pip install -q -U \"tensorflow-text==2.11.*\""
      ],
      "metadata": {
        "id": "_DjGVlKdb0bg"
      },
      "execution_count": 4,
      "outputs": []
    },
    {
      "cell_type": "code",
      "source": [
        "!pip install -q tf-models-official==2.11.0"
      ],
      "metadata": {
        "id": "kD3n7Zyjb2sf"
      },
      "execution_count": 5,
      "outputs": []
    },
    {
      "cell_type": "code",
      "execution_count": 6,
      "metadata": {
        "id": "f0sWSzpQO3Q2",
        "colab": {
          "base_uri": "https://localhost:8080/"
        },
        "outputId": "303bb99d-6081-4cd1-bd6c-8ab05771d58f"
      },
      "outputs": [
        {
          "output_type": "stream",
          "name": "stderr",
          "text": [
            "[nltk_data] Downloading package stopwords to /root/nltk_data...\n",
            "[nltk_data]   Package stopwords is already up-to-date!\n"
          ]
        }
      ],
      "source": [
        "\n",
        "import pandas as pd\n",
        "import tensorflow as tf\n",
        "from tensorflow import keras\n",
        "import os\n",
        "import re\n",
        "import matplotlib.pyplot as plt\n",
        "import nltk\n",
        "nltk.download('stopwords')\n",
        "import tensorflow_hub as hub\n",
        "import tensorflow_text as text\n",
        "from official.nlp import optimization  # to create AdamW optimizer\n",
        "tf.get_logger().setLevel('ERROR')"
      ]
    },
    {
      "cell_type": "code",
      "source": [
        "from google.colab import drive\n",
        "drive.mount('/content/drive')"
      ],
      "metadata": {
        "colab": {
          "base_uri": "https://localhost:8080/"
        },
        "id": "L5QJUb49QYss",
        "outputId": "13a65896-c630-4d98-e396-9026ee0a850a"
      },
      "execution_count": 7,
      "outputs": [
        {
          "output_type": "stream",
          "name": "stdout",
          "text": [
            "Mounted at /content/drive\n"
          ]
        }
      ]
    },
    {
      "cell_type": "code",
      "source": [
        "def get_df(file):\n",
        "    return pd.read_csv(file,sep = '\\t')"
      ],
      "metadata": {
        "id": "gBk2U1mSPRHb"
      },
      "execution_count": 8,
      "outputs": []
    },
    {
      "cell_type": "code",
      "source": [
        "train_df = get_df('/content/drive/MyDrive/multimodal-news/mediaeval2015/devset/tweets.txt')\n",
        "test_df = get_df('/content/drive/MyDrive/multimodal-news/mediaeval2015/testset/tweets.txt')"
      ],
      "metadata": {
        "id": "Yh9a2Kg0RhGG"
      },
      "execution_count": 9,
      "outputs": []
    },
    {
      "cell_type": "code",
      "source": [
        "train_df.info()"
      ],
      "metadata": {
        "colab": {
          "base_uri": "https://localhost:8080/"
        },
        "id": "6WEpz0I4SIci",
        "outputId": "6679a2ad-0c4f-4495-af8a-399ba6e90000"
      },
      "execution_count": 10,
      "outputs": [
        {
          "output_type": "stream",
          "name": "stdout",
          "text": [
            "<class 'pandas.core.frame.DataFrame'>\n",
            "RangeIndex: 14277 entries, 0 to 14276\n",
            "Data columns (total 7 columns):\n",
            " #   Column      Non-Null Count  Dtype \n",
            "---  ------      --------------  ----- \n",
            " 0   tweetId     14277 non-null  int64 \n",
            " 1   tweetText   14277 non-null  object\n",
            " 2   userId      14277 non-null  int64 \n",
            " 3   imageId(s)  14277 non-null  object\n",
            " 4   username    14277 non-null  object\n",
            " 5   timestamp   14277 non-null  object\n",
            " 6   label       14277 non-null  object\n",
            "dtypes: int64(2), object(5)\n",
            "memory usage: 780.9+ KB\n"
          ]
        }
      ]
    },
    {
      "cell_type": "code",
      "source": [
        "test_df.info()"
      ],
      "metadata": {
        "colab": {
          "base_uri": "https://localhost:8080/"
        },
        "id": "6T5dJ422SK05",
        "outputId": "8a33c19a-8997-4af5-800c-67594e4be5fc"
      },
      "execution_count": 11,
      "outputs": [
        {
          "output_type": "stream",
          "name": "stdout",
          "text": [
            "<class 'pandas.core.frame.DataFrame'>\n",
            "RangeIndex: 3755 entries, 0 to 3754\n",
            "Data columns (total 7 columns):\n",
            " #   Column      Non-Null Count  Dtype \n",
            "---  ------      --------------  ----- \n",
            " 0   tweetId     3755 non-null   int64 \n",
            " 1   tweetText   3755 non-null   object\n",
            " 2   userId      3755 non-null   int64 \n",
            " 3   imageId(s)  3755 non-null   object\n",
            " 4   username    3755 non-null   object\n",
            " 5   timestamp   3755 non-null   object\n",
            " 6   label       3755 non-null   object\n",
            "dtypes: int64(2), object(5)\n",
            "memory usage: 205.5+ KB\n"
          ]
        }
      ]
    },
    {
      "cell_type": "code",
      "source": [
        "#Changing 'humor' to 'fake'\n",
        "train_df.loc[(train_df.label == 'humor'),'label'] = 'fake'\n",
        "test_df.loc[(test_df.label == 'humor'),'label'] = 'fake'"
      ],
      "metadata": {
        "id": "N3nwp9RnSNGX"
      },
      "execution_count": 12,
      "outputs": []
    },
    {
      "cell_type": "code",
      "source": [
        "#Removing retweets, reposts, and modified tweets\n",
        "rtPattern1 = \"(RT|rt|MT|mt|RP|rp):? @\\w*:?\"\n",
        "rtPattern2 = \"(\\bRT\\b|\\brt\\b|\\bMT\\b|\\bmt\\b|\\bRP\\b|\\brp\\b)\"\n",
        "rtPattern3 = \"(@\\w*:)\"\n",
        "rtPattern4 = \"(#rt|#RT|#mt|#MT|#rp|#retweet|#Retweet|#modifiedtweet|#modifiedTweet|#ModifiedTweet|#repost|#Repost)\"\n",
        "rtPattern5 = \"(via @\\w*)\"\n",
        "\n",
        "retweets = train_df['tweetText'].str.contains(rtPattern1)\n",
        "train_df = train_df[~retweets]\n",
        "\n",
        "retweets = train_df['tweetText'].str.contains(rtPattern2)\n",
        "train_df = train_df[~retweets]\n",
        "\n",
        "retweets = train_df['tweetText'].str.contains(rtPattern3)\n",
        "train_df = train_df[~retweets]\n",
        "\n",
        "retweets = train_df['tweetText'].str.contains(rtPattern4)\n",
        "train_df = train_df[~retweets]\n",
        "\n",
        "retweets = train_df['tweetText'].str.contains(rtPattern5)\n",
        "train_df = train_df[~retweets]\n",
        "\n",
        "train_df.reset_index(drop=True, inplace=True)\n",
        "train_df.shape"
      ],
      "metadata": {
        "colab": {
          "base_uri": "https://localhost:8080/"
        },
        "id": "ImgT8K8aUL5u",
        "outputId": "fc716e55-1776-4a3f-e04d-4a72e103173c"
      },
      "execution_count": 13,
      "outputs": [
        {
          "output_type": "stream",
          "name": "stderr",
          "text": [
            "<ipython-input-13-fdd562f6ac27>:8: UserWarning: This pattern is interpreted as a regular expression, and has match groups. To actually get the groups, use str.extract.\n",
            "  retweets = train_df['tweetText'].str.contains(rtPattern1)\n",
            "<ipython-input-13-fdd562f6ac27>:11: UserWarning: This pattern is interpreted as a regular expression, and has match groups. To actually get the groups, use str.extract.\n",
            "  retweets = train_df['tweetText'].str.contains(rtPattern2)\n",
            "<ipython-input-13-fdd562f6ac27>:14: UserWarning: This pattern is interpreted as a regular expression, and has match groups. To actually get the groups, use str.extract.\n",
            "  retweets = train_df['tweetText'].str.contains(rtPattern3)\n",
            "<ipython-input-13-fdd562f6ac27>:17: UserWarning: This pattern is interpreted as a regular expression, and has match groups. To actually get the groups, use str.extract.\n",
            "  retweets = train_df['tweetText'].str.contains(rtPattern4)\n",
            "<ipython-input-13-fdd562f6ac27>:20: UserWarning: This pattern is interpreted as a regular expression, and has match groups. To actually get the groups, use str.extract.\n",
            "  retweets = train_df['tweetText'].str.contains(rtPattern5)\n"
          ]
        },
        {
          "output_type": "execute_result",
          "data": {
            "text/plain": [
              "(11550, 7)"
            ]
          },
          "metadata": {},
          "execution_count": 13
        }
      ]
    },
    {
      "cell_type": "code",
      "source": [
        "\n",
        "#Removing remaining twitter handles @username\n",
        "train_df['tweetText'] = train_df['tweetText'].apply(lambda text: re.sub(r'@\\w*', \"\", text))"
      ],
      "metadata": {
        "id": "_HBf7S5vUyt3"
      },
      "execution_count": 14,
      "outputs": []
    },
    {
      "cell_type": "code",
      "source": [
        "#Removing emojis\n",
        "emojis = re.compile(\"[\"\n",
        "                    u\"\\U0001F600-\\U0001F64F\"\n",
        "                    u\"\\U0001F300-\\U0001F5FF\"\n",
        "                    u\"\\U0001F680-\\U0001F6FF\"\n",
        "                    u\"\\U0001F1E0-\\U0001F1FF\"\n",
        "                    u\"\\U00002702-\\U000027B0\"\n",
        "                    u\"\\U000024C2-\\U0001F251\"\n",
        "                    \"]+\", flags=re.UNICODE)\n",
        "\n",
        "train_df['tweetText'] = train_df['tweetText'].apply(lambda text: emojis.sub(r'', text) if emojis.search(text) else text)"
      ],
      "metadata": {
        "id": "Mwq9_ydMVArV"
      },
      "execution_count": 15,
      "outputs": []
    },
    {
      "cell_type": "code",
      "source": [
        "#Cleaning symbols - ampersand and newline\n",
        "train_df['tweetText'] = train_df['tweetText'].apply(lambda text: re.sub(r'&amp;|\\\\n', '', text))"
      ],
      "metadata": {
        "id": "D99Pcx-HVIrI"
      },
      "execution_count": 16,
      "outputs": []
    },
    {
      "cell_type": "code",
      "source": [
        "#Removing urls\n",
        "train_df['tweetText'] = train_df['tweetText'].apply(lambda text: re.sub(r'http\\S+', '', text))\n",
        "train_df['tweetText'] = train_df['tweetText'].apply(lambda text: re.sub(r'\\\\\\/\\S+', '', text))"
      ],
      "metadata": {
        "id": "TUxuAEv7VNPQ"
      },
      "execution_count": 17,
      "outputs": []
    },
    {
      "cell_type": "code",
      "source": [
        "#Removing whitespace\n",
        "train_df['tweetText'] = train_df['tweetText'].apply(lambda text: \" \".join(text.split()))"
      ],
      "metadata": {
        "id": "R0cl0ioaVS1L"
      },
      "execution_count": 18,
      "outputs": []
    },
    {
      "cell_type": "code",
      "source": [
        "#Initialise stopwords\n",
        "\n",
        "stopwords = nltk.corpus.stopwords.words()\n",
        "stopwords.extend([':', ';', '[', ']', '\"', \"'\", '(', ')', '.', '?', '#', '@', '...'])"
      ],
      "metadata": {
        "id": "u6TBVPOWVZzy"
      },
      "execution_count": 19,
      "outputs": []
    },
    {
      "cell_type": "code",
      "source": [
        "#Removing stopwords\n",
        "train_df['filteredTweet'] = train_df['tweetText'].apply(lambda x: ' '.join([w for w in x.split() if w not in stopwords]))"
      ],
      "metadata": {
        "id": "M7R7bHeUVkIT"
      },
      "execution_count": 20,
      "outputs": []
    },
    {
      "cell_type": "code",
      "source": [
        "train_df['label'].unique()"
      ],
      "metadata": {
        "colab": {
          "base_uri": "https://localhost:8080/"
        },
        "id": "6ookQSeCV19S",
        "outputId": "a88cf26a-f4b5-4880-9ce8-885cdbfb4269"
      },
      "execution_count": 21,
      "outputs": [
        {
          "output_type": "execute_result",
          "data": {
            "text/plain": [
              "array(['fake', 'real'], dtype=object)"
            ]
          },
          "metadata": {},
          "execution_count": 21
        }
      ]
    },
    {
      "cell_type": "code",
      "source": [
        "train_df['label'] = train_df['label'].apply(lambda x: 0 if x=='fake' else 1)"
      ],
      "metadata": {
        "id": "1Z0j6BncWDh6"
      },
      "execution_count": 22,
      "outputs": []
    },
    {
      "cell_type": "code",
      "source": [
        "train_df['label'].unique()"
      ],
      "metadata": {
        "colab": {
          "base_uri": "https://localhost:8080/"
        },
        "id": "607L4McRXGBZ",
        "outputId": "7125de80-d521-47ed-a4b7-9f0769e3c79f"
      },
      "execution_count": 23,
      "outputs": [
        {
          "output_type": "execute_result",
          "data": {
            "text/plain": [
              "array([0, 1])"
            ]
          },
          "metadata": {},
          "execution_count": 23
        }
      ]
    },
    {
      "cell_type": "code",
      "source": [
        "final_train_df = train_df[['tweetText', 'label']]\n",
        "final_train_df.head()"
      ],
      "metadata": {
        "colab": {
          "base_uri": "https://localhost:8080/",
          "height": 206
        },
        "id": "RA4hDiQuXJMm",
        "outputId": "9ea7a98c-a591-4c2a-8ee1-bbd59c619b84"
      },
      "execution_count": 24,
      "outputs": [
        {
          "output_type": "execute_result",
          "data": {
            "text/plain": [
              "                                           tweetText  label\n",
              "0  ¿Se acuerdan de la película: “El día después d...      0\n",
              "1  Buena la foto del Huracán Sandy, me recuerda a...      0\n",
              "2                          Scary shit #hurricane #NY      0\n",
              "3  My fave place in the world #nyc #hurricane #sa...      0\n",
              "4         42nd #time #square #NYC #subway #hurricane      0"
            ],
            "text/html": [
              "\n",
              "  <div id=\"df-1e66e812-93f7-4829-9f5d-87b71676940e\">\n",
              "    <div class=\"colab-df-container\">\n",
              "      <div>\n",
              "<style scoped>\n",
              "    .dataframe tbody tr th:only-of-type {\n",
              "        vertical-align: middle;\n",
              "    }\n",
              "\n",
              "    .dataframe tbody tr th {\n",
              "        vertical-align: top;\n",
              "    }\n",
              "\n",
              "    .dataframe thead th {\n",
              "        text-align: right;\n",
              "    }\n",
              "</style>\n",
              "<table border=\"1\" class=\"dataframe\">\n",
              "  <thead>\n",
              "    <tr style=\"text-align: right;\">\n",
              "      <th></th>\n",
              "      <th>tweetText</th>\n",
              "      <th>label</th>\n",
              "    </tr>\n",
              "  </thead>\n",
              "  <tbody>\n",
              "    <tr>\n",
              "      <th>0</th>\n",
              "      <td>¿Se acuerdan de la película: “El día después d...</td>\n",
              "      <td>0</td>\n",
              "    </tr>\n",
              "    <tr>\n",
              "      <th>1</th>\n",
              "      <td>Buena la foto del Huracán Sandy, me recuerda a...</td>\n",
              "      <td>0</td>\n",
              "    </tr>\n",
              "    <tr>\n",
              "      <th>2</th>\n",
              "      <td>Scary shit #hurricane #NY</td>\n",
              "      <td>0</td>\n",
              "    </tr>\n",
              "    <tr>\n",
              "      <th>3</th>\n",
              "      <td>My fave place in the world #nyc #hurricane #sa...</td>\n",
              "      <td>0</td>\n",
              "    </tr>\n",
              "    <tr>\n",
              "      <th>4</th>\n",
              "      <td>42nd #time #square #NYC #subway #hurricane</td>\n",
              "      <td>0</td>\n",
              "    </tr>\n",
              "  </tbody>\n",
              "</table>\n",
              "</div>\n",
              "      <button class=\"colab-df-convert\" onclick=\"convertToInteractive('df-1e66e812-93f7-4829-9f5d-87b71676940e')\"\n",
              "              title=\"Convert this dataframe to an interactive table.\"\n",
              "              style=\"display:none;\">\n",
              "        \n",
              "  <svg xmlns=\"http://www.w3.org/2000/svg\" height=\"24px\"viewBox=\"0 0 24 24\"\n",
              "       width=\"24px\">\n",
              "    <path d=\"M0 0h24v24H0V0z\" fill=\"none\"/>\n",
              "    <path d=\"M18.56 5.44l.94 2.06.94-2.06 2.06-.94-2.06-.94-.94-2.06-.94 2.06-2.06.94zm-11 1L8.5 8.5l.94-2.06 2.06-.94-2.06-.94L8.5 2.5l-.94 2.06-2.06.94zm10 10l.94 2.06.94-2.06 2.06-.94-2.06-.94-.94-2.06-.94 2.06-2.06.94z\"/><path d=\"M17.41 7.96l-1.37-1.37c-.4-.4-.92-.59-1.43-.59-.52 0-1.04.2-1.43.59L10.3 9.45l-7.72 7.72c-.78.78-.78 2.05 0 2.83L4 21.41c.39.39.9.59 1.41.59.51 0 1.02-.2 1.41-.59l7.78-7.78 2.81-2.81c.8-.78.8-2.07 0-2.86zM5.41 20L4 18.59l7.72-7.72 1.47 1.35L5.41 20z\"/>\n",
              "  </svg>\n",
              "      </button>\n",
              "      \n",
              "  <style>\n",
              "    .colab-df-container {\n",
              "      display:flex;\n",
              "      flex-wrap:wrap;\n",
              "      gap: 12px;\n",
              "    }\n",
              "\n",
              "    .colab-df-convert {\n",
              "      background-color: #E8F0FE;\n",
              "      border: none;\n",
              "      border-radius: 50%;\n",
              "      cursor: pointer;\n",
              "      display: none;\n",
              "      fill: #1967D2;\n",
              "      height: 32px;\n",
              "      padding: 0 0 0 0;\n",
              "      width: 32px;\n",
              "    }\n",
              "\n",
              "    .colab-df-convert:hover {\n",
              "      background-color: #E2EBFA;\n",
              "      box-shadow: 0px 1px 2px rgba(60, 64, 67, 0.3), 0px 1px 3px 1px rgba(60, 64, 67, 0.15);\n",
              "      fill: #174EA6;\n",
              "    }\n",
              "\n",
              "    [theme=dark] .colab-df-convert {\n",
              "      background-color: #3B4455;\n",
              "      fill: #D2E3FC;\n",
              "    }\n",
              "\n",
              "    [theme=dark] .colab-df-convert:hover {\n",
              "      background-color: #434B5C;\n",
              "      box-shadow: 0px 1px 3px 1px rgba(0, 0, 0, 0.15);\n",
              "      filter: drop-shadow(0px 1px 2px rgba(0, 0, 0, 0.3));\n",
              "      fill: #FFFFFF;\n",
              "    }\n",
              "  </style>\n",
              "\n",
              "      <script>\n",
              "        const buttonEl =\n",
              "          document.querySelector('#df-1e66e812-93f7-4829-9f5d-87b71676940e button.colab-df-convert');\n",
              "        buttonEl.style.display =\n",
              "          google.colab.kernel.accessAllowed ? 'block' : 'none';\n",
              "\n",
              "        async function convertToInteractive(key) {\n",
              "          const element = document.querySelector('#df-1e66e812-93f7-4829-9f5d-87b71676940e');\n",
              "          const dataTable =\n",
              "            await google.colab.kernel.invokeFunction('convertToInteractive',\n",
              "                                                     [key], {});\n",
              "          if (!dataTable) return;\n",
              "\n",
              "          const docLinkHtml = 'Like what you see? Visit the ' +\n",
              "            '<a target=\"_blank\" href=https://colab.research.google.com/notebooks/data_table.ipynb>data table notebook</a>'\n",
              "            + ' to learn more about interactive tables.';\n",
              "          element.innerHTML = '';\n",
              "          dataTable['output_type'] = 'display_data';\n",
              "          await google.colab.output.renderOutput(dataTable, element);\n",
              "          const docLink = document.createElement('div');\n",
              "          docLink.innerHTML = docLinkHtml;\n",
              "          element.appendChild(docLink);\n",
              "        }\n",
              "      </script>\n",
              "    </div>\n",
              "  </div>\n",
              "  "
            ]
          },
          "metadata": {},
          "execution_count": 24
        }
      ]
    },
    {
      "cell_type": "code",
      "source": [],
      "metadata": {
        "id": "rjY7s_J_XX06"
      },
      "execution_count": 24,
      "outputs": []
    },
    {
      "cell_type": "code",
      "source": [
        "bert_preprocess = hub.KerasLayer(\"https://tfhub.dev/tensorflow/bert_en_uncased_preprocess/3\")\n",
        "bert_encoder = hub.KerasLayer(\"https://tfhub.dev/tensorflow/bert_en_uncased_L-12_H-768_A-12/4\")"
      ],
      "metadata": {
        "id": "U_6vW3k4aT5Y"
      },
      "execution_count": 25,
      "outputs": []
    },
    {
      "cell_type": "code",
      "source": [
        "text_input = tf.keras.layers.Input(shape=(), dtype=tf.string, name='text-layer')\n",
        "preprocessed_text = bert_preprocess(text_input)\n",
        "outputs = bert_encoder(preprocessed_text)\n",
        "d_layer = tf.keras.layers.Dropout(0.1, name=\"dropout-layer\")(outputs['pooled_output'])\n",
        "d_layer = tf.keras.layers.Dense(1, activation='sigmoid', name=\"output\")(d_layer)\n",
        "model = tf.keras.Model(inputs=[text_input], outputs = [d_layer])"
      ],
      "metadata": {
        "id": "HyjqE5UDc8qQ"
      },
      "execution_count": 26,
      "outputs": []
    },
    {
      "cell_type": "code",
      "source": [
        "m= [\n",
        "      tf.keras.metrics.BinaryAccuracy(name='accuracy'),\n",
        "      tf.keras.metrics.Precision(name='precision'),\n",
        "      tf.keras.metrics.Recall(name='recall')\n",
        "]\n",
        "model.compile(optimizer='adam', loss='binary_crossentropy', metrics=m)"
      ],
      "metadata": {
        "id": "IlJ6n1LpdJFd"
      },
      "execution_count": 27,
      "outputs": []
    },
    {
      "cell_type": "code",
      "source": [
        "X_train = final_train_df['tweetText']\n",
        "y_train = final_train_df['label']"
      ],
      "metadata": {
        "id": "qG3aPPVgdntM"
      },
      "execution_count": 28,
      "outputs": []
    },
    {
      "cell_type": "code",
      "source": [
        "model.fit(X_train, y_train, epochs=10)"
      ],
      "metadata": {
        "id": "3dFvROp9edmN",
        "outputId": "066debe7-3afe-477e-9a07-1ef5c7e19a50",
        "colab": {
          "base_uri": "https://localhost:8080/"
        }
      },
      "execution_count": 29,
      "outputs": [
        {
          "output_type": "stream",
          "name": "stdout",
          "text": [
            "Epoch 1/10\n",
            "361/361 [==============================] - 137s 341ms/step - loss: 0.6282 - accuracy: 0.6741 - precision: 0.3863 - recall: 0.0526\n",
            "Epoch 2/10\n",
            "361/361 [==============================] - 126s 349ms/step - loss: 0.6154 - accuracy: 0.6813 - precision: 0.4764 - recall: 0.0830\n",
            "Epoch 3/10\n",
            "361/361 [==============================] - 126s 349ms/step - loss: 0.6074 - accuracy: 0.6810 - precision: 0.4775 - recall: 0.0986\n",
            "Epoch 4/10\n",
            "361/361 [==============================] - 129s 356ms/step - loss: 0.5996 - accuracy: 0.6907 - precision: 0.5480 - recall: 0.1235\n",
            "Epoch 5/10\n",
            "361/361 [==============================] - 126s 349ms/step - loss: 0.5966 - accuracy: 0.6906 - precision: 0.5442 - recall: 0.1315\n",
            "Epoch 6/10\n",
            "361/361 [==============================] - 126s 350ms/step - loss: 0.5910 - accuracy: 0.6932 - precision: 0.5514 - recall: 0.1572\n",
            "Epoch 7/10\n",
            "361/361 [==============================] - 125s 345ms/step - loss: 0.5850 - accuracy: 0.6994 - precision: 0.5783 - recall: 0.1810\n",
            "Epoch 8/10\n",
            "361/361 [==============================] - 125s 347ms/step - loss: 0.5822 - accuracy: 0.7043 - precision: 0.6065 - recall: 0.1841\n",
            "Epoch 9/10\n",
            "361/361 [==============================] - 126s 350ms/step - loss: 0.5832 - accuracy: 0.7004 - precision: 0.5794 - recall: 0.1909\n",
            "Epoch 10/10\n",
            "361/361 [==============================] - 126s 349ms/step - loss: 0.5806 - accuracy: 0.7069 - precision: 0.6054 - recall: 0.2093\n"
          ]
        },
        {
          "output_type": "execute_result",
          "data": {
            "text/plain": [
              "<keras.callbacks.History at 0x7fbb41725c70>"
            ]
          },
          "metadata": {},
          "execution_count": 29
        }
      ]
    },
    {
      "cell_type": "code",
      "source": [],
      "metadata": {
        "id": "p7JPyFdkeeqJ"
      },
      "execution_count": null,
      "outputs": []
    }
  ]
}