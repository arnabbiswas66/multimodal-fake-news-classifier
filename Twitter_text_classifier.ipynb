{
  "nbformat": 4,
  "nbformat_minor": 0,
  "metadata": {
    "colab": {
      "provenance": [],
      "include_colab_link": true
    },
    "kernelspec": {
      "name": "python3",
      "display_name": "Python 3"
    },
    "language_info": {
      "name": "python"
    },
    "accelerator": "GPU",
    "gpuClass": "standard"
  },
  "cells": [
    {
      "cell_type": "markdown",
      "metadata": {
        "id": "view-in-github",
        "colab_type": "text"
      },
      "source": [
        "<a href=\"https://colab.research.google.com/github/arnabbiswas66/multimodal-fake-news-classifier/blob/main/Twitter_text_classifier.ipynb\" target=\"_parent\"><img src=\"https://colab.research.google.com/assets/colab-badge.svg\" alt=\"Open In Colab\"/></a>"
      ]
    },
    {
      "cell_type": "code",
      "source": [
        "!pip install -q -U \"tensorflow-text==2.11.*\""
      ],
      "metadata": {
        "id": "_DjGVlKdb0bg"
      },
      "execution_count": 1,
      "outputs": []
    },
    {
      "cell_type": "code",
      "source": [
        "!pip install -q tf-models-official==2.11.0"
      ],
      "metadata": {
        "id": "kD3n7Zyjb2sf"
      },
      "execution_count": 2,
      "outputs": []
    },
    {
      "cell_type": "code",
      "execution_count": 3,
      "metadata": {
        "id": "f0sWSzpQO3Q2",
        "colab": {
          "base_uri": "https://localhost:8080/"
        },
        "outputId": "f79c9133-f0d1-4513-85c5-335fbdaaf511"
      },
      "outputs": [
        {
          "output_type": "stream",
          "name": "stderr",
          "text": [
            "[nltk_data] Downloading package stopwords to /root/nltk_data...\n",
            "[nltk_data]   Package stopwords is already up-to-date!\n",
            "/usr/local/lib/python3.9/dist-packages/tensorflow_addons/utils/tfa_eol_msg.py:23: UserWarning: \n",
            "\n",
            "TensorFlow Addons (TFA) has ended development and introduction of new features.\n",
            "TFA has entered a minimal maintenance and release mode until a planned end of life in May 2024.\n",
            "Please modify downstream libraries to take dependencies from other repositories in our TensorFlow community (e.g. Keras, Keras-CV, and Keras-NLP). \n",
            "\n",
            "For more information see: https://github.com/tensorflow/addons/issues/2807 \n",
            "\n",
            "  warnings.warn(\n"
          ]
        }
      ],
      "source": [
        "\n",
        "import pandas as pd\n",
        "import tensorflow as tf\n",
        "from tensorflow import keras\n",
        "import os\n",
        "import re\n",
        "import matplotlib.pyplot as plt\n",
        "import tensorflow_hub as hub\n",
        "import tensorflow_text as text\n",
        "from official.nlp import optimization  # to create AdamW optimizer\n",
        "tf.get_logger().setLevel('ERROR')"
      ]
    },
    {
      "cell_type": "code",
      "source": [
        "from google.colab import drive\n",
        "drive.mount('/content/drive')"
      ],
      "metadata": {
        "colab": {
          "base_uri": "https://localhost:8080/"
        },
        "id": "L5QJUb49QYss",
        "outputId": "19cb00fb-5fb1-454b-acf6-7acbb27042a1"
      },
      "execution_count": 4,
      "outputs": [
        {
          "output_type": "stream",
          "name": "stdout",
          "text": [
            "Drive already mounted at /content/drive; to attempt to forcibly remount, call drive.mount(\"/content/drive\", force_remount=True).\n"
          ]
        }
      ]
    },
    {
      "cell_type": "code",
      "source": [
        "def get_df(file):\n",
        "    return pd.read_csv(file,sep = '\\t')"
      ],
      "metadata": {
        "id": "gBk2U1mSPRHb"
      },
      "execution_count": 26,
      "outputs": []
    },
    {
      "cell_type": "code",
      "source": [
        "train_df = get_df('/content/drive/MyDrive/multimodal-news/mediaeval2015/devset/tweets.txt')\n",
        "test_df = get_df('/content/drive/MyDrive/multimodal-news/mediaeval2015/testset/tweets.txt')"
      ],
      "metadata": {
        "id": "Yh9a2Kg0RhGG"
      },
      "execution_count": 27,
      "outputs": []
    },
    {
      "cell_type": "code",
      "source": [
        "train_df.info()"
      ],
      "metadata": {
        "colab": {
          "base_uri": "https://localhost:8080/"
        },
        "id": "6WEpz0I4SIci",
        "outputId": "51dc6feb-13ce-420c-a354-bb1221a71059"
      },
      "execution_count": 28,
      "outputs": [
        {
          "output_type": "stream",
          "name": "stdout",
          "text": [
            "<class 'pandas.core.frame.DataFrame'>\n",
            "RangeIndex: 14277 entries, 0 to 14276\n",
            "Data columns (total 7 columns):\n",
            " #   Column      Non-Null Count  Dtype \n",
            "---  ------      --------------  ----- \n",
            " 0   tweetId     14277 non-null  int64 \n",
            " 1   tweetText   14277 non-null  object\n",
            " 2   userId      14277 non-null  int64 \n",
            " 3   imageId(s)  14277 non-null  object\n",
            " 4   username    14277 non-null  object\n",
            " 5   timestamp   14277 non-null  object\n",
            " 6   label       14277 non-null  object\n",
            "dtypes: int64(2), object(5)\n",
            "memory usage: 780.9+ KB\n"
          ]
        }
      ]
    },
    {
      "cell_type": "code",
      "source": [
        "test_df.info()"
      ],
      "metadata": {
        "colab": {
          "base_uri": "https://localhost:8080/"
        },
        "id": "6T5dJ422SK05",
        "outputId": "cfe1229a-af27-4412-82e5-637a40af60a2"
      },
      "execution_count": 29,
      "outputs": [
        {
          "output_type": "stream",
          "name": "stdout",
          "text": [
            "<class 'pandas.core.frame.DataFrame'>\n",
            "RangeIndex: 3755 entries, 0 to 3754\n",
            "Data columns (total 7 columns):\n",
            " #   Column      Non-Null Count  Dtype \n",
            "---  ------      --------------  ----- \n",
            " 0   tweetId     3755 non-null   int64 \n",
            " 1   tweetText   3755 non-null   object\n",
            " 2   userId      3755 non-null   int64 \n",
            " 3   imageId(s)  3755 non-null   object\n",
            " 4   username    3755 non-null   object\n",
            " 5   timestamp   3755 non-null   object\n",
            " 6   label       3755 non-null   object\n",
            "dtypes: int64(2), object(5)\n",
            "memory usage: 205.5+ KB\n"
          ]
        }
      ]
    },
    {
      "cell_type": "code",
      "source": [
        "#Changing 'humor' to 'fake'\n",
        "train_df.loc[(train_df.label == 'humor'),'label'] = 'fake'\n",
        "test_df.loc[(test_df.label == 'humor'),'label'] = 'fake'"
      ],
      "metadata": {
        "id": "N3nwp9RnSNGX"
      },
      "execution_count": 30,
      "outputs": []
    },
    {
      "cell_type": "code",
      "source": [
        "emojis = re.compile(\"[\"\n",
        "                    u\"\\U0001F600-\\U0001F64F\"\n",
        "                    u\"\\U0001F300-\\U0001F5FF\"\n",
        "                    u\"\\U0001F680-\\U0001F6FF\"\n",
        "                    u\"\\U0001F1E0-\\U0001F1FF\"\n",
        "                    u\"\\U00002702-\\U000027B0\"\n",
        "                    u\"\\U000024C2-\\U0001F251\"\n",
        "                    \"]+\", flags=re.UNICODE)"
      ],
      "metadata": {
        "id": "8oGaxVXtAygK"
      },
      "execution_count": 31,
      "outputs": []
    },
    {
      "cell_type": "code",
      "source": [
        "def preprocess(df): \n",
        "  #Removing remaining twitter handles @username\n",
        "  df['tweetText'] = df['tweetText'].apply(lambda text: re.sub(r'@\\w*', \"\", text))\n",
        "  #Removing emojis\n",
        "  df['tweetText'] = df['tweetText'].apply(lambda text: emojis.sub(r'', text) if emojis.search(text) else text)\n",
        "  #Cleaning symbols - ampersand and newline\n",
        "  df['tweetText'] = df['tweetText'].apply(lambda text: re.sub(r'&amp;|\\\\n', '', text))  \n",
        "  #Removing urls\n",
        "  df['tweetText'] = df['tweetText'].apply(lambda text: re.sub(r'http\\S+', '', text))\n",
        "  df['tweetText'] = df['tweetText'].apply(lambda text: re.sub(r'\\\\\\/\\S+', '', text))\n",
        "  #Removing whitespace\n",
        "  df['tweetText'] = df['tweetText'].apply(lambda text: \" \".join(text.split()))\n",
        "  return df"
      ],
      "metadata": {
        "id": "3txUcpPyAFdo"
      },
      "execution_count": 32,
      "outputs": []
    },
    {
      "cell_type": "code",
      "source": [
        "train_df = preprocess(train_df)\n",
        "train_df.head()"
      ],
      "metadata": {
        "id": "u4-AhLqyBkyx",
        "outputId": "462b7b30-2fa3-4d85-f524-ac0947507e0b",
        "colab": {
          "base_uri": "https://localhost:8080/",
          "height": 206
        }
      },
      "execution_count": 33,
      "outputs": [
        {
          "output_type": "execute_result",
          "data": {
            "text/plain": [
              "              tweetId                                          tweetText  \\\n",
              "0  263046056240115712  ¿Se acuerdan de la película: “El día después d...   \n",
              "1  262995061304852481  : Miren a Sandy en NY! Tremenda imagen del hur...   \n",
              "2  262979898002534400  Buena la foto del Huracán Sandy, me recuerda a...   \n",
              "3  262996108400271360                          Scary shit #hurricane #NY   \n",
              "4  263018881839411200  My fave place in the world #nyc #hurricane #sa...   \n",
              "\n",
              "      userId      imageId(s)        username                       timestamp  \\\n",
              "0   21226711  sandyA_fake_46         iAnnieM  Mon Oct 29 22:34:01 +0000 2012   \n",
              "1  192378571  sandyA_fake_09  CarlosVerareal  Mon Oct 29 19:11:23 +0000 2012   \n",
              "2  132303095  sandyA_fake_09     LucasPalape  Mon Oct 29 18:11:08 +0000 2012   \n",
              "3  241995902  sandyA_fake_29     Haaaaarryyy  Mon Oct 29 19:15:33 +0000 2012   \n",
              "4  250315890  sandyA_fake_15  princess__natt  Mon Oct 29 20:46:02 +0000 2012   \n",
              "\n",
              "  label  \n",
              "0  fake  \n",
              "1  fake  \n",
              "2  fake  \n",
              "3  fake  \n",
              "4  fake  "
            ],
            "text/html": [
              "\n",
              "  <div id=\"df-ad53969c-8715-4803-8568-787bfe1f0bed\">\n",
              "    <div class=\"colab-df-container\">\n",
              "      <div>\n",
              "<style scoped>\n",
              "    .dataframe tbody tr th:only-of-type {\n",
              "        vertical-align: middle;\n",
              "    }\n",
              "\n",
              "    .dataframe tbody tr th {\n",
              "        vertical-align: top;\n",
              "    }\n",
              "\n",
              "    .dataframe thead th {\n",
              "        text-align: right;\n",
              "    }\n",
              "</style>\n",
              "<table border=\"1\" class=\"dataframe\">\n",
              "  <thead>\n",
              "    <tr style=\"text-align: right;\">\n",
              "      <th></th>\n",
              "      <th>tweetId</th>\n",
              "      <th>tweetText</th>\n",
              "      <th>userId</th>\n",
              "      <th>imageId(s)</th>\n",
              "      <th>username</th>\n",
              "      <th>timestamp</th>\n",
              "      <th>label</th>\n",
              "    </tr>\n",
              "  </thead>\n",
              "  <tbody>\n",
              "    <tr>\n",
              "      <th>0</th>\n",
              "      <td>263046056240115712</td>\n",
              "      <td>¿Se acuerdan de la película: “El día después d...</td>\n",
              "      <td>21226711</td>\n",
              "      <td>sandyA_fake_46</td>\n",
              "      <td>iAnnieM</td>\n",
              "      <td>Mon Oct 29 22:34:01 +0000 2012</td>\n",
              "      <td>fake</td>\n",
              "    </tr>\n",
              "    <tr>\n",
              "      <th>1</th>\n",
              "      <td>262995061304852481</td>\n",
              "      <td>: Miren a Sandy en NY! Tremenda imagen del hur...</td>\n",
              "      <td>192378571</td>\n",
              "      <td>sandyA_fake_09</td>\n",
              "      <td>CarlosVerareal</td>\n",
              "      <td>Mon Oct 29 19:11:23 +0000 2012</td>\n",
              "      <td>fake</td>\n",
              "    </tr>\n",
              "    <tr>\n",
              "      <th>2</th>\n",
              "      <td>262979898002534400</td>\n",
              "      <td>Buena la foto del Huracán Sandy, me recuerda a...</td>\n",
              "      <td>132303095</td>\n",
              "      <td>sandyA_fake_09</td>\n",
              "      <td>LucasPalape</td>\n",
              "      <td>Mon Oct 29 18:11:08 +0000 2012</td>\n",
              "      <td>fake</td>\n",
              "    </tr>\n",
              "    <tr>\n",
              "      <th>3</th>\n",
              "      <td>262996108400271360</td>\n",
              "      <td>Scary shit #hurricane #NY</td>\n",
              "      <td>241995902</td>\n",
              "      <td>sandyA_fake_29</td>\n",
              "      <td>Haaaaarryyy</td>\n",
              "      <td>Mon Oct 29 19:15:33 +0000 2012</td>\n",
              "      <td>fake</td>\n",
              "    </tr>\n",
              "    <tr>\n",
              "      <th>4</th>\n",
              "      <td>263018881839411200</td>\n",
              "      <td>My fave place in the world #nyc #hurricane #sa...</td>\n",
              "      <td>250315890</td>\n",
              "      <td>sandyA_fake_15</td>\n",
              "      <td>princess__natt</td>\n",
              "      <td>Mon Oct 29 20:46:02 +0000 2012</td>\n",
              "      <td>fake</td>\n",
              "    </tr>\n",
              "  </tbody>\n",
              "</table>\n",
              "</div>\n",
              "      <button class=\"colab-df-convert\" onclick=\"convertToInteractive('df-ad53969c-8715-4803-8568-787bfe1f0bed')\"\n",
              "              title=\"Convert this dataframe to an interactive table.\"\n",
              "              style=\"display:none;\">\n",
              "        \n",
              "  <svg xmlns=\"http://www.w3.org/2000/svg\" height=\"24px\"viewBox=\"0 0 24 24\"\n",
              "       width=\"24px\">\n",
              "    <path d=\"M0 0h24v24H0V0z\" fill=\"none\"/>\n",
              "    <path d=\"M18.56 5.44l.94 2.06.94-2.06 2.06-.94-2.06-.94-.94-2.06-.94 2.06-2.06.94zm-11 1L8.5 8.5l.94-2.06 2.06-.94-2.06-.94L8.5 2.5l-.94 2.06-2.06.94zm10 10l.94 2.06.94-2.06 2.06-.94-2.06-.94-.94-2.06-.94 2.06-2.06.94z\"/><path d=\"M17.41 7.96l-1.37-1.37c-.4-.4-.92-.59-1.43-.59-.52 0-1.04.2-1.43.59L10.3 9.45l-7.72 7.72c-.78.78-.78 2.05 0 2.83L4 21.41c.39.39.9.59 1.41.59.51 0 1.02-.2 1.41-.59l7.78-7.78 2.81-2.81c.8-.78.8-2.07 0-2.86zM5.41 20L4 18.59l7.72-7.72 1.47 1.35L5.41 20z\"/>\n",
              "  </svg>\n",
              "      </button>\n",
              "      \n",
              "  <style>\n",
              "    .colab-df-container {\n",
              "      display:flex;\n",
              "      flex-wrap:wrap;\n",
              "      gap: 12px;\n",
              "    }\n",
              "\n",
              "    .colab-df-convert {\n",
              "      background-color: #E8F0FE;\n",
              "      border: none;\n",
              "      border-radius: 50%;\n",
              "      cursor: pointer;\n",
              "      display: none;\n",
              "      fill: #1967D2;\n",
              "      height: 32px;\n",
              "      padding: 0 0 0 0;\n",
              "      width: 32px;\n",
              "    }\n",
              "\n",
              "    .colab-df-convert:hover {\n",
              "      background-color: #E2EBFA;\n",
              "      box-shadow: 0px 1px 2px rgba(60, 64, 67, 0.3), 0px 1px 3px 1px rgba(60, 64, 67, 0.15);\n",
              "      fill: #174EA6;\n",
              "    }\n",
              "\n",
              "    [theme=dark] .colab-df-convert {\n",
              "      background-color: #3B4455;\n",
              "      fill: #D2E3FC;\n",
              "    }\n",
              "\n",
              "    [theme=dark] .colab-df-convert:hover {\n",
              "      background-color: #434B5C;\n",
              "      box-shadow: 0px 1px 3px 1px rgba(0, 0, 0, 0.15);\n",
              "      filter: drop-shadow(0px 1px 2px rgba(0, 0, 0, 0.3));\n",
              "      fill: #FFFFFF;\n",
              "    }\n",
              "  </style>\n",
              "\n",
              "      <script>\n",
              "        const buttonEl =\n",
              "          document.querySelector('#df-ad53969c-8715-4803-8568-787bfe1f0bed button.colab-df-convert');\n",
              "        buttonEl.style.display =\n",
              "          google.colab.kernel.accessAllowed ? 'block' : 'none';\n",
              "\n",
              "        async function convertToInteractive(key) {\n",
              "          const element = document.querySelector('#df-ad53969c-8715-4803-8568-787bfe1f0bed');\n",
              "          const dataTable =\n",
              "            await google.colab.kernel.invokeFunction('convertToInteractive',\n",
              "                                                     [key], {});\n",
              "          if (!dataTable) return;\n",
              "\n",
              "          const docLinkHtml = 'Like what you see? Visit the ' +\n",
              "            '<a target=\"_blank\" href=https://colab.research.google.com/notebooks/data_table.ipynb>data table notebook</a>'\n",
              "            + ' to learn more about interactive tables.';\n",
              "          element.innerHTML = '';\n",
              "          dataTable['output_type'] = 'display_data';\n",
              "          await google.colab.output.renderOutput(dataTable, element);\n",
              "          const docLink = document.createElement('div');\n",
              "          docLink.innerHTML = docLinkHtml;\n",
              "          element.appendChild(docLink);\n",
              "        }\n",
              "      </script>\n",
              "    </div>\n",
              "  </div>\n",
              "  "
            ]
          },
          "metadata": {},
          "execution_count": 33
        }
      ]
    },
    {
      "cell_type": "code",
      "source": [
        "test_df = preprocess(test_df)\n",
        "test_df.head()"
      ],
      "metadata": {
        "id": "AKatpNPMBz4N",
        "outputId": "db50b629-8867-466a-e6e7-a150c4693773",
        "colab": {
          "base_uri": "https://localhost:8080/",
          "height": 206
        }
      },
      "execution_count": 34,
      "outputs": [
        {
          "output_type": "execute_result",
          "data": {
            "text/plain": [
              "              tweetId                                          tweetText  \\\n",
              "0  578854927457349632                  kereeen RT : Eclipse from ISS....   \n",
              "1  578874632670953472    Absolutely beautiful! RT : Eclipse from ISS....   \n",
              "2  578891261353984000         “: Eclipse from ISS.... 3.20 Wow! amazing!   \n",
              "3  578846612312748032                               Eclipse from ISS....   \n",
              "4  578975333841551360  : Éclipse vue de l'ISS... Autre chose... créat...   \n",
              "\n",
              "       userId   imageId(s)         username                       timestamp  \\\n",
              "0    70824972  eclipse_01            peay_s  Fri Mar 20 09:45:43 +0000 2015   \n",
              "1   344707006  eclipse_01   JaredUcanChange  Fri Mar 20 11:04:02 +0000 2015   \n",
              "2   224839607  eclipse_01          tpjp1231  Fri Mar 20 12:10:06 +0000 2015   \n",
              "3   134543073  eclipse_01          Shyman33  Fri Mar 20 09:12:41 +0000 2015   \n",
              "4  1150728872   eclipse_01       Epimethee_  Fri Mar 20 17:44:11 +0000 2015   \n",
              "\n",
              "  label  \n",
              "0  fake  \n",
              "1  fake  \n",
              "2  fake  \n",
              "3  fake  \n",
              "4  fake  "
            ],
            "text/html": [
              "\n",
              "  <div id=\"df-27e3b775-3306-428e-9d00-575f88a43f69\">\n",
              "    <div class=\"colab-df-container\">\n",
              "      <div>\n",
              "<style scoped>\n",
              "    .dataframe tbody tr th:only-of-type {\n",
              "        vertical-align: middle;\n",
              "    }\n",
              "\n",
              "    .dataframe tbody tr th {\n",
              "        vertical-align: top;\n",
              "    }\n",
              "\n",
              "    .dataframe thead th {\n",
              "        text-align: right;\n",
              "    }\n",
              "</style>\n",
              "<table border=\"1\" class=\"dataframe\">\n",
              "  <thead>\n",
              "    <tr style=\"text-align: right;\">\n",
              "      <th></th>\n",
              "      <th>tweetId</th>\n",
              "      <th>tweetText</th>\n",
              "      <th>userId</th>\n",
              "      <th>imageId(s)</th>\n",
              "      <th>username</th>\n",
              "      <th>timestamp</th>\n",
              "      <th>label</th>\n",
              "    </tr>\n",
              "  </thead>\n",
              "  <tbody>\n",
              "    <tr>\n",
              "      <th>0</th>\n",
              "      <td>578854927457349632</td>\n",
              "      <td>kereeen RT : Eclipse from ISS....</td>\n",
              "      <td>70824972</td>\n",
              "      <td>eclipse_01</td>\n",
              "      <td>peay_s</td>\n",
              "      <td>Fri Mar 20 09:45:43 +0000 2015</td>\n",
              "      <td>fake</td>\n",
              "    </tr>\n",
              "    <tr>\n",
              "      <th>1</th>\n",
              "      <td>578874632670953472</td>\n",
              "      <td>Absolutely beautiful! RT : Eclipse from ISS....</td>\n",
              "      <td>344707006</td>\n",
              "      <td>eclipse_01</td>\n",
              "      <td>JaredUcanChange</td>\n",
              "      <td>Fri Mar 20 11:04:02 +0000 2015</td>\n",
              "      <td>fake</td>\n",
              "    </tr>\n",
              "    <tr>\n",
              "      <th>2</th>\n",
              "      <td>578891261353984000</td>\n",
              "      <td>“: Eclipse from ISS.... 3.20 Wow! amazing!</td>\n",
              "      <td>224839607</td>\n",
              "      <td>eclipse_01</td>\n",
              "      <td>tpjp1231</td>\n",
              "      <td>Fri Mar 20 12:10:06 +0000 2015</td>\n",
              "      <td>fake</td>\n",
              "    </tr>\n",
              "    <tr>\n",
              "      <th>3</th>\n",
              "      <td>578846612312748032</td>\n",
              "      <td>Eclipse from ISS....</td>\n",
              "      <td>134543073</td>\n",
              "      <td>eclipse_01</td>\n",
              "      <td>Shyman33</td>\n",
              "      <td>Fri Mar 20 09:12:41 +0000 2015</td>\n",
              "      <td>fake</td>\n",
              "    </tr>\n",
              "    <tr>\n",
              "      <th>4</th>\n",
              "      <td>578975333841551360</td>\n",
              "      <td>: Éclipse vue de l'ISS... Autre chose... créat...</td>\n",
              "      <td>1150728872</td>\n",
              "      <td>eclipse_01</td>\n",
              "      <td>Epimethee_</td>\n",
              "      <td>Fri Mar 20 17:44:11 +0000 2015</td>\n",
              "      <td>fake</td>\n",
              "    </tr>\n",
              "  </tbody>\n",
              "</table>\n",
              "</div>\n",
              "      <button class=\"colab-df-convert\" onclick=\"convertToInteractive('df-27e3b775-3306-428e-9d00-575f88a43f69')\"\n",
              "              title=\"Convert this dataframe to an interactive table.\"\n",
              "              style=\"display:none;\">\n",
              "        \n",
              "  <svg xmlns=\"http://www.w3.org/2000/svg\" height=\"24px\"viewBox=\"0 0 24 24\"\n",
              "       width=\"24px\">\n",
              "    <path d=\"M0 0h24v24H0V0z\" fill=\"none\"/>\n",
              "    <path d=\"M18.56 5.44l.94 2.06.94-2.06 2.06-.94-2.06-.94-.94-2.06-.94 2.06-2.06.94zm-11 1L8.5 8.5l.94-2.06 2.06-.94-2.06-.94L8.5 2.5l-.94 2.06-2.06.94zm10 10l.94 2.06.94-2.06 2.06-.94-2.06-.94-.94-2.06-.94 2.06-2.06.94z\"/><path d=\"M17.41 7.96l-1.37-1.37c-.4-.4-.92-.59-1.43-.59-.52 0-1.04.2-1.43.59L10.3 9.45l-7.72 7.72c-.78.78-.78 2.05 0 2.83L4 21.41c.39.39.9.59 1.41.59.51 0 1.02-.2 1.41-.59l7.78-7.78 2.81-2.81c.8-.78.8-2.07 0-2.86zM5.41 20L4 18.59l7.72-7.72 1.47 1.35L5.41 20z\"/>\n",
              "  </svg>\n",
              "      </button>\n",
              "      \n",
              "  <style>\n",
              "    .colab-df-container {\n",
              "      display:flex;\n",
              "      flex-wrap:wrap;\n",
              "      gap: 12px;\n",
              "    }\n",
              "\n",
              "    .colab-df-convert {\n",
              "      background-color: #E8F0FE;\n",
              "      border: none;\n",
              "      border-radius: 50%;\n",
              "      cursor: pointer;\n",
              "      display: none;\n",
              "      fill: #1967D2;\n",
              "      height: 32px;\n",
              "      padding: 0 0 0 0;\n",
              "      width: 32px;\n",
              "    }\n",
              "\n",
              "    .colab-df-convert:hover {\n",
              "      background-color: #E2EBFA;\n",
              "      box-shadow: 0px 1px 2px rgba(60, 64, 67, 0.3), 0px 1px 3px 1px rgba(60, 64, 67, 0.15);\n",
              "      fill: #174EA6;\n",
              "    }\n",
              "\n",
              "    [theme=dark] .colab-df-convert {\n",
              "      background-color: #3B4455;\n",
              "      fill: #D2E3FC;\n",
              "    }\n",
              "\n",
              "    [theme=dark] .colab-df-convert:hover {\n",
              "      background-color: #434B5C;\n",
              "      box-shadow: 0px 1px 3px 1px rgba(0, 0, 0, 0.15);\n",
              "      filter: drop-shadow(0px 1px 2px rgba(0, 0, 0, 0.3));\n",
              "      fill: #FFFFFF;\n",
              "    }\n",
              "  </style>\n",
              "\n",
              "      <script>\n",
              "        const buttonEl =\n",
              "          document.querySelector('#df-27e3b775-3306-428e-9d00-575f88a43f69 button.colab-df-convert');\n",
              "        buttonEl.style.display =\n",
              "          google.colab.kernel.accessAllowed ? 'block' : 'none';\n",
              "\n",
              "        async function convertToInteractive(key) {\n",
              "          const element = document.querySelector('#df-27e3b775-3306-428e-9d00-575f88a43f69');\n",
              "          const dataTable =\n",
              "            await google.colab.kernel.invokeFunction('convertToInteractive',\n",
              "                                                     [key], {});\n",
              "          if (!dataTable) return;\n",
              "\n",
              "          const docLinkHtml = 'Like what you see? Visit the ' +\n",
              "            '<a target=\"_blank\" href=https://colab.research.google.com/notebooks/data_table.ipynb>data table notebook</a>'\n",
              "            + ' to learn more about interactive tables.';\n",
              "          element.innerHTML = '';\n",
              "          dataTable['output_type'] = 'display_data';\n",
              "          await google.colab.output.renderOutput(dataTable, element);\n",
              "          const docLink = document.createElement('div');\n",
              "          docLink.innerHTML = docLinkHtml;\n",
              "          element.appendChild(docLink);\n",
              "        }\n",
              "      </script>\n",
              "    </div>\n",
              "  </div>\n",
              "  "
            ]
          },
          "metadata": {},
          "execution_count": 34
        }
      ]
    },
    {
      "cell_type": "code",
      "source": [
        "train_df['label'] = train_df['label'].apply(lambda x: 0 if x=='fake' else 1)\n",
        "test_df['label'] = test_df['label'].apply(lambda x: 0 if x=='fake' else 1)"
      ],
      "metadata": {
        "id": "1Z0j6BncWDh6"
      },
      "execution_count": 35,
      "outputs": []
    },
    {
      "cell_type": "code",
      "source": [
        "final_train_df = train_df[['tweetText', 'label']]\n",
        "final_train_df.head()"
      ],
      "metadata": {
        "colab": {
          "base_uri": "https://localhost:8080/",
          "height": 206
        },
        "id": "RA4hDiQuXJMm",
        "outputId": "3324c282-f171-4cf4-b9ce-a9f5d6471c3e"
      },
      "execution_count": 36,
      "outputs": [
        {
          "output_type": "execute_result",
          "data": {
            "text/plain": [
              "                                           tweetText  label\n",
              "0  ¿Se acuerdan de la película: “El día después d...      0\n",
              "1  : Miren a Sandy en NY! Tremenda imagen del hur...      0\n",
              "2  Buena la foto del Huracán Sandy, me recuerda a...      0\n",
              "3                          Scary shit #hurricane #NY      0\n",
              "4  My fave place in the world #nyc #hurricane #sa...      0"
            ],
            "text/html": [
              "\n",
              "  <div id=\"df-bae45ec4-275c-44fe-a118-1882b7055bf7\">\n",
              "    <div class=\"colab-df-container\">\n",
              "      <div>\n",
              "<style scoped>\n",
              "    .dataframe tbody tr th:only-of-type {\n",
              "        vertical-align: middle;\n",
              "    }\n",
              "\n",
              "    .dataframe tbody tr th {\n",
              "        vertical-align: top;\n",
              "    }\n",
              "\n",
              "    .dataframe thead th {\n",
              "        text-align: right;\n",
              "    }\n",
              "</style>\n",
              "<table border=\"1\" class=\"dataframe\">\n",
              "  <thead>\n",
              "    <tr style=\"text-align: right;\">\n",
              "      <th></th>\n",
              "      <th>tweetText</th>\n",
              "      <th>label</th>\n",
              "    </tr>\n",
              "  </thead>\n",
              "  <tbody>\n",
              "    <tr>\n",
              "      <th>0</th>\n",
              "      <td>¿Se acuerdan de la película: “El día después d...</td>\n",
              "      <td>0</td>\n",
              "    </tr>\n",
              "    <tr>\n",
              "      <th>1</th>\n",
              "      <td>: Miren a Sandy en NY! Tremenda imagen del hur...</td>\n",
              "      <td>0</td>\n",
              "    </tr>\n",
              "    <tr>\n",
              "      <th>2</th>\n",
              "      <td>Buena la foto del Huracán Sandy, me recuerda a...</td>\n",
              "      <td>0</td>\n",
              "    </tr>\n",
              "    <tr>\n",
              "      <th>3</th>\n",
              "      <td>Scary shit #hurricane #NY</td>\n",
              "      <td>0</td>\n",
              "    </tr>\n",
              "    <tr>\n",
              "      <th>4</th>\n",
              "      <td>My fave place in the world #nyc #hurricane #sa...</td>\n",
              "      <td>0</td>\n",
              "    </tr>\n",
              "  </tbody>\n",
              "</table>\n",
              "</div>\n",
              "      <button class=\"colab-df-convert\" onclick=\"convertToInteractive('df-bae45ec4-275c-44fe-a118-1882b7055bf7')\"\n",
              "              title=\"Convert this dataframe to an interactive table.\"\n",
              "              style=\"display:none;\">\n",
              "        \n",
              "  <svg xmlns=\"http://www.w3.org/2000/svg\" height=\"24px\"viewBox=\"0 0 24 24\"\n",
              "       width=\"24px\">\n",
              "    <path d=\"M0 0h24v24H0V0z\" fill=\"none\"/>\n",
              "    <path d=\"M18.56 5.44l.94 2.06.94-2.06 2.06-.94-2.06-.94-.94-2.06-.94 2.06-2.06.94zm-11 1L8.5 8.5l.94-2.06 2.06-.94-2.06-.94L8.5 2.5l-.94 2.06-2.06.94zm10 10l.94 2.06.94-2.06 2.06-.94-2.06-.94-.94-2.06-.94 2.06-2.06.94z\"/><path d=\"M17.41 7.96l-1.37-1.37c-.4-.4-.92-.59-1.43-.59-.52 0-1.04.2-1.43.59L10.3 9.45l-7.72 7.72c-.78.78-.78 2.05 0 2.83L4 21.41c.39.39.9.59 1.41.59.51 0 1.02-.2 1.41-.59l7.78-7.78 2.81-2.81c.8-.78.8-2.07 0-2.86zM5.41 20L4 18.59l7.72-7.72 1.47 1.35L5.41 20z\"/>\n",
              "  </svg>\n",
              "      </button>\n",
              "      \n",
              "  <style>\n",
              "    .colab-df-container {\n",
              "      display:flex;\n",
              "      flex-wrap:wrap;\n",
              "      gap: 12px;\n",
              "    }\n",
              "\n",
              "    .colab-df-convert {\n",
              "      background-color: #E8F0FE;\n",
              "      border: none;\n",
              "      border-radius: 50%;\n",
              "      cursor: pointer;\n",
              "      display: none;\n",
              "      fill: #1967D2;\n",
              "      height: 32px;\n",
              "      padding: 0 0 0 0;\n",
              "      width: 32px;\n",
              "    }\n",
              "\n",
              "    .colab-df-convert:hover {\n",
              "      background-color: #E2EBFA;\n",
              "      box-shadow: 0px 1px 2px rgba(60, 64, 67, 0.3), 0px 1px 3px 1px rgba(60, 64, 67, 0.15);\n",
              "      fill: #174EA6;\n",
              "    }\n",
              "\n",
              "    [theme=dark] .colab-df-convert {\n",
              "      background-color: #3B4455;\n",
              "      fill: #D2E3FC;\n",
              "    }\n",
              "\n",
              "    [theme=dark] .colab-df-convert:hover {\n",
              "      background-color: #434B5C;\n",
              "      box-shadow: 0px 1px 3px 1px rgba(0, 0, 0, 0.15);\n",
              "      filter: drop-shadow(0px 1px 2px rgba(0, 0, 0, 0.3));\n",
              "      fill: #FFFFFF;\n",
              "    }\n",
              "  </style>\n",
              "\n",
              "      <script>\n",
              "        const buttonEl =\n",
              "          document.querySelector('#df-bae45ec4-275c-44fe-a118-1882b7055bf7 button.colab-df-convert');\n",
              "        buttonEl.style.display =\n",
              "          google.colab.kernel.accessAllowed ? 'block' : 'none';\n",
              "\n",
              "        async function convertToInteractive(key) {\n",
              "          const element = document.querySelector('#df-bae45ec4-275c-44fe-a118-1882b7055bf7');\n",
              "          const dataTable =\n",
              "            await google.colab.kernel.invokeFunction('convertToInteractive',\n",
              "                                                     [key], {});\n",
              "          if (!dataTable) return;\n",
              "\n",
              "          const docLinkHtml = 'Like what you see? Visit the ' +\n",
              "            '<a target=\"_blank\" href=https://colab.research.google.com/notebooks/data_table.ipynb>data table notebook</a>'\n",
              "            + ' to learn more about interactive tables.';\n",
              "          element.innerHTML = '';\n",
              "          dataTable['output_type'] = 'display_data';\n",
              "          await google.colab.output.renderOutput(dataTable, element);\n",
              "          const docLink = document.createElement('div');\n",
              "          docLink.innerHTML = docLinkHtml;\n",
              "          element.appendChild(docLink);\n",
              "        }\n",
              "      </script>\n",
              "    </div>\n",
              "  </div>\n",
              "  "
            ]
          },
          "metadata": {},
          "execution_count": 36
        }
      ]
    },
    {
      "cell_type": "code",
      "source": [
        "final_test_df = test_df[['tweetText', 'label']]\n",
        "final_test_df.head()"
      ],
      "metadata": {
        "id": "VQakL4_xCHu5",
        "outputId": "00d6dff2-ece7-47bd-cce7-1ebad9241186",
        "colab": {
          "base_uri": "https://localhost:8080/",
          "height": 206
        }
      },
      "execution_count": 37,
      "outputs": [
        {
          "output_type": "execute_result",
          "data": {
            "text/plain": [
              "                                           tweetText  label\n",
              "0                  kereeen RT : Eclipse from ISS....      0\n",
              "1    Absolutely beautiful! RT : Eclipse from ISS....      0\n",
              "2         “: Eclipse from ISS.... 3.20 Wow! amazing!      0\n",
              "3                               Eclipse from ISS....      0\n",
              "4  : Éclipse vue de l'ISS... Autre chose... créat...      0"
            ],
            "text/html": [
              "\n",
              "  <div id=\"df-f70bb844-15ce-425d-9135-bca08ce4af53\">\n",
              "    <div class=\"colab-df-container\">\n",
              "      <div>\n",
              "<style scoped>\n",
              "    .dataframe tbody tr th:only-of-type {\n",
              "        vertical-align: middle;\n",
              "    }\n",
              "\n",
              "    .dataframe tbody tr th {\n",
              "        vertical-align: top;\n",
              "    }\n",
              "\n",
              "    .dataframe thead th {\n",
              "        text-align: right;\n",
              "    }\n",
              "</style>\n",
              "<table border=\"1\" class=\"dataframe\">\n",
              "  <thead>\n",
              "    <tr style=\"text-align: right;\">\n",
              "      <th></th>\n",
              "      <th>tweetText</th>\n",
              "      <th>label</th>\n",
              "    </tr>\n",
              "  </thead>\n",
              "  <tbody>\n",
              "    <tr>\n",
              "      <th>0</th>\n",
              "      <td>kereeen RT : Eclipse from ISS....</td>\n",
              "      <td>0</td>\n",
              "    </tr>\n",
              "    <tr>\n",
              "      <th>1</th>\n",
              "      <td>Absolutely beautiful! RT : Eclipse from ISS....</td>\n",
              "      <td>0</td>\n",
              "    </tr>\n",
              "    <tr>\n",
              "      <th>2</th>\n",
              "      <td>“: Eclipse from ISS.... 3.20 Wow! amazing!</td>\n",
              "      <td>0</td>\n",
              "    </tr>\n",
              "    <tr>\n",
              "      <th>3</th>\n",
              "      <td>Eclipse from ISS....</td>\n",
              "      <td>0</td>\n",
              "    </tr>\n",
              "    <tr>\n",
              "      <th>4</th>\n",
              "      <td>: Éclipse vue de l'ISS... Autre chose... créat...</td>\n",
              "      <td>0</td>\n",
              "    </tr>\n",
              "  </tbody>\n",
              "</table>\n",
              "</div>\n",
              "      <button class=\"colab-df-convert\" onclick=\"convertToInteractive('df-f70bb844-15ce-425d-9135-bca08ce4af53')\"\n",
              "              title=\"Convert this dataframe to an interactive table.\"\n",
              "              style=\"display:none;\">\n",
              "        \n",
              "  <svg xmlns=\"http://www.w3.org/2000/svg\" height=\"24px\"viewBox=\"0 0 24 24\"\n",
              "       width=\"24px\">\n",
              "    <path d=\"M0 0h24v24H0V0z\" fill=\"none\"/>\n",
              "    <path d=\"M18.56 5.44l.94 2.06.94-2.06 2.06-.94-2.06-.94-.94-2.06-.94 2.06-2.06.94zm-11 1L8.5 8.5l.94-2.06 2.06-.94-2.06-.94L8.5 2.5l-.94 2.06-2.06.94zm10 10l.94 2.06.94-2.06 2.06-.94-2.06-.94-.94-2.06-.94 2.06-2.06.94z\"/><path d=\"M17.41 7.96l-1.37-1.37c-.4-.4-.92-.59-1.43-.59-.52 0-1.04.2-1.43.59L10.3 9.45l-7.72 7.72c-.78.78-.78 2.05 0 2.83L4 21.41c.39.39.9.59 1.41.59.51 0 1.02-.2 1.41-.59l7.78-7.78 2.81-2.81c.8-.78.8-2.07 0-2.86zM5.41 20L4 18.59l7.72-7.72 1.47 1.35L5.41 20z\"/>\n",
              "  </svg>\n",
              "      </button>\n",
              "      \n",
              "  <style>\n",
              "    .colab-df-container {\n",
              "      display:flex;\n",
              "      flex-wrap:wrap;\n",
              "      gap: 12px;\n",
              "    }\n",
              "\n",
              "    .colab-df-convert {\n",
              "      background-color: #E8F0FE;\n",
              "      border: none;\n",
              "      border-radius: 50%;\n",
              "      cursor: pointer;\n",
              "      display: none;\n",
              "      fill: #1967D2;\n",
              "      height: 32px;\n",
              "      padding: 0 0 0 0;\n",
              "      width: 32px;\n",
              "    }\n",
              "\n",
              "    .colab-df-convert:hover {\n",
              "      background-color: #E2EBFA;\n",
              "      box-shadow: 0px 1px 2px rgba(60, 64, 67, 0.3), 0px 1px 3px 1px rgba(60, 64, 67, 0.15);\n",
              "      fill: #174EA6;\n",
              "    }\n",
              "\n",
              "    [theme=dark] .colab-df-convert {\n",
              "      background-color: #3B4455;\n",
              "      fill: #D2E3FC;\n",
              "    }\n",
              "\n",
              "    [theme=dark] .colab-df-convert:hover {\n",
              "      background-color: #434B5C;\n",
              "      box-shadow: 0px 1px 3px 1px rgba(0, 0, 0, 0.15);\n",
              "      filter: drop-shadow(0px 1px 2px rgba(0, 0, 0, 0.3));\n",
              "      fill: #FFFFFF;\n",
              "    }\n",
              "  </style>\n",
              "\n",
              "      <script>\n",
              "        const buttonEl =\n",
              "          document.querySelector('#df-f70bb844-15ce-425d-9135-bca08ce4af53 button.colab-df-convert');\n",
              "        buttonEl.style.display =\n",
              "          google.colab.kernel.accessAllowed ? 'block' : 'none';\n",
              "\n",
              "        async function convertToInteractive(key) {\n",
              "          const element = document.querySelector('#df-f70bb844-15ce-425d-9135-bca08ce4af53');\n",
              "          const dataTable =\n",
              "            await google.colab.kernel.invokeFunction('convertToInteractive',\n",
              "                                                     [key], {});\n",
              "          if (!dataTable) return;\n",
              "\n",
              "          const docLinkHtml = 'Like what you see? Visit the ' +\n",
              "            '<a target=\"_blank\" href=https://colab.research.google.com/notebooks/data_table.ipynb>data table notebook</a>'\n",
              "            + ' to learn more about interactive tables.';\n",
              "          element.innerHTML = '';\n",
              "          dataTable['output_type'] = 'display_data';\n",
              "          await google.colab.output.renderOutput(dataTable, element);\n",
              "          const docLink = document.createElement('div');\n",
              "          docLink.innerHTML = docLinkHtml;\n",
              "          element.appendChild(docLink);\n",
              "        }\n",
              "      </script>\n",
              "    </div>\n",
              "  </div>\n",
              "  "
            ]
          },
          "metadata": {},
          "execution_count": 37
        }
      ]
    },
    {
      "cell_type": "code",
      "source": [
        "# BERT\n",
        "bert_preprocess = hub.KerasLayer(\"https://tfhub.dev/tensorflow/bert_en_uncased_preprocess/3\", name='preprocessing')\n",
        "bert_encoder = hub.KerasLayer(\"https://tfhub.dev/tensorflow/bert_en_uncased_L-12_H-768_A-12/4\", trainable=False, name='encoder')"
      ],
      "metadata": {
        "id": "U_6vW3k4aT5Y"
      },
      "execution_count": 38,
      "outputs": []
    },
    {
      "cell_type": "code",
      "source": [
        "# Electra\n",
        "bert_preprocess = hub.KerasLayer(\"https://tfhub.dev/tensorflow/bert_en_uncased_preprocess/3\", name='preprocessing')\n",
        "bert_encoder = hub.KerasLayer(\"https://tfhub.dev/google/electra_small/2\", trainable=False, name='encoder')"
      ],
      "metadata": {
        "id": "q5CJ7cefOVur"
      },
      "execution_count": 55,
      "outputs": []
    },
    {
      "cell_type": "code",
      "source": [
        "text_input = tf.keras.layers.Input(shape=(), dtype=tf.string, name='text-layer')\n",
        "preprocessed_text = bert_preprocess(text_input)\n",
        "outputs = bert_encoder(preprocessed_text)\n",
        "d_layer = tf.keras.layers.Dropout(0.1, name=\"dropout-layer\")(outputs['pooled_output'])\n",
        "d_layer = tf.keras.layers.Dense(1, activation='sigmoid', name=\"output\")(d_layer)\n",
        "model = tf.keras.Model(inputs=[text_input], outputs = [d_layer])"
      ],
      "metadata": {
        "id": "HyjqE5UDc8qQ"
      },
      "execution_count": 56,
      "outputs": []
    },
    {
      "cell_type": "code",
      "source": [
        "model.summary()"
      ],
      "metadata": {
        "colab": {
          "base_uri": "https://localhost:8080/"
        },
        "id": "X-f6iP7Suof-",
        "outputId": "462f2c26-85ae-4d60-9538-330555160fdd"
      },
      "execution_count": 57,
      "outputs": [
        {
          "output_type": "stream",
          "name": "stdout",
          "text": [
            "Model: \"model_2\"\n",
            "__________________________________________________________________________________________________\n",
            " Layer (type)                   Output Shape         Param #     Connected to                     \n",
            "==================================================================================================\n",
            " text-layer (InputLayer)        [(None,)]            0           []                               \n",
            "                                                                                                  \n",
            " preprocessing (KerasLayer)     {'input_mask': (Non  0           ['text-layer[0][0]']             \n",
            "                                e, 128),                                                          \n",
            "                                 'input_type_ids':                                                \n",
            "                                (None, 128),                                                      \n",
            "                                 'input_word_ids':                                                \n",
            "                                (None, 128)}                                                      \n",
            "                                                                                                  \n",
            " encoder (KerasLayer)           {'default': (None,   13548801    ['preprocessing[0][0]',          \n",
            "                                256),                             'preprocessing[0][1]',          \n",
            "                                 'encoder_outputs':               'preprocessing[0][2]']          \n",
            "                                 [(None, 128, 256),                                               \n",
            "                                 (None, 128, 256),                                                \n",
            "                                 (None, 128, 256),                                                \n",
            "                                 (None, 128, 256),                                                \n",
            "                                 (None, 128, 256),                                                \n",
            "                                 (None, 128, 256),                                                \n",
            "                                 (None, 128, 256),                                                \n",
            "                                 (None, 128, 256),                                                \n",
            "                                 (None, 128, 256),                                                \n",
            "                                 (None, 128, 256),                                                \n",
            "                                 (None, 128, 256),                                                \n",
            "                                 (None, 128, 256)],                                               \n",
            "                                 'sequence_output':                                               \n",
            "                                 (None, 128, 256),                                                \n",
            "                                 'pooled_output': (                                               \n",
            "                                None, 256)}                                                       \n",
            "                                                                                                  \n",
            " dropout-layer (Dropout)        (None, 256)          0           ['encoder[0][13]']               \n",
            "                                                                                                  \n",
            " output (Dense)                 (None, 1)            257         ['dropout-layer[0][0]']          \n",
            "                                                                                                  \n",
            "==================================================================================================\n",
            "Total params: 13,549,058\n",
            "Trainable params: 257\n",
            "Non-trainable params: 13,548,801\n",
            "__________________________________________________________________________________________________\n"
          ]
        }
      ]
    },
    {
      "cell_type": "code",
      "source": [
        "m= [\n",
        "      tf.keras.metrics.BinaryAccuracy(name='accuracy'),\n",
        "      tf.keras.metrics.Precision(name='precision'),\n",
        "      tf.keras.metrics.Recall(name='recall')\n",
        "]"
      ],
      "metadata": {
        "id": "IlJ6n1LpdJFd"
      },
      "execution_count": 58,
      "outputs": []
    },
    {
      "cell_type": "code",
      "source": [
        "# Optimizer\n",
        "epochs = 10\n",
        "model.compile(optimizer='adam', loss='binary_crossentropy', metrics=m)"
      ],
      "metadata": {
        "id": "Wih7DEYQu7k9"
      },
      "execution_count": 59,
      "outputs": []
    },
    {
      "cell_type": "code",
      "source": [
        "X_train = final_train_df['tweetText']\n",
        "y_train = final_train_df['label']\n",
        "X_test = final_test_df['tweetText']\n",
        "y_test = final_test_df['label']"
      ],
      "metadata": {
        "id": "qG3aPPVgdntM"
      },
      "execution_count": 60,
      "outputs": []
    },
    {
      "cell_type": "code",
      "source": [
        "model.fit(X_train, y_train, epochs=epochs, batch_size=64, validation_data=(X_test, y_test))"
      ],
      "metadata": {
        "colab": {
          "base_uri": "https://localhost:8080/"
        },
        "id": "3dFvROp9edmN",
        "outputId": "74fe3aad-7ce6-4ef7-831c-edb5867ed7c9"
      },
      "execution_count": 66,
      "outputs": [
        {
          "output_type": "stream",
          "name": "stdout",
          "text": [
            "Epoch 1/10\n",
            "224/224 [==============================] - 92s 408ms/step - loss: 0.5551 - accuracy: 0.7224 - precision: 0.6539 - recall: 0.4135 - val_loss: 0.6478 - val_accuracy: 0.6621 - val_precision: 0.4102 - val_recall: 0.1133\n",
            "Epoch 2/10\n",
            "224/224 [==============================] - 89s 396ms/step - loss: 0.5570 - accuracy: 0.7226 - precision: 0.6550 - recall: 0.4127 - val_loss: 0.6407 - val_accuracy: 0.6652 - val_precision: 0.4008 - val_recall: 0.0802\n",
            "Epoch 3/10\n",
            "224/224 [==============================] - 89s 396ms/step - loss: 0.5568 - accuracy: 0.7230 - precision: 0.6579 - recall: 0.4089 - val_loss: 0.6388 - val_accuracy: 0.6666 - val_precision: 0.4000 - val_recall: 0.0711\n",
            "Epoch 4/10\n",
            "224/224 [==============================] - 88s 395ms/step - loss: 0.5566 - accuracy: 0.7268 - precision: 0.6640 - recall: 0.4196 - val_loss: 0.6369 - val_accuracy: 0.6666 - val_precision: 0.4009 - val_recall: 0.0720\n",
            "Epoch 5/10\n",
            "224/224 [==============================] - 89s 396ms/step - loss: 0.5577 - accuracy: 0.7224 - precision: 0.6552 - recall: 0.4105 - val_loss: 0.6456 - val_accuracy: 0.6642 - val_precision: 0.4008 - val_recall: 0.0868\n",
            "Epoch 6/10\n",
            "224/224 [==============================] - 89s 397ms/step - loss: 0.5572 - accuracy: 0.7248 - precision: 0.6622 - recall: 0.4115 - val_loss: 0.6394 - val_accuracy: 0.6610 - val_precision: 0.4140 - val_recall: 0.1274\n",
            "Epoch 7/10\n",
            "224/224 [==============================] - 89s 397ms/step - loss: 0.5580 - accuracy: 0.7231 - precision: 0.6514 - recall: 0.4227 - val_loss: 0.6381 - val_accuracy: 0.6578 - val_precision: 0.4100 - val_recall: 0.1431\n",
            "Epoch 8/10\n",
            "224/224 [==============================] - 88s 394ms/step - loss: 0.5561 - accuracy: 0.7228 - precision: 0.6519 - recall: 0.4198 - val_loss: 0.6369 - val_accuracy: 0.6626 - val_precision: 0.4194 - val_recall: 0.1249\n",
            "Epoch 9/10\n",
            "224/224 [==============================] - 88s 394ms/step - loss: 0.5582 - accuracy: 0.7244 - precision: 0.6567 - recall: 0.4198 - val_loss: 0.6359 - val_accuracy: 0.6668 - val_precision: 0.4160 - val_recall: 0.0860\n",
            "Epoch 10/10\n",
            "224/224 [==============================] - 85s 379ms/step - loss: 0.5548 - accuracy: 0.7276 - precision: 0.6638 - recall: 0.4249 - val_loss: 0.6401 - val_accuracy: 0.6618 - val_precision: 0.4150 - val_recall: 0.1232\n"
          ]
        },
        {
          "output_type": "execute_result",
          "data": {
            "text/plain": [
              "<keras.callbacks.History at 0x7fe028b62e80>"
            ]
          },
          "metadata": {},
          "execution_count": 66
        }
      ]
    },
    {
      "cell_type": "code",
      "source": [
        "y_pred = model.predict(X_test)\n",
        "y_pred = [1 if i>=0.5 else 0 for i in y_pred]"
      ],
      "metadata": {
        "colab": {
          "base_uri": "https://localhost:8080/"
        },
        "id": "p7JPyFdkeeqJ",
        "outputId": "cec6cd35-ba99-4cd3-8bc7-f0625f693876"
      },
      "execution_count": 67,
      "outputs": [
        {
          "output_type": "stream",
          "name": "stdout",
          "text": [
            "118/118 [==============================] - 14s 121ms/step\n"
          ]
        }
      ]
    },
    {
      "cell_type": "code",
      "source": [
        "from sklearn.metrics import accuracy_score,f1_score,precision_score,recall_score"
      ],
      "metadata": {
        "id": "G91gttN2D8Ch"
      },
      "execution_count": 68,
      "outputs": []
    },
    {
      "cell_type": "code",
      "source": [
        "print(f'Accuracy == {accuracy_score(y_test,y_pred)}')\n",
        "print(f'F1 == {f1_score(y_test,y_pred,average=None)}')\n",
        "print(f'Precision == {precision_score(y_test,y_pred,average=None)}')\n",
        "print(f'Recall == {recall_score(y_test,y_pred,average=None)}')"
      ],
      "metadata": {
        "id": "ivGItw3ID86p",
        "outputId": "cf25926d-cdab-4818-e1ab-e4ab01473f12",
        "colab": {
          "base_uri": "https://localhost:8080/"
        }
      },
      "execution_count": 69,
      "outputs": [
        {
          "output_type": "stream",
          "name": "stdout",
          "text": [
            "Accuracy == 0.6617842876165113\n",
            "F1 == [0.78626725 0.19005102]\n",
            "Precision == [0.68786808 0.41504178]\n",
            "Recall == [0.91751767 0.12324235]\n"
          ]
        }
      ]
    },
    {
      "cell_type": "code",
      "source": [],
      "metadata": {
        "id": "MGInF0sLQsm9"
      },
      "execution_count": null,
      "outputs": []
    }
  ]
}