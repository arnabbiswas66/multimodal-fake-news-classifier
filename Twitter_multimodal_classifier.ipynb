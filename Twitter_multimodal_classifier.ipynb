{
  "nbformat": 4,
  "nbformat_minor": 0,
  "metadata": {
    "colab": {
      "provenance": [],
      "collapsed_sections": [
        "N6vwEK5Qo-Lc"
      ],
      "machine_shape": "hm",
      "include_colab_link": true
    },
    "kernelspec": {
      "name": "python3",
      "display_name": "Python 3"
    },
    "language_info": {
      "name": "python"
    },
    "accelerator": "GPU",
    "gpuClass": "standard"
  },
  "cells": [
    {
      "cell_type": "markdown",
      "metadata": {
        "id": "view-in-github",
        "colab_type": "text"
      },
      "source": [
        "<a href=\"https://colab.research.google.com/github/arnabbiswas66/multimodal-fake-news-classifier/blob/main/Twitter_multimodal_classifier.ipynb\" target=\"_parent\"><img src=\"https://colab.research.google.com/assets/colab-badge.svg\" alt=\"Open In Colab\"/></a>"
      ]
    },
    {
      "cell_type": "code",
      "execution_count": 1,
      "metadata": {
        "id": "AECm9YZxm322",
        "colab": {
          "base_uri": "https://localhost:8080/"
        },
        "outputId": "188d364d-b552-46e6-9864-ff7bd402f484"
      },
      "outputs": [
        {
          "output_type": "stream",
          "name": "stdout",
          "text": [
            "\u001b[?25l     \u001b[90m━━━━━━━━━━━━━━━━━━━━━━━━━━━━━━━━━━━━━━━━\u001b[0m \u001b[32m0.0/6.0 MB\u001b[0m \u001b[31m?\u001b[0m eta \u001b[36m-:--:--\u001b[0m\r\u001b[2K     \u001b[91m━━━━━━━━━━━━━\u001b[0m\u001b[91m╸\u001b[0m\u001b[90m━━━━━━━━━━━━━━━━━━━━━━━━━━\u001b[0m \u001b[32m2.1/6.0 MB\u001b[0m \u001b[31m80.0 MB/s\u001b[0m eta \u001b[36m0:00:01\u001b[0m\r\u001b[2K     \u001b[91m━━━━━━━━━━━━━━━━━━━━━━━━━━━━━━━━━━━━━━━\u001b[0m\u001b[91m╸\u001b[0m \u001b[32m6.0/6.0 MB\u001b[0m \u001b[31m94.4 MB/s\u001b[0m eta \u001b[36m0:00:01\u001b[0m\r\u001b[2K     \u001b[90m━━━━━━━━━━━━━━━━━━━━━━━━━━━━━━━━━━━━━━━━\u001b[0m \u001b[32m6.0/6.0 MB\u001b[0m \u001b[31m63.0 MB/s\u001b[0m eta \u001b[36m0:00:00\u001b[0m\n",
            "\u001b[?25h"
          ]
        }
      ],
      "source": [
        "#!pip install -q -U \"tensorflow-text==2.11.*\"\n",
        "!pip install -q tensorflow_text"
      ]
    },
    {
      "cell_type": "code",
      "source": [
        "#!pip install -q tf-models-official==2.11.0"
      ],
      "metadata": {
        "id": "Cv8LgyWknPDi"
      },
      "execution_count": 2,
      "outputs": []
    },
    {
      "cell_type": "code",
      "source": [
        "from tensorflow.python.platform.tf_logging import warn\n",
        "import pandas as pd\n",
        "import numpy as np\n",
        "import tensorflow as tf\n",
        "from tensorflow import keras\n",
        "import os\n",
        "import re\n",
        "from os import listdir\n",
        "import shutil\n",
        "import glob\n",
        "import random\n",
        "import matplotlib.pyplot as plt\n",
        "import tensorflow_hub as hub\n",
        "import tensorflow_text as text\n",
        "#from official.nlp import optimization  # to create AdamW optimizer\n",
        "tf.get_logger().setLevel('ERROR')\n",
        "import warnings\n",
        "\n",
        "warnings.filterwarnings('ignore')"
      ],
      "metadata": {
        "id": "S0_Dwt-ondpi"
      },
      "execution_count": 3,
      "outputs": []
    },
    {
      "cell_type": "code",
      "source": [
        "from google.colab import drive\n",
        "drive.mount('/content/drive')"
      ],
      "metadata": {
        "colab": {
          "base_uri": "https://localhost:8080/"
        },
        "id": "x20211H_nnLR",
        "outputId": "d8ea4b92-1a35-4b8d-afc8-8fbaebbec73a"
      },
      "execution_count": 4,
      "outputs": [
        {
          "output_type": "stream",
          "name": "stdout",
          "text": [
            "Mounted at /content/drive\n"
          ]
        }
      ]
    },
    {
      "cell_type": "code",
      "source": [
        "BASE_SAVE_LOCATION = \"/content/drive/MyDrive/multimodal-news\""
      ],
      "metadata": {
        "id": "BbHqdujoUn87"
      },
      "execution_count": 5,
      "outputs": []
    },
    {
      "cell_type": "code",
      "source": [
        "def get_df(file):\n",
        "    return pd.read_table(file,sep = '\\t', lineterminator='\\n')"
      ],
      "metadata": {
        "id": "PVJ1JazrntSa"
      },
      "execution_count": 4,
      "outputs": []
    },
    {
      "cell_type": "code",
      "source": [
        "train_df = get_df('/content/drive/MyDrive/multimodal-news/mediaeval2015/devset/tweets.txt')\n",
        "test_df = get_df('/content/drive/MyDrive/multimodal-news/mediaeval2015/testset/tweets.txt')"
      ],
      "metadata": {
        "id": "Gt5_PNHyn0RC"
      },
      "execution_count": 5,
      "outputs": []
    },
    {
      "cell_type": "code",
      "source": [
        "\n",
        "train_df.info()"
      ],
      "metadata": {
        "colab": {
          "base_uri": "https://localhost:8080/"
        },
        "id": "Sf52sZ7rn4JE",
        "outputId": "e9d009c1-5170-40b3-ec54-7cea84a14d31"
      },
      "execution_count": 6,
      "outputs": [
        {
          "output_type": "stream",
          "name": "stdout",
          "text": [
            "<class 'pandas.core.frame.DataFrame'>\n",
            "RangeIndex: 14277 entries, 0 to 14276\n",
            "Data columns (total 7 columns):\n",
            " #   Column      Non-Null Count  Dtype \n",
            "---  ------      --------------  ----- \n",
            " 0   tweetId     14277 non-null  int64 \n",
            " 1   tweetText   14277 non-null  object\n",
            " 2   userId      14277 non-null  int64 \n",
            " 3   imageId(s)  14277 non-null  object\n",
            " 4   username    14277 non-null  object\n",
            " 5   timestamp   14277 non-null  object\n",
            " 6   label       14277 non-null  object\n",
            "dtypes: int64(2), object(5)\n",
            "memory usage: 780.9+ KB\n"
          ]
        }
      ]
    },
    {
      "cell_type": "code",
      "source": [
        "test_df.info()"
      ],
      "metadata": {
        "colab": {
          "base_uri": "https://localhost:8080/"
        },
        "id": "uAKhsKmJn6l1",
        "outputId": "49a29473-6922-4d31-bcf0-80567120ed04"
      },
      "execution_count": 7,
      "outputs": [
        {
          "output_type": "stream",
          "name": "stdout",
          "text": [
            "<class 'pandas.core.frame.DataFrame'>\n",
            "RangeIndex: 3755 entries, 0 to 3754\n",
            "Data columns (total 7 columns):\n",
            " #   Column      Non-Null Count  Dtype \n",
            "---  ------      --------------  ----- \n",
            " 0   tweetId     3755 non-null   int64 \n",
            " 1   tweetText   3755 non-null   object\n",
            " 2   userId      3755 non-null   int64 \n",
            " 3   imageId(s)  3755 non-null   object\n",
            " 4   username    3755 non-null   object\n",
            " 5   timestamp   3755 non-null   object\n",
            " 6   label       3755 non-null   object\n",
            "dtypes: int64(2), object(5)\n",
            "memory usage: 205.5+ KB\n"
          ]
        }
      ]
    },
    {
      "cell_type": "markdown",
      "source": [
        "## Flatten the image folder structure for both devset and testset for ease of processing"
      ],
      "metadata": {
        "id": "N6vwEK5Qo-Lc"
      }
    },
    {
      "cell_type": "code",
      "source": [
        "def flatten(directory, targetDir):\n",
        "    if not os.path.exists(targetDir):\n",
        "        os.makedirs(targetDir)\n",
        "    for dirpath, _, filenames in os.walk(directory, topdown=False):\n",
        "        for filename in filenames:\n",
        "            i = 0\n",
        "            source = os.path.join(dirpath, filename)\n",
        "            target = os.path.join(targetDir, filename)\n",
        "\n",
        "            shutil.move(source, target)\n",
        "\n",
        "    print(\"Moved\", directory, \"to\", targetDir)"
      ],
      "metadata": {
        "id": "WQgUsQ2Go8g4"
      },
      "execution_count": null,
      "outputs": []
    },
    {
      "cell_type": "code",
      "source": [
        "# Devset\n",
        "SRC_DIR = '/content/drive/MyDrive/multimodal-news/mediaeval2015/devset/Medieval2015_DevSet_Images/'\n",
        "TARGET_DIR = '/content/drive/MyDrive/multimodal-news/mediaeval2015/devset/images/'\n",
        "\n",
        "flatten(SRC_DIR, TARGET_DIR)"
      ],
      "metadata": {
        "colab": {
          "base_uri": "https://localhost:8080/"
        },
        "id": "8KWreSFtpx-t",
        "outputId": "bee4bb44-d39f-4294-d492-23ffefdc0dcb"
      },
      "execution_count": null,
      "outputs": [
        {
          "output_type": "stream",
          "name": "stdout",
          "text": [
            "Moved /content/drive/MyDrive/multimodal-news/mediaeval2015/devset/Medieval2015_DevSet_Images/ to /content/drive/MyDrive/multimodal-news/mediaeval2015/devset/images/\n"
          ]
        }
      ]
    },
    {
      "cell_type": "code",
      "source": [
        "# Testset\n",
        "SRC_DIR = '/content/drive/MyDrive/multimodal-news/mediaeval2015/testset/TestSetImages/'\n",
        "TARGET_DIR = '/content/drive/MyDrive/multimodal-news/mediaeval2015/testset/images/'\n",
        "\n",
        "flatten(SRC_DIR, TARGET_DIR)"
      ],
      "metadata": {
        "colab": {
          "base_uri": "https://localhost:8080/"
        },
        "id": "JIRDwaboqVvv",
        "outputId": "995a54b6-c0b5-415f-81ff-c3e9e2c9b179"
      },
      "execution_count": null,
      "outputs": [
        {
          "output_type": "stream",
          "name": "stdout",
          "text": [
            "Moved /content/drive/MyDrive/multimodal-news/mediaeval2015/testset/TestSetImages/ to /content/drive/MyDrive/multimodal-news/mediaeval2015/testset/images/\n"
          ]
        }
      ]
    },
    {
      "cell_type": "markdown",
      "source": [
        "## Initial Preprocessing of data"
      ],
      "metadata": {
        "id": "wyAUg5GN3a6I"
      }
    },
    {
      "cell_type": "code",
      "source": [
        "# TODO consider both the images and not just the first one\n",
        "def return_first_image(row):\n",
        "    return row['imageId(s)'].split(',')[0].strip()"
      ],
      "metadata": {
        "id": "zgYfU33BRHgv"
      },
      "execution_count": 8,
      "outputs": []
    },
    {
      "cell_type": "code",
      "source": [
        "train_df['first_image_id'] = train_df.apply (lambda row: return_first_image(row),axis=1)\n",
        "test_df['first_image_id'] = test_df.apply (lambda row: return_first_image(row),axis=1)"
      ],
      "metadata": {
        "id": "B5F0_FGaRiZH"
      },
      "execution_count": 9,
      "outputs": []
    },
    {
      "cell_type": "code",
      "source": [
        "images_train_dataset = [i for i in train_df['first_image_id'].tolist()]\n",
        "images_train_folder = [i.split('.')[0].strip() for i in listdir('/content/drive/MyDrive/multimodal-news/mediaeval2015/devset/images/')]\n",
        "images_train_not_available = set(images_train_dataset)-set(images_train_folder)\n",
        "images_train_not_available"
      ],
      "metadata": {
        "colab": {
          "base_uri": "https://localhost:8080/"
        },
        "id": "sDmmzpEdR3Wb",
        "outputId": "f91a4430-37fc-4339-d426-a4228fcfd91e"
      },
      "execution_count": 10,
      "outputs": [
        {
          "output_type": "execute_result",
          "data": {
            "text/plain": [
              "{'boston_fake_35', 'sandyB_real_4', 'sandyB_real_6', 'sochi_fake_1fake'}"
            ]
          },
          "metadata": {},
          "execution_count": 10
        }
      ]
    },
    {
      "cell_type": "code",
      "source": [
        "images_test_dataset = [i.split(',')[0].strip() for i in test_df['first_image_id'].tolist()]\n",
        "images_test_folder = [i.split('.')[0].strip() for i in listdir('/content/drive/MyDrive/multimodal-news/mediaeval2015/testset/images/')]\n",
        "images_test_not_available = set(images_test_dataset)-set(images_test_folder)\n",
        "images_test_not_available"
      ],
      "metadata": {
        "colab": {
          "base_uri": "https://localhost:8080/"
        },
        "id": "96c8csKQSxrt",
        "outputId": "999fb0ef-2f5e-4887-f3e6-720512ae4e7c"
      },
      "execution_count": 11,
      "outputs": [
        {
          "output_type": "execute_result",
          "data": {
            "text/plain": [
              "{'eclipse_video_01', 'syrianboy_1', 'varoufakis_1'}"
            ]
          },
          "metadata": {},
          "execution_count": 11
        }
      ]
    },
    {
      "cell_type": "code",
      "source": [
        "print(train_df.shape, test_df.shape)"
      ],
      "metadata": {
        "colab": {
          "base_uri": "https://localhost:8080/"
        },
        "id": "TwQdoMmnTQuN",
        "outputId": "0f92b42b-2c94-418c-a7e5-3f1e01b4b7f1"
      },
      "execution_count": 12,
      "outputs": [
        {
          "output_type": "stream",
          "name": "stdout",
          "text": [
            "(14277, 8) (3755, 8)\n"
          ]
        }
      ]
    },
    {
      "cell_type": "code",
      "source": [
        "train_df = train_df[~train_df['first_image_id'].isin(images_train_not_available)]"
      ],
      "metadata": {
        "id": "yhmrZ0jHTKDj"
      },
      "execution_count": 13,
      "outputs": []
    },
    {
      "cell_type": "code",
      "source": [
        "test_df = test_df[~test_df['first_image_id'].isin(images_test_not_available)]\n",
        "print(train_df.shape, test_df.shape)"
      ],
      "metadata": {
        "colab": {
          "base_uri": "https://localhost:8080/"
        },
        "id": "FqBCJt71Tanr",
        "outputId": "ab1fef64-2261-40b2-9c06-88d4732f261b"
      },
      "execution_count": 14,
      "outputs": [
        {
          "output_type": "stream",
          "name": "stdout",
          "text": [
            "(14258, 8) (1923, 8)\n"
          ]
        }
      ]
    },
    {
      "cell_type": "code",
      "source": [
        "train_text = train_df['tweetText'].tolist()\n",
        "test_text = test_df['tweetText'].tolist()\n",
        "\n",
        "train_images = [i for i in train_df['first_image_id'].tolist()]\n",
        "test_images = [i.split(',')[0].strip() for i in test_df['first_image_id'].tolist()]\n",
        "\n",
        "trainY = train_df['label'].tolist()\n",
        "trainY = [1 if i=='real' else 0 for i in trainY]\n",
        "\n",
        "testY = test_df['label'].tolist()\n",
        "testY = [1 if i=='real' else 0 for i in testY]"
      ],
      "metadata": {
        "id": "id5y-JxITkzn"
      },
      "execution_count": 15,
      "outputs": []
    },
    {
      "cell_type": "code",
      "source": [
        "len(train_text),len(train_images),len(trainY),len(test_text),len(test_images),len(testY)"
      ],
      "metadata": {
        "colab": {
          "base_uri": "https://localhost:8080/"
        },
        "id": "Em1KQyYFUTdD",
        "outputId": "2a717a26-159c-4696-cccb-6a1f6802980d"
      },
      "execution_count": 16,
      "outputs": [
        {
          "output_type": "execute_result",
          "data": {
            "text/plain": [
              "(14258, 14258, 14258, 1923, 1923, 1923)"
            ]
          },
          "metadata": {},
          "execution_count": 16
        }
      ]
    },
    {
      "cell_type": "code",
      "source": [
        "# calculate the maximum document length\n",
        "def max_length(lines):\n",
        "    return max([len(s.split()) for s in lines])"
      ],
      "metadata": {
        "id": "DBd3PfwMUWlL"
      },
      "execution_count": 17,
      "outputs": []
    },
    {
      "cell_type": "code",
      "source": [
        "print(\"maximum length:\", max_length(train_text))\n",
        "plt.hist([len(s.split()) for s in train_text],bins=[0,1,2,3,4,5,6,7,8,9,12,15,16,18,20,25,30])"
      ],
      "metadata": {
        "colab": {
          "base_uri": "https://localhost:8080/",
          "height": 534
        },
        "id": "zQ4KxwYcUudY",
        "outputId": "3e2e71ce-58ad-4b8a-da55-376ea8acb923"
      },
      "execution_count": 18,
      "outputs": [
        {
          "output_type": "stream",
          "name": "stdout",
          "text": [
            "maximum length: 901\n"
          ]
        },
        {
          "output_type": "execute_result",
          "data": {
            "text/plain": [
              "(array([   0.,    4.,  327.,  532.,  755.,  760.,  843.,  791.,  904.,\n",
              "        2534., 2379.,  775., 1462., 1113., 1047.,   17.]),\n",
              " array([ 0.,  1.,  2.,  3.,  4.,  5.,  6.,  7.,  8.,  9., 12., 15., 16.,\n",
              "        18., 20., 25., 30.]),\n",
              " <BarContainer object of 16 artists>)"
            ]
          },
          "metadata": {},
          "execution_count": 18
        },
        {
          "output_type": "display_data",
          "data": {
            "text/plain": [
              "<Figure size 640x480 with 1 Axes>"
            ],
            "image/png": "[encoded data removed]"
          },
          "metadata": {}
        }
      ]
    },
    {
      "cell_type": "code",
      "source": [
        "l=[len(s.split()) for s in train_text]\n",
        "count=0.0\n",
        "for i in l:\n",
        "    if i>25:\n",
        "        count+=1\n",
        "print(count,len(l))\n",
        "print(count/len(l))"
      ],
      "metadata": {
        "colab": {
          "base_uri": "https://localhost:8080/"
        },
        "id": "M76OSNLeinzQ",
        "outputId": "bf97f436-c5a8-4e92-eeda-746cda64cea3"
      },
      "execution_count": 19,
      "outputs": [
        {
          "output_type": "stream",
          "name": "stdout",
          "text": [
            "17.0 14258\n",
            "0.0011923130873895357\n"
          ]
        }
      ]
    },
    {
      "cell_type": "code",
      "source": [
        "max_seq_length=25"
      ],
      "metadata": {
        "id": "eF4nzE_-x8Ml"
      },
      "execution_count": 20,
      "outputs": []
    },
    {
      "cell_type": "markdown",
      "source": [
        "# Visualize random tweets"
      ],
      "metadata": {
        "id": "1J5in1av8imI"
      }
    },
    {
      "cell_type": "code",
      "source": [
        "DEV_IMAGE_DIR = '/content/drive/MyDrive/multimodal-news/mediaeval2015/devset/images/'\n",
        "TEST_IMAGE_DIR = '/content/drive/MyDrive/multimodal-news/mediaeval2015/testset/images/'"
      ],
      "metadata": {
        "id": "c3e5dwdZ4bWR"
      },
      "execution_count": 21,
      "outputs": []
    },
    {
      "cell_type": "code",
      "source": [
        "def find_image_from_name_in_dir(image_name, dir):\n",
        "  for name in glob.glob(dir+'/'+image_name+'.*'):\n",
        "    return name"
      ],
      "metadata": {
        "id": "5LGqFkf09R5R"
      },
      "execution_count": 22,
      "outputs": []
    },
    {
      "cell_type": "code",
      "source": [
        "def visualise(index, text_df, image_df, train=True):\n",
        "  path = DEV_IMAGE_DIR if train else TEST_IMAGE_DIR\n",
        "  text = text_df[index]\n",
        "  image_path = find_image_from_name_in_dir(image_df[index],path)\n",
        "  image = plt.imread(image_path)\n",
        "  plt.subplot(1, 1, 1)\n",
        "  plt.title(text)\n",
        "  plt.imshow(image)\n"
      ],
      "metadata": {
        "id": "lpWOqPBc6IvJ"
      },
      "execution_count": 23,
      "outputs": []
    },
    {
      "cell_type": "code",
      "source": [
        "indx = random.randint(0, 3000)\n",
        "visualise(indx, train_text, train_images)"
      ],
      "metadata": {
        "colab": {
          "base_uri": "https://localhost:8080/",
          "height": 452
        },
        "id": "Rz1askKr7h5s",
        "outputId": "ddb94a6a-37f3-42b1-d10f-69766a337498"
      },
      "execution_count": 24,
      "outputs": [
        {
          "output_type": "display_data",
          "data": {
            "text/plain": [
              "<Figure size 640x480 with 1 Axes>"
            ],
            "image/png": "[encoded data removed]"
          },
          "metadata": {}
        }
      ]
    },
    {
      "cell_type": "code",
      "source": [
        "indx = random.randint(0, 1000)\n",
        "visualise(indx, test_text, test_images, False)"
      ],
      "metadata": {
        "colab": {
          "base_uri": "https://localhost:8080/",
          "height": 362
        },
        "id": "zOLPGebo834P",
        "outputId": "0be403d4-8368-4b3d-a583-3e151ffcad1b"
      },
      "execution_count": 25,
      "outputs": [
        {
          "output_type": "display_data",
          "data": {
            "text/plain": [
              "<Figure size 640x480 with 1 Axes>"
            ],
            "image/png": "[encoded data removed]"
          },
          "metadata": {}
        }
      ]
    },
    {
      "cell_type": "markdown",
      "source": [
        "## Start of modeling"
      ],
      "metadata": {
        "id": "dO91ncZcyg_M"
      }
    },
    {
      "cell_type": "code",
      "source": [
        "# Alternate dataframes for modeling\n",
        "train_df_model = train_df[['tweetText', 'first_image_id', 'label']]\n",
        "train_df_model['label'] = train_df_model['label'].apply(lambda x: 1 if x=='real' else 0)\n",
        "train_df_model['image_1'] = train_df_model['first_image_id'].apply(lambda x: find_image_from_name_in_dir(x, DEV_IMAGE_DIR))\n",
        "train_df_model = train_df_model.drop(['first_image_id'], axis=1)\n",
        "train_df_model.head(5)"
      ],
      "metadata": {
        "colab": {
          "base_uri": "https://localhost:8080/",
          "height": 206
        },
        "id": "hfz_UM0W_1Fi",
        "outputId": "e1693f8d-35f9-45f3-b72c-544c8eeacf31"
      },
      "execution_count": 26,
      "outputs": [
        {
          "output_type": "execute_result",
          "data": {
            "text/plain": [
              "                                           tweetText  label  \\\n",
              "0  ¿Se acuerdan de la película: “El día después d...      0   \n",
              "1  @milenagimon: Miren a Sandy en NY!  Tremenda i...      0   \n",
              "2  Buena la foto del Huracán Sandy, me recuerda a...      0   \n",
              "3     Scary shit #hurricane #NY http://t.co/e4JLBUfH      0   \n",
              "4  My fave place in the world #nyc #hurricane #sa...      0   \n",
              "\n",
              "                                             image_1  \n",
              "0  /content/drive/MyDrive/multimodal-news/mediaev...  \n",
              "1  /content/drive/MyDrive/multimodal-news/mediaev...  \n",
              "2  /content/drive/MyDrive/multimodal-news/mediaev...  \n",
              "3  /content/drive/MyDrive/multimodal-news/mediaev...  \n",
              "4  /content/drive/MyDrive/multimodal-news/mediaev...  "
            ],
            "text/html": [
              "\n",
              "  <div id=\"df-0f6b8f21-580a-481a-bb94-30f76485b4bb\">\n",
              "    <div class=\"colab-df-container\">\n",
              "      <div>\n",
              "<style scoped>\n",
              "    .dataframe tbody tr th:only-of-type {\n",
              "        vertical-align: middle;\n",
              "    }\n",
              "\n",
              "    .dataframe tbody tr th {\n",
              "        vertical-align: top;\n",
              "    }\n",
              "\n",
              "    .dataframe thead th {\n",
              "        text-align: right;\n",
              "    }\n",
              "</style>\n",
              "<table border=\"1\" class=\"dataframe\">\n",
              "  <thead>\n",
              "    <tr style=\"text-align: right;\">\n",
              "      <th></th>\n",
              "      <th>tweetText</th>\n",
              "      <th>label</th>\n",
              "      <th>image_1</th>\n",
              "    </tr>\n",
              "  </thead>\n",
              "  <tbody>\n",
              "    <tr>\n",
              "      <th>0</th>\n",
              "      <td>¿Se acuerdan de la película: “El día después d...</td>\n",
              "      <td>0</td>\n",
              "      <td>/content/drive/MyDrive/multimodal-news/mediaev...</td>\n",
              "    </tr>\n",
              "    <tr>\n",
              "      <th>1</th>\n",
              "      <td>@milenagimon: Miren a Sandy en NY!  Tremenda i...</td>\n",
              "      <td>0</td>\n",
              "      <td>/content/drive/MyDrive/multimodal-news/mediaev...</td>\n",
              "    </tr>\n",
              "    <tr>\n",
              "      <th>2</th>\n",
              "      <td>Buena la foto del Huracán Sandy, me recuerda a...</td>\n",
              "      <td>0</td>\n",
              "      <td>/content/drive/MyDrive/multimodal-news/mediaev...</td>\n",
              "    </tr>\n",
              "    <tr>\n",
              "      <th>3</th>\n",
              "      <td>Scary shit #hurricane #NY http://t.co/e4JLBUfH</td>\n",
              "      <td>0</td>\n",
              "      <td>/content/drive/MyDrive/multimodal-news/mediaev...</td>\n",
              "    </tr>\n",
              "    <tr>\n",
              "      <th>4</th>\n",
              "      <td>My fave place in the world #nyc #hurricane #sa...</td>\n",
              "      <td>0</td>\n",
              "      <td>/content/drive/MyDrive/multimodal-news/mediaev...</td>\n",
              "    </tr>\n",
              "  </tbody>\n",
              "</table>\n",
              "</div>\n",
              "      <button class=\"colab-df-convert\" onclick=\"convertToInteractive('df-0f6b8f21-580a-481a-bb94-30f76485b4bb')\"\n",
              "              title=\"Convert this dataframe to an interactive table.\"\n",
              "              style=\"display:none;\">\n",
              "        \n",
              "  <svg xmlns=\"http://www.w3.org/2000/svg\" height=\"24px\"viewBox=\"0 0 24 24\"\n",
              "       width=\"24px\">\n",
              "    <path d=\"M0 0h24v24H0V0z\" fill=\"none\"/>\n",
              "    <path d=\"M18.56 5.44l.94 2.06.94-2.06 2.06-.94-2.06-.94-.94-2.06-.94 2.06-2.06.94zm-11 1L8.5 8.5l.94-2.06 2.06-.94-2.06-.94L8.5 2.5l-.94 2.06-2.06.94zm10 10l.94 2.06.94-2.06 2.06-.94-2.06-.94-.94-2.06-.94 2.06-2.06.94z\"/><path d=\"M17.41 7.96l-1.37-1.37c-.4-.4-.92-.59-1.43-.59-.52 0-1.04.2-1.43.59L10.3 9.45l-7.72 7.72c-.78.78-.78 2.05 0 2.83L4 21.41c.39.39.9.59 1.41.59.51 0 1.02-.2 1.41-.59l7.78-7.78 2.81-2.81c.8-.78.8-2.07 0-2.86zM5.41 20L4 18.59l7.72-7.72 1.47 1.35L5.41 20z\"/>\n",
              "  </svg>\n",
              "      </button>\n",
              "      \n",
              "  <style>\n",
              "    .colab-df-container {\n",
              "      display:flex;\n",
              "      flex-wrap:wrap;\n",
              "      gap: 12px;\n",
              "    }\n",
              "\n",
              "    .colab-df-convert {\n",
              "      background-color: #E8F0FE;\n",
              "      border: none;\n",
              "      border-radius: 50%;\n",
              "      cursor: pointer;\n",
              "      display: none;\n",
              "      fill: #1967D2;\n",
              "      height: 32px;\n",
              "      padding: 0 0 0 0;\n",
              "      width: 32px;\n",
              "    }\n",
              "\n",
              "    .colab-df-convert:hover {\n",
              "      background-color: #E2EBFA;\n",
              "      box-shadow: 0px 1px 2px rgba(60, 64, 67, 0.3), 0px 1px 3px 1px rgba(60, 64, 67, 0.15);\n",
              "      fill: #174EA6;\n",
              "    }\n",
              "\n",
              "    [theme=dark] .colab-df-convert {\n",
              "      background-color: #3B4455;\n",
              "      fill: #D2E3FC;\n",
              "    }\n",
              "\n",
              "    [theme=dark] .colab-df-convert:hover {\n",
              "      background-color: #434B5C;\n",
              "      box-shadow: 0px 1px 3px 1px rgba(0, 0, 0, 0.15);\n",
              "      filter: drop-shadow(0px 1px 2px rgba(0, 0, 0, 0.3));\n",
              "      fill: #FFFFFF;\n",
              "    }\n",
              "  </style>\n",
              "\n",
              "      <script>\n",
              "        const buttonEl =\n",
              "          document.querySelector('#df-0f6b8f21-580a-481a-bb94-30f76485b4bb button.colab-df-convert');\n",
              "        buttonEl.style.display =\n",
              "          google.colab.kernel.accessAllowed ? 'block' : 'none';\n",
              "\n",
              "        async function convertToInteractive(key) {\n",
              "          const element = document.querySelector('#df-0f6b8f21-580a-481a-bb94-30f76485b4bb');\n",
              "          const dataTable =\n",
              "            await google.colab.kernel.invokeFunction('convertToInteractive',\n",
              "                                                     [key], {});\n",
              "          if (!dataTable) return;\n",
              "\n",
              "          const docLinkHtml = 'Like what you see? Visit the ' +\n",
              "            '<a target=\"_blank\" href=https://colab.research.google.com/notebooks/data_table.ipynb>data table notebook</a>'\n",
              "            + ' to learn more about interactive tables.';\n",
              "          element.innerHTML = '';\n",
              "          dataTable['output_type'] = 'display_data';\n",
              "          await google.colab.output.renderOutput(dataTable, element);\n",
              "          const docLink = document.createElement('div');\n",
              "          docLink.innerHTML = docLinkHtml;\n",
              "          element.appendChild(docLink);\n",
              "        }\n",
              "      </script>\n",
              "    </div>\n",
              "  </div>\n",
              "  "
            ]
          },
          "metadata": {},
          "execution_count": 26
        }
      ]
    },
    {
      "cell_type": "code",
      "source": [
        "# Check to make sure all the first_image_id are tied with a path\n",
        "train_df_model[train_df_model['image_1'].isnull()]"
      ],
      "metadata": {
        "colab": {
          "base_uri": "https://localhost:8080/",
          "height": 49
        },
        "id": "9YGL6b0Ytkom",
        "outputId": "5fac1631-c701-4159-c1fd-6df7527844e3"
      },
      "execution_count": 27,
      "outputs": [
        {
          "output_type": "execute_result",
          "data": {
            "text/plain": [
              "Empty DataFrame\n",
              "Columns: [tweetText, label, image_1]\n",
              "Index: []"
            ],
            "text/html": [
              "\n",
              "  <div id=\"df-2ad4a035-f20b-4ec2-9974-117ffd62a414\">\n",
              "    <div class=\"colab-df-container\">\n",
              "      <div>\n",
              "<style scoped>\n",
              "    .dataframe tbody tr th:only-of-type {\n",
              "        vertical-align: middle;\n",
              "    }\n",
              "\n",
              "    .dataframe tbody tr th {\n",
              "        vertical-align: top;\n",
              "    }\n",
              "\n",
              "    .dataframe thead th {\n",
              "        text-align: right;\n",
              "    }\n",
              "</style>\n",
              "<table border=\"1\" class=\"dataframe\">\n",
              "  <thead>\n",
              "    <tr style=\"text-align: right;\">\n",
              "      <th></th>\n",
              "      <th>tweetText</th>\n",
              "      <th>label</th>\n",
              "      <th>image_1</th>\n",
              "    </tr>\n",
              "  </thead>\n",
              "  <tbody>\n",
              "  </tbody>\n",
              "</table>\n",
              "</div>\n",
              "      <button class=\"colab-df-convert\" onclick=\"convertToInteractive('df-2ad4a035-f20b-4ec2-9974-117ffd62a414')\"\n",
              "              title=\"Convert this dataframe to an interactive table.\"\n",
              "              style=\"display:none;\">\n",
              "        \n",
              "  <svg xmlns=\"http://www.w3.org/2000/svg\" height=\"24px\"viewBox=\"0 0 24 24\"\n",
              "       width=\"24px\">\n",
              "    <path d=\"M0 0h24v24H0V0z\" fill=\"none\"/>\n",
              "    <path d=\"M18.56 5.44l.94 2.06.94-2.06 2.06-.94-2.06-.94-.94-2.06-.94 2.06-2.06.94zm-11 1L8.5 8.5l.94-2.06 2.06-.94-2.06-.94L8.5 2.5l-.94 2.06-2.06.94zm10 10l.94 2.06.94-2.06 2.06-.94-2.06-.94-.94-2.06-.94 2.06-2.06.94z\"/><path d=\"M17.41 7.96l-1.37-1.37c-.4-.4-.92-.59-1.43-.59-.52 0-1.04.2-1.43.59L10.3 9.45l-7.72 7.72c-.78.78-.78 2.05 0 2.83L4 21.41c.39.39.9.59 1.41.59.51 0 1.02-.2 1.41-.59l7.78-7.78 2.81-2.81c.8-.78.8-2.07 0-2.86zM5.41 20L4 18.59l7.72-7.72 1.47 1.35L5.41 20z\"/>\n",
              "  </svg>\n",
              "      </button>\n",
              "      \n",
              "  <style>\n",
              "    .colab-df-container {\n",
              "      display:flex;\n",
              "      flex-wrap:wrap;\n",
              "      gap: 12px;\n",
              "    }\n",
              "\n",
              "    .colab-df-convert {\n",
              "      background-color: #E8F0FE;\n",
              "      border: none;\n",
              "      border-radius: 50%;\n",
              "      cursor: pointer;\n",
              "      display: none;\n",
              "      fill: #1967D2;\n",
              "      height: 32px;\n",
              "      padding: 0 0 0 0;\n",
              "      width: 32px;\n",
              "    }\n",
              "\n",
              "    .colab-df-convert:hover {\n",
              "      background-color: #E2EBFA;\n",
              "      box-shadow: 0px 1px 2px rgba(60, 64, 67, 0.3), 0px 1px 3px 1px rgba(60, 64, 67, 0.15);\n",
              "      fill: #174EA6;\n",
              "    }\n",
              "\n",
              "    [theme=dark] .colab-df-convert {\n",
              "      background-color: #3B4455;\n",
              "      fill: #D2E3FC;\n",
              "    }\n",
              "\n",
              "    [theme=dark] .colab-df-convert:hover {\n",
              "      background-color: #434B5C;\n",
              "      box-shadow: 0px 1px 3px 1px rgba(0, 0, 0, 0.15);\n",
              "      filter: drop-shadow(0px 1px 2px rgba(0, 0, 0, 0.3));\n",
              "      fill: #FFFFFF;\n",
              "    }\n",
              "  </style>\n",
              "\n",
              "      <script>\n",
              "        const buttonEl =\n",
              "          document.querySelector('#df-2ad4a035-f20b-4ec2-9974-117ffd62a414 button.colab-df-convert');\n",
              "        buttonEl.style.display =\n",
              "          google.colab.kernel.accessAllowed ? 'block' : 'none';\n",
              "\n",
              "        async function convertToInteractive(key) {\n",
              "          const element = document.querySelector('#df-2ad4a035-f20b-4ec2-9974-117ffd62a414');\n",
              "          const dataTable =\n",
              "            await google.colab.kernel.invokeFunction('convertToInteractive',\n",
              "                                                     [key], {});\n",
              "          if (!dataTable) return;\n",
              "\n",
              "          const docLinkHtml = 'Like what you see? Visit the ' +\n",
              "            '<a target=\"_blank\" href=https://colab.research.google.com/notebooks/data_table.ipynb>data table notebook</a>'\n",
              "            + ' to learn more about interactive tables.';\n",
              "          element.innerHTML = '';\n",
              "          dataTable['output_type'] = 'display_data';\n",
              "          await google.colab.output.renderOutput(dataTable, element);\n",
              "          const docLink = document.createElement('div');\n",
              "          docLink.innerHTML = docLinkHtml;\n",
              "          element.appendChild(docLink);\n",
              "        }\n",
              "      </script>\n",
              "    </div>\n",
              "  </div>\n",
              "  "
            ]
          },
          "metadata": {},
          "execution_count": 27
        }
      ]
    },
    {
      "cell_type": "code",
      "source": [
        "train_df_model['label'].value_counts()"
      ],
      "metadata": {
        "colab": {
          "base_uri": "https://localhost:8080/"
        },
        "id": "uR-j8TcKACKG",
        "outputId": "2a430a15-7414-4894-9c32-c63b825283f1"
      },
      "execution_count": 28,
      "outputs": [
        {
          "output_type": "execute_result",
          "data": {
            "text/plain": [
              "0    9353\n",
              "1    4905\n",
              "Name: label, dtype: int64"
            ]
          },
          "metadata": {},
          "execution_count": 28
        }
      ]
    },
    {
      "cell_type": "code",
      "source": [
        "test_df_model = test_df[['tweetText', 'first_image_id', 'label']]\n",
        "test_df_model['label'] = test_df_model['label'].apply(lambda x: 1 if x=='real' else 0)\n",
        "test_df_model['image_1'] = test_df_model['first_image_id'].apply(lambda x: find_image_from_name_in_dir(x, TEST_IMAGE_DIR))\n",
        "test_df_model = test_df_model.drop(['first_image_id'], axis=1)\n",
        "test_df_model.head(10)"
      ],
      "metadata": {
        "colab": {
          "base_uri": "https://localhost:8080/",
          "height": 363
        },
        "id": "WfMDQBhlBO1Q",
        "outputId": "84dc1e39-58bd-4646-c4ab-e031ac5720bd"
      },
      "execution_count": 29,
      "outputs": [
        {
          "output_type": "execute_result",
          "data": {
            "text/plain": [
              "                                           tweetText  label  \\\n",
              "0  kereeen RT @Shyman33: Eclipse from ISS.... htt...      0   \n",
              "1  Absolutely beautiful! RT @Shyman33: Eclipse fr...      0   \n",
              "2  “@Shyman33: Eclipse from ISS.... http://t.co/C...      0   \n",
              "3        Eclipse from ISS.... http://t.co/En87OtvsU6      0   \n",
              "4  @ebonfigli: Éclipse vue de l'ISS... Autre chos...      0   \n",
              "5  “@ebonfigli: Éclipse vue de l'ISS... Autre cho...      0   \n",
              "6  Éclipse vue de l'ISS... Autre chose... http://...      0   \n",
              "7  @ebonfigli: Éclipse vue de l'ISS... Autre chos...      0   \n",
              "8  Dit dus \\0/ RT “@News_Executive: The Solar ecl...      0   \n",
              "9  Photo: The Solar eclipse as seen from the Inte...      0   \n",
              "\n",
              "                                             image_1  \n",
              "0  /content/drive/MyDrive/multimodal-news/mediaev...  \n",
              "1  /content/drive/MyDrive/multimodal-news/mediaev...  \n",
              "2  /content/drive/MyDrive/multimodal-news/mediaev...  \n",
              "3  /content/drive/MyDrive/multimodal-news/mediaev...  \n",
              "4  /content/drive/MyDrive/multimodal-news/mediaev...  \n",
              "5  /content/drive/MyDrive/multimodal-news/mediaev...  \n",
              "6  /content/drive/MyDrive/multimodal-news/mediaev...  \n",
              "7  /content/drive/MyDrive/multimodal-news/mediaev...  \n",
              "8  /content/drive/MyDrive/multimodal-news/mediaev...  \n",
              "9  /content/drive/MyDrive/multimodal-news/mediaev...  "
            ],
            "text/html": [
              "\n",
              "  <div id=\"df-63b9a3e3-40e1-4391-9e1b-204be51fd57f\">\n",
              "    <div class=\"colab-df-container\">\n",
              "      <div>\n",
              "<style scoped>\n",
              "    .dataframe tbody tr th:only-of-type {\n",
              "        vertical-align: middle;\n",
              "    }\n",
              "\n",
              "    .dataframe tbody tr th {\n",
              "        vertical-align: top;\n",
              "    }\n",
              "\n",
              "    .dataframe thead th {\n",
              "        text-align: right;\n",
              "    }\n",
              "</style>\n",
              "<table border=\"1\" class=\"dataframe\">\n",
              "  <thead>\n",
              "    <tr style=\"text-align: right;\">\n",
              "      <th></th>\n",
              "      <th>tweetText</th>\n",
              "      <th>label</th>\n",
              "      <th>image_1</th>\n",
              "    </tr>\n",
              "  </thead>\n",
              "  <tbody>\n",
              "    <tr>\n",
              "      <th>0</th>\n",
              "      <td>kereeen RT @Shyman33: Eclipse from ISS.... htt...</td>\n",
              "      <td>0</td>\n",
              "      <td>/content/drive/MyDrive/multimodal-news/mediaev...</td>\n",
              "    </tr>\n",
              "    <tr>\n",
              "      <th>1</th>\n",
              "      <td>Absolutely beautiful! RT @Shyman33: Eclipse fr...</td>\n",
              "      <td>0</td>\n",
              "      <td>/content/drive/MyDrive/multimodal-news/mediaev...</td>\n",
              "    </tr>\n",
              "    <tr>\n",
              "      <th>2</th>\n",
              "      <td>“@Shyman33: Eclipse from ISS.... http://t.co/C...</td>\n",
              "      <td>0</td>\n",
              "      <td>/content/drive/MyDrive/multimodal-news/mediaev...</td>\n",
              "    </tr>\n",
              "    <tr>\n",
              "      <th>3</th>\n",
              "      <td>Eclipse from ISS.... http://t.co/En87OtvsU6</td>\n",
              "      <td>0</td>\n",
              "      <td>/content/drive/MyDrive/multimodal-news/mediaev...</td>\n",
              "    </tr>\n",
              "    <tr>\n",
              "      <th>4</th>\n",
              "      <td>@ebonfigli: Éclipse vue de l'ISS... Autre chos...</td>\n",
              "      <td>0</td>\n",
              "      <td>/content/drive/MyDrive/multimodal-news/mediaev...</td>\n",
              "    </tr>\n",
              "    <tr>\n",
              "      <th>5</th>\n",
              "      <td>“@ebonfigli: Éclipse vue de l'ISS... Autre cho...</td>\n",
              "      <td>0</td>\n",
              "      <td>/content/drive/MyDrive/multimodal-news/mediaev...</td>\n",
              "    </tr>\n",
              "    <tr>\n",
              "      <th>6</th>\n",
              "      <td>Éclipse vue de l'ISS... Autre chose... http://...</td>\n",
              "      <td>0</td>\n",
              "      <td>/content/drive/MyDrive/multimodal-news/mediaev...</td>\n",
              "    </tr>\n",
              "    <tr>\n",
              "      <th>7</th>\n",
              "      <td>@ebonfigli: Éclipse vue de l'ISS... Autre chos...</td>\n",
              "      <td>0</td>\n",
              "      <td>/content/drive/MyDrive/multimodal-news/mediaev...</td>\n",
              "    </tr>\n",
              "    <tr>\n",
              "      <th>8</th>\n",
              "      <td>Dit dus \\0/ RT “@News_Executive: The Solar ecl...</td>\n",
              "      <td>0</td>\n",
              "      <td>/content/drive/MyDrive/multimodal-news/mediaev...</td>\n",
              "    </tr>\n",
              "    <tr>\n",
              "      <th>9</th>\n",
              "      <td>Photo: The Solar eclipse as seen from the Inte...</td>\n",
              "      <td>0</td>\n",
              "      <td>/content/drive/MyDrive/multimodal-news/mediaev...</td>\n",
              "    </tr>\n",
              "  </tbody>\n",
              "</table>\n",
              "</div>\n",
              "      <button class=\"colab-df-convert\" onclick=\"convertToInteractive('df-63b9a3e3-40e1-4391-9e1b-204be51fd57f')\"\n",
              "              title=\"Convert this dataframe to an interactive table.\"\n",
              "              style=\"display:none;\">\n",
              "        \n",
              "  <svg xmlns=\"http://www.w3.org/2000/svg\" height=\"24px\"viewBox=\"0 0 24 24\"\n",
              "       width=\"24px\">\n",
              "    <path d=\"M0 0h24v24H0V0z\" fill=\"none\"/>\n",
              "    <path d=\"M18.56 5.44l.94 2.06.94-2.06 2.06-.94-2.06-.94-.94-2.06-.94 2.06-2.06.94zm-11 1L8.5 8.5l.94-2.06 2.06-.94-2.06-.94L8.5 2.5l-.94 2.06-2.06.94zm10 10l.94 2.06.94-2.06 2.06-.94-2.06-.94-.94-2.06-.94 2.06-2.06.94z\"/><path d=\"M17.41 7.96l-1.37-1.37c-.4-.4-.92-.59-1.43-.59-.52 0-1.04.2-1.43.59L10.3 9.45l-7.72 7.72c-.78.78-.78 2.05 0 2.83L4 21.41c.39.39.9.59 1.41.59.51 0 1.02-.2 1.41-.59l7.78-7.78 2.81-2.81c.8-.78.8-2.07 0-2.86zM5.41 20L4 18.59l7.72-7.72 1.47 1.35L5.41 20z\"/>\n",
              "  </svg>\n",
              "      </button>\n",
              "      \n",
              "  <style>\n",
              "    .colab-df-container {\n",
              "      display:flex;\n",
              "      flex-wrap:wrap;\n",
              "      gap: 12px;\n",
              "    }\n",
              "\n",
              "    .colab-df-convert {\n",
              "      background-color: #E8F0FE;\n",
              "      border: none;\n",
              "      border-radius: 50%;\n",
              "      cursor: pointer;\n",
              "      display: none;\n",
              "      fill: #1967D2;\n",
              "      height: 32px;\n",
              "      padding: 0 0 0 0;\n",
              "      width: 32px;\n",
              "    }\n",
              "\n",
              "    .colab-df-convert:hover {\n",
              "      background-color: #E2EBFA;\n",
              "      box-shadow: 0px 1px 2px rgba(60, 64, 67, 0.3), 0px 1px 3px 1px rgba(60, 64, 67, 0.15);\n",
              "      fill: #174EA6;\n",
              "    }\n",
              "\n",
              "    [theme=dark] .colab-df-convert {\n",
              "      background-color: #3B4455;\n",
              "      fill: #D2E3FC;\n",
              "    }\n",
              "\n",
              "    [theme=dark] .colab-df-convert:hover {\n",
              "      background-color: #434B5C;\n",
              "      box-shadow: 0px 1px 3px 1px rgba(0, 0, 0, 0.15);\n",
              "      filter: drop-shadow(0px 1px 2px rgba(0, 0, 0, 0.3));\n",
              "      fill: #FFFFFF;\n",
              "    }\n",
              "  </style>\n",
              "\n",
              "      <script>\n",
              "        const buttonEl =\n",
              "          document.querySelector('#df-63b9a3e3-40e1-4391-9e1b-204be51fd57f button.colab-df-convert');\n",
              "        buttonEl.style.display =\n",
              "          google.colab.kernel.accessAllowed ? 'block' : 'none';\n",
              "\n",
              "        async function convertToInteractive(key) {\n",
              "          const element = document.querySelector('#df-63b9a3e3-40e1-4391-9e1b-204be51fd57f');\n",
              "          const dataTable =\n",
              "            await google.colab.kernel.invokeFunction('convertToInteractive',\n",
              "                                                     [key], {});\n",
              "          if (!dataTable) return;\n",
              "\n",
              "          const docLinkHtml = 'Like what you see? Visit the ' +\n",
              "            '<a target=\"_blank\" href=https://colab.research.google.com/notebooks/data_table.ipynb>data table notebook</a>'\n",
              "            + ' to learn more about interactive tables.';\n",
              "          element.innerHTML = '';\n",
              "          dataTable['output_type'] = 'display_data';\n",
              "          await google.colab.output.renderOutput(dataTable, element);\n",
              "          const docLink = document.createElement('div');\n",
              "          docLink.innerHTML = docLinkHtml;\n",
              "          element.appendChild(docLink);\n",
              "        }\n",
              "      </script>\n",
              "    </div>\n",
              "  </div>\n",
              "  "
            ]
          },
          "metadata": {},
          "execution_count": 29
        }
      ]
    },
    {
      "cell_type": "code",
      "source": [
        "# Check to make sure all the first_image_id are tied with a path\n",
        "test_df_model[test_df_model['image_1'].isnull()]"
      ],
      "metadata": {
        "colab": {
          "base_uri": "https://localhost:8080/",
          "height": 49
        },
        "id": "PMl45C1n17MO",
        "outputId": "26e2dfa7-ee95-4b9c-c3cd-4b334d5e3db0"
      },
      "execution_count": 30,
      "outputs": [
        {
          "output_type": "execute_result",
          "data": {
            "text/plain": [
              "Empty DataFrame\n",
              "Columns: [tweetText, label, image_1]\n",
              "Index: []"
            ],
            "text/html": [
              "\n",
              "  <div id=\"df-2885ba34-b57e-4860-938b-f79579318b75\">\n",
              "    <div class=\"colab-df-container\">\n",
              "      <div>\n",
              "<style scoped>\n",
              "    .dataframe tbody tr th:only-of-type {\n",
              "        vertical-align: middle;\n",
              "    }\n",
              "\n",
              "    .dataframe tbody tr th {\n",
              "        vertical-align: top;\n",
              "    }\n",
              "\n",
              "    .dataframe thead th {\n",
              "        text-align: right;\n",
              "    }\n",
              "</style>\n",
              "<table border=\"1\" class=\"dataframe\">\n",
              "  <thead>\n",
              "    <tr style=\"text-align: right;\">\n",
              "      <th></th>\n",
              "      <th>tweetText</th>\n",
              "      <th>label</th>\n",
              "      <th>image_1</th>\n",
              "    </tr>\n",
              "  </thead>\n",
              "  <tbody>\n",
              "  </tbody>\n",
              "</table>\n",
              "</div>\n",
              "      <button class=\"colab-df-convert\" onclick=\"convertToInteractive('df-2885ba34-b57e-4860-938b-f79579318b75')\"\n",
              "              title=\"Convert this dataframe to an interactive table.\"\n",
              "              style=\"display:none;\">\n",
              "        \n",
              "  <svg xmlns=\"http://www.w3.org/2000/svg\" height=\"24px\"viewBox=\"0 0 24 24\"\n",
              "       width=\"24px\">\n",
              "    <path d=\"M0 0h24v24H0V0z\" fill=\"none\"/>\n",
              "    <path d=\"M18.56 5.44l.94 2.06.94-2.06 2.06-.94-2.06-.94-.94-2.06-.94 2.06-2.06.94zm-11 1L8.5 8.5l.94-2.06 2.06-.94-2.06-.94L8.5 2.5l-.94 2.06-2.06.94zm10 10l.94 2.06.94-2.06 2.06-.94-2.06-.94-.94-2.06-.94 2.06-2.06.94z\"/><path d=\"M17.41 7.96l-1.37-1.37c-.4-.4-.92-.59-1.43-.59-.52 0-1.04.2-1.43.59L10.3 9.45l-7.72 7.72c-.78.78-.78 2.05 0 2.83L4 21.41c.39.39.9.59 1.41.59.51 0 1.02-.2 1.41-.59l7.78-7.78 2.81-2.81c.8-.78.8-2.07 0-2.86zM5.41 20L4 18.59l7.72-7.72 1.47 1.35L5.41 20z\"/>\n",
              "  </svg>\n",
              "      </button>\n",
              "      \n",
              "  <style>\n",
              "    .colab-df-container {\n",
              "      display:flex;\n",
              "      flex-wrap:wrap;\n",
              "      gap: 12px;\n",
              "    }\n",
              "\n",
              "    .colab-df-convert {\n",
              "      background-color: #E8F0FE;\n",
              "      border: none;\n",
              "      border-radius: 50%;\n",
              "      cursor: pointer;\n",
              "      display: none;\n",
              "      fill: #1967D2;\n",
              "      height: 32px;\n",
              "      padding: 0 0 0 0;\n",
              "      width: 32px;\n",
              "    }\n",
              "\n",
              "    .colab-df-convert:hover {\n",
              "      background-color: #E2EBFA;\n",
              "      box-shadow: 0px 1px 2px rgba(60, 64, 67, 0.3), 0px 1px 3px 1px rgba(60, 64, 67, 0.15);\n",
              "      fill: #174EA6;\n",
              "    }\n",
              "\n",
              "    [theme=dark] .colab-df-convert {\n",
              "      background-color: #3B4455;\n",
              "      fill: #D2E3FC;\n",
              "    }\n",
              "\n",
              "    [theme=dark] .colab-df-convert:hover {\n",
              "      background-color: #434B5C;\n",
              "      box-shadow: 0px 1px 3px 1px rgba(0, 0, 0, 0.15);\n",
              "      filter: drop-shadow(0px 1px 2px rgba(0, 0, 0, 0.3));\n",
              "      fill: #FFFFFF;\n",
              "    }\n",
              "  </style>\n",
              "\n",
              "      <script>\n",
              "        const buttonEl =\n",
              "          document.querySelector('#df-2885ba34-b57e-4860-938b-f79579318b75 button.colab-df-convert');\n",
              "        buttonEl.style.display =\n",
              "          google.colab.kernel.accessAllowed ? 'block' : 'none';\n",
              "\n",
              "        async function convertToInteractive(key) {\n",
              "          const element = document.querySelector('#df-2885ba34-b57e-4860-938b-f79579318b75');\n",
              "          const dataTable =\n",
              "            await google.colab.kernel.invokeFunction('convertToInteractive',\n",
              "                                                     [key], {});\n",
              "          if (!dataTable) return;\n",
              "\n",
              "          const docLinkHtml = 'Like what you see? Visit the ' +\n",
              "            '<a target=\"_blank\" href=https://colab.research.google.com/notebooks/data_table.ipynb>data table notebook</a>'\n",
              "            + ' to learn more about interactive tables.';\n",
              "          element.innerHTML = '';\n",
              "          dataTable['output_type'] = 'display_data';\n",
              "          await google.colab.output.renderOutput(dataTable, element);\n",
              "          const docLink = document.createElement('div');\n",
              "          docLink.innerHTML = docLinkHtml;\n",
              "          element.appendChild(docLink);\n",
              "        }\n",
              "      </script>\n",
              "    </div>\n",
              "  </div>\n",
              "  "
            ]
          },
          "metadata": {},
          "execution_count": 30
        }
      ]
    },
    {
      "cell_type": "code",
      "source": [
        "test_df_model['label'].value_counts()"
      ],
      "metadata": {
        "colab": {
          "base_uri": "https://localhost:8080/"
        },
        "id": "3-vi95yzBaqg",
        "outputId": "6556e219-65ed-4d18-9d03-c5d370f121ee"
      },
      "execution_count": 31,
      "outputs": [
        {
          "output_type": "execute_result",
          "data": {
            "text/plain": [
              "1    1207\n",
              "0     716\n",
              "Name: label, dtype: int64"
            ]
          },
          "metadata": {},
          "execution_count": 31
        }
      ]
    },
    {
      "cell_type": "markdown",
      "source": [
        "### Handling imbalance of data in devset"
      ],
      "metadata": {
        "id": "ttSqldRbjaca"
      }
    },
    {
      "cell_type": "code",
      "source": [
        "\n",
        "#from sklearn.model_selection import train_test_split\n",
        "#train_df_model, val_df_model = train_test_split(train_df_model, test_size=0.1, \n",
        " #                                    stratify=train_df_model[\"label\"].values, random_state=42)"
      ],
      "metadata": {
        "id": "tWfI2gg8jY6v"
      },
      "execution_count": 32,
      "outputs": []
    },
    {
      "cell_type": "markdown",
      "source": [
        "### Save the dataframes for faster access"
      ],
      "metadata": {
        "id": "w0QG3RYMUAwU"
      }
    },
    {
      "cell_type": "code",
      "source": [
        "#Save training df\n",
        "train_df_model.to_pickle(BASE_SAVE_LOCATION+\"/train.pickle\")\n",
        "#Save Val df\n",
        "#val_df_model.to_pickle(BASE_SAVE_LOCATION+\"/val.pickle\")\n",
        "#Save testing df\n",
        "test_df_model.to_pickle(BASE_SAVE_LOCATION+\"/test.pickle\")"
      ],
      "metadata": {
        "id": "GfWSDwEnT_ad"
      },
      "execution_count": 34,
      "outputs": []
    },
    {
      "cell_type": "markdown",
      "source": [
        "## Load the dataframes"
      ],
      "metadata": {
        "id": "TKusTHhYWBlz"
      }
    },
    {
      "cell_type": "code",
      "source": [
        "#Load training df\n",
        "train_df_model = pd.read_pickle(BASE_SAVE_LOCATION+\"/train.pickle\")\n",
        "#Load Val df\n",
        "#val_df_model = pd.read_pickle(BASE_SAVE_LOCATION+\"/val.pickle\")\n",
        "#Load testing df\n",
        "test_df_model = pd.read_pickle(BASE_SAVE_LOCATION+\"/test.pickle\")\n",
        "print(train_df_model.shape, test_df_model.shape)"
      ],
      "metadata": {
        "colab": {
          "base_uri": "https://localhost:8080/"
        },
        "id": "JftdaRkIWAAo",
        "outputId": "2ee53f72-179f-4ce8-f53f-9acf328172b0"
      },
      "execution_count": 6,
      "outputs": [
        {
          "output_type": "stream",
          "name": "stdout",
          "text": [
            "(14258, 3) (1923, 3)\n"
          ]
        }
      ]
    },
    {
      "cell_type": "markdown",
      "source": [
        "# Data input pipeline"
      ],
      "metadata": {
        "id": "cCuEsRz4CIdR"
      }
    },
    {
      "cell_type": "code",
      "source": [
        "# Define TF Hub paths to the BERT encoder and its preprocessor\n",
        "bert_model_path = (\n",
        "    \"https://tfhub.dev/tensorflow/small_bert/bert_en_uncased_L-2_H-256_A-4/1\"\n",
        ")\n",
        "bert_preprocess_path = \"https://tfhub.dev/tensorflow/bert_en_uncased_preprocess/3\""
      ],
      "metadata": {
        "id": "sjc2FLKhBfbj"
      },
      "execution_count": 7,
      "outputs": []
    },
    {
      "cell_type": "code",
      "source": [
        "def make_bert_preprocessing_model(sentence_features, seq_length=128):\n",
        "    \"\"\"Returns Model mapping string features to BERT inputs.\n",
        "\n",
        "  Args:\n",
        "    sentence_features: A list with the names of string-valued features.\n",
        "    seq_length: An integer that defines the sequence length of BERT inputs.\n",
        "\n",
        "  Returns:\n",
        "    A Keras Model that can be called on a list or dict of string Tensors\n",
        "    (with the order or names, resp., given by sentence_features) and\n",
        "    returns a dict of tensors for input to BERT.\n",
        "  \"\"\"\n",
        "\n",
        "    input_segments = [\n",
        "        tf.keras.layers.Input(shape=(), dtype=tf.string, name=ft)\n",
        "        for ft in sentence_features\n",
        "    ]\n",
        "\n",
        "    # Tokenize the text to word pieces.\n",
        "    bert_preprocess = hub.load(bert_preprocess_path)\n",
        "    tokenizer = hub.KerasLayer(bert_preprocess.tokenize, name=\"tokenizer\")\n",
        "    segments = [tokenizer(s) for s in input_segments]\n",
        "\n",
        "    # Optional: Trim segments in a smart way to fit seq_length.\n",
        "    # Simple cases (like this example) can skip this step and let\n",
        "    # the next step apply a default truncation to approximately equal lengths.\n",
        "    truncated_segments = segments\n",
        "\n",
        "    # Pack inputs. The details (start/end token ids, dict of output tensors)\n",
        "    # are model-dependent, so this gets loaded from the SavedModel.\n",
        "    packer = hub.KerasLayer(\n",
        "        bert_preprocess.bert_pack_inputs,\n",
        "        arguments=dict(seq_length=seq_length),\n",
        "        name=\"packer\",\n",
        "    )\n",
        "    model_inputs = packer(truncated_segments)\n",
        "    return keras.Model(input_segments, model_inputs)\n"
      ],
      "metadata": {
        "id": "uZzOdgKYInBJ"
      },
      "execution_count": 8,
      "outputs": []
    },
    {
      "cell_type": "code",
      "source": [
        "bert_preprocess_model = make_bert_preprocessing_model([\"text_1\"])\n",
        "bert_preprocess_model.summary()"
      ],
      "metadata": {
        "colab": {
          "base_uri": "https://localhost:8080/"
        },
        "id": "vqW4X6onJQKQ",
        "outputId": "1b5cf12b-2d12-47d2-b910-a61fe5147fb9"
      },
      "execution_count": 9,
      "outputs": [
        {
          "output_type": "stream",
          "name": "stdout",
          "text": [
            "Model: \"model\"\n",
            "_________________________________________________________________\n",
            " Layer (type)                Output Shape              Param #   \n",
            "=================================================================\n",
            " text_1 (InputLayer)         [(None,)]                 0         \n",
            "                                                                 \n",
            " tokenizer (KerasLayer)      (None, None, None)        0         \n",
            "                                                                 \n",
            " packer (KerasLayer)         {'input_mask': (None, 12  0         \n",
            "                             8),                                 \n",
            "                              'input_word_ids': (None            \n",
            "                             , 128),                             \n",
            "                              'input_type_ids': (None            \n",
            "                             , 128)}                             \n",
            "                                                                 \n",
            "=================================================================\n",
            "Total params: 0\n",
            "Trainable params: 0\n",
            "Non-trainable params: 0\n",
            "_________________________________________________________________\n"
          ]
        }
      ]
    },
    {
      "cell_type": "code",
      "source": [
        "idx = np.random.choice(len(train_df_model))\n",
        "row = train_df_model.iloc[idx]\n",
        "sample_text_1, sample_text_2 = row[\"tweetText\"], row[\"tweetText\"]\n",
        "print(f\"Text 1: {sample_text_1}\")\n",
        "print(f\"Text 2: {sample_text_2}\")\n",
        "\n",
        "test_text = [np.array([sample_text_1])]\n",
        "text_preprocessed = bert_preprocess_model(test_text)\n",
        "\n",
        "print(\"Keys           : \", list(text_preprocessed.keys()))\n",
        "print(\"Shape Word Ids : \", text_preprocessed[\"input_word_ids\"].shape)\n",
        "print(\"Word Ids       : \", text_preprocessed[\"input_word_ids\"][0, :16])\n",
        "print(\"Shape Mask     : \", text_preprocessed[\"input_mask\"].shape)\n",
        "print(\"Input Mask     : \", text_preprocessed[\"input_mask\"][0, :16])\n",
        "print(\"Shape Type Ids : \", text_preprocessed[\"input_type_ids\"].shape)\n",
        "print(\"Type Ids       : \", text_preprocessed[\"input_type_ids\"][0, :16])\n"
      ],
      "metadata": {
        "colab": {
          "base_uri": "https://localhost:8080/"
        },
        "id": "DCOmGQXtJn9a",
        "outputId": "fbc54d43-ec16-4c7c-d227-6f3647183af7"
      },
      "execution_count": 10,
      "outputs": [
        {
          "output_type": "stream",
          "name": "stdout",
          "text": [
            "Text 1: #newyork #hurricane #sandy http://t.co/8wcCP9c5\n",
            "Text 2: #newyork #hurricane #sandy http://t.co/8wcCP9c5\n",
            "Keys           :  ['input_mask', 'input_word_ids', 'input_type_ids']\n",
            "Shape Word Ids :  (1, 128)\n",
            "Word Ids       :  tf.Tensor(\n",
            "[ 101 1001 2047 7677 8024 1001 7064 1001 7525 8299 1024 1013 1013 1056\n",
            " 1012 2522], shape=(16,), dtype=int32)\n",
            "Shape Mask     :  (1, 128)\n",
            "Input Mask     :  tf.Tensor([1 1 1 1 1 1 1 1 1 1 1 1 1 1 1 1], shape=(16,), dtype=int32)\n",
            "Shape Type Ids :  (1, 128)\n",
            "Type Ids       :  tf.Tensor([0 0 0 0 0 0 0 0 0 0 0 0 0 0 0 0], shape=(16,), dtype=int32)\n"
          ]
        }
      ]
    },
    {
      "cell_type": "code",
      "source": [
        "def dataframe_to_dataset(dataframe):\n",
        "    columns = ['tweetText', 'image_1', 'label']\n",
        "    dataframe = dataframe[columns].copy()\n",
        "    labels = dataframe.pop(\"label\")\n",
        "    ds = tf.data.Dataset.from_tensor_slices((dict(dataframe), labels))\n",
        "    ds = ds.shuffle(buffer_size=len(dataframe))\n",
        "    return ds"
      ],
      "metadata": {
        "id": "dhn-DPb7Lsb1"
      },
      "execution_count": 11,
      "outputs": []
    },
    {
      "cell_type": "markdown",
      "source": [
        "## Preprocessing utilities"
      ],
      "metadata": {
        "id": "QO6IRl9rkfT4"
      }
    },
    {
      "cell_type": "code",
      "source": [
        "resize = (224, 224)\n",
        "bert_input_features = [\"input_word_ids\", \"input_type_ids\", \"input_mask\"]"
      ],
      "metadata": {
        "id": "slef7sY9ke1l"
      },
      "execution_count": 12,
      "outputs": []
    },
    {
      "cell_type": "code",
      "source": [
        "def preprocess_image(image_path):\n",
        "  extension = tf.strings.split(image_path,'.')[-1]\n",
        "  image = tf.io.read_file(image_path)\n",
        "  if extension == b\"gif\":\n",
        "    image = tf.io.decode_image(image, 3, expand_animations=False)\n",
        "  elif extension == b\"png\":\n",
        "    image = tf.image.decode_png(image, 3)\n",
        "  else:\n",
        "    image = tf.image.decode_jpeg(image, 3)\n",
        "  image = tf.image.resize(image, resize)\n",
        "  return image"
      ],
      "metadata": {
        "id": "FrTCJPUzkP3Q"
      },
      "execution_count": 13,
      "outputs": []
    },
    {
      "cell_type": "code",
      "source": [
        "def preprocess_text(text_1):\n",
        "  text_1 = tf.convert_to_tensor([text_1])\n",
        "  output = bert_preprocess_model([text_1])\n",
        "  output = {feature: tf.squeeze(output[feature]) for feature in bert_input_features}\n",
        "  return output"
      ],
      "metadata": {
        "id": "IvgkLXK5k5ZX"
      },
      "execution_count": 14,
      "outputs": []
    },
    {
      "cell_type": "code",
      "source": [
        "def preprocess_text_and_image(sample):\n",
        "  image_1 = preprocess_image(sample[\"image_1\"])\n",
        "  text = preprocess_text(sample[\"tweetText\"])\n",
        "  return {\"image_1\": image_1, \"text\": text}"
      ],
      "metadata": {
        "id": "uXQHweTHpCQM"
      },
      "execution_count": 15,
      "outputs": []
    },
    {
      "cell_type": "code",
      "source": [
        "batch_size = 32\n",
        "auto = tf.data.AUTOTUNE"
      ],
      "metadata": {
        "id": "C-0aLqtupoL5"
      },
      "execution_count": 16,
      "outputs": []
    },
    {
      "cell_type": "code",
      "source": [
        "def prepare_dataset(dataframe, training=True):\n",
        "  ds = dataframe_to_dataset(dataframe)\n",
        "  if training:\n",
        "      ds = ds.shuffle(len(train_df_model))\n",
        "  ds = ds.map(lambda x, y: (preprocess_text_and_image(x), y)).cache()\n",
        "  ds = ds.batch(batch_size).prefetch(auto)\n",
        "  return ds"
      ],
      "metadata": {
        "id": "DwL2IjrIp-Tn"
      },
      "execution_count": 17,
      "outputs": []
    },
    {
      "cell_type": "code",
      "source": [
        "train_ds = prepare_dataset(train_df_model)\n",
        "#validation_ds = prepare_dataset(val_df_model, False)\n",
        "test_ds = prepare_dataset(test_df_model, False)"
      ],
      "metadata": {
        "id": "5rSseL-fqSCE"
      },
      "execution_count": 18,
      "outputs": []
    },
    {
      "cell_type": "markdown",
      "source": [
        "## Model Building"
      ],
      "metadata": {
        "id": "UUA1fjql-NCs"
      }
    },
    {
      "cell_type": "markdown",
      "source": [
        "### Projection"
      ],
      "metadata": {
        "id": "dsnHD-at_70f"
      }
    },
    {
      "cell_type": "code",
      "source": [
        "def project_embeddings(\n",
        "    embeddings, num_projection_layers, projection_dims, dropout_rate\n",
        "):\n",
        "    projected_embeddings = keras.layers.Dense(units=projection_dims)(embeddings)\n",
        "    for _ in range(num_projection_layers):\n",
        "        x = tf.nn.gelu(projected_embeddings)\n",
        "        x = keras.layers.Dense(projection_dims)(x)\n",
        "        x = keras.layers.Dropout(dropout_rate)(x)\n",
        "        x = keras.layers.Add()([projected_embeddings, x])\n",
        "        projected_embeddings = keras.layers.LayerNormalization()(x)\n",
        "    return projected_embeddings\n"
      ],
      "metadata": {
        "id": "JUmnESU36Q-N"
      },
      "execution_count": 19,
      "outputs": []
    },
    {
      "cell_type": "markdown",
      "source": [
        "### Vision encoder"
      ],
      "metadata": {
        "id": "uEelNTYZAB0h"
      }
    },
    {
      "cell_type": "code",
      "source": [
        "def create_vision_encoder(\n",
        "    num_projection_layers, projection_dims, dropout_rate, trainable=False\n",
        "):\n",
        "    # Load the pre-trained ResNet50V2 model to be used as the base encoder.\n",
        "    resnet_v2 = keras.applications.EfficientNetB0(\n",
        "        include_top=False, weights=\"imagenet\", pooling=\"avg\"\n",
        "    )\n",
        "    # Set the trainability of the base encoder.\n",
        "    for layer in resnet_v2.layers:\n",
        "        layer.trainable = trainable\n",
        "\n",
        "    # Receive the images as inputs.\n",
        "    image_1 = keras.Input(shape=(224, 224, 3), name=\"image_1\")\n",
        "    \n",
        "    # Preprocess the input image.\n",
        "    preprocessed_1 = keras.applications.resnet_v2.preprocess_input(image_1)\n",
        "    \n",
        "    # Generate the embeddings for the images using the resnet_v2 model\n",
        "    # concatenate them.\n",
        "    embeddings = resnet_v2(preprocessed_1)\n",
        "    #embeddings = keras.layers.Concatenate()([embeddings_1, embeddings_2])\n",
        "\n",
        "    # Project the embeddings produced by the model.\n",
        "    outputs = project_embeddings(\n",
        "        embeddings, num_projection_layers, projection_dims, dropout_rate\n",
        "    )\n",
        "    # Create the vision encoder model.\n",
        "    return keras.Model([image_1], outputs, name=\"vision_encoder\")"
      ],
      "metadata": {
        "id": "y2ypqRWE_Oyq"
      },
      "execution_count": 20,
      "outputs": []
    },
    {
      "cell_type": "markdown",
      "source": [
        "### Text Encoder"
      ],
      "metadata": {
        "id": "jtChuDndAGLm"
      }
    },
    {
      "cell_type": "code",
      "source": [
        "def create_text_encoder(\n",
        "    num_projection_layers, projection_dims, dropout_rate, trainable=False\n",
        "):\n",
        "    # Load the pre-trained BERT model to be used as the base encoder.\n",
        "    bert = hub.KerasLayer(bert_model_path, name=\"bert\",)\n",
        "    # Set the trainability of the base encoder.\n",
        "    bert.trainable = trainable\n",
        "\n",
        "    # Receive the text as inputs.\n",
        "    bert_input_features = [\"input_type_ids\", \"input_mask\", \"input_word_ids\"]\n",
        "    inputs = {\n",
        "        feature: keras.Input(shape=(128,), dtype=tf.int32, name=feature)\n",
        "        for feature in bert_input_features\n",
        "    }\n",
        "\n",
        "    # Generate embeddings for the preprocessed text using the BERT model.\n",
        "    embeddings = bert(inputs)[\"pooled_output\"]\n",
        "\n",
        "    # Project the embeddings produced by the model.\n",
        "    outputs = project_embeddings(\n",
        "        embeddings, num_projection_layers, projection_dims, dropout_rate\n",
        "    )\n",
        "    # Create the text encoder model.\n",
        "    return keras.Model(inputs, outputs, name=\"text_encoder\")"
      ],
      "metadata": {
        "id": "UoVTKoTt_1Pv"
      },
      "execution_count": 21,
      "outputs": []
    },
    {
      "cell_type": "markdown",
      "source": [
        "## MultiModal model"
      ],
      "metadata": {
        "id": "Ugj-e4g8AWOp"
      }
    },
    {
      "cell_type": "code",
      "source": [
        "def create_multimodal_model(\n",
        "    num_projection_layers=0,\n",
        "    projection_dims=128,\n",
        "    dropout_rate=0.1,\n",
        "    vision_trainable=False,\n",
        "    text_trainable=False,\n",
        "    attention=False\n",
        "):\n",
        "    # Receive the images as inputs.\n",
        "    image_1 = keras.Input(shape=(128, 128, 3), name=\"image_1\")\n",
        "    \n",
        "    # Receive the text as inputs.\n",
        "    bert_input_features = [\"input_type_ids\", \"input_mask\", \"input_word_ids\"]\n",
        "    text_inputs = {\n",
        "        feature: keras.Input(shape=(128,), dtype=tf.int32, name=feature)\n",
        "        for feature in bert_input_features\n",
        "    }\n",
        "\n",
        "    # Create the encoders.\n",
        "    vision_encoder = create_vision_encoder(\n",
        "        num_projection_layers, projection_dims, dropout_rate, vision_trainable\n",
        "    )\n",
        "    text_encoder = create_text_encoder(\n",
        "        num_projection_layers, projection_dims, dropout_rate, text_trainable\n",
        "    )\n",
        "\n",
        "    # Fetch the embedding projections.\n",
        "    vision_projections = vision_encoder([image_1])\n",
        "    vision_projections = keras.layers.Dropout(dropout_rate)(vision_projections)\n",
        "    text_projections = text_encoder(text_inputs)\n",
        "    text_projections = keras.layers.Dropout(dropout_rate)(text_projections)\n",
        "\n",
        "    # Cross-attention.\n",
        "    if attention:\n",
        "        query_value_attention_seq = keras.layers.Attention(use_scale=True, dropout=0.2)(\n",
        "            [vision_projections, text_projections]\n",
        "        )\n",
        "\n",
        "\n",
        "    # Concatenate the projections and pass through the classification layer.\n",
        "    concatenated = keras.layers.Concatenate()([vision_projections, text_projections])\n",
        "    if attention:\n",
        "        concatenated = keras.layers.Concatenate()([concatenated, query_value_attention_seq])\n",
        "    outputs = keras.layers.Dense(1, activation=\"sigmoid\")(concatenated)\n",
        "    return keras.Model([image_1, text_inputs], outputs)"
      ],
      "metadata": {
        "id": "1RjaNwDnANoc"
      },
      "execution_count": 22,
      "outputs": []
    },
    {
      "cell_type": "markdown",
      "source": [
        "## Multimodal Model without attention"
      ],
      "metadata": {
        "id": "x_gerTA4dogA"
      }
    },
    {
      "cell_type": "code",
      "source": [
        "multimodal_model = create_multimodal_model(attention=False)\n",
        "multimodal_model.summary()"
      ],
      "metadata": {
        "colab": {
          "base_uri": "https://localhost:8080/"
        },
        "id": "DG9HS8aNAuGn",
        "outputId": "ece5f1eb-287d-4af2-a46e-3889a288fb49"
      },
      "execution_count": 23,
      "outputs": [
        {
          "output_type": "stream",
          "name": "stdout",
          "text": [
            "Downloading data from https://storage.googleapis.com/keras-applications/efficientnetb0_notop.h5\n",
            "16705208/16705208 [==============================] - 1s 0us/step\n",
            "Model: \"model_1\"\n",
            "__________________________________________________________________________________________________\n",
            " Layer (type)                   Output Shape         Param #     Connected to                     \n",
            "==================================================================================================\n",
            " image_1 (InputLayer)           [(None, 128, 128, 3  0           []                               \n",
            "                                )]                                                                \n",
            "                                                                                                  \n",
            " input_mask (InputLayer)        [(None, 128)]        0           []                               \n",
            "                                                                                                  \n",
            " input_type_ids (InputLayer)    [(None, 128)]        0           []                               \n",
            "                                                                                                  \n",
            " input_word_ids (InputLayer)    [(None, 128)]        0           []                               \n",
            "                                                                                                  \n",
            " vision_encoder (Functional)    (None, 128)          4213539     ['image_1[0][0]']                \n",
            "                                                                                                  \n",
            " text_encoder (Functional)      (None, 128)          9623937     ['input_mask[0][0]',             \n",
            "                                                                  'input_type_ids[0][0]',         \n",
            "                                                                  'input_word_ids[0][0]']         \n",
            "                                                                                                  \n",
            " dropout (Dropout)              (None, 128)          0           ['vision_encoder[0][0]']         \n",
            "                                                                                                  \n",
            " dropout_1 (Dropout)            (None, 128)          0           ['text_encoder[0][0]']           \n",
            "                                                                                                  \n",
            " concatenate (Concatenate)      (None, 256)          0           ['dropout[0][0]',                \n",
            "                                                                  'dropout_1[0][0]']              \n",
            "                                                                                                  \n",
            " dense_2 (Dense)                (None, 1)            257         ['concatenate[0][0]']            \n",
            "                                                                                                  \n",
            "==================================================================================================\n",
            "Total params: 13,837,733\n",
            "Trainable params: 197,121\n",
            "Non-trainable params: 13,640,612\n",
            "__________________________________________________________________________________________________\n"
          ]
        }
      ]
    },
    {
      "cell_type": "markdown",
      "source": [
        "### Model Training"
      ],
      "metadata": {
        "id": "DDAXg6GZF7tP"
      }
    },
    {
      "cell_type": "code",
      "source": [
        "epochs = 15"
      ],
      "metadata": {
        "id": "-EvQQlevMUbP"
      },
      "execution_count": 24,
      "outputs": []
    },
    {
      "cell_type": "code",
      "source": [
        "checkpoint_filepath = '/content/drive/MyDrive/multimodal-news/model-checkpoint'\n",
        "model_checkpoint_callback = tf.keras.callbacks.ModelCheckpoint(\n",
        "    filepath=checkpoint_filepath,\n",
        "    save_weights_only=True,\n",
        "    monitor='val_accuracy',\n",
        "    mode='max',\n",
        "    save_best_only=True)"
      ],
      "metadata": {
        "id": "nHJ6ptX7NzOb"
      },
      "execution_count": 25,
      "outputs": []
    },
    {
      "cell_type": "code",
      "source": [
        "loss = tf.keras.losses.BinaryCrossentropy(from_logits=True)\n",
        "metrics= [\n",
        "      tf.keras.metrics.BinaryAccuracy(name='accuracy'),\n",
        "      tf.keras.metrics.Precision(name='precision'),\n",
        "      tf.keras.metrics.Recall(name='recall')\n",
        "]"
      ],
      "metadata": {
        "id": "zJk33kM0ZDoW"
      },
      "execution_count": 26,
      "outputs": []
    },
    {
      "cell_type": "code",
      "source": [
        "multimodal_model.compile(\n",
        "    optimizer=tf.keras.optimizers.Adam(), loss=loss, metrics=metrics\n",
        ")\n",
        "\n",
        "history = multimodal_model.fit(train_ds, validation_data=test_ds, epochs=epochs, batch_size=batch_size)"
      ],
      "metadata": {
        "id": "sEAt3-3lA0bj",
        "outputId": "453b5d9d-5bb4-4986-b794-3a7dd3649bdd",
        "colab": {
          "base_uri": "https://localhost:8080/"
        }
      },
      "execution_count": 64,
      "outputs": [
        {
          "output_type": "stream",
          "name": "stdout",
          "text": [
            "Epoch 1/15\n",
            "446/446 [==============================] - 47s 86ms/step - loss: 0.5562 - accuracy: 0.7237 - precision: 0.6399 - recall: 0.4499 - val_loss: 1.0413 - val_accuracy: 0.3812 - val_precision: 0.6889 - val_recall: 0.0257\n",
            "Epoch 2/15\n",
            "446/446 [==============================] - 37s 82ms/step - loss: 0.4941 - accuracy: 0.7660 - precision: 0.7068 - recall: 0.5464 - val_loss: 0.8154 - val_accuracy: 0.5398 - val_precision: 0.9086 - val_recall: 0.2966\n",
            "Epoch 3/15\n",
            "446/446 [==============================] - 37s 83ms/step - loss: 0.4742 - accuracy: 0.7819 - precision: 0.7277 - recall: 0.5847 - val_loss: 0.6968 - val_accuracy: 0.6271 - val_precision: 0.9224 - val_recall: 0.4432\n",
            "Epoch 4/15\n",
            "446/446 [==============================] - 37s 83ms/step - loss: 0.4668 - accuracy: 0.7871 - precision: 0.7375 - recall: 0.5916 - val_loss: 0.5868 - val_accuracy: 0.7743 - val_precision: 0.9328 - val_recall: 0.6901\n",
            "Epoch 5/15\n",
            "446/446 [==============================] - 37s 83ms/step - loss: 0.4560 - accuracy: 0.7929 - precision: 0.7470 - recall: 0.6018 - val_loss: 0.5882 - val_accuracy: 0.7806 - val_precision: 0.9385 - val_recall: 0.6959\n",
            "Epoch 6/15\n",
            "446/446 [==============================] - 37s 83ms/step - loss: 0.4499 - accuracy: 0.7984 - precision: 0.7555 - recall: 0.6122 - val_loss: 0.5538 - val_accuracy: 0.7858 - val_precision: 0.9363 - val_recall: 0.7067\n",
            "Epoch 7/15\n",
            "446/446 [==============================] - 37s 83ms/step - loss: 0.4465 - accuracy: 0.7986 - precision: 0.7513 - recall: 0.6196 - val_loss: 0.5180 - val_accuracy: 0.7951 - val_precision: 0.9311 - val_recall: 0.7274\n",
            "Epoch 8/15\n",
            "446/446 [==============================] - 37s 83ms/step - loss: 0.4389 - accuracy: 0.8058 - precision: 0.7647 - recall: 0.6290 - val_loss: 0.4613 - val_accuracy: 0.8003 - val_precision: 0.9007 - val_recall: 0.7664\n",
            "Epoch 9/15\n",
            "446/446 [==============================] - 37s 83ms/step - loss: 0.4322 - accuracy: 0.8096 - precision: 0.7689 - recall: 0.6383 - val_loss: 0.5037 - val_accuracy: 0.7972 - val_precision: 0.9260 - val_recall: 0.7357\n",
            "Epoch 10/15\n",
            "446/446 [==============================] - 37s 83ms/step - loss: 0.4303 - accuracy: 0.8125 - precision: 0.7735 - recall: 0.6432 - val_loss: 0.4689 - val_accuracy: 0.7988 - val_precision: 0.9116 - val_recall: 0.7523\n",
            "Epoch 11/15\n",
            "446/446 [==============================] - 37s 83ms/step - loss: 0.4209 - accuracy: 0.8160 - precision: 0.7766 - recall: 0.6528 - val_loss: 0.4747 - val_accuracy: 0.7993 - val_precision: 0.9134 - val_recall: 0.7514\n",
            "Epoch 12/15\n",
            "446/446 [==============================] - 37s 83ms/step - loss: 0.4204 - accuracy: 0.8186 - precision: 0.7808 - recall: 0.6571 - val_loss: 0.4672 - val_accuracy: 0.7993 - val_precision: 0.9117 - val_recall: 0.7531\n",
            "Epoch 13/15\n",
            "446/446 [==============================] - 37s 83ms/step - loss: 0.4160 - accuracy: 0.8212 - precision: 0.7851 - recall: 0.6614 - val_loss: 0.4757 - val_accuracy: 0.8008 - val_precision: 0.9213 - val_recall: 0.7465\n",
            "Epoch 14/15\n",
            "446/446 [==============================] - 37s 83ms/step - loss: 0.4123 - accuracy: 0.8239 - precision: 0.7884 - recall: 0.6671 - val_loss: 0.4557 - val_accuracy: 0.7967 - val_precision: 0.9032 - val_recall: 0.7572\n",
            "Epoch 15/15\n",
            "446/446 [==============================] - 37s 83ms/step - loss: 0.4054 - accuracy: 0.8280 - precision: 0.7970 - recall: 0.6709 - val_loss: 0.4741 - val_accuracy: 0.8008 - val_precision: 0.9221 - val_recall: 0.7457\n"
          ]
        }
      ]
    },
    {
      "cell_type": "code",
      "source": [
        "#multimodal_model.load_weights(checkpoint_filepath)"
      ],
      "metadata": {
        "id": "Jk2IkvCsPXT7"
      },
      "execution_count": 57,
      "outputs": []
    },
    {
      "cell_type": "code",
      "source": [
        "_,accuracy, precision, recall = multimodal_model.evaluate(test_ds)\n",
        "print(f\"Accuracy on the test set: {round(accuracy * 100, 2)}%.\")"
      ],
      "metadata": {
        "id": "QtHE0fuRGuJ0",
        "outputId": "8a3ca7de-dc05-403d-b519-c1323e14dfc2",
        "colab": {
          "base_uri": "https://localhost:8080/"
        }
      },
      "execution_count": 65,
      "outputs": [
        {
          "output_type": "stream",
          "name": "stdout",
          "text": [
            "61/61 [==============================] - 4s 70ms/step - loss: 0.4741 - accuracy: 0.8008 - precision: 0.9221 - recall: 0.7457\n",
            "Accuracy on the test set: 80.08%.\n"
          ]
        }
      ]
    },
    {
      "cell_type": "markdown",
      "source": [
        "## Multimodal model with cross-attention"
      ],
      "metadata": {
        "id": "XSvBSKGpdygk"
      }
    },
    {
      "cell_type": "code",
      "source": [
        "multimodal_model = create_multimodal_model(attention=True)\n",
        "multimodal_model.summary()"
      ],
      "metadata": {
        "id": "np0Vioc8JQ3_",
        "colab": {
          "base_uri": "https://localhost:8080/"
        },
        "outputId": "42c506d9-0efb-4587-ec2e-15fc22b15548"
      },
      "execution_count": 66,
      "outputs": [
        {
          "output_type": "stream",
          "name": "stdout",
          "text": [
            "Model: \"model_3\"\n",
            "__________________________________________________________________________________________________\n",
            " Layer (type)                   Output Shape         Param #     Connected to                     \n",
            "==================================================================================================\n",
            " image_1 (InputLayer)           [(None, 128, 128, 3  0           []                               \n",
            "                                )]                                                                \n",
            "                                                                                                  \n",
            " input_mask (InputLayer)        [(None, 128)]        0           []                               \n",
            "                                                                                                  \n",
            " input_type_ids (InputLayer)    [(None, 128)]        0           []                               \n",
            "                                                                                                  \n",
            " input_word_ids (InputLayer)    [(None, 128)]        0           []                               \n",
            "                                                                                                  \n",
            " vision_encoder (Functional)    (None, 128)          4213539     ['image_1[0][0]']                \n",
            "                                                                                                  \n",
            " text_encoder (Functional)      (None, 128)          9623937     ['input_mask[0][0]',             \n",
            "                                                                  'input_type_ids[0][0]',         \n",
            "                                                                  'input_word_ids[0][0]']         \n",
            "                                                                                                  \n",
            " dropout_4 (Dropout)            (None, 128)          0           ['vision_encoder[0][0]']         \n",
            "                                                                                                  \n",
            " dropout_5 (Dropout)            (None, 128)          0           ['text_encoder[0][0]']           \n",
            "                                                                                                  \n",
            " concatenate_2 (Concatenate)    (None, 256)          0           ['dropout_4[0][0]',              \n",
            "                                                                  'dropout_5[0][0]']              \n",
            "                                                                                                  \n",
            " attention (Attention)          (None, 128)          1           ['dropout_4[0][0]',              \n",
            "                                                                  'dropout_5[0][0]']              \n",
            "                                                                                                  \n",
            " concatenate_3 (Concatenate)    (None, 384)          0           ['concatenate_2[0][0]',          \n",
            "                                                                  'attention[0][0]']              \n",
            "                                                                                                  \n",
            " dense_8 (Dense)                (None, 1)            385         ['concatenate_3[0][0]']          \n",
            "                                                                                                  \n",
            "==================================================================================================\n",
            "Total params: 13,837,862\n",
            "Trainable params: 197,250\n",
            "Non-trainable params: 13,640,612\n",
            "__________________________________________________________________________________________________\n"
          ]
        }
      ]
    },
    {
      "cell_type": "markdown",
      "source": [
        "### Model training"
      ],
      "metadata": {
        "id": "MzzCx4MOeA2Q"
      }
    },
    {
      "cell_type": "code",
      "source": [
        "multimodal_model.compile(\n",
        "    optimizer=tf.keras.optimizers.Adam(), loss=loss, metrics=metrics\n",
        ")\n",
        "\n",
        "history = multimodal_model.fit(train_ds, validation_data=test_ds, epochs=epochs, batch_size=batch_size)"
      ],
      "metadata": {
        "colab": {
          "base_uri": "https://localhost:8080/"
        },
        "id": "_6WflZEeeNOI",
        "outputId": "b0ffc2bb-a9cf-4b67-9396-9d303db6dc06"
      },
      "execution_count": 67,
      "outputs": [
        {
          "output_type": "stream",
          "name": "stdout",
          "text": [
            "Epoch 1/15\n",
            "446/446 [==============================] - 48s 87ms/step - loss: 0.5834 - accuracy: 0.7145 - precision: 0.6718 - recall: 0.4776 - val_loss: 0.8541 - val_accuracy: 0.4041 - val_precision: 0.6276 - val_recall: 0.1243\n",
            "Epoch 2/15\n",
            "446/446 [==============================] - 37s 83ms/step - loss: 0.5245 - accuracy: 0.7484 - precision: 0.6742 - recall: 0.5197 - val_loss: 0.8308 - val_accuracy: 0.4181 - val_precision: 0.7245 - val_recall: 0.1176\n",
            "Epoch 3/15\n",
            "446/446 [==============================] - 37s 83ms/step - loss: 0.4910 - accuracy: 0.7683 - precision: 0.7091 - recall: 0.5537 - val_loss: 0.7447 - val_accuracy: 0.5601 - val_precision: 0.8932 - val_recall: 0.3397\n",
            "Epoch 4/15\n",
            "446/446 [==============================] - 37s 83ms/step - loss: 0.4839 - accuracy: 0.7756 - precision: 0.7193 - recall: 0.5704 - val_loss: 0.6004 - val_accuracy: 0.7603 - val_precision: 0.9239 - val_recall: 0.6736\n",
            "Epoch 5/15\n",
            "446/446 [==============================] - 37s 82ms/step - loss: 0.4649 - accuracy: 0.7891 - precision: 0.7405 - recall: 0.5957 - val_loss: 0.5854 - val_accuracy: 0.7759 - val_precision: 0.9227 - val_recall: 0.7017\n",
            "Epoch 6/15\n",
            "446/446 [==============================] - 37s 83ms/step - loss: 0.4590 - accuracy: 0.7932 - precision: 0.7408 - recall: 0.6135 - val_loss: 0.5634 - val_accuracy: 0.7764 - val_precision: 0.9321 - val_recall: 0.6943\n",
            "Epoch 7/15\n",
            "446/446 [==============================] - 37s 83ms/step - loss: 0.4563 - accuracy: 0.7940 - precision: 0.7458 - recall: 0.6088 - val_loss: 0.5508 - val_accuracy: 0.7821 - val_precision: 0.9311 - val_recall: 0.7051\n",
            "Epoch 8/15\n",
            "446/446 [==============================] - 37s 83ms/step - loss: 0.4458 - accuracy: 0.8010 - precision: 0.7544 - recall: 0.6251 - val_loss: 0.5194 - val_accuracy: 0.7899 - val_precision: 0.9294 - val_recall: 0.7200\n",
            "Epoch 9/15\n",
            "446/446 [==============================] - 37s 83ms/step - loss: 0.4415 - accuracy: 0.8033 - precision: 0.7578 - recall: 0.6296 - val_loss: 0.4679 - val_accuracy: 0.8014 - val_precision: 0.9072 - val_recall: 0.7614\n",
            "Epoch 10/15\n",
            "446/446 [==============================] - 37s 83ms/step - loss: 0.4312 - accuracy: 0.8089 - precision: 0.7681 - recall: 0.6369 - val_loss: 0.5401 - val_accuracy: 0.7806 - val_precision: 0.9327 - val_recall: 0.7009\n",
            "Epoch 11/15\n",
            "446/446 [==============================] - 37s 83ms/step - loss: 0.4217 - accuracy: 0.8160 - precision: 0.7786 - recall: 0.6497 - val_loss: 0.4715 - val_accuracy: 0.7998 - val_precision: 0.9160 - val_recall: 0.7498\n",
            "Epoch 12/15\n",
            "446/446 [==============================] - 37s 83ms/step - loss: 0.4182 - accuracy: 0.8196 - precision: 0.7816 - recall: 0.6601 - val_loss: 0.4771 - val_accuracy: 0.8019 - val_precision: 0.9172 - val_recall: 0.7523\n",
            "Epoch 13/15\n",
            "446/446 [==============================] - 37s 83ms/step - loss: 0.4158 - accuracy: 0.8209 - precision: 0.7849 - recall: 0.6606 - val_loss: 0.4527 - val_accuracy: 0.8040 - val_precision: 0.9021 - val_recall: 0.7713\n",
            "Epoch 14/15\n",
            "446/446 [==============================] - 37s 83ms/step - loss: 0.4073 - accuracy: 0.8273 - precision: 0.7954 - recall: 0.6705 - val_loss: 0.4557 - val_accuracy: 0.7993 - val_precision: 0.8921 - val_recall: 0.7738\n",
            "Epoch 15/15\n",
            "446/446 [==============================] - 37s 83ms/step - loss: 0.4029 - accuracy: 0.8250 - precision: 0.7881 - recall: 0.6720 - val_loss: 0.4448 - val_accuracy: 0.8024 - val_precision: 0.8832 - val_recall: 0.7896\n"
          ]
        }
      ]
    },
    {
      "cell_type": "code",
      "source": [
        "_,accuracy, precision, recall = multimodal_model.evaluate(test_ds)\n",
        "print(f\"Accuracy on the test set: {round(accuracy * 100, 2)}%.\")"
      ],
      "metadata": {
        "colab": {
          "base_uri": "https://localhost:8080/"
        },
        "id": "nwogtxgqhZxd",
        "outputId": "1e5bed29-77a4-4f31-9d9c-2c91ef78b8d1"
      },
      "execution_count": 68,
      "outputs": [
        {
          "output_type": "stream",
          "name": "stdout",
          "text": [
            "61/61 [==============================] - 4s 71ms/step - loss: 0.4448 - accuracy: 0.8024 - precision: 0.8832 - recall: 0.7896\n",
            "Accuracy on the test set: 80.24%.\n"
          ]
        }
      ]
    },
    {
      "cell_type": "markdown",
      "source": [
        "So, we got decent accuracy, pecision and recall with the Attention mechanism. We would like to experiment with increased complexity of the model to see if we get better numbers."
      ],
      "metadata": {
        "id": "p1CsuCY0JH4W"
      }
    },
    {
      "cell_type": "markdown",
      "source": [
        "# Experiment 1 - num_projection_layer = 1"
      ],
      "metadata": {
        "id": "yGd2VPdQJ3q3"
      }
    },
    {
      "cell_type": "code",
      "source": [
        "multimodal_model = create_multimodal_model(num_projection_layers = 1, attention=True)\n",
        "multimodal_model.summary()"
      ],
      "metadata": {
        "colab": {
          "base_uri": "https://localhost:8080/"
        },
        "id": "PTgU7rB6n5cH",
        "outputId": "cbc9a642-813d-4159-f4da-f99488c87b2b"
      },
      "execution_count": 69,
      "outputs": [
        {
          "output_type": "stream",
          "name": "stdout",
          "text": [
            "Model: \"model_4\"\n",
            "__________________________________________________________________________________________________\n",
            " Layer (type)                   Output Shape         Param #     Connected to                     \n",
            "==================================================================================================\n",
            " image_1 (InputLayer)           [(None, 128, 128, 3  0           []                               \n",
            "                                )]                                                                \n",
            "                                                                                                  \n",
            " input_mask (InputLayer)        [(None, 128)]        0           []                               \n",
            "                                                                                                  \n",
            " input_type_ids (InputLayer)    [(None, 128)]        0           []                               \n",
            "                                                                                                  \n",
            " input_word_ids (InputLayer)    [(None, 128)]        0           []                               \n",
            "                                                                                                  \n",
            " vision_encoder (Functional)    (None, 128)          4230307     ['image_1[0][0]']                \n",
            "                                                                                                  \n",
            " text_encoder (Functional)      (None, 128)          9640705     ['input_mask[0][0]',             \n",
            "                                                                  'input_type_ids[0][0]',         \n",
            "                                                                  'input_word_ids[0][0]']         \n",
            "                                                                                                  \n",
            " dropout_8 (Dropout)            (None, 128)          0           ['vision_encoder[0][0]']         \n",
            "                                                                                                  \n",
            " dropout_9 (Dropout)            (None, 128)          0           ['text_encoder[0][0]']           \n",
            "                                                                                                  \n",
            " concatenate_4 (Concatenate)    (None, 256)          0           ['dropout_8[0][0]',              \n",
            "                                                                  'dropout_9[0][0]']              \n",
            "                                                                                                  \n",
            " attention_1 (Attention)        (None, 128)          1           ['dropout_8[0][0]',              \n",
            "                                                                  'dropout_9[0][0]']              \n",
            "                                                                                                  \n",
            " concatenate_5 (Concatenate)    (None, 384)          0           ['concatenate_4[0][0]',          \n",
            "                                                                  'attention_1[0][0]']            \n",
            "                                                                                                  \n",
            " dense_13 (Dense)               (None, 1)            385         ['concatenate_5[0][0]']          \n",
            "                                                                                                  \n",
            "==================================================================================================\n",
            "Total params: 13,871,398\n",
            "Trainable params: 230,786\n",
            "Non-trainable params: 13,640,612\n",
            "__________________________________________________________________________________________________\n"
          ]
        }
      ]
    },
    {
      "cell_type": "code",
      "source": [
        "multimodal_model.compile(\n",
        "    optimizer=tf.keras.optimizers.Adam(), loss=loss, metrics=metrics\n",
        ")\n",
        "\n",
        "history = multimodal_model.fit(train_ds, validation_data=test_ds, epochs=epochs, batch_size=batch_size)"
      ],
      "metadata": {
        "colab": {
          "base_uri": "https://localhost:8080/"
        },
        "id": "wXqvne7IKSxe",
        "outputId": "4d89baca-27f2-4705-e317-383e7926381c"
      },
      "execution_count": 70,
      "outputs": [
        {
          "output_type": "stream",
          "name": "stdout",
          "text": [
            "Epoch 1/15\n",
            "446/446 [==============================] - 51s 90ms/step - loss: 0.6260 - accuracy: 0.6862 - precision: 0.6225 - recall: 0.4298 - val_loss: 1.1391 - val_accuracy: 0.3671 - val_precision: 0.4107 - val_recall: 0.0191\n",
            "Epoch 2/15\n",
            "446/446 [==============================] - 38s 85ms/step - loss: 0.5387 - accuracy: 0.7336 - precision: 0.6534 - recall: 0.4801 - val_loss: 0.6669 - val_accuracy: 0.6069 - val_precision: 0.8263 - val_recall: 0.4731\n",
            "Epoch 3/15\n",
            "446/446 [==============================] - 38s 85ms/step - loss: 0.4891 - accuracy: 0.7682 - precision: 0.7092 - recall: 0.5529 - val_loss: 0.5848 - val_accuracy: 0.7551 - val_precision: 0.9035 - val_recall: 0.6827\n",
            "Epoch 4/15\n",
            "446/446 [==============================] - 37s 84ms/step - loss: 0.4717 - accuracy: 0.7810 - precision: 0.7272 - recall: 0.5817 - val_loss: 0.5072 - val_accuracy: 0.7889 - val_precision: 0.8796 - val_recall: 0.7688\n",
            "Epoch 5/15\n",
            "446/446 [==============================] - 38s 84ms/step - loss: 0.4457 - accuracy: 0.7933 - precision: 0.7448 - recall: 0.6073 - val_loss: 0.5122 - val_accuracy: 0.7972 - val_precision: 0.8894 - val_recall: 0.7730\n",
            "Epoch 6/15\n",
            "446/446 [==============================] - 37s 84ms/step - loss: 0.4195 - accuracy: 0.8142 - precision: 0.7741 - recall: 0.6495 - val_loss: 0.5443 - val_accuracy: 0.7972 - val_precision: 0.8962 - val_recall: 0.7655\n",
            "Epoch 7/15\n",
            "446/446 [==============================] - 38s 84ms/step - loss: 0.4063 - accuracy: 0.8227 - precision: 0.7854 - recall: 0.6669 - val_loss: 0.5249 - val_accuracy: 0.8014 - val_precision: 0.8917 - val_recall: 0.7780\n",
            "Epoch 8/15\n",
            "446/446 [==============================] - 38s 84ms/step - loss: 0.3925 - accuracy: 0.8300 - precision: 0.7911 - recall: 0.6873 - val_loss: 0.5652 - val_accuracy: 0.7936 - val_precision: 0.8857 - val_recall: 0.7705\n",
            "Epoch 9/15\n",
            "446/446 [==============================] - 38s 84ms/step - loss: 0.3830 - accuracy: 0.8354 - precision: 0.8014 - recall: 0.6934 - val_loss: 0.5747 - val_accuracy: 0.7873 - val_precision: 0.8793 - val_recall: 0.7664\n",
            "Epoch 10/15\n",
            "446/446 [==============================] - 38s 85ms/step - loss: 0.3716 - accuracy: 0.8429 - precision: 0.8061 - recall: 0.7154 - val_loss: 0.5522 - val_accuracy: 0.8034 - val_precision: 0.9005 - val_recall: 0.7722\n",
            "Epoch 11/15\n",
            "446/446 [==============================] - 38s 84ms/step - loss: 0.3610 - accuracy: 0.8482 - precision: 0.8155 - recall: 0.7219 - val_loss: 0.5672 - val_accuracy: 0.7925 - val_precision: 0.8659 - val_recall: 0.7920\n",
            "Epoch 12/15\n",
            "446/446 [==============================] - 38s 84ms/step - loss: 0.3493 - accuracy: 0.8553 - precision: 0.8261 - recall: 0.7339 - val_loss: 0.5782 - val_accuracy: 0.7811 - val_precision: 0.8435 - val_recall: 0.7995\n",
            "Epoch 13/15\n",
            "446/446 [==============================] - 38s 84ms/step - loss: 0.3437 - accuracy: 0.8551 - precision: 0.8242 - recall: 0.7358 - val_loss: 0.5808 - val_accuracy: 0.7691 - val_precision: 0.8150 - val_recall: 0.8177\n",
            "Epoch 14/15\n",
            "446/446 [==============================] - 38s 84ms/step - loss: 0.3358 - accuracy: 0.8604 - precision: 0.8314 - recall: 0.7452 - val_loss: 0.6087 - val_accuracy: 0.7811 - val_precision: 0.8579 - val_recall: 0.7804\n",
            "Epoch 15/15\n",
            "446/446 [==============================] - 38s 84ms/step - loss: 0.3237 - accuracy: 0.8677 - precision: 0.8428 - recall: 0.7564 - val_loss: 0.5768 - val_accuracy: 0.7660 - val_precision: 0.8060 - val_recall: 0.8260\n"
          ]
        }
      ]
    },
    {
      "cell_type": "markdown",
      "source": [
        "# Experiment 2 - num_projection_layers = 2"
      ],
      "metadata": {
        "id": "NrYwsGTANmH7"
      }
    },
    {
      "cell_type": "code",
      "source": [
        "multimodal_model = create_multimodal_model(num_projection_layers = 2, attention=True)\n",
        "multimodal_model.summary()"
      ],
      "metadata": {
        "colab": {
          "base_uri": "https://localhost:8080/"
        },
        "id": "liXu-NWSKg8R",
        "outputId": "2cb7d9ac-4c2c-4a19-a3f5-1cf44e8a071b"
      },
      "execution_count": 71,
      "outputs": [
        {
          "output_type": "stream",
          "name": "stdout",
          "text": [
            "Model: \"model_5\"\n",
            "__________________________________________________________________________________________________\n",
            " Layer (type)                   Output Shape         Param #     Connected to                     \n",
            "==================================================================================================\n",
            " image_1 (InputLayer)           [(None, 128, 128, 3  0           []                               \n",
            "                                )]                                                                \n",
            "                                                                                                  \n",
            " input_mask (InputLayer)        [(None, 128)]        0           []                               \n",
            "                                                                                                  \n",
            " input_type_ids (InputLayer)    [(None, 128)]        0           []                               \n",
            "                                                                                                  \n",
            " input_word_ids (InputLayer)    [(None, 128)]        0           []                               \n",
            "                                                                                                  \n",
            " vision_encoder (Functional)    (None, 128)          4247075     ['image_1[0][0]']                \n",
            "                                                                                                  \n",
            " text_encoder (Functional)      (None, 128)          9657473     ['input_mask[0][0]',             \n",
            "                                                                  'input_type_ids[0][0]',         \n",
            "                                                                  'input_word_ids[0][0]']         \n",
            "                                                                                                  \n",
            " dropout_14 (Dropout)           (None, 128)          0           ['vision_encoder[0][0]']         \n",
            "                                                                                                  \n",
            " dropout_15 (Dropout)           (None, 128)          0           ['text_encoder[0][0]']           \n",
            "                                                                                                  \n",
            " concatenate_6 (Concatenate)    (None, 256)          0           ['dropout_14[0][0]',             \n",
            "                                                                  'dropout_15[0][0]']             \n",
            "                                                                                                  \n",
            " attention_2 (Attention)        (None, 128)          1           ['dropout_14[0][0]',             \n",
            "                                                                  'dropout_15[0][0]']             \n",
            "                                                                                                  \n",
            " concatenate_7 (Concatenate)    (None, 384)          0           ['concatenate_6[0][0]',          \n",
            "                                                                  'attention_2[0][0]']            \n",
            "                                                                                                  \n",
            " dense_20 (Dense)               (None, 1)            385         ['concatenate_7[0][0]']          \n",
            "                                                                                                  \n",
            "==================================================================================================\n",
            "Total params: 13,904,934\n",
            "Trainable params: 264,322\n",
            "Non-trainable params: 13,640,612\n",
            "__________________________________________________________________________________________________\n"
          ]
        }
      ]
    },
    {
      "cell_type": "code",
      "source": [
        "multimodal_model.compile(\n",
        "    optimizer=tf.keras.optimizers.Adam(), loss=loss, metrics=metrics\n",
        ")\n",
        "\n",
        "history = multimodal_model.fit(train_ds, validation_data=test_ds, epochs=epochs, batch_size=batch_size)"
      ],
      "metadata": {
        "colab": {
          "base_uri": "https://localhost:8080/"
        },
        "id": "BUEk9AS5Nsmu",
        "outputId": "4d4299b8-c9a8-42d2-818e-b0d9e57dc648"
      },
      "execution_count": 72,
      "outputs": [
        {
          "output_type": "stream",
          "name": "stdout",
          "text": [
            "Epoch 1/15\n",
            "446/446 [==============================] - 54s 91ms/step - loss: 0.6347 - accuracy: 0.6780 - precision: 0.6059 - recall: 0.4216 - val_loss: 0.8072 - val_accuracy: 0.4831 - val_precision: 0.7825 - val_recall: 0.2444\n",
            "Epoch 2/15\n",
            "446/446 [==============================] - 38s 86ms/step - loss: 0.5223 - accuracy: 0.7443 - precision: 0.6682 - recall: 0.5099 - val_loss: 0.5913 - val_accuracy: 0.7670 - val_precision: 0.9193 - val_recall: 0.6893\n",
            "Epoch 3/15\n",
            "446/446 [==============================] - 38s 86ms/step - loss: 0.4785 - accuracy: 0.7761 - precision: 0.7186 - recall: 0.5737 - val_loss: 0.5520 - val_accuracy: 0.7868 - val_precision: 0.9087 - val_recall: 0.7341\n",
            "Epoch 4/15\n",
            "446/446 [==============================] - 38s 86ms/step - loss: 0.4504 - accuracy: 0.7965 - precision: 0.7517 - recall: 0.6098 - val_loss: 0.4880 - val_accuracy: 0.8029 - val_precision: 0.9140 - val_recall: 0.7572\n",
            "Epoch 5/15\n",
            "446/446 [==============================] - 38s 85ms/step - loss: 0.4332 - accuracy: 0.8060 - precision: 0.7640 - recall: 0.6310 - val_loss: 0.4834 - val_accuracy: 0.8050 - val_precision: 0.9008 - val_recall: 0.7746\n",
            "Epoch 6/15\n",
            "446/446 [==============================] - 38s 85ms/step - loss: 0.4059 - accuracy: 0.8217 - precision: 0.7825 - recall: 0.6673 - val_loss: 0.4889 - val_accuracy: 0.7982 - val_precision: 0.8608 - val_recall: 0.8094\n",
            "Epoch 7/15\n",
            "446/446 [==============================] - 38s 85ms/step - loss: 0.3882 - accuracy: 0.8337 - precision: 0.7956 - recall: 0.6952 - val_loss: 0.5097 - val_accuracy: 0.7972 - val_precision: 0.8525 - val_recall: 0.8186\n",
            "Epoch 8/15\n",
            "446/446 [==============================] - 38s 84ms/step - loss: 0.3772 - accuracy: 0.8397 - precision: 0.8038 - recall: 0.7066 - val_loss: 0.5094 - val_accuracy: 0.7993 - val_precision: 0.8742 - val_recall: 0.7945\n",
            "Epoch 9/15\n",
            "446/446 [==============================] - 38s 84ms/step - loss: 0.3668 - accuracy: 0.8449 - precision: 0.8071 - recall: 0.7215 - val_loss: 0.5257 - val_accuracy: 0.7821 - val_precision: 0.8333 - val_recall: 0.8161\n",
            "Epoch 10/15\n",
            "446/446 [==============================] - 38s 84ms/step - loss: 0.3559 - accuracy: 0.8501 - precision: 0.8138 - recall: 0.7317 - val_loss: 0.5069 - val_accuracy: 0.8019 - val_precision: 0.8803 - val_recall: 0.7920\n",
            "Epoch 11/15\n",
            "446/446 [==============================] - 38s 84ms/step - loss: 0.3495 - accuracy: 0.8552 - precision: 0.8241 - recall: 0.7364 - val_loss: 0.5436 - val_accuracy: 0.7748 - val_precision: 0.8319 - val_recall: 0.8036\n",
            "Epoch 12/15\n",
            "446/446 [==============================] - 38s 84ms/step - loss: 0.3371 - accuracy: 0.8602 - precision: 0.8276 - recall: 0.7498 - val_loss: 0.5721 - val_accuracy: 0.7806 - val_precision: 0.8470 - val_recall: 0.7937\n",
            "Epoch 13/15\n",
            "446/446 [==============================] - 38s 84ms/step - loss: 0.3352 - accuracy: 0.8601 - precision: 0.8306 - recall: 0.7456 - val_loss: 0.5176 - val_accuracy: 0.7837 - val_precision: 0.8407 - val_recall: 0.8086\n",
            "Epoch 14/15\n",
            "446/446 [==============================] - 38s 85ms/step - loss: 0.3252 - accuracy: 0.8650 - precision: 0.8373 - recall: 0.7541 - val_loss: 0.6112 - val_accuracy: 0.7655 - val_precision: 0.8198 - val_recall: 0.8028\n",
            "Epoch 15/15\n",
            "446/446 [==============================] - 38s 84ms/step - loss: 0.3145 - accuracy: 0.8719 - precision: 0.8456 - recall: 0.7680 - val_loss: 0.5524 - val_accuracy: 0.7858 - val_precision: 0.8442 - val_recall: 0.8078\n"
          ]
        }
      ]
    },
    {
      "cell_type": "code",
      "source": [],
      "metadata": {
        "id": "YcJf_nguNyCz"
      },
      "execution_count": null,
      "outputs": []
    },
    {
      "cell_type": "markdown",
      "source": [
        "It doesn't seem that increasing the projection layer to 2 is giving any significant benefits. We will stick to 1 layer."
      ],
      "metadata": {
        "id": "lA06zwc2Qm0K"
      }
    },
    {
      "cell_type": "markdown",
      "source": [
        "# Experiment 3 - EfficientV2 as vision encoder"
      ],
      "metadata": {
        "id": "otM4HrPrqOui"
      }
    },
    {
      "cell_type": "code",
      "source": [
        "def create_vision_encoder(\n",
        "    num_projection_layers, projection_dims, dropout_rate, trainable=False\n",
        "):\n",
        "    # Load the pre-trained ResNet50V2 model to be used as the base encoder.\n",
        "    resnet_v2 = keras.applications.EfficientNetV2B0(\n",
        "        include_top=False, weights=\"imagenet\", pooling=\"avg\"\n",
        "    )\n",
        "    # Set the trainability of the base encoder.\n",
        "    for layer in resnet_v2.layers:\n",
        "        layer.trainable = trainable\n",
        "\n",
        "    # Receive the images as inputs.\n",
        "    image_1 = keras.Input(shape=(224, 224, 3), name=\"image_1\")\n",
        "    \n",
        "    # Preprocess the input image.\n",
        "    preprocessed_1 = keras.applications.resnet_v2.preprocess_input(image_1)\n",
        "    \n",
        "    # Generate the embeddings for the images using the resnet_v2 model\n",
        "    # concatenate them.\n",
        "    embeddings = resnet_v2(preprocessed_1)\n",
        "    #embeddings = keras.layers.Concatenate()([embeddings_1, embeddings_2])\n",
        "\n",
        "    # Project the embeddings produced by the model.\n",
        "    outputs = project_embeddings(\n",
        "        embeddings, num_projection_layers, projection_dims, dropout_rate\n",
        "    )\n",
        "    # Create the vision encoder model.\n",
        "    return keras.Model([image_1], outputs, name=\"vision_encoder\")"
      ],
      "metadata": {
        "id": "Ivna6as2qNg2"
      },
      "execution_count": 28,
      "outputs": []
    },
    {
      "cell_type": "code",
      "source": [
        "multimodal_model = create_multimodal_model(num_projection_layers = 1, attention=True)\n",
        "multimodal_model.summary()"
      ],
      "metadata": {
        "colab": {
          "base_uri": "https://localhost:8080/"
        },
        "id": "j7ESbSHGqh7a",
        "outputId": "e51a45b1-541d-414d-bdc7-eb0c6b311ec0"
      },
      "execution_count": 35,
      "outputs": [
        {
          "output_type": "stream",
          "name": "stdout",
          "text": [
            "Model: \"model_3\"\n",
            "__________________________________________________________________________________________________\n",
            " Layer (type)                   Output Shape         Param #     Connected to                     \n",
            "==================================================================================================\n",
            " image_1 (InputLayer)           [(None, 128, 128, 3  0           []                               \n",
            "                                )]                                                                \n",
            "                                                                                                  \n",
            " input_mask (InputLayer)        [(None, 128)]        0           []                               \n",
            "                                                                                                  \n",
            " input_type_ids (InputLayer)    [(None, 128)]        0           []                               \n",
            "                                                                                                  \n",
            " input_word_ids (InputLayer)    [(None, 128)]        0           []                               \n",
            "                                                                                                  \n",
            " vision_encoder (Functional)    (None, 128)          6100048     ['image_1[0][0]']                \n",
            "                                                                                                  \n",
            " text_encoder (Functional)      (None, 128)          9640705     ['input_mask[0][0]',             \n",
            "                                                                  'input_type_ids[0][0]',         \n",
            "                                                                  'input_word_ids[0][0]']         \n",
            "                                                                                                  \n",
            " dropout_6 (Dropout)            (None, 128)          0           ['vision_encoder[0][0]']         \n",
            "                                                                                                  \n",
            " dropout_7 (Dropout)            (None, 128)          0           ['text_encoder[0][0]']           \n",
            "                                                                                                  \n",
            " concatenate_3 (Concatenate)    (None, 256)          0           ['dropout_6[0][0]',              \n",
            "                                                                  'dropout_7[0][0]']              \n",
            "                                                                                                  \n",
            " attention_1 (Attention)        (None, 128)          1           ['dropout_6[0][0]',              \n",
            "                                                                  'dropout_7[0][0]']              \n",
            "                                                                                                  \n",
            " concatenate_4 (Concatenate)    (None, 384)          0           ['concatenate_3[0][0]',          \n",
            "                                                                  'attention_1[0][0]']            \n",
            "                                                                                                  \n",
            " dense_10 (Dense)               (None, 1)            385         ['concatenate_4[0][0]']          \n",
            "                                                                                                  \n",
            "==================================================================================================\n",
            "Total params: 15,741,139\n",
            "Trainable params: 230,786\n",
            "Non-trainable params: 15,510,353\n",
            "__________________________________________________________________________________________________\n"
          ]
        }
      ]
    },
    {
      "cell_type": "code",
      "source": [
        "multimodal_model.compile(\n",
        "    optimizer=tf.keras.optimizers.Adam(), loss=loss, metrics=metrics\n",
        ")\n",
        "\n",
        "history = multimodal_model.fit(train_ds, validation_data=test_ds, epochs=epochs, batch_size=batch_size)"
      ],
      "metadata": {
        "colab": {
          "base_uri": "https://localhost:8080/"
        },
        "id": "4cOsxLjWqjXu",
        "outputId": "d532df1c-dd8b-4c91-c067-62563c3a0ae8"
      },
      "execution_count": 36,
      "outputs": [
        {
          "output_type": "stream",
          "name": "stdout",
          "text": [
            "Epoch 1/15\n",
            "446/446 [==============================] - 163s 338ms/step - loss: 0.5844 - accuracy: 0.6941 - precision: 0.5810 - recall: 0.3839 - val_loss: 0.5492 - val_accuracy: 0.7899 - val_precision: 0.8388 - val_recall: 0.8235\n",
            "Epoch 2/15\n",
            "446/446 [==============================] - 32s 72ms/step - loss: 0.4879 - accuracy: 0.7732 - precision: 0.7188 - recall: 0.5596 - val_loss: 0.4671 - val_accuracy: 0.7962 - val_precision: 0.8462 - val_recall: 0.8252\n",
            "Epoch 3/15\n",
            "446/446 [==============================] - 32s 72ms/step - loss: 0.4491 - accuracy: 0.7964 - precision: 0.7464 - recall: 0.6181 - val_loss: 0.4509 - val_accuracy: 0.7998 - val_precision: 0.8750 - val_recall: 0.7945\n",
            "Epoch 4/15\n",
            "446/446 [==============================] - 32s 71ms/step - loss: 0.4307 - accuracy: 0.8065 - precision: 0.7601 - recall: 0.6393 - val_loss: 0.4290 - val_accuracy: 0.8014 - val_precision: 0.8852 - val_recall: 0.7854\n",
            "Epoch 5/15\n",
            "446/446 [==============================] - 32s 72ms/step - loss: 0.4072 - accuracy: 0.8207 - precision: 0.7815 - recall: 0.6644 - val_loss: 0.4118 - val_accuracy: 0.8071 - val_precision: 0.8786 - val_recall: 0.8036\n",
            "Epoch 6/15\n",
            "446/446 [==============================] - 32s 71ms/step - loss: 0.3897 - accuracy: 0.8304 - precision: 0.7939 - recall: 0.6848 - val_loss: 0.4120 - val_accuracy: 0.8097 - val_precision: 0.8738 - val_recall: 0.8144\n",
            "Epoch 7/15\n",
            "446/446 [==============================] - 32s 71ms/step - loss: 0.3746 - accuracy: 0.8394 - precision: 0.8077 - recall: 0.6997 - val_loss: 0.4218 - val_accuracy: 0.8128 - val_precision: 0.8875 - val_recall: 0.8036\n",
            "Epoch 8/15\n",
            "446/446 [==============================] - 32s 71ms/step - loss: 0.3568 - accuracy: 0.8494 - precision: 0.8186 - recall: 0.7223 - val_loss: 0.4166 - val_accuracy: 0.8060 - val_precision: 0.8703 - val_recall: 0.8119\n",
            "Epoch 9/15\n",
            "446/446 [==============================] - 32s 71ms/step - loss: 0.3463 - accuracy: 0.8545 - precision: 0.8244 - recall: 0.7331 - val_loss: 0.4206 - val_accuracy: 0.8138 - val_precision: 0.8695 - val_recall: 0.8277\n",
            "Epoch 10/15\n",
            "446/446 [==============================] - 32s 71ms/step - loss: 0.3393 - accuracy: 0.8554 - precision: 0.8251 - recall: 0.7356 - val_loss: 0.4390 - val_accuracy: 0.8040 - val_precision: 0.8559 - val_recall: 0.8268\n",
            "Epoch 11/15\n",
            "446/446 [==============================] - 32s 72ms/step - loss: 0.3238 - accuracy: 0.8627 - precision: 0.8363 - recall: 0.7470 - val_loss: 0.4548 - val_accuracy: 0.8008 - val_precision: 0.8428 - val_recall: 0.8393\n",
            "Epoch 12/15\n",
            "446/446 [==============================] - 32s 72ms/step - loss: 0.3194 - accuracy: 0.8658 - precision: 0.8393 - recall: 0.7541 - val_loss: 0.4901 - val_accuracy: 0.7982 - val_precision: 0.8767 - val_recall: 0.7896\n",
            "Epoch 13/15\n",
            "446/446 [==============================] - 32s 71ms/step - loss: 0.3114 - accuracy: 0.8725 - precision: 0.8487 - recall: 0.7660 - val_loss: 0.4906 - val_accuracy: 0.7956 - val_precision: 0.8386 - val_recall: 0.8351\n",
            "Epoch 14/15\n",
            "446/446 [==============================] - 32s 71ms/step - loss: 0.2965 - accuracy: 0.8783 - precision: 0.8562 - recall: 0.7768 - val_loss: 0.4999 - val_accuracy: 0.7878 - val_precision: 0.8214 - val_recall: 0.8459\n",
            "Epoch 15/15\n",
            "446/446 [==============================] - 32s 71ms/step - loss: 0.2855 - accuracy: 0.8818 - precision: 0.8540 - recall: 0.7916 - val_loss: 0.5063 - val_accuracy: 0.7946 - val_precision: 0.8852 - val_recall: 0.7730\n"
          ]
        }
      ]
    },
    {
      "cell_type": "markdown",
      "source": [
        "# Experiment 4 - EfficientNetV2B3, num_projection_layers = 0 (to keep the complexity low)\n",
        "\n",
        "---\n",
        "\n"
      ],
      "metadata": {
        "id": "zLKlQ3cmzs4b"
      }
    },
    {
      "cell_type": "code",
      "source": [
        "def create_vision_encoder(\n",
        "    num_projection_layers, projection_dims, dropout_rate, trainable=False\n",
        "):\n",
        "    # Load the pre-trained ResNet50V2 model to be used as the base encoder.\n",
        "    resnet_v2 = keras.applications.EfficientNetV2B3(\n",
        "        include_top=False, weights=\"imagenet\", pooling=\"avg\"\n",
        "    )\n",
        "    # Set the trainability of the base encoder.\n",
        "    for layer in resnet_v2.layers:\n",
        "        layer.trainable = trainable\n",
        "\n",
        "    # Receive the images as inputs.\n",
        "    image_1 = keras.Input(shape=(224, 224, 3), name=\"image_1\")\n",
        "    \n",
        "    # Preprocess the input image.\n",
        "    preprocessed_1 = keras.applications.resnet_v2.preprocess_input(image_1)\n",
        "    \n",
        "    # Generate the embeddings for the images using the resnet_v2 model\n",
        "    # concatenate them.\n",
        "    embeddings = resnet_v2(preprocessed_1)\n",
        "    #embeddings = keras.layers.Concatenate()([embeddings_1, embeddings_2])\n",
        "\n",
        "    # Project the embeddings produced by the model.\n",
        "    outputs = project_embeddings(\n",
        "        embeddings, num_projection_layers, projection_dims, dropout_rate\n",
        "    )\n",
        "    # Create the vision encoder model.\n",
        "    return keras.Model([image_1], outputs, name=\"vision_encoder\")"
      ],
      "metadata": {
        "id": "pruirvuiqsK6"
      },
      "execution_count": 32,
      "outputs": []
    },
    {
      "cell_type": "code",
      "source": [
        "multimodal_model = create_multimodal_model(num_projection_layers = 0, attention=True)\n",
        "multimodal_model.summary()"
      ],
      "metadata": {
        "colab": {
          "base_uri": "https://localhost:8080/"
        },
        "id": "ATiNbcM6z8ly",
        "outputId": "698958f7-0b31-469f-8dc8-29e8ecec987b"
      },
      "execution_count": 43,
      "outputs": [
        {
          "output_type": "stream",
          "name": "stdout",
          "text": [
            "Model: \"model_6\"\n",
            "__________________________________________________________________________________________________\n",
            " Layer (type)                   Output Shape         Param #     Connected to                     \n",
            "==================================================================================================\n",
            " image_1 (InputLayer)           [(None, 128, 128, 3  0           []                               \n",
            "                                )]                                                                \n",
            "                                                                                                  \n",
            " input_mask (InputLayer)        [(None, 128)]        0           []                               \n",
            "                                                                                                  \n",
            " input_type_ids (InputLayer)    [(None, 128)]        0           []                               \n",
            "                                                                                                  \n",
            " input_word_ids (InputLayer)    [(None, 128)]        0           []                               \n",
            "                                                                                                  \n",
            " vision_encoder (Functional)    (None, 128)          13127358    ['image_1[0][0]']                \n",
            "                                                                                                  \n",
            " text_encoder (Functional)      (None, 128)          9623937     ['input_mask[0][0]',             \n",
            "                                                                  'input_type_ids[0][0]',         \n",
            "                                                                  'input_word_ids[0][0]']         \n",
            "                                                                                                  \n",
            " dropout_16 (Dropout)           (None, 128)          0           ['vision_encoder[0][0]']         \n",
            "                                                                                                  \n",
            " dropout_17 (Dropout)           (None, 128)          0           ['text_encoder[0][0]']           \n",
            "                                                                                                  \n",
            " concatenate_9 (Concatenate)    (None, 256)          0           ['dropout_16[0][0]',             \n",
            "                                                                  'dropout_17[0][0]']             \n",
            "                                                                                                  \n",
            " attention_4 (Attention)        (None, 128)          1           ['dropout_16[0][0]',             \n",
            "                                                                  'dropout_17[0][0]']             \n",
            "                                                                                                  \n",
            " concatenate_10 (Concatenate)   (None, 384)          0           ['concatenate_9[0][0]',          \n",
            "                                                                  'attention_4[0][0]']            \n",
            "                                                                                                  \n",
            " dense_23 (Dense)               (None, 1)            385         ['concatenate_10[0][0]']         \n",
            "                                                                                                  \n",
            "==================================================================================================\n",
            "Total params: 22,751,681\n",
            "Trainable params: 230,018\n",
            "Non-trainable params: 22,521,663\n",
            "__________________________________________________________________________________________________\n"
          ]
        }
      ]
    },
    {
      "cell_type": "code",
      "source": [
        "reduce_lr = tf.keras.callbacks.ReduceLROnPlateau(monitor='val_loss', factor=0.2,\n",
        "                              patience=5, min_lr=0.00001)"
      ],
      "metadata": {
        "id": "t2QDrQBD4xEB"
      },
      "execution_count": 44,
      "outputs": []
    },
    {
      "cell_type": "code",
      "source": [
        "multimodal_model.compile(\n",
        "    optimizer=tf.keras.optimizers.Adam(), loss=loss, metrics=metrics\n",
        ")\n",
        "\n",
        "history = multimodal_model.fit(train_ds, validation_data=test_ds, epochs=10, batch_size=batch_size, callbacks=reduce_lr)"
      ],
      "metadata": {
        "colab": {
          "base_uri": "https://localhost:8080/"
        },
        "id": "fgclz9VFz9WM",
        "outputId": "fb7014f9-bd95-427d-a368-d3be8996b8ff"
      },
      "execution_count": 45,
      "outputs": [
        {
          "output_type": "stream",
          "name": "stdout",
          "text": [
            "Epoch 1/10\n",
            "446/446 [==============================] - 69s 123ms/step - loss: 0.4365 - accuracy: 0.8104 - precision: 0.7933 - recall: 0.6736 - val_loss: 0.4251 - val_accuracy: 0.8539 - val_precision: 0.8833 - val_recall: 0.8840 - lr: 0.0010\n",
            "Epoch 2/10\n",
            "446/446 [==============================] - 50s 113ms/step - loss: 0.3458 - accuracy: 0.8563 - precision: 0.8222 - recall: 0.7429 - val_loss: 0.3805 - val_accuracy: 0.8684 - val_precision: 0.8962 - val_recall: 0.8940 - lr: 0.0010\n",
            "Epoch 3/10\n",
            "446/446 [==============================] - 50s 113ms/step - loss: 0.3086 - accuracy: 0.8723 - precision: 0.8380 - recall: 0.7794 - val_loss: 0.3920 - val_accuracy: 0.8320 - val_precision: 0.8180 - val_recall: 0.9420 - lr: 0.0010\n",
            "Epoch 4/10\n",
            "446/446 [==============================] - 50s 113ms/step - loss: 0.3030 - accuracy: 0.8712 - precision: 0.8336 - recall: 0.7814 - val_loss: 0.3769 - val_accuracy: 0.8497 - val_precision: 0.8441 - val_recall: 0.9329 - lr: 0.0010\n",
            "Epoch 5/10\n",
            "446/446 [==============================] - 51s 114ms/step - loss: 0.2861 - accuracy: 0.8821 - precision: 0.8489 - recall: 0.7996 - val_loss: 0.3392 - val_accuracy: 0.8742 - val_precision: 0.9031 - val_recall: 0.8956 - lr: 0.0010\n",
            "Epoch 6/10\n",
            "446/446 [==============================] - 50s 113ms/step - loss: 0.2668 - accuracy: 0.8904 - precision: 0.8630 - recall: 0.8102 - val_loss: 0.3567 - val_accuracy: 0.8705 - val_precision: 0.9315 - val_recall: 0.8567 - lr: 0.0010\n",
            "Epoch 7/10\n",
            "446/446 [==============================] - 51s 113ms/step - loss: 0.2475 - accuracy: 0.9009 - precision: 0.8787 - recall: 0.8259 - val_loss: 0.3547 - val_accuracy: 0.8684 - val_precision: 0.8798 - val_recall: 0.9155 - lr: 0.0010\n",
            "Epoch 8/10\n",
            "446/446 [==============================] - 51s 114ms/step - loss: 0.2441 - accuracy: 0.9021 - precision: 0.8798 - recall: 0.8285 - val_loss: 0.3364 - val_accuracy: 0.8762 - val_precision: 0.8949 - val_recall: 0.9097 - lr: 0.0010\n",
            "Epoch 9/10\n",
            "446/446 [==============================] - 51s 113ms/step - loss: 0.2330 - accuracy: 0.9071 - precision: 0.8832 - recall: 0.8414 - val_loss: 0.3630 - val_accuracy: 0.8648 - val_precision: 0.9254 - val_recall: 0.8534 - lr: 0.0010\n",
            "Epoch 10/10\n",
            "446/446 [==============================] - 51s 113ms/step - loss: 0.2304 - accuracy: 0.9091 - precision: 0.8893 - recall: 0.8404 - val_loss: 0.3556 - val_accuracy: 0.8658 - val_precision: 0.8811 - val_recall: 0.9089 - lr: 0.0010\n"
          ]
        }
      ]
    },
    {
      "cell_type": "code",
      "source": [
        "multimodal_model = create_multimodal_model(num_projection_layers = 0, attention=True)\n",
        "multimodal_model.summary()"
      ],
      "metadata": {
        "colab": {
          "base_uri": "https://localhost:8080/"
        },
        "id": "qNOYuT0j1PU1",
        "outputId": "20bb47a9-da95-48b9-94dc-7a8fc0a38f44"
      },
      "execution_count": 48,
      "outputs": [
        {
          "output_type": "stream",
          "name": "stdout",
          "text": [
            "Model: \"model_8\"\n",
            "__________________________________________________________________________________________________\n",
            " Layer (type)                   Output Shape         Param #     Connected to                     \n",
            "==================================================================================================\n",
            " image_1 (InputLayer)           [(None, 128, 128, 3  0           []                               \n",
            "                                )]                                                                \n",
            "                                                                                                  \n",
            " input_mask (InputLayer)        [(None, 128)]        0           []                               \n",
            "                                                                                                  \n",
            " input_type_ids (InputLayer)    [(None, 128)]        0           []                               \n",
            "                                                                                                  \n",
            " input_word_ids (InputLayer)    [(None, 128)]        0           []                               \n",
            "                                                                                                  \n",
            " vision_encoder (Functional)    (None, 128)          13127358    ['image_1[0][0]']                \n",
            "                                                                                                  \n",
            " text_encoder (Functional)      (None, 128)          9623937     ['input_mask[0][0]',             \n",
            "                                                                  'input_type_ids[0][0]',         \n",
            "                                                                  'input_word_ids[0][0]']         \n",
            "                                                                                                  \n",
            " dropout_20 (Dropout)           (None, 128)          0           ['vision_encoder[0][0]']         \n",
            "                                                                                                  \n",
            " dropout_21 (Dropout)           (None, 128)          0           ['text_encoder[0][0]']           \n",
            "                                                                                                  \n",
            " concatenate_13 (Concatenate)   (None, 256)          0           ['dropout_20[0][0]',             \n",
            "                                                                  'dropout_21[0][0]']             \n",
            "                                                                                                  \n",
            " attention_6 (Attention)        (None, 128)          1           ['dropout_20[0][0]',             \n",
            "                                                                  'dropout_21[0][0]']             \n",
            "                                                                                                  \n",
            " concatenate_14 (Concatenate)   (None, 384)          0           ['concatenate_13[0][0]',         \n",
            "                                                                  'attention_6[0][0]']            \n",
            "                                                                                                  \n",
            " dense_29 (Dense)               (None, 1)            385         ['concatenate_14[0][0]']         \n",
            "                                                                                                  \n",
            "==================================================================================================\n",
            "Total params: 22,751,681\n",
            "Trainable params: 230,018\n",
            "Non-trainable params: 22,521,663\n",
            "__________________________________________________________________________________________________\n"
          ]
        }
      ]
    },
    {
      "cell_type": "code",
      "source": [
        "multimodal_model.compile(\n",
        "    optimizer=tf.keras.optimizers.Adam(0.0005), loss=loss, metrics=metrics\n",
        ")\n",
        "\n",
        "history = multimodal_model.fit(train_ds, validation_data=test_ds, epochs=10, batch_size=batch_size, callbacks=reduce_lr)"
      ],
      "metadata": {
        "colab": {
          "base_uri": "https://localhost:8080/"
        },
        "id": "h-8DisiiAotM",
        "outputId": "22b84685-b0a5-4b1e-a10f-37a6eebe74cc"
      },
      "execution_count": 49,
      "outputs": [
        {
          "output_type": "stream",
          "name": "stdout",
          "text": [
            "Epoch 1/10\n",
            "446/446 [==============================] - 69s 120ms/step - loss: 0.4466 - accuracy: 0.8043 - precision: 0.8105 - recall: 0.6291 - val_loss: 0.3987 - val_accuracy: 0.8341 - val_precision: 0.8627 - val_recall: 0.8749 - lr: 5.0000e-04\n",
            "Epoch 2/10\n",
            "446/446 [==============================] - 50s 113ms/step - loss: 0.3496 - accuracy: 0.8543 - precision: 0.8243 - recall: 0.7325 - val_loss: 0.4059 - val_accuracy: 0.8128 - val_precision: 0.8130 - val_recall: 0.9114 - lr: 5.0000e-04\n",
            "Epoch 3/10\n",
            "446/446 [==============================] - 50s 112ms/step - loss: 0.3168 - accuracy: 0.8673 - precision: 0.8394 - recall: 0.7596 - val_loss: 0.4049 - val_accuracy: 0.8424 - val_precision: 0.8587 - val_recall: 0.8964 - lr: 5.0000e-04\n",
            "Epoch 4/10\n",
            "446/446 [==============================] - 50s 113ms/step - loss: 0.2921 - accuracy: 0.8833 - precision: 0.8576 - recall: 0.7923 - val_loss: 0.3945 - val_accuracy: 0.8544 - val_precision: 0.8879 - val_recall: 0.8790 - lr: 5.0000e-04\n",
            "Epoch 5/10\n",
            "446/446 [==============================] - 50s 112ms/step - loss: 0.2751 - accuracy: 0.8885 - precision: 0.8636 - recall: 0.8027 - val_loss: 0.3772 - val_accuracy: 0.8596 - val_precision: 0.8894 - val_recall: 0.8865 - lr: 5.0000e-04\n",
            "Epoch 6/10\n",
            "446/446 [==============================] - 50s 112ms/step - loss: 0.2667 - accuracy: 0.8909 - precision: 0.8663 - recall: 0.8073 - val_loss: 0.3727 - val_accuracy: 0.8627 - val_precision: 0.9047 - val_recall: 0.8732 - lr: 5.0000e-04\n",
            "Epoch 7/10\n",
            "446/446 [==============================] - 50s 112ms/step - loss: 0.2459 - accuracy: 0.9022 - precision: 0.8822 - recall: 0.8259 - val_loss: 0.3881 - val_accuracy: 0.8393 - val_precision: 0.8391 - val_recall: 0.9205 - lr: 5.0000e-04\n",
            "Epoch 8/10\n",
            "446/446 [==============================] - 50s 112ms/step - loss: 0.2395 - accuracy: 0.9037 - precision: 0.8816 - recall: 0.8318 - val_loss: 0.3854 - val_accuracy: 0.8424 - val_precision: 0.8472 - val_recall: 0.9138 - lr: 5.0000e-04\n",
            "Epoch 9/10\n",
            "446/446 [==============================] - 50s 112ms/step - loss: 0.2383 - accuracy: 0.9044 - precision: 0.8852 - recall: 0.8298 - val_loss: 0.3614 - val_accuracy: 0.8617 - val_precision: 0.8964 - val_recall: 0.8815 - lr: 5.0000e-04\n",
            "Epoch 10/10\n",
            "446/446 [==============================] - 50s 112ms/step - loss: 0.2304 - accuracy: 0.9084 - precision: 0.8903 - recall: 0.8369 - val_loss: 0.3809 - val_accuracy: 0.8461 - val_precision: 0.8507 - val_recall: 0.9155 - lr: 5.0000e-04\n"
          ]
        }
      ]
    },
    {
      "cell_type": "code",
      "source": [
        "_,accuracy, precision, recall = multimodal_model.evaluate(test_ds)\n",
        "print(f\"Accuracy on the test set: {round(accuracy * 100, 2)}%.\")"
      ],
      "metadata": {
        "colab": {
          "base_uri": "https://localhost:8080/"
        },
        "id": "PZnETHk2AwZE",
        "outputId": "15e81744-f6a6-4c4d-c467-31a53bb85bfc"
      },
      "execution_count": 61,
      "outputs": [
        {
          "output_type": "stream",
          "name": "stdout",
          "text": [
            "61/61 [==============================] - 6s 91ms/step - loss: 0.3809 - accuracy: 0.8461 - precision: 0.8507 - recall: 0.9155\n",
            "Accuracy on the test set: 84.61%.\n"
          ]
        }
      ]
    },
    {
      "cell_type": "code",
      "source": [
        "history.history"
      ],
      "metadata": {
        "colab": {
          "base_uri": "https://localhost:8080/"
        },
        "id": "Da_mW7SqHEVI",
        "outputId": "0bca24a2-297b-4856-ef13-6ef539ba969d"
      },
      "execution_count": 62,
      "outputs": [
        {
          "output_type": "execute_result",
          "data": {
            "text/plain": [
              "{'loss': [0.4466278851032257,\n",
              "  0.34957563877105713,\n",
              "  0.3168178200721741,\n",
              "  0.29208219051361084,\n",
              "  0.27505528926849365,\n",
              "  0.2666989862918854,\n",
              "  0.2458564192056656,\n",
              "  0.23950769007205963,\n",
              "  0.23834162950515747,\n",
              "  0.23042337596416473],\n",
              " 'accuracy': [0.8043383955955505,\n",
              "  0.8542572855949402,\n",
              "  0.8673025965690613,\n",
              "  0.8832935690879822,\n",
              "  0.8884836435317993,\n",
              "  0.8908683061599731,\n",
              "  0.9021601676940918,\n",
              "  0.9037032127380371,\n",
              "  0.9044045209884644,\n",
              "  0.9084023237228394],\n",
              " 'precision': [0.8104974627494812,\n",
              "  0.8242716193199158,\n",
              "  0.8393782377243042,\n",
              "  0.8576472997665405,\n",
              "  0.8635665774345398,\n",
              "  0.8663312196731567,\n",
              "  0.8821864128112793,\n",
              "  0.8815903067588806,\n",
              "  0.8851674795150757,\n",
              "  0.8902624249458313],\n",
              " 'recall': [0.6290903091430664,\n",
              "  0.7325178384780884,\n",
              "  0.7596330046653748,\n",
              "  0.792252779006958,\n",
              "  0.8026503324508667,\n",
              "  0.8073394298553467,\n",
              "  0.8258919715881348,\n",
              "  0.8318042755126953,\n",
              "  0.8297655582427979,\n",
              "  0.8369011282920837],\n",
              " 'val_loss': [0.3986546993255615,\n",
              "  0.40588560700416565,\n",
              "  0.4049191176891327,\n",
              "  0.3944614827632904,\n",
              "  0.37722668051719666,\n",
              "  0.3726913332939148,\n",
              "  0.3881230056285858,\n",
              "  0.38540565967559814,\n",
              "  0.3614223301410675,\n",
              "  0.38090142607688904],\n",
              " 'val_accuracy': [0.834113359451294,\n",
              "  0.8127925395965576,\n",
              "  0.8424336910247803,\n",
              "  0.8543941974639893,\n",
              "  0.8595944046974182,\n",
              "  0.8627145290374756,\n",
              "  0.8393135666847229,\n",
              "  0.8424336910247803,\n",
              "  0.8616744875907898,\n",
              "  0.8460738658905029],\n",
              " 'val_precision': [0.8627451062202454,\n",
              "  0.8130081295967102,\n",
              "  0.858730137348175,\n",
              "  0.8878660798072815,\n",
              "  0.889443039894104,\n",
              "  0.9047210216522217,\n",
              "  0.8391238451004028,\n",
              "  0.8471581935882568,\n",
              "  0.896377444267273,\n",
              "  0.8506543636322021],\n",
              " 'val_recall': [0.8748964667320251,\n",
              "  0.911350429058075,\n",
              "  0.8964374661445618,\n",
              "  0.87903892993927,\n",
              "  0.8864954710006714,\n",
              "  0.8732394576072693,\n",
              "  0.9204639792442322,\n",
              "  0.9138359427452087,\n",
              "  0.8815244436264038,\n",
              "  0.9154929518699646],\n",
              " 'lr': [0.0005,\n",
              "  0.0005,\n",
              "  0.0005,\n",
              "  0.0005,\n",
              "  0.0005,\n",
              "  0.0005,\n",
              "  0.0005,\n",
              "  0.0005,\n",
              "  0.0005,\n",
              "  0.0005]}"
            ]
          },
          "metadata": {},
          "execution_count": 62
        }
      ]
    },
    {
      "cell_type": "code",
      "source": [
        "y_test = np.concatenate([y for x, y in test_ds], axis=0)\n",
        "y_test"
      ],
      "metadata": {
        "colab": {
          "base_uri": "https://localhost:8080/"
        },
        "id": "YLi_UnaxKmpt",
        "outputId": "69b47cf2-d642-4728-a584-758d5b062e49"
      },
      "execution_count": 65,
      "outputs": [
        {
          "output_type": "execute_result",
          "data": {
            "text/plain": [
              "array([1, 0, 1, ..., 0, 1, 1])"
            ]
          },
          "metadata": {},
          "execution_count": 65
        }
      ]
    },
    {
      "cell_type": "code",
      "source": [
        "y_pred = multimodal_model.predict(test_ds)\n",
        "y_pred = [1 if i>=0.5 else 0 for i in y_pred]"
      ],
      "metadata": {
        "colab": {
          "base_uri": "https://localhost:8080/"
        },
        "id": "GCZsFJUaM4ze",
        "outputId": "9904fcd1-0a85-4084-8d97-1dcd9deb6e36"
      },
      "execution_count": 66,
      "outputs": [
        {
          "output_type": "stream",
          "name": "stdout",
          "text": [
            "61/61 [==============================] - 6s 91ms/step\n"
          ]
        }
      ]
    },
    {
      "cell_type": "code",
      "source": [
        "from sklearn.metrics import accuracy_score,f1_score,precision_score,recall_score"
      ],
      "metadata": {
        "id": "WFnVbhMIN6O_"
      },
      "execution_count": 67,
      "outputs": []
    },
    {
      "cell_type": "code",
      "source": [
        "print(f'Accuracy == {accuracy_score(y_test,y_pred)}')\n",
        "print(f'F1 == {f1_score(y_test,y_pred,average=None)}')\n",
        "print(f'Precision == {precision_score(y_test,y_pred,average=None)}')\n",
        "print(f'Recall == {recall_score(y_test,y_pred,average=None)}')"
      ],
      "metadata": {
        "colab": {
          "base_uri": "https://localhost:8080/"
        },
        "id": "hvkYNwRhN9LQ",
        "outputId": "cd91eed5-2222-429e-b456-711abdc85a35"
      },
      "execution_count": 68,
      "outputs": [
        {
          "output_type": "stream",
          "name": "stdout",
          "text": [
            "Accuracy == 0.8460738429537181\n",
            "F1 == [0.77910448 0.88188348]\n",
            "Precision == [0.83653846 0.85065435]\n",
            "Recall == [0.72905028 0.91549296]\n"
          ]
        }
      ]
    },
    {
      "cell_type": "code",
      "source": [],
      "metadata": {
        "id": "2tJGR883OERy"
      },
      "execution_count": null,
      "outputs": []
    }
  ]
}